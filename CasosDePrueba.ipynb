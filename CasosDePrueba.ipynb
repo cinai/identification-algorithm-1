{
 "cells": [
  {
   "cell_type": "code",
   "execution_count": 7,
   "metadata": {
    "collapsed": true
   },
   "outputs": [],
   "source": [
    "import numpy as np\n",
    "import pandas as pd\n",
    "%matplotlib inline\n",
    "import matplotlib.pyplot as plt\n",
    "import time\n",
    "import pickle\n",
    "from __future__ import division\n",
    "import csv\n",
    "import os"
   ]
  },
  {
   "cell_type": "code",
   "execution_count": 84,
   "metadata": {
    "collapsed": true
   },
   "outputs": [],
   "source": [
    "def calcularSimilitud(tpm,secuencia,mls):\n",
    "    i = 0\n",
    "    j = 0\n",
    "    idenk = 0\n",
    "    travel_counter = 0\n",
    "    largo_secuencia = len(secuencia)\n",
    "    p_zero = pow(10,-8)/largo_secuencia\n",
    "    p_nan = pow(10,-8)/largo_secuencia\n",
    "    for travel in secuencia:\n",
    "        # buscar pik en tpm\n",
    "        try:\n",
    "            index_bajada = mls.index(travel)\n",
    "        except ValueError:\n",
    "            index_bajada = -1\n",
    "        if(travel_counter > 0):\n",
    "            if(index_bajada < 0 or index_subida < 0):\n",
    "                pik = p_nan\n",
    "            else:\n",
    "                pik = tpm[index_subida, index_bajada]\n",
    "            if(pik != pik):\n",
    "                pik = p_nan\n",
    "            elif(pik == 0):\n",
    "                pik = p_zero\n",
    "            # sumar log10\n",
    "            idenk += np.log10(pik)\n",
    "        index_subida = index_bajada\n",
    "        travel_counter +=1\n",
    "\n",
    "    return idenk\n",
    "    "
   ]
  },
  {
   "cell_type": "markdown",
   "metadata": {},
   "source": [
    "## Cargar Datos, Perfiles, Secuencias y Resultados"
   ]
  },
  {
   "cell_type": "code",
   "execution_count": 23,
   "metadata": {
    "collapsed": false
   },
   "outputs": [],
   "source": [
    "with open('df_abril.pickle') as f:\n",
    "    df_abril = pickle.load(f)"
   ]
  },
  {
   "cell_type": "code",
   "execution_count": 24,
   "metadata": {
    "collapsed": true
   },
   "outputs": [],
   "source": [
    "with open('df_septiembre.pickle') as f:\n",
    "    df_septiembre = pickle.load(f)"
   ]
  },
  {
   "cell_type": "code",
   "execution_count": 25,
   "metadata": {
    "collapsed": true
   },
   "outputs": [],
   "source": [
    "with open('users_profiles.pickle') as f:\n",
    "    profiles_abril = pickle.load(f)"
   ]
  },
  {
   "cell_type": "code",
   "execution_count": 26,
   "metadata": {
    "collapsed": true
   },
   "outputs": [],
   "source": [
    "with open('profiles.pickle') as f:\n",
    "    sequences_septiembre = pickle.load(f)"
   ]
  },
  {
   "cell_type": "code",
   "execution_count": 27,
   "metadata": {
    "collapsed": true
   },
   "outputs": [],
   "source": [
    "with open('objs_8.pickle') as f:\n",
    "    iden, index_correct, delta_time = pickle.load(f)"
   ]
  },
  {
   "cell_type": "markdown",
   "metadata": {},
   "source": [
    "## Caso de prueba usuario 0"
   ]
  },
  {
   "cell_type": "code",
   "execution_count": 57,
   "metadata": {
    "collapsed": false
   },
   "outputs": [
    {
     "data": {
      "text/html": [
       "<div>\n",
       "<table border=\"1\" class=\"dataframe\">\n",
       "  <thead>\n",
       "    <tr style=\"text-align: right;\">\n",
       "      <th></th>\n",
       "      <th>T-22-205-SN-65</th>\n",
       "      <th>E-20-190-SN-40</th>\n",
       "      <th>E-20-291-PO-20</th>\n",
       "      <th>T-15-135-PO-5</th>\n",
       "      <th>T-15-135-OP-110</th>\n",
       "      <th>T-4-19-NS-100</th>\n",
       "      <th>E-20-199-NS-2</th>\n",
       "      <th>T-24-205-NS-20</th>\n",
       "      <th>T-20-190-SN-35</th>\n",
       "      <th>E-20-289-PO-5</th>\n",
       "      <th>T-22-205-SN-55</th>\n",
       "      <th>T-24-205-NS-30</th>\n",
       "      <th>T-15-135-OP-105</th>\n",
       "    </tr>\n",
       "  </thead>\n",
       "  <tbody>\n",
       "    <tr>\n",
       "      <th>T-22-205-SN-65</th>\n",
       "      <td>0.000000</td>\n",
       "      <td>0.8</td>\n",
       "      <td>0.000000</td>\n",
       "      <td>0</td>\n",
       "      <td>0.000</td>\n",
       "      <td>0</td>\n",
       "      <td>0.00</td>\n",
       "      <td>0.0</td>\n",
       "      <td>0.2</td>\n",
       "      <td>0.000</td>\n",
       "      <td>0.00</td>\n",
       "      <td>0.000</td>\n",
       "      <td>0.000000</td>\n",
       "    </tr>\n",
       "    <tr>\n",
       "      <th>E-20-190-SN-40</th>\n",
       "      <td>0.125000</td>\n",
       "      <td>0.0</td>\n",
       "      <td>0.375000</td>\n",
       "      <td>0</td>\n",
       "      <td>0.250</td>\n",
       "      <td>0</td>\n",
       "      <td>0.25</td>\n",
       "      <td>0.0</td>\n",
       "      <td>0.0</td>\n",
       "      <td>0.000</td>\n",
       "      <td>0.00</td>\n",
       "      <td>0.000</td>\n",
       "      <td>0.000000</td>\n",
       "    </tr>\n",
       "    <tr>\n",
       "      <th>E-20-291-PO-20</th>\n",
       "      <td>0.000000</td>\n",
       "      <td>0.0</td>\n",
       "      <td>0.000000</td>\n",
       "      <td>1</td>\n",
       "      <td>0.000</td>\n",
       "      <td>0</td>\n",
       "      <td>0.00</td>\n",
       "      <td>0.0</td>\n",
       "      <td>0.0</td>\n",
       "      <td>0.000</td>\n",
       "      <td>0.00</td>\n",
       "      <td>0.000</td>\n",
       "      <td>0.000000</td>\n",
       "    </tr>\n",
       "    <tr>\n",
       "      <th>T-15-135-PO-5</th>\n",
       "      <td>0.000000</td>\n",
       "      <td>0.0</td>\n",
       "      <td>0.000000</td>\n",
       "      <td>0</td>\n",
       "      <td>0.500</td>\n",
       "      <td>0</td>\n",
       "      <td>0.25</td>\n",
       "      <td>0.0</td>\n",
       "      <td>0.0</td>\n",
       "      <td>0.000</td>\n",
       "      <td>0.25</td>\n",
       "      <td>0.000</td>\n",
       "      <td>0.000000</td>\n",
       "    </tr>\n",
       "    <tr>\n",
       "      <th>T-15-135-OP-110</th>\n",
       "      <td>0.000000</td>\n",
       "      <td>0.0</td>\n",
       "      <td>0.000000</td>\n",
       "      <td>0</td>\n",
       "      <td>0.000</td>\n",
       "      <td>1</td>\n",
       "      <td>0.00</td>\n",
       "      <td>0.0</td>\n",
       "      <td>0.0</td>\n",
       "      <td>0.000</td>\n",
       "      <td>0.00</td>\n",
       "      <td>0.000</td>\n",
       "      <td>0.000000</td>\n",
       "    </tr>\n",
       "    <tr>\n",
       "      <th>T-4-19-NS-100</th>\n",
       "      <td>0.000000</td>\n",
       "      <td>0.0</td>\n",
       "      <td>0.000000</td>\n",
       "      <td>0</td>\n",
       "      <td>0.000</td>\n",
       "      <td>0</td>\n",
       "      <td>1.00</td>\n",
       "      <td>0.0</td>\n",
       "      <td>0.0</td>\n",
       "      <td>0.000</td>\n",
       "      <td>0.00</td>\n",
       "      <td>0.000</td>\n",
       "      <td>0.000000</td>\n",
       "    </tr>\n",
       "    <tr>\n",
       "      <th>E-20-199-NS-2</th>\n",
       "      <td>0.125000</td>\n",
       "      <td>0.0</td>\n",
       "      <td>0.000000</td>\n",
       "      <td>0</td>\n",
       "      <td>0.125</td>\n",
       "      <td>0</td>\n",
       "      <td>0.00</td>\n",
       "      <td>0.5</td>\n",
       "      <td>0.0</td>\n",
       "      <td>0.125</td>\n",
       "      <td>0.00</td>\n",
       "      <td>0.125</td>\n",
       "      <td>0.000000</td>\n",
       "    </tr>\n",
       "    <tr>\n",
       "      <th>T-24-205-NS-20</th>\n",
       "      <td>1.000000</td>\n",
       "      <td>0.0</td>\n",
       "      <td>0.000000</td>\n",
       "      <td>0</td>\n",
       "      <td>0.000</td>\n",
       "      <td>0</td>\n",
       "      <td>0.00</td>\n",
       "      <td>0.0</td>\n",
       "      <td>0.0</td>\n",
       "      <td>0.000</td>\n",
       "      <td>0.00</td>\n",
       "      <td>0.000</td>\n",
       "      <td>0.000000</td>\n",
       "    </tr>\n",
       "    <tr>\n",
       "      <th>T-20-190-SN-35</th>\n",
       "      <td>0.000000</td>\n",
       "      <td>0.0</td>\n",
       "      <td>0.000000</td>\n",
       "      <td>0</td>\n",
       "      <td>0.000</td>\n",
       "      <td>0</td>\n",
       "      <td>0.00</td>\n",
       "      <td>0.0</td>\n",
       "      <td>0.0</td>\n",
       "      <td>1.000</td>\n",
       "      <td>0.00</td>\n",
       "      <td>0.000</td>\n",
       "      <td>0.000000</td>\n",
       "    </tr>\n",
       "    <tr>\n",
       "      <th>E-20-289-PO-5</th>\n",
       "      <td>0.000000</td>\n",
       "      <td>0.0</td>\n",
       "      <td>0.000000</td>\n",
       "      <td>1</td>\n",
       "      <td>0.000</td>\n",
       "      <td>0</td>\n",
       "      <td>0.00</td>\n",
       "      <td>0.0</td>\n",
       "      <td>0.0</td>\n",
       "      <td>0.000</td>\n",
       "      <td>0.00</td>\n",
       "      <td>0.000</td>\n",
       "      <td>0.000000</td>\n",
       "    </tr>\n",
       "    <tr>\n",
       "      <th>T-22-205-SN-55</th>\n",
       "      <td>0.000000</td>\n",
       "      <td>1.0</td>\n",
       "      <td>0.000000</td>\n",
       "      <td>0</td>\n",
       "      <td>0.000</td>\n",
       "      <td>0</td>\n",
       "      <td>0.00</td>\n",
       "      <td>0.0</td>\n",
       "      <td>0.0</td>\n",
       "      <td>0.000</td>\n",
       "      <td>0.00</td>\n",
       "      <td>0.000</td>\n",
       "      <td>0.000000</td>\n",
       "    </tr>\n",
       "    <tr>\n",
       "      <th>T-24-205-NS-30</th>\n",
       "      <td>0.333333</td>\n",
       "      <td>0.0</td>\n",
       "      <td>0.333333</td>\n",
       "      <td>0</td>\n",
       "      <td>0.000</td>\n",
       "      <td>0</td>\n",
       "      <td>0.00</td>\n",
       "      <td>0.0</td>\n",
       "      <td>0.0</td>\n",
       "      <td>0.000</td>\n",
       "      <td>0.00</td>\n",
       "      <td>0.000</td>\n",
       "      <td>0.333333</td>\n",
       "    </tr>\n",
       "    <tr>\n",
       "      <th>T-15-135-OP-105</th>\n",
       "      <td>0.000000</td>\n",
       "      <td>0.0</td>\n",
       "      <td>0.000000</td>\n",
       "      <td>0</td>\n",
       "      <td>0.000</td>\n",
       "      <td>1</td>\n",
       "      <td>0.00</td>\n",
       "      <td>0.0</td>\n",
       "      <td>0.0</td>\n",
       "      <td>0.000</td>\n",
       "      <td>0.00</td>\n",
       "      <td>0.000</td>\n",
       "      <td>0.000000</td>\n",
       "    </tr>\n",
       "  </tbody>\n",
       "</table>\n",
       "</div>"
      ],
      "text/plain": [
       "                 T-22-205-SN-65  E-20-190-SN-40  E-20-291-PO-20  \\\n",
       "T-22-205-SN-65         0.000000             0.8        0.000000   \n",
       "E-20-190-SN-40         0.125000             0.0        0.375000   \n",
       "E-20-291-PO-20         0.000000             0.0        0.000000   \n",
       "T-15-135-PO-5          0.000000             0.0        0.000000   \n",
       "T-15-135-OP-110        0.000000             0.0        0.000000   \n",
       "T-4-19-NS-100          0.000000             0.0        0.000000   \n",
       "E-20-199-NS-2          0.125000             0.0        0.000000   \n",
       "T-24-205-NS-20         1.000000             0.0        0.000000   \n",
       "T-20-190-SN-35         0.000000             0.0        0.000000   \n",
       "E-20-289-PO-5          0.000000             0.0        0.000000   \n",
       "T-22-205-SN-55         0.000000             1.0        0.000000   \n",
       "T-24-205-NS-30         0.333333             0.0        0.333333   \n",
       "T-15-135-OP-105        0.000000             0.0        0.000000   \n",
       "\n",
       "                 T-15-135-PO-5  T-15-135-OP-110  T-4-19-NS-100  E-20-199-NS-2  \\\n",
       "T-22-205-SN-65               0            0.000              0           0.00   \n",
       "E-20-190-SN-40               0            0.250              0           0.25   \n",
       "E-20-291-PO-20               1            0.000              0           0.00   \n",
       "T-15-135-PO-5                0            0.500              0           0.25   \n",
       "T-15-135-OP-110              0            0.000              1           0.00   \n",
       "T-4-19-NS-100                0            0.000              0           1.00   \n",
       "E-20-199-NS-2                0            0.125              0           0.00   \n",
       "T-24-205-NS-20               0            0.000              0           0.00   \n",
       "T-20-190-SN-35               0            0.000              0           0.00   \n",
       "E-20-289-PO-5                1            0.000              0           0.00   \n",
       "T-22-205-SN-55               0            0.000              0           0.00   \n",
       "T-24-205-NS-30               0            0.000              0           0.00   \n",
       "T-15-135-OP-105              0            0.000              1           0.00   \n",
       "\n",
       "                 T-24-205-NS-20  T-20-190-SN-35  E-20-289-PO-5  \\\n",
       "T-22-205-SN-65              0.0             0.2          0.000   \n",
       "E-20-190-SN-40              0.0             0.0          0.000   \n",
       "E-20-291-PO-20              0.0             0.0          0.000   \n",
       "T-15-135-PO-5               0.0             0.0          0.000   \n",
       "T-15-135-OP-110             0.0             0.0          0.000   \n",
       "T-4-19-NS-100               0.0             0.0          0.000   \n",
       "E-20-199-NS-2               0.5             0.0          0.125   \n",
       "T-24-205-NS-20              0.0             0.0          0.000   \n",
       "T-20-190-SN-35              0.0             0.0          1.000   \n",
       "E-20-289-PO-5               0.0             0.0          0.000   \n",
       "T-22-205-SN-55              0.0             0.0          0.000   \n",
       "T-24-205-NS-30              0.0             0.0          0.000   \n",
       "T-15-135-OP-105             0.0             0.0          0.000   \n",
       "\n",
       "                 T-22-205-SN-55  T-24-205-NS-30  T-15-135-OP-105  \n",
       "T-22-205-SN-65             0.00           0.000         0.000000  \n",
       "E-20-190-SN-40             0.00           0.000         0.000000  \n",
       "E-20-291-PO-20             0.00           0.000         0.000000  \n",
       "T-15-135-PO-5              0.25           0.000         0.000000  \n",
       "T-15-135-OP-110            0.00           0.000         0.000000  \n",
       "T-4-19-NS-100              0.00           0.000         0.000000  \n",
       "E-20-199-NS-2              0.00           0.125         0.000000  \n",
       "T-24-205-NS-20             0.00           0.000         0.000000  \n",
       "T-20-190-SN-35             0.00           0.000         0.000000  \n",
       "E-20-289-PO-5              0.00           0.000         0.000000  \n",
       "T-22-205-SN-55             0.00           0.000         0.000000  \n",
       "T-24-205-NS-30             0.00           0.000         0.333333  \n",
       "T-15-135-OP-105            0.00           0.000         0.000000  "
      ]
     },
     "execution_count": 57,
     "metadata": {},
     "output_type": "execute_result"
    }
   ],
   "source": [
    "mls_0 = profiles_abril[0][\"mls\"]\n",
    "tpm_user0 = np.matrix(profiles_abril[0][\"tpm\"])\n",
    "tpm_0 = tpm_user0\n",
    "tpm_user0 = pd.DataFrame(tpm_user0)\n",
    "tpm_user0.columns = mls_0\n",
    "tpm_user0.index = mls_0\n",
    "tpm_user0"
   ]
  },
  {
   "cell_type": "code",
   "execution_count": 58,
   "metadata": {
    "collapsed": true
   },
   "outputs": [
    {
     "data": {
      "text/plain": [
       "['T-22-205-SN-65',\n",
       " 'E-20-190-SN-40',\n",
       " 'E-20-291-PO-20',\n",
       " 'T-15-135-PO-5',\n",
       " 'T-15-135-OP-110',\n",
       " 'T-4-19-NS-100',\n",
       " 'E-20-199-NS-2',\n",
       " 'T-24-205-NS-20',\n",
       " 'L-24-26-OP-25',\n",
       " 'T-22-205-SN-55',\n",
       " 'E-20-190-SN-40',\n",
       " 'E-20-289-PO-5',\n",
       " 'T-15-135-PO-5',\n",
       " 'T-15-135-OP-110',\n",
       " 'T-4-19-NS-100',\n",
       " 'E-20-199-NS-2',\n",
       " 'T-24-205-NS-20',\n",
       " 'T-22-205-SN-65',\n",
       " 'E-20-190-SN-40',\n",
       " 'E-20-291-PO-20',\n",
       " 'T-15-135-PO-5',\n",
       " 'T-15-135-OP-110',\n",
       " 'T-4-19-NS-100',\n",
       " 'E-20-199-NS-2',\n",
       " 'T-24-205-NS-20',\n",
       " 'T-22-205-SN-65',\n",
       " 'E-20-190-SN-40',\n",
       " 'E-20-291-PO-20',\n",
       " 'T-15-135-PO-5',\n",
       " 'T-15-135-OP-110',\n",
       " 'T-14-121-OP-10',\n",
       " 'T-14-131-PO-40',\n",
       " 'T-15-135-PO-5',\n",
       " 'T-15-135-OP-110',\n",
       " 'T-4-19-NS-100',\n",
       " 'E-20-199-NS-2',\n",
       " 'T-24-205-NS-20',\n",
       " 'T-22-205-SN-65',\n",
       " 'E-20-190-SN-40',\n",
       " 'E-20-291-PO-20',\n",
       " 'T-15-135-PO-5',\n",
       " 'T-15-135-OP-110',\n",
       " 'T-4-19-NS-100',\n",
       " 'E-20-199-NS-2',\n",
       " 'T-24-205-NS-20',\n",
       " 'T-22-205-SN-65',\n",
       " 'T-20-190-SN-35',\n",
       " 'E-20-291-PO-20',\n",
       " 'T-15-135-PO-5',\n",
       " 'T-15-135-OP-110',\n",
       " 'T-4-19-NS-100',\n",
       " 'E-20-199-NS-2',\n",
       " 'T-24-205-NS-20']"
      ]
     },
     "execution_count": 58,
     "metadata": {},
     "output_type": "execute_result"
    }
   ],
   "source": [
    "sequence_0 = sequences_septiembre[0]['sequence']\n",
    "sequence_0"
   ]
  },
  {
   "cell_type": "code",
   "execution_count": 85,
   "metadata": {
    "collapsed": false
   },
   "outputs": [
    {
     "data": {
      "text/plain": [
       "-74.773806016294643"
      ]
     },
     "execution_count": 85,
     "metadata": {},
     "output_type": "execute_result"
    }
   ],
   "source": [
    "calcularSimilitud(tpm_0,sequence_0,mls_0)"
   ]
  },
  {
   "cell_type": "markdown",
   "metadata": {},
   "source": [
    "## Caso de prueba usuario 5167"
   ]
  },
  {
   "cell_type": "code",
   "execution_count": 86,
   "metadata": {
    "collapsed": false
   },
   "outputs": [
    {
     "data": {
      "text/html": [
       "<div>\n",
       "<table border=\"1\" class=\"dataframe\">\n",
       "  <thead>\n",
       "    <tr style=\"text-align: right;\">\n",
       "      <th></th>\n",
       "      <th>MONTE TABOR</th>\n",
       "      <th>LAS PARCELAS</th>\n",
       "      <th>SANTA ANA</th>\n",
       "      <th>E-13-54-NS-85</th>\n",
       "      <th>PLAZA MAIPU</th>\n",
       "      <th>CAL Y CANTO</th>\n",
       "    </tr>\n",
       "  </thead>\n",
       "  <tbody>\n",
       "    <tr>\n",
       "      <th>MONTE TABOR</th>\n",
       "      <td>0.000000</td>\n",
       "      <td>0.25</td>\n",
       "      <td>0.750000</td>\n",
       "      <td>0.0</td>\n",
       "      <td>0.000000</td>\n",
       "      <td>0</td>\n",
       "    </tr>\n",
       "    <tr>\n",
       "      <th>LAS PARCELAS</th>\n",
       "      <td>1.000000</td>\n",
       "      <td>0.00</td>\n",
       "      <td>0.000000</td>\n",
       "      <td>0.0</td>\n",
       "      <td>0.000000</td>\n",
       "      <td>0</td>\n",
       "    </tr>\n",
       "    <tr>\n",
       "      <th>SANTA ANA</th>\n",
       "      <td>0.800000</td>\n",
       "      <td>0.00</td>\n",
       "      <td>0.000000</td>\n",
       "      <td>0.2</td>\n",
       "      <td>0.000000</td>\n",
       "      <td>0</td>\n",
       "    </tr>\n",
       "    <tr>\n",
       "      <th>E-13-54-NS-85</th>\n",
       "      <td>0.000000</td>\n",
       "      <td>0.00</td>\n",
       "      <td>0.000000</td>\n",
       "      <td>0.0</td>\n",
       "      <td>1.000000</td>\n",
       "      <td>0</td>\n",
       "    </tr>\n",
       "    <tr>\n",
       "      <th>PLAZA MAIPU</th>\n",
       "      <td>0.000000</td>\n",
       "      <td>0.00</td>\n",
       "      <td>0.000000</td>\n",
       "      <td>0.0</td>\n",
       "      <td>0.000000</td>\n",
       "      <td>1</td>\n",
       "    </tr>\n",
       "    <tr>\n",
       "      <th>CAL Y CANTO</th>\n",
       "      <td>0.333333</td>\n",
       "      <td>0.00</td>\n",
       "      <td>0.333333</td>\n",
       "      <td>0.0</td>\n",
       "      <td>0.333333</td>\n",
       "      <td>0</td>\n",
       "    </tr>\n",
       "  </tbody>\n",
       "</table>\n",
       "</div>"
      ],
      "text/plain": [
       "               MONTE TABOR  LAS PARCELAS  SANTA ANA  E-13-54-NS-85  \\\n",
       "MONTE TABOR       0.000000          0.25   0.750000            0.0   \n",
       "LAS PARCELAS      1.000000          0.00   0.000000            0.0   \n",
       "SANTA ANA         0.800000          0.00   0.000000            0.2   \n",
       "E-13-54-NS-85     0.000000          0.00   0.000000            0.0   \n",
       "PLAZA MAIPU       0.000000          0.00   0.000000            0.0   \n",
       "CAL Y CANTO       0.333333          0.00   0.333333            0.0   \n",
       "\n",
       "               PLAZA MAIPU  CAL Y CANTO  \n",
       "MONTE TABOR       0.000000            0  \n",
       "LAS PARCELAS      0.000000            0  \n",
       "SANTA ANA         0.000000            0  \n",
       "E-13-54-NS-85     1.000000            0  \n",
       "PLAZA MAIPU       0.000000            1  \n",
       "CAL Y CANTO       0.333333            0  "
      ]
     },
     "execution_count": 86,
     "metadata": {},
     "output_type": "execute_result"
    }
   ],
   "source": [
    "mls_5167 = profiles_abril[5167][\"mls\"]\n",
    "tpm_user5167 = np.matrix(profiles_abril[5167][\"tpm\"])\n",
    "tpm_5167 = tpm_user5167\n",
    "tpm_user5167 = pd.DataFrame(tpm_user5167)\n",
    "tpm_user5167.columns = mls_5167\n",
    "tpm_user5167.index = mls_5167\n",
    "tpm_user5167"
   ]
  },
  {
   "cell_type": "code",
   "execution_count": 87,
   "metadata": {
    "collapsed": false,
    "scrolled": true
   },
   "outputs": [
    {
     "data": {
      "text/plain": [
       "['MONTE TABOR',\n",
       " 'SANTA ANA',\n",
       " 'MONTE TABOR',\n",
       " 'SANTA ANA',\n",
       " 'MONTE TABOR',\n",
       " 'SANTA ANA',\n",
       " 'MONTE TABOR',\n",
       " 'SANTA ANA',\n",
       " 'MONTE TABOR',\n",
       " 'SANTA ANA',\n",
       " 'MONTE TABOR']"
      ]
     },
     "execution_count": 87,
     "metadata": {},
     "output_type": "execute_result"
    }
   ],
   "source": [
    "sequence_5167 = sequences_septiembre[5167]['sequence']\n",
    "sequence_5167"
   ]
  },
  {
   "cell_type": "code",
   "execution_count": 88,
   "metadata": {
    "collapsed": false
   },
   "outputs": [
    {
     "data": {
      "text/plain": [
       "-1.1092437480817816"
      ]
     },
     "execution_count": 88,
     "metadata": {},
     "output_type": "execute_result"
    }
   ],
   "source": [
    "calcularSimilitud(tpm_5167,sequence_5167,mls_5167)"
   ]
  },
  {
   "cell_type": "code",
   "execution_count": 89,
   "metadata": {
    "collapsed": false
   },
   "outputs": [
    {
     "ename": "NameError",
     "evalue": "name 'secuencia' is not defined",
     "output_type": "error",
     "traceback": [
      "\u001b[1;31m---------------------------------------------------------------------------\u001b[0m",
      "\u001b[1;31mNameError\u001b[0m                                 Traceback (most recent call last)",
      "\u001b[1;32m<ipython-input-89-963d081bab81>\u001b[0m in \u001b[0;36m<module>\u001b[1;34m()\u001b[0m\n\u001b[0;32m      3\u001b[0m \u001b[0midenk\u001b[0m \u001b[1;33m=\u001b[0m \u001b[1;36m0\u001b[0m\u001b[1;33m\u001b[0m\u001b[0m\n\u001b[0;32m      4\u001b[0m \u001b[0mtravel_counter\u001b[0m \u001b[1;33m=\u001b[0m \u001b[1;36m0\u001b[0m\u001b[1;33m\u001b[0m\u001b[0m\n\u001b[1;32m----> 5\u001b[1;33m \u001b[1;32mfor\u001b[0m \u001b[0mtravel\u001b[0m \u001b[1;32min\u001b[0m \u001b[0msecuencia\u001b[0m\u001b[1;33m:\u001b[0m\u001b[1;33m\u001b[0m\u001b[0m\n\u001b[0m\u001b[0;32m      6\u001b[0m     \u001b[0mlargo_secuencia\u001b[0m \u001b[1;33m=\u001b[0m \u001b[0mlen\u001b[0m\u001b[1;33m(\u001b[0m\u001b[0msecuencia\u001b[0m\u001b[1;33m)\u001b[0m\u001b[1;33m\u001b[0m\u001b[0m\n\u001b[0;32m      7\u001b[0m     \u001b[0mp_zero\u001b[0m \u001b[1;33m=\u001b[0m \u001b[0mpow\u001b[0m\u001b[1;33m(\u001b[0m\u001b[1;36m10\u001b[0m\u001b[1;33m,\u001b[0m\u001b[1;33m-\u001b[0m\u001b[1;36m8\u001b[0m\u001b[1;33m)\u001b[0m\u001b[1;33m/\u001b[0m\u001b[0mlargo_secuencia\u001b[0m\u001b[1;33m\u001b[0m\u001b[0m\n",
      "\u001b[1;31mNameError\u001b[0m: name 'secuencia' is not defined"
     ]
    }
   ],
   "source": [
    "p_zero = pow(10,-8)\n",
    "p_nan = pow(10,-8)\n",
    "idenk = 0\n",
    "travel_counter = 0\n",
    "for travel in secuencia:\n",
    "    largo_secuencia = len(secuencia)\n",
    "    p_zero = pow(10,-8)/largo_secuencia\n",
    "    # buscar pik en tpm\n",
    "    try:\n",
    "        index_bajada = mls.index(travel)\n",
    "    except ValueError:\n",
    "        index_bajada = -1\n",
    "    if(travel_counter > 0):\n",
    "        if(index_bajada < 0 or index_subida < 0):\n",
    "            pik = p_nan\n",
    "        else:\n",
    "            pik = tpm[index_subida, index_bajada]\n",
    "        if(pik != pik):\n",
    "            pik = p_nan\n",
    "        elif(pik == 0):\n",
    "            pik = p_zero\n",
    "        # sumar log10\n",
    "        idenk += np.log10(pik)\n",
    "    index_subida = index_bajada\n",
    "    travel_counter +=1\n",
    "\n",
    "return idenk"
   ]
  },
  {
   "cell_type": "markdown",
   "metadata": {},
   "source": [
    "## Caso de prueba usuario 1031"
   ]
  },
  {
   "cell_type": "code",
   "execution_count": 90,
   "metadata": {
    "collapsed": false
   },
   "outputs": [
    {
     "data": {
      "text/html": [
       "<div>\n",
       "<table border=\"1\" class=\"dataframe\">\n",
       "  <thead>\n",
       "    <tr style=\"text-align: right;\">\n",
       "      <th></th>\n",
       "      <th>L-13-31-OP-60</th>\n",
       "      <th>L-13-10-PO-5</th>\n",
       "      <th>DEL SOL</th>\n",
       "      <th>SANTA ANA</th>\n",
       "      <th>MONTE TABOR</th>\n",
       "      <th>T-20-182-PO-36</th>\n",
       "    </tr>\n",
       "  </thead>\n",
       "  <tbody>\n",
       "    <tr>\n",
       "      <th>L-13-31-OP-60</th>\n",
       "      <td>0</td>\n",
       "      <td>1</td>\n",
       "      <td>0</td>\n",
       "      <td>0</td>\n",
       "      <td>0.000000</td>\n",
       "      <td>0.000000</td>\n",
       "    </tr>\n",
       "    <tr>\n",
       "      <th>L-13-10-PO-5</th>\n",
       "      <td>0</td>\n",
       "      <td>0</td>\n",
       "      <td>1</td>\n",
       "      <td>0</td>\n",
       "      <td>0.000000</td>\n",
       "      <td>0.000000</td>\n",
       "    </tr>\n",
       "    <tr>\n",
       "      <th>DEL SOL</th>\n",
       "      <td>0</td>\n",
       "      <td>0</td>\n",
       "      <td>0</td>\n",
       "      <td>1</td>\n",
       "      <td>0.000000</td>\n",
       "      <td>0.000000</td>\n",
       "    </tr>\n",
       "    <tr>\n",
       "      <th>SANTA ANA</th>\n",
       "      <td>0</td>\n",
       "      <td>0</td>\n",
       "      <td>0</td>\n",
       "      <td>0</td>\n",
       "      <td>0.833333</td>\n",
       "      <td>0.166667</td>\n",
       "    </tr>\n",
       "    <tr>\n",
       "      <th>MONTE TABOR</th>\n",
       "      <td>0</td>\n",
       "      <td>0</td>\n",
       "      <td>0</td>\n",
       "      <td>1</td>\n",
       "      <td>0.000000</td>\n",
       "      <td>0.000000</td>\n",
       "    </tr>\n",
       "    <tr>\n",
       "      <th>T-20-182-PO-36</th>\n",
       "      <td>NaN</td>\n",
       "      <td>NaN</td>\n",
       "      <td>NaN</td>\n",
       "      <td>NaN</td>\n",
       "      <td>NaN</td>\n",
       "      <td>NaN</td>\n",
       "    </tr>\n",
       "  </tbody>\n",
       "</table>\n",
       "</div>"
      ],
      "text/plain": [
       "                L-13-31-OP-60  L-13-10-PO-5  DEL SOL  SANTA ANA  MONTE TABOR  \\\n",
       "L-13-31-OP-60               0             1        0          0     0.000000   \n",
       "L-13-10-PO-5                0             0        1          0     0.000000   \n",
       "DEL SOL                     0             0        0          1     0.000000   \n",
       "SANTA ANA                   0             0        0          0     0.833333   \n",
       "MONTE TABOR                 0             0        0          1     0.000000   \n",
       "T-20-182-PO-36            NaN           NaN      NaN        NaN          NaN   \n",
       "\n",
       "                T-20-182-PO-36  \n",
       "L-13-31-OP-60         0.000000  \n",
       "L-13-10-PO-5          0.000000  \n",
       "DEL SOL               0.000000  \n",
       "SANTA ANA             0.166667  \n",
       "MONTE TABOR           0.000000  \n",
       "T-20-182-PO-36             NaN  "
      ]
     },
     "execution_count": 90,
     "metadata": {},
     "output_type": "execute_result"
    }
   ],
   "source": [
    "mls_1031 = profiles_abril[1031][\"mls\"]\n",
    "tpm_user1031 = np.matrix(profiles_abril[1031][\"tpm\"])\n",
    "tpm_1031 = tpm_user1031\n",
    "tpm_user1031 = pd.DataFrame(tpm_user1031)\n",
    "tpm_user1031.columns = mls_1031\n",
    "tpm_user1031.index = mls_1031\n",
    "tpm_user1031"
   ]
  },
  {
   "cell_type": "code",
   "execution_count": 91,
   "metadata": {
    "collapsed": false
   },
   "outputs": [
    {
     "data": {
      "text/plain": [
       "-0.096910013008056392"
      ]
     },
     "execution_count": 91,
     "metadata": {},
     "output_type": "execute_result"
    }
   ],
   "source": [
    "np.log10(0.8)"
   ]
  },
  {
   "cell_type": "code",
   "execution_count": 92,
   "metadata": {
    "collapsed": false
   },
   "outputs": [
    {
     "data": {
      "text/plain": [
       "['T-13-12-NS-20',\n",
       " 'T-13-54-SN-50',\n",
       " 'DEL SOL',\n",
       " 'PLAZA DE ARMAS',\n",
       " 'MONTE TABOR',\n",
       " 'DEL SOL',\n",
       " 'T-13-54-NS-35',\n",
       " 'L-13-31-PO-65',\n",
       " 'L-13-31-OP-60',\n",
       " 'T-13-54-SN-50',\n",
       " 'DEL SOL',\n",
       " 'LA MONEDA',\n",
       " 'SALVADOR',\n",
       " 'DEL SOL',\n",
       " 'T-13-54-NS-35',\n",
       " 'L-13-31-PO-65',\n",
       " 'T-13-12-NS-20',\n",
       " 'T-13-54-SN-50',\n",
       " 'DEL SOL',\n",
       " 'SANTIAGO BUERAS',\n",
       " 'DEL SOL',\n",
       " 'SANTA ANA',\n",
       " 'DEL SOL']"
      ]
     },
     "execution_count": 92,
     "metadata": {},
     "output_type": "execute_result"
    }
   ],
   "source": [
    "sequence_1031 = sequences_septiembre[1031]['sequence']\n",
    "sequence_1031"
   ]
  },
  {
   "cell_type": "code",
   "execution_count": 93,
   "metadata": {
    "collapsed": false
   },
   "outputs": [
    {
     "data": {
      "text/plain": [
       "-196.59628455636945"
      ]
     },
     "execution_count": 93,
     "metadata": {},
     "output_type": "execute_result"
    }
   ],
   "source": [
    "calcularSimilitud(tpm_1031,sequence_1031,mls_1031)"
   ]
  },
  {
   "cell_type": "code",
   "execution_count": 94,
   "metadata": {
    "collapsed": false
   },
   "outputs": [
    {
     "data": {
      "text/plain": [
       "-0.3959062302381241"
      ]
     },
     "execution_count": 94,
     "metadata": {},
     "output_type": "execute_result"
    }
   ],
   "source": [
    "calcularSimilitud(tpm_1031,sequence_5167,mls_1031)"
   ]
  },
  {
   "cell_type": "markdown",
   "metadata": {},
   "source": [
    "## Caso de prueba usuario 1187"
   ]
  },
  {
   "cell_type": "code",
   "execution_count": 75,
   "metadata": {
    "collapsed": false
   },
   "outputs": [
    {
     "data": {
      "text/html": [
       "<div>\n",
       "<table border=\"1\" class=\"dataframe\">\n",
       "  <thead>\n",
       "    <tr style=\"text-align: right;\">\n",
       "      <th></th>\n",
       "      <th>SIMON BOLIVAR</th>\n",
       "      <th>LA MONEDA</th>\n",
       "      <th>TOBALABA</th>\n",
       "      <th>SANTA LUCIA</th>\n",
       "    </tr>\n",
       "  </thead>\n",
       "  <tbody>\n",
       "    <tr>\n",
       "      <th>SIMON BOLIVAR</th>\n",
       "      <td>0.000000</td>\n",
       "      <td>0.8</td>\n",
       "      <td>0.000000</td>\n",
       "      <td>0.2</td>\n",
       "    </tr>\n",
       "    <tr>\n",
       "      <th>LA MONEDA</th>\n",
       "      <td>0.857143</td>\n",
       "      <td>0.0</td>\n",
       "      <td>0.142857</td>\n",
       "      <td>0.0</td>\n",
       "    </tr>\n",
       "    <tr>\n",
       "      <th>TOBALABA</th>\n",
       "      <td>1.000000</td>\n",
       "      <td>0.0</td>\n",
       "      <td>0.000000</td>\n",
       "      <td>0.0</td>\n",
       "    </tr>\n",
       "    <tr>\n",
       "      <th>SANTA LUCIA</th>\n",
       "      <td>1.000000</td>\n",
       "      <td>0.0</td>\n",
       "      <td>0.000000</td>\n",
       "      <td>0.0</td>\n",
       "    </tr>\n",
       "  </tbody>\n",
       "</table>\n",
       "</div>"
      ],
      "text/plain": [
       "               SIMON BOLIVAR  LA MONEDA  TOBALABA  SANTA LUCIA\n",
       "SIMON BOLIVAR       0.000000        0.8  0.000000          0.2\n",
       "LA MONEDA           0.857143        0.0  0.142857          0.0\n",
       "TOBALABA            1.000000        0.0  0.000000          0.0\n",
       "SANTA LUCIA         1.000000        0.0  0.000000          0.0"
      ]
     },
     "execution_count": 75,
     "metadata": {},
     "output_type": "execute_result"
    }
   ],
   "source": [
    "mls_1187 = profiles_abril[1187][\"mls\"]\n",
    "tpm_user1187 = np.matrix(profiles_abril[1187][\"tpm\"])\n",
    "tpm_1187 = tpm_user1187\n",
    "tpm_user1187 = pd.DataFrame(tpm_user1187)\n",
    "tpm_user1187.columns = mls_1187\n",
    "tpm_user1187.index = mls_1187\n",
    "tpm_user1187"
   ]
  },
  {
   "cell_type": "code",
   "execution_count": 74,
   "metadata": {
    "collapsed": false
   },
   "outputs": [
    {
     "data": {
      "text/plain": [
       "['SIMON BOLIVAR',\n",
       " 'LA MONEDA',\n",
       " 'SIMON BOLIVAR',\n",
       " 'UNIVERSIDAD DE CHILE',\n",
       " 'SIMON BOLIVAR',\n",
       " 'LA MONEDA',\n",
       " 'SIMON BOLIVAR',\n",
       " 'LA MONEDA',\n",
       " 'PEDRO DE VALDIVIA',\n",
       " 'T-14-127-NS-4',\n",
       " 'T-14-127-NS-15',\n",
       " 'T-14-127-NS-45',\n",
       " 'L-18-6-PO-110',\n",
       " 'L-19-21-SN-15',\n",
       " 'SIMON BOLIVAR',\n",
       " 'LA MONEDA',\n",
       " 'SIMON BOLIVAR']"
      ]
     },
     "execution_count": 74,
     "metadata": {},
     "output_type": "execute_result"
    }
   ],
   "source": [
    "sequence_1187 = sequences_septiembre[1187]['sequence']\n",
    "sequence_1187"
   ]
  },
  {
   "cell_type": "code",
   "execution_count": 95,
   "metadata": {
    "collapsed": false
   },
   "outputs": [
    {
     "data": {
      "text/plain": [
       "-83.662520713328533"
      ]
     },
     "execution_count": 95,
     "metadata": {},
     "output_type": "execute_result"
    }
   ],
   "source": [
    "calcularSimilitud(tpm_1187,sequence_1187,mls_1187)"
   ]
  },
  {
   "cell_type": "markdown",
   "metadata": {},
   "source": [
    "## Caso de prueba usuario 5"
   ]
  },
  {
   "cell_type": "code",
   "execution_count": 78,
   "metadata": {
    "collapsed": false
   },
   "outputs": [
    {
     "data": {
      "text/html": [
       "<div>\n",
       "<table border=\"1\" class=\"dataframe\">\n",
       "  <thead>\n",
       "    <tr style=\"text-align: right;\">\n",
       "      <th></th>\n",
       "      <th>T-18-157-PO-60</th>\n",
       "      <th>E-18-157-PO-90</th>\n",
       "      <th>T-19-12-SN-5</th>\n",
       "      <th>L-19-21-SN-20</th>\n",
       "      <th>SIMON BOLIVAR</th>\n",
       "      <th>LOS HEROES</th>\n",
       "      <th>SANTA ISABEL</th>\n",
       "      <th>L-14-10-PO-5</th>\n",
       "      <th>L-19-21-SN-15</th>\n",
       "      <th>VESPUCIO NORTE</th>\n",
       "      <th>T-3-19-NS-45</th>\n",
       "      <th>T-18-157-PO-40</th>\n",
       "      <th>L-32-3-SN-10</th>\n",
       "    </tr>\n",
       "  </thead>\n",
       "  <tbody>\n",
       "    <tr>\n",
       "      <th>T-18-157-PO-60</th>\n",
       "      <td>0</td>\n",
       "      <td>1</td>\n",
       "      <td>0.0</td>\n",
       "      <td>0</td>\n",
       "      <td>0.000000</td>\n",
       "      <td>0.000000</td>\n",
       "      <td>0.0</td>\n",
       "      <td>0</td>\n",
       "      <td>0</td>\n",
       "      <td>0.0</td>\n",
       "      <td>0</td>\n",
       "      <td>0.0</td>\n",
       "      <td>0.0</td>\n",
       "    </tr>\n",
       "    <tr>\n",
       "      <th>E-18-157-PO-90</th>\n",
       "      <td>0</td>\n",
       "      <td>0</td>\n",
       "      <td>0.5</td>\n",
       "      <td>0</td>\n",
       "      <td>0.000000</td>\n",
       "      <td>0.000000</td>\n",
       "      <td>0.0</td>\n",
       "      <td>0</td>\n",
       "      <td>0</td>\n",
       "      <td>0.0</td>\n",
       "      <td>0</td>\n",
       "      <td>0.0</td>\n",
       "      <td>0.5</td>\n",
       "    </tr>\n",
       "    <tr>\n",
       "      <th>T-19-12-SN-5</th>\n",
       "      <td>0</td>\n",
       "      <td>0</td>\n",
       "      <td>0.0</td>\n",
       "      <td>1</td>\n",
       "      <td>0.000000</td>\n",
       "      <td>0.000000</td>\n",
       "      <td>0.0</td>\n",
       "      <td>0</td>\n",
       "      <td>0</td>\n",
       "      <td>0.0</td>\n",
       "      <td>0</td>\n",
       "      <td>0.0</td>\n",
       "      <td>0.0</td>\n",
       "    </tr>\n",
       "    <tr>\n",
       "      <th>L-19-21-SN-20</th>\n",
       "      <td>0</td>\n",
       "      <td>0</td>\n",
       "      <td>0.0</td>\n",
       "      <td>0</td>\n",
       "      <td>1.000000</td>\n",
       "      <td>0.000000</td>\n",
       "      <td>0.0</td>\n",
       "      <td>0</td>\n",
       "      <td>0</td>\n",
       "      <td>0.0</td>\n",
       "      <td>0</td>\n",
       "      <td>0.0</td>\n",
       "      <td>0.0</td>\n",
       "    </tr>\n",
       "    <tr>\n",
       "      <th>SIMON BOLIVAR</th>\n",
       "      <td>0</td>\n",
       "      <td>0</td>\n",
       "      <td>0.0</td>\n",
       "      <td>0</td>\n",
       "      <td>0.000000</td>\n",
       "      <td>1.000000</td>\n",
       "      <td>0.0</td>\n",
       "      <td>0</td>\n",
       "      <td>0</td>\n",
       "      <td>0.0</td>\n",
       "      <td>0</td>\n",
       "      <td>0.0</td>\n",
       "      <td>0.0</td>\n",
       "    </tr>\n",
       "    <tr>\n",
       "      <th>LOS HEROES</th>\n",
       "      <td>0</td>\n",
       "      <td>0</td>\n",
       "      <td>0.0</td>\n",
       "      <td>0</td>\n",
       "      <td>0.600000</td>\n",
       "      <td>0.000000</td>\n",
       "      <td>0.2</td>\n",
       "      <td>0</td>\n",
       "      <td>0</td>\n",
       "      <td>0.2</td>\n",
       "      <td>0</td>\n",
       "      <td>0.0</td>\n",
       "      <td>0.0</td>\n",
       "    </tr>\n",
       "    <tr>\n",
       "      <th>SANTA ISABEL</th>\n",
       "      <td>0</td>\n",
       "      <td>0</td>\n",
       "      <td>0.0</td>\n",
       "      <td>0</td>\n",
       "      <td>0.000000</td>\n",
       "      <td>0.000000</td>\n",
       "      <td>0.0</td>\n",
       "      <td>1</td>\n",
       "      <td>0</td>\n",
       "      <td>0.0</td>\n",
       "      <td>0</td>\n",
       "      <td>0.0</td>\n",
       "      <td>0.0</td>\n",
       "    </tr>\n",
       "    <tr>\n",
       "      <th>L-14-10-PO-5</th>\n",
       "      <td>0</td>\n",
       "      <td>0</td>\n",
       "      <td>0.0</td>\n",
       "      <td>0</td>\n",
       "      <td>0.000000</td>\n",
       "      <td>0.000000</td>\n",
       "      <td>0.0</td>\n",
       "      <td>0</td>\n",
       "      <td>1</td>\n",
       "      <td>0.0</td>\n",
       "      <td>0</td>\n",
       "      <td>0.0</td>\n",
       "      <td>0.0</td>\n",
       "    </tr>\n",
       "    <tr>\n",
       "      <th>L-19-21-SN-15</th>\n",
       "      <td>0</td>\n",
       "      <td>0</td>\n",
       "      <td>0.0</td>\n",
       "      <td>0</td>\n",
       "      <td>0.333333</td>\n",
       "      <td>0.666667</td>\n",
       "      <td>0.0</td>\n",
       "      <td>0</td>\n",
       "      <td>0</td>\n",
       "      <td>0.0</td>\n",
       "      <td>0</td>\n",
       "      <td>0.0</td>\n",
       "      <td>0.0</td>\n",
       "    </tr>\n",
       "    <tr>\n",
       "      <th>VESPUCIO NORTE</th>\n",
       "      <td>0</td>\n",
       "      <td>0</td>\n",
       "      <td>0.0</td>\n",
       "      <td>0</td>\n",
       "      <td>0.000000</td>\n",
       "      <td>0.000000</td>\n",
       "      <td>0.0</td>\n",
       "      <td>0</td>\n",
       "      <td>0</td>\n",
       "      <td>0.0</td>\n",
       "      <td>1</td>\n",
       "      <td>0.0</td>\n",
       "      <td>0.0</td>\n",
       "    </tr>\n",
       "    <tr>\n",
       "      <th>T-3-19-NS-45</th>\n",
       "      <td>0</td>\n",
       "      <td>0</td>\n",
       "      <td>0.0</td>\n",
       "      <td>0</td>\n",
       "      <td>0.000000</td>\n",
       "      <td>0.500000</td>\n",
       "      <td>0.0</td>\n",
       "      <td>0</td>\n",
       "      <td>0</td>\n",
       "      <td>0.0</td>\n",
       "      <td>0</td>\n",
       "      <td>0.5</td>\n",
       "      <td>0.0</td>\n",
       "    </tr>\n",
       "    <tr>\n",
       "      <th>T-18-157-PO-40</th>\n",
       "      <td>0</td>\n",
       "      <td>1</td>\n",
       "      <td>0.0</td>\n",
       "      <td>0</td>\n",
       "      <td>0.000000</td>\n",
       "      <td>0.000000</td>\n",
       "      <td>0.0</td>\n",
       "      <td>0</td>\n",
       "      <td>0</td>\n",
       "      <td>0.0</td>\n",
       "      <td>0</td>\n",
       "      <td>0.0</td>\n",
       "      <td>0.0</td>\n",
       "    </tr>\n",
       "    <tr>\n",
       "      <th>L-32-3-SN-10</th>\n",
       "      <td>NaN</td>\n",
       "      <td>NaN</td>\n",
       "      <td>NaN</td>\n",
       "      <td>NaN</td>\n",
       "      <td>NaN</td>\n",
       "      <td>NaN</td>\n",
       "      <td>NaN</td>\n",
       "      <td>NaN</td>\n",
       "      <td>NaN</td>\n",
       "      <td>NaN</td>\n",
       "      <td>NaN</td>\n",
       "      <td>NaN</td>\n",
       "      <td>NaN</td>\n",
       "    </tr>\n",
       "  </tbody>\n",
       "</table>\n",
       "</div>"
      ],
      "text/plain": [
       "                T-18-157-PO-60  E-18-157-PO-90  T-19-12-SN-5  L-19-21-SN-20  \\\n",
       "T-18-157-PO-60               0               1           0.0              0   \n",
       "E-18-157-PO-90               0               0           0.5              0   \n",
       "T-19-12-SN-5                 0               0           0.0              1   \n",
       "L-19-21-SN-20                0               0           0.0              0   \n",
       "SIMON BOLIVAR                0               0           0.0              0   \n",
       "LOS HEROES                   0               0           0.0              0   \n",
       "SANTA ISABEL                 0               0           0.0              0   \n",
       "L-14-10-PO-5                 0               0           0.0              0   \n",
       "L-19-21-SN-15                0               0           0.0              0   \n",
       "VESPUCIO NORTE               0               0           0.0              0   \n",
       "T-3-19-NS-45                 0               0           0.0              0   \n",
       "T-18-157-PO-40               0               1           0.0              0   \n",
       "L-32-3-SN-10               NaN             NaN           NaN            NaN   \n",
       "\n",
       "                SIMON BOLIVAR  LOS HEROES  SANTA ISABEL  L-14-10-PO-5  \\\n",
       "T-18-157-PO-60       0.000000    0.000000           0.0             0   \n",
       "E-18-157-PO-90       0.000000    0.000000           0.0             0   \n",
       "T-19-12-SN-5         0.000000    0.000000           0.0             0   \n",
       "L-19-21-SN-20        1.000000    0.000000           0.0             0   \n",
       "SIMON BOLIVAR        0.000000    1.000000           0.0             0   \n",
       "LOS HEROES           0.600000    0.000000           0.2             0   \n",
       "SANTA ISABEL         0.000000    0.000000           0.0             1   \n",
       "L-14-10-PO-5         0.000000    0.000000           0.0             0   \n",
       "L-19-21-SN-15        0.333333    0.666667           0.0             0   \n",
       "VESPUCIO NORTE       0.000000    0.000000           0.0             0   \n",
       "T-3-19-NS-45         0.000000    0.500000           0.0             0   \n",
       "T-18-157-PO-40       0.000000    0.000000           0.0             0   \n",
       "L-32-3-SN-10              NaN         NaN           NaN           NaN   \n",
       "\n",
       "                L-19-21-SN-15  VESPUCIO NORTE  T-3-19-NS-45  T-18-157-PO-40  \\\n",
       "T-18-157-PO-60              0             0.0             0             0.0   \n",
       "E-18-157-PO-90              0             0.0             0             0.0   \n",
       "T-19-12-SN-5                0             0.0             0             0.0   \n",
       "L-19-21-SN-20               0             0.0             0             0.0   \n",
       "SIMON BOLIVAR               0             0.0             0             0.0   \n",
       "LOS HEROES                  0             0.2             0             0.0   \n",
       "SANTA ISABEL                0             0.0             0             0.0   \n",
       "L-14-10-PO-5                1             0.0             0             0.0   \n",
       "L-19-21-SN-15               0             0.0             0             0.0   \n",
       "VESPUCIO NORTE              0             0.0             1             0.0   \n",
       "T-3-19-NS-45                0             0.0             0             0.5   \n",
       "T-18-157-PO-40              0             0.0             0             0.0   \n",
       "L-32-3-SN-10              NaN             NaN           NaN             NaN   \n",
       "\n",
       "                L-32-3-SN-10  \n",
       "T-18-157-PO-60           0.0  \n",
       "E-18-157-PO-90           0.5  \n",
       "T-19-12-SN-5             0.0  \n",
       "L-19-21-SN-20            0.0  \n",
       "SIMON BOLIVAR            0.0  \n",
       "LOS HEROES               0.0  \n",
       "SANTA ISABEL             0.0  \n",
       "L-14-10-PO-5             0.0  \n",
       "L-19-21-SN-15            0.0  \n",
       "VESPUCIO NORTE           0.0  \n",
       "T-3-19-NS-45             0.0  \n",
       "T-18-157-PO-40           0.0  \n",
       "L-32-3-SN-10             NaN  "
      ]
     },
     "execution_count": 78,
     "metadata": {},
     "output_type": "execute_result"
    }
   ],
   "source": [
    "mls_5 = profiles_abril[5][\"mls\"]\n",
    "tpm_user5 = np.matrix(profiles_abril[5][\"tpm\"])\n",
    "tpm_5 = tpm_user5\n",
    "tpm_user5 = pd.DataFrame(tpm_user5)\n",
    "tpm_user5.columns = mls_5\n",
    "tpm_user5.index = mls_5\n",
    "tpm_user5"
   ]
  },
  {
   "cell_type": "code",
   "execution_count": 79,
   "metadata": {
    "collapsed": false
   },
   "outputs": [
    {
     "data": {
      "text/plain": [
       "['SIMON BOLIVAR',\n",
       " 'LA MONEDA',\n",
       " 'SIMON BOLIVAR',\n",
       " 'SANTA LUCIA',\n",
       " 'SIMON BOLIVAR',\n",
       " 'SALVADOR',\n",
       " 'LA MONEDA',\n",
       " 'SIMON BOLIVAR',\n",
       " 'PEDRO DE VALDIVIA',\n",
       " 'LOS HEROES',\n",
       " 'MANUEL MONTT',\n",
       " 'T-14-128-OP-60',\n",
       " 'E-20-53-OP-100',\n",
       " 'E-20-53-PO-40',\n",
       " 'E-20-53-PO-90',\n",
       " 'SANTA LUCIA',\n",
       " 'PEDRO DE VALDIVIA',\n",
       " 'LA MONEDA',\n",
       " 'PEDRO DE VALDIVIA',\n",
       " 'T-19-170-SN-40',\n",
       " 'E-20-53-OP-70',\n",
       " 'LA MONEDA',\n",
       " 'PLAZA EGANA',\n",
       " 'T-18-157-OP-15',\n",
       " 'T-18-157-OP-50',\n",
       " 'T-18-157-PO-50',\n",
       " 'T-19-164-PO-5',\n",
       " 'SIMON BOLIVAR']"
      ]
     },
     "execution_count": 79,
     "metadata": {},
     "output_type": "execute_result"
    }
   ],
   "source": [
    "sequence_5 = sequences_septiembre[5]['sequence']\n",
    "sequence_5"
   ]
  },
  {
   "cell_type": "code",
   "execution_count": 96,
   "metadata": {
    "collapsed": false
   },
   "outputs": [
    {
     "data": {
      "text/plain": [
       "-255.07326684623979"
      ]
     },
     "execution_count": 96,
     "metadata": {},
     "output_type": "execute_result"
    }
   ],
   "source": [
    "calcularSimilitud(tpm_5,sequence_5,mls_5)"
   ]
  },
  {
   "cell_type": "code",
   "execution_count": 97,
   "metadata": {
    "collapsed": false
   },
   "outputs": [
    {
     "data": {
      "text/plain": [
       "-208.76725028613401"
      ]
     },
     "execution_count": 97,
     "metadata": {},
     "output_type": "execute_result"
    }
   ],
   "source": [
    "calcularSimilitud(tpm_1187,sequence_5,mls_1187)"
   ]
  },
  {
   "cell_type": "code",
   "execution_count": null,
   "metadata": {
    "collapsed": true
   },
   "outputs": [],
   "source": []
  }
 ],
 "metadata": {
  "kernelspec": {
   "display_name": "Python 2",
   "language": "python",
   "name": "python2"
  },
  "language_info": {
   "codemirror_mode": {
    "name": "ipython",
    "version": 2
   },
   "file_extension": ".py",
   "mimetype": "text/x-python",
   "name": "python",
   "nbconvert_exporter": "python",
   "pygments_lexer": "ipython2",
   "version": "2.7.11"
  }
 },
 "nbformat": 4,
 "nbformat_minor": 0
}
