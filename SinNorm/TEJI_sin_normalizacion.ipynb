{
 "cells": [
  {
   "cell_type": "markdown",
   "metadata": {
    "collapsed": true
   },
   "source": [
    "# Tratado de exploración Jupyter I"
   ]
  },
  {
   "cell_type": "markdown",
   "metadata": {},
   "source": [
    "## 1. Preparar los motores"
   ]
  },
  {
   "cell_type": "markdown",
   "metadata": {
    "collapsed": true
   },
   "source": [
    "- ¡Importar importar que el mundo se va a acabar!"
   ]
  },
  {
   "cell_type": "code",
   "execution_count": 1,
   "metadata": {
    "collapsed": false
   },
   "outputs": [],
   "source": [
    "import numpy as np\n",
    "import pandas as pd\n",
    "%matplotlib inline\n",
    "import matplotlib.pyplot as plt\n",
    "import time\n",
    "import pickle\n",
    "from __future__ import division\n",
    "import csv"
   ]
  },
  {
   "cell_type": "markdown",
   "metadata": {},
   "source": [
    "- Definición de funciones auxiliares"
   ]
  },
  {
   "cell_type": "code",
   "execution_count": 2,
   "metadata": {
    "collapsed": true
   },
   "outputs": [],
   "source": [
    "# Cargar diccionario de estaciones de metro\n",
    "dict_metro = {}\n",
    "with open('/home/cata/Documentos/Datois/Diccionario-EstacionesMetro.csv',mode='r') as infile:\n",
    "    reader = csv.reader(infile,delimiter=';')\n",
    "    dict_metro = {rows[5]:rows[7] for rows in reader}"
   ]
  },
  {
   "cell_type": "code",
   "execution_count": 3,
   "metadata": {
    "collapsed": false
   },
   "outputs": [],
   "source": [
    "# Función que estandariza los valores de los paraderos de subida y bajada\n",
    "def update_vals(row, data=dict_metro):    \n",
    "    if row.par_subida in data:\n",
    "        row.par_subida = data[row.par_subida]\n",
    "    if row.par_bajada in data:\n",
    "        row.par_bajada = data[row.par_bajada]\n",
    "    return row\n"
   ]
  },
  {
   "cell_type": "code",
   "execution_count": 4,
   "metadata": {
    "collapsed": false
   },
   "outputs": [],
   "source": [
    "# Función que busca los indices de los valores en la matriz que coinciden con argumento\n",
    "def quienCalzaCon(iden_matris,argumento):\n",
    "    i = 0\n",
    "    identified_indexs = []\n",
    "    limit = len(iden_matris)\n",
    "    while (i<limit):\n",
    "        the_index = np.argmax(iden_matrix[:,i])\n",
    "        if(the_index==argumento):\n",
    "            identified_indexs.append(i)\n",
    "        i += 1\n",
    "    return identified_indexs\n",
    "    "
   ]
  },
  {
   "cell_type": "code",
   "execution_count": 5,
   "metadata": {
    "collapsed": true
   },
   "outputs": [],
   "source": [
    "def queryToCSV(matrix, user_id, user_index, str_diff = ''):\n",
    "    query = 'id ==' + str(user_id)\n",
    "    df_query = matrix.query(query)\n",
    "    file_path =  '/home/cata/Documentos/sequences/' + str(user_id) + '_' + str(user_index) + '_' + str_diff + '.csv'\n",
    "    df_query.to_csv(path_or_buf=file_path)"
   ]
  },
  {
   "cell_type": "markdown",
   "metadata": {},
   "source": [
    "- Leer hace bien "
   ]
  },
  {
   "cell_type": "code",
   "execution_count": 6,
   "metadata": {
    "collapsed": false
   },
   "outputs": [
    {
     "data": {
      "text/html": [
       "<div>\n",
       "<table border=\"1\" class=\"dataframe\">\n",
       "  <thead>\n",
       "    <tr style=\"text-align: right;\">\n",
       "      <th></th>\n",
       "      <th>tiempo_subida</th>\n",
       "      <th>id</th>\n",
       "      <th>x_subida</th>\n",
       "      <th>y_subida</th>\n",
       "      <th>tipo_transporte</th>\n",
       "      <th>serviciosentidovariante</th>\n",
       "      <th>tipo_dia</th>\n",
       "      <th>nviaje</th>\n",
       "      <th>netapa</th>\n",
       "      <th>x_bajada</th>\n",
       "      <th>y_bajada</th>\n",
       "      <th>tiempo_bajada</th>\n",
       "      <th>par_subida</th>\n",
       "      <th>par_bajada</th>\n",
       "      <th>zona_subida</th>\n",
       "      <th>zona_bajada</th>\n",
       "      <th>adulto</th>\n",
       "    </tr>\n",
       "  </thead>\n",
       "  <tbody>\n",
       "    <tr>\n",
       "      <th>0</th>\n",
       "      <td>2013-04-21 19:55:16</td>\n",
       "      <td>1132106</td>\n",
       "      <td>346723</td>\n",
       "      <td>6299454</td>\n",
       "      <td>BUS</td>\n",
       "      <td>T203 00I</td>\n",
       "      <td>DOMINGO</td>\n",
       "      <td>13</td>\n",
       "      <td>2</td>\n",
       "      <td>348100</td>\n",
       "      <td>6289103</td>\n",
       "      <td>2013-04-21 20:24:17</td>\n",
       "      <td>E-20-199-NS-2</td>\n",
       "      <td>T-24-205-NS-20</td>\n",
       "      <td>307</td>\n",
       "      <td>348</td>\n",
       "      <td>0</td>\n",
       "    </tr>\n",
       "    <tr>\n",
       "      <th>1</th>\n",
       "      <td>2013-04-21 19:35:52</td>\n",
       "      <td>1132106</td>\n",
       "      <td>351378</td>\n",
       "      <td>6302574</td>\n",
       "      <td>BUS</td>\n",
       "      <td>T502 00R</td>\n",
       "      <td>DOMINGO</td>\n",
       "      <td>13</td>\n",
       "      <td>1</td>\n",
       "      <td>346761</td>\n",
       "      <td>6299570</td>\n",
       "      <td>2013-04-21 19:49:12</td>\n",
       "      <td>T-15-135-OP-110</td>\n",
       "      <td>T-4-19-NS-100</td>\n",
       "      <td>188</td>\n",
       "      <td>55</td>\n",
       "      <td>0</td>\n",
       "    </tr>\n",
       "    <tr>\n",
       "      <th>2</th>\n",
       "      <td>2013-04-21 07:12:35</td>\n",
       "      <td>1132106</td>\n",
       "      <td>346722</td>\n",
       "      <td>6299393</td>\n",
       "      <td>BUS</td>\n",
       "      <td>T502 00I</td>\n",
       "      <td>DOMINGO</td>\n",
       "      <td>12</td>\n",
       "      <td>2</td>\n",
       "      <td>351366</td>\n",
       "      <td>6302551</td>\n",
       "      <td>2013-04-21 07:26:43</td>\n",
       "      <td>E-20-289-PO-5</td>\n",
       "      <td>T-15-135-PO-5</td>\n",
       "      <td>266</td>\n",
       "      <td>188</td>\n",
       "      <td>0</td>\n",
       "    </tr>\n",
       "    <tr>\n",
       "      <th>3</th>\n",
       "      <td>2013-04-21 06:42:07</td>\n",
       "      <td>1132106</td>\n",
       "      <td>348110</td>\n",
       "      <td>6289140</td>\n",
       "      <td>BUS</td>\n",
       "      <td>T203 00R</td>\n",
       "      <td>DOMINGO</td>\n",
       "      <td>12</td>\n",
       "      <td>1</td>\n",
       "      <td>346813</td>\n",
       "      <td>6299398</td>\n",
       "      <td>2013-04-21 07:04:18</td>\n",
       "      <td>T-22-205-SN-65</td>\n",
       "      <td>E-20-190-SN-40</td>\n",
       "      <td>328</td>\n",
       "      <td>307</td>\n",
       "      <td>0</td>\n",
       "    </tr>\n",
       "    <tr>\n",
       "      <th>4</th>\n",
       "      <td>2013-04-19 07:25:09</td>\n",
       "      <td>1132106</td>\n",
       "      <td>346717</td>\n",
       "      <td>6299455</td>\n",
       "      <td>BUS</td>\n",
       "      <td>T203 00I</td>\n",
       "      <td>LABORAL</td>\n",
       "      <td>11</td>\n",
       "      <td>2</td>\n",
       "      <td>NaN</td>\n",
       "      <td>NaN</td>\n",
       "      <td>NaN</td>\n",
       "      <td>E-20-199-NS-2</td>\n",
       "      <td>NaN</td>\n",
       "      <td>307</td>\n",
       "      <td>NaN</td>\n",
       "      <td>NaN</td>\n",
       "    </tr>\n",
       "  </tbody>\n",
       "</table>\n",
       "</div>"
      ],
      "text/plain": [
       "         tiempo_subida       id  x_subida  y_subida tipo_transporte  \\\n",
       "0  2013-04-21 19:55:16  1132106    346723   6299454             BUS   \n",
       "1  2013-04-21 19:35:52  1132106    351378   6302574             BUS   \n",
       "2  2013-04-21 07:12:35  1132106    346722   6299393             BUS   \n",
       "3  2013-04-21 06:42:07  1132106    348110   6289140             BUS   \n",
       "4  2013-04-19 07:25:09  1132106    346717   6299455             BUS   \n",
       "\n",
       "  serviciosentidovariante tipo_dia  nviaje  netapa  x_bajada  y_bajada  \\\n",
       "0                T203 00I  DOMINGO      13       2    348100   6289103   \n",
       "1                T502 00R  DOMINGO      13       1    346761   6299570   \n",
       "2                T502 00I  DOMINGO      12       2    351366   6302551   \n",
       "3                T203 00R  DOMINGO      12       1    346813   6299398   \n",
       "4                T203 00I  LABORAL      11       2       NaN       NaN   \n",
       "\n",
       "         tiempo_bajada       par_subida      par_bajada  zona_subida  \\\n",
       "0  2013-04-21 20:24:17    E-20-199-NS-2  T-24-205-NS-20          307   \n",
       "1  2013-04-21 19:49:12  T-15-135-OP-110   T-4-19-NS-100          188   \n",
       "2  2013-04-21 07:26:43    E-20-289-PO-5   T-15-135-PO-5          266   \n",
       "3  2013-04-21 07:04:18   T-22-205-SN-65  E-20-190-SN-40          328   \n",
       "4                  NaN    E-20-199-NS-2             NaN          307   \n",
       "\n",
       "   zona_bajada  adulto  \n",
       "0          348       0  \n",
       "1           55       0  \n",
       "2          188       0  \n",
       "3          307       0  \n",
       "4          NaN     NaN  "
      ]
     },
     "execution_count": 6,
     "metadata": {},
     "output_type": "execute_result"
    }
   ],
   "source": [
    "#frame = pd.read_csv('/home/cata/Documentos/Datois/etapas100000_abril.csv')\n",
    "frame = pd.read_csv('/home/cata/Documentos/Datois/etapas_2013_abril_allyearsids_10_100000.csv')\n",
    "frame.head()"
   ]
  },
  {
   "cell_type": "code",
   "execution_count": 7,
   "metadata": {
    "collapsed": false
   },
   "outputs": [
    {
     "name": "stdout",
     "output_type": "stream",
     "text": [
      "<class 'pandas.core.frame.DataFrame'>\n",
      "Int64Index: 100000 entries, 0 to 99999\n",
      "Data columns (total 17 columns):\n",
      "tiempo_subida              100000 non-null object\n",
      "id                         100000 non-null int64\n",
      "x_subida                   99224 non-null float64\n",
      "y_subida                   99224 non-null float64\n",
      "tipo_transporte            100000 non-null object\n",
      "serviciosentidovariante    98074 non-null object\n",
      "tipo_dia                   100000 non-null object\n",
      "nviaje                     100000 non-null int64\n",
      "netapa                     100000 non-null int64\n",
      "x_bajada                   86774 non-null float64\n",
      "y_bajada                   86774 non-null float64\n",
      "tiempo_bajada              86774 non-null object\n",
      "par_subida                 99195 non-null object\n",
      "par_bajada                 86767 non-null object\n",
      "zona_subida                99180 non-null float64\n",
      "zona_bajada                86764 non-null float64\n",
      "adulto                     86774 non-null float64\n",
      "dtypes: float64(7), int64(3), object(7)\n",
      "memory usage: 13.7+ MB\n"
     ]
    }
   ],
   "source": [
    "frame.info()"
   ]
  },
  {
   "cell_type": "markdown",
   "metadata": {},
   "source": [
    "- Paso los tiempos de string a timestamp para luego calcular la diferencia entre una transacción y otra"
   ]
  },
  {
   "cell_type": "code",
   "execution_count": 8,
   "metadata": {
    "collapsed": false
   },
   "outputs": [],
   "source": [
    "frame['tiempo_subida'] = pd.to_datetime(frame.tiempo_subida)\n",
    "frame = frame.sort_values(by=['id', 'tiempo_subida'])"
   ]
  },
  {
   "cell_type": "code",
   "execution_count": 9,
   "metadata": {
    "collapsed": false
   },
   "outputs": [],
   "source": [
    "frame['diferencia_tiempo'] = (frame['tiempo_subida']-frame['tiempo_subida'].shift()).fillna(0)"
   ]
  },
  {
   "cell_type": "code",
   "execution_count": 10,
   "metadata": {
    "collapsed": false
   },
   "outputs": [
    {
     "data": {
      "text/html": [
       "<div>\n",
       "<table border=\"1\" class=\"dataframe\">\n",
       "  <thead>\n",
       "    <tr style=\"text-align: right;\">\n",
       "      <th></th>\n",
       "      <th>tiempo_subida</th>\n",
       "      <th>id</th>\n",
       "      <th>x_subida</th>\n",
       "      <th>y_subida</th>\n",
       "      <th>tipo_transporte</th>\n",
       "      <th>serviciosentidovariante</th>\n",
       "      <th>tipo_dia</th>\n",
       "      <th>nviaje</th>\n",
       "      <th>netapa</th>\n",
       "      <th>x_bajada</th>\n",
       "      <th>y_bajada</th>\n",
       "      <th>tiempo_bajada</th>\n",
       "      <th>par_subida</th>\n",
       "      <th>par_bajada</th>\n",
       "      <th>zona_subida</th>\n",
       "      <th>zona_bajada</th>\n",
       "      <th>adulto</th>\n",
       "      <th>diferencia_tiempo</th>\n",
       "    </tr>\n",
       "  </thead>\n",
       "  <tbody>\n",
       "    <tr>\n",
       "      <th>23</th>\n",
       "      <td>2013-04-14 06:45:44</td>\n",
       "      <td>1132106</td>\n",
       "      <td>348108</td>\n",
       "      <td>6289153</td>\n",
       "      <td>BUS</td>\n",
       "      <td>T203 00R</td>\n",
       "      <td>DOMINGO</td>\n",
       "      <td>1</td>\n",
       "      <td>1</td>\n",
       "      <td>346818</td>\n",
       "      <td>6299394</td>\n",
       "      <td>2013-04-14 07:07:02</td>\n",
       "      <td>T-22-205-SN-65</td>\n",
       "      <td>E-20-190-SN-40</td>\n",
       "      <td>328</td>\n",
       "      <td>307</td>\n",
       "      <td>0</td>\n",
       "      <td>0 days 00:00:00</td>\n",
       "    </tr>\n",
       "    <tr>\n",
       "      <th>22</th>\n",
       "      <td>2013-04-14 07:51:52</td>\n",
       "      <td>1132106</td>\n",
       "      <td>346751</td>\n",
       "      <td>6299389</td>\n",
       "      <td>BUS</td>\n",
       "      <td>T502 00I</td>\n",
       "      <td>DOMINGO</td>\n",
       "      <td>2</td>\n",
       "      <td>1</td>\n",
       "      <td>351363</td>\n",
       "      <td>6302549</td>\n",
       "      <td>2013-04-14 08:04:11</td>\n",
       "      <td>E-20-291-PO-20</td>\n",
       "      <td>T-15-135-PO-5</td>\n",
       "      <td>307</td>\n",
       "      <td>188</td>\n",
       "      <td>0</td>\n",
       "      <td>0 days 01:06:08</td>\n",
       "    </tr>\n",
       "    <tr>\n",
       "      <th>21</th>\n",
       "      <td>2013-04-14 19:56:47</td>\n",
       "      <td>1132106</td>\n",
       "      <td>351368</td>\n",
       "      <td>6302559</td>\n",
       "      <td>BUS</td>\n",
       "      <td>T502 00R</td>\n",
       "      <td>DOMINGO</td>\n",
       "      <td>3</td>\n",
       "      <td>1</td>\n",
       "      <td>346763</td>\n",
       "      <td>6299568</td>\n",
       "      <td>2013-04-14 20:09:11</td>\n",
       "      <td>T-15-135-OP-110</td>\n",
       "      <td>T-4-19-NS-100</td>\n",
       "      <td>188</td>\n",
       "      <td>55</td>\n",
       "      <td>0</td>\n",
       "      <td>0 days 12:04:55</td>\n",
       "    </tr>\n",
       "    <tr>\n",
       "      <th>20</th>\n",
       "      <td>2013-04-14 20:15:25</td>\n",
       "      <td>1132106</td>\n",
       "      <td>346713</td>\n",
       "      <td>6299427</td>\n",
       "      <td>BUS</td>\n",
       "      <td>T203 00I</td>\n",
       "      <td>DOMINGO</td>\n",
       "      <td>3</td>\n",
       "      <td>2</td>\n",
       "      <td>348095</td>\n",
       "      <td>6289148</td>\n",
       "      <td>2013-04-14 20:40:51</td>\n",
       "      <td>E-20-199-NS-2</td>\n",
       "      <td>T-24-205-NS-20</td>\n",
       "      <td>307</td>\n",
       "      <td>348</td>\n",
       "      <td>0</td>\n",
       "      <td>0 days 00:18:38</td>\n",
       "    </tr>\n",
       "    <tr>\n",
       "      <th>19</th>\n",
       "      <td>2013-04-15 21:04:59</td>\n",
       "      <td>1132106</td>\n",
       "      <td>348103</td>\n",
       "      <td>6289191</td>\n",
       "      <td>BUS</td>\n",
       "      <td>T206 00R</td>\n",
       "      <td>LABORAL</td>\n",
       "      <td>4</td>\n",
       "      <td>1</td>\n",
       "      <td>346844</td>\n",
       "      <td>6299320</td>\n",
       "      <td>2013-04-15 21:33:23</td>\n",
       "      <td>T-22-205-SN-65</td>\n",
       "      <td>T-20-190-SN-35</td>\n",
       "      <td>328</td>\n",
       "      <td>309</td>\n",
       "      <td>0</td>\n",
       "      <td>1 days 00:49:34</td>\n",
       "    </tr>\n",
       "  </tbody>\n",
       "</table>\n",
       "</div>"
      ],
      "text/plain": [
       "         tiempo_subida       id  x_subida  y_subida tipo_transporte  \\\n",
       "23 2013-04-14 06:45:44  1132106    348108   6289153             BUS   \n",
       "22 2013-04-14 07:51:52  1132106    346751   6299389             BUS   \n",
       "21 2013-04-14 19:56:47  1132106    351368   6302559             BUS   \n",
       "20 2013-04-14 20:15:25  1132106    346713   6299427             BUS   \n",
       "19 2013-04-15 21:04:59  1132106    348103   6289191             BUS   \n",
       "\n",
       "   serviciosentidovariante tipo_dia  nviaje  netapa  x_bajada  y_bajada  \\\n",
       "23                T203 00R  DOMINGO       1       1    346818   6299394   \n",
       "22                T502 00I  DOMINGO       2       1    351363   6302549   \n",
       "21                T502 00R  DOMINGO       3       1    346763   6299568   \n",
       "20                T203 00I  DOMINGO       3       2    348095   6289148   \n",
       "19                T206 00R  LABORAL       4       1    346844   6299320   \n",
       "\n",
       "          tiempo_bajada       par_subida      par_bajada  zona_subida  \\\n",
       "23  2013-04-14 07:07:02   T-22-205-SN-65  E-20-190-SN-40          328   \n",
       "22  2013-04-14 08:04:11   E-20-291-PO-20   T-15-135-PO-5          307   \n",
       "21  2013-04-14 20:09:11  T-15-135-OP-110   T-4-19-NS-100          188   \n",
       "20  2013-04-14 20:40:51    E-20-199-NS-2  T-24-205-NS-20          307   \n",
       "19  2013-04-15 21:33:23   T-22-205-SN-65  T-20-190-SN-35          328   \n",
       "\n",
       "    zona_bajada  adulto  diferencia_tiempo  \n",
       "23          307       0    0 days 00:00:00  \n",
       "22          188       0    0 days 01:06:08  \n",
       "21           55       0    0 days 12:04:55  \n",
       "20          348       0    0 days 00:18:38  \n",
       "19          309       0    1 days 00:49:34  "
      ]
     },
     "execution_count": 10,
     "metadata": {},
     "output_type": "execute_result"
    }
   ],
   "source": [
    "frame.head()"
   ]
  },
  {
   "cell_type": "markdown",
   "metadata": {},
   "source": [
    "- Elimino las columnas que no usaré (cuidado, correr solo una vez :)"
   ]
  },
  {
   "cell_type": "code",
   "execution_count": 11,
   "metadata": {
    "collapsed": false
   },
   "outputs": [
    {
     "data": {
      "text/html": [
       "<div>\n",
       "<table border=\"1\" class=\"dataframe\">\n",
       "  <thead>\n",
       "    <tr style=\"text-align: right;\">\n",
       "      <th></th>\n",
       "      <th>tiempo_subida</th>\n",
       "      <th>id</th>\n",
       "      <th>tipo_dia</th>\n",
       "      <th>nviaje</th>\n",
       "      <th>netapa</th>\n",
       "      <th>par_subida</th>\n",
       "      <th>par_bajada</th>\n",
       "      <th>diferencia_tiempo</th>\n",
       "    </tr>\n",
       "  </thead>\n",
       "  <tbody>\n",
       "    <tr>\n",
       "      <th>23</th>\n",
       "      <td>2013-04-14 06:45:44</td>\n",
       "      <td>1132106</td>\n",
       "      <td>DOMINGO</td>\n",
       "      <td>1</td>\n",
       "      <td>1</td>\n",
       "      <td>T-22-205-SN-65</td>\n",
       "      <td>E-20-190-SN-40</td>\n",
       "      <td>0 days 00:00:00</td>\n",
       "    </tr>\n",
       "    <tr>\n",
       "      <th>22</th>\n",
       "      <td>2013-04-14 07:51:52</td>\n",
       "      <td>1132106</td>\n",
       "      <td>DOMINGO</td>\n",
       "      <td>2</td>\n",
       "      <td>1</td>\n",
       "      <td>E-20-291-PO-20</td>\n",
       "      <td>T-15-135-PO-5</td>\n",
       "      <td>0 days 01:06:08</td>\n",
       "    </tr>\n",
       "    <tr>\n",
       "      <th>21</th>\n",
       "      <td>2013-04-14 19:56:47</td>\n",
       "      <td>1132106</td>\n",
       "      <td>DOMINGO</td>\n",
       "      <td>3</td>\n",
       "      <td>1</td>\n",
       "      <td>T-15-135-OP-110</td>\n",
       "      <td>T-4-19-NS-100</td>\n",
       "      <td>0 days 12:04:55</td>\n",
       "    </tr>\n",
       "    <tr>\n",
       "      <th>20</th>\n",
       "      <td>2013-04-14 20:15:25</td>\n",
       "      <td>1132106</td>\n",
       "      <td>DOMINGO</td>\n",
       "      <td>3</td>\n",
       "      <td>2</td>\n",
       "      <td>E-20-199-NS-2</td>\n",
       "      <td>T-24-205-NS-20</td>\n",
       "      <td>0 days 00:18:38</td>\n",
       "    </tr>\n",
       "    <tr>\n",
       "      <th>19</th>\n",
       "      <td>2013-04-15 21:04:59</td>\n",
       "      <td>1132106</td>\n",
       "      <td>LABORAL</td>\n",
       "      <td>4</td>\n",
       "      <td>1</td>\n",
       "      <td>T-22-205-SN-65</td>\n",
       "      <td>T-20-190-SN-35</td>\n",
       "      <td>1 days 00:49:34</td>\n",
       "    </tr>\n",
       "  </tbody>\n",
       "</table>\n",
       "</div>"
      ],
      "text/plain": [
       "         tiempo_subida       id tipo_dia  nviaje  netapa       par_subida  \\\n",
       "23 2013-04-14 06:45:44  1132106  DOMINGO       1       1   T-22-205-SN-65   \n",
       "22 2013-04-14 07:51:52  1132106  DOMINGO       2       1   E-20-291-PO-20   \n",
       "21 2013-04-14 19:56:47  1132106  DOMINGO       3       1  T-15-135-OP-110   \n",
       "20 2013-04-14 20:15:25  1132106  DOMINGO       3       2    E-20-199-NS-2   \n",
       "19 2013-04-15 21:04:59  1132106  LABORAL       4       1   T-22-205-SN-65   \n",
       "\n",
       "        par_bajada  diferencia_tiempo  \n",
       "23  E-20-190-SN-40    0 days 00:00:00  \n",
       "22   T-15-135-PO-5    0 days 01:06:08  \n",
       "21   T-4-19-NS-100    0 days 12:04:55  \n",
       "20  T-24-205-NS-20    0 days 00:18:38  \n",
       "19  T-20-190-SN-35    1 days 00:49:34  "
      ]
     },
     "execution_count": 11,
     "metadata": {},
     "output_type": "execute_result"
    }
   ],
   "source": [
    "frame.drop(frame.columns[[2,3,4,5,9,10,11,14,15,16]], axis=1, inplace=True)\n",
    "frame.head()"
   ]
  },
  {
   "cell_type": "markdown",
   "metadata": {},
   "source": [
    "- Falta estandarizar estaciones de metro con dos nombres"
   ]
  },
  {
   "cell_type": "code",
   "execution_count": 12,
   "metadata": {
    "collapsed": false,
    "scrolled": true
   },
   "outputs": [
    {
     "data": {
      "text/html": [
       "<div>\n",
       "<table border=\"1\" class=\"dataframe\">\n",
       "  <thead>\n",
       "    <tr style=\"text-align: right;\">\n",
       "      <th></th>\n",
       "      <th>tiempo_subida</th>\n",
       "      <th>id</th>\n",
       "      <th>tipo_dia</th>\n",
       "      <th>nviaje</th>\n",
       "      <th>netapa</th>\n",
       "      <th>par_subida</th>\n",
       "      <th>par_bajada</th>\n",
       "      <th>diferencia_tiempo</th>\n",
       "    </tr>\n",
       "  </thead>\n",
       "  <tbody>\n",
       "    <tr>\n",
       "      <th>23</th>\n",
       "      <td>2013-04-14 06:45:44</td>\n",
       "      <td>1132106</td>\n",
       "      <td>DOMINGO</td>\n",
       "      <td>1</td>\n",
       "      <td>1</td>\n",
       "      <td>T-22-205-SN-65</td>\n",
       "      <td>E-20-190-SN-40</td>\n",
       "      <td>0 days 00:00:00</td>\n",
       "    </tr>\n",
       "    <tr>\n",
       "      <th>22</th>\n",
       "      <td>2013-04-14 07:51:52</td>\n",
       "      <td>1132106</td>\n",
       "      <td>DOMINGO</td>\n",
       "      <td>2</td>\n",
       "      <td>1</td>\n",
       "      <td>E-20-291-PO-20</td>\n",
       "      <td>T-15-135-PO-5</td>\n",
       "      <td>0 days 01:06:08</td>\n",
       "    </tr>\n",
       "    <tr>\n",
       "      <th>21</th>\n",
       "      <td>2013-04-14 19:56:47</td>\n",
       "      <td>1132106</td>\n",
       "      <td>DOMINGO</td>\n",
       "      <td>3</td>\n",
       "      <td>1</td>\n",
       "      <td>T-15-135-OP-110</td>\n",
       "      <td>T-4-19-NS-100</td>\n",
       "      <td>0 days 12:04:55</td>\n",
       "    </tr>\n",
       "    <tr>\n",
       "      <th>20</th>\n",
       "      <td>2013-04-14 20:15:25</td>\n",
       "      <td>1132106</td>\n",
       "      <td>DOMINGO</td>\n",
       "      <td>3</td>\n",
       "      <td>2</td>\n",
       "      <td>E-20-199-NS-2</td>\n",
       "      <td>T-24-205-NS-20</td>\n",
       "      <td>0 days 00:18:38</td>\n",
       "    </tr>\n",
       "    <tr>\n",
       "      <th>19</th>\n",
       "      <td>2013-04-15 21:04:59</td>\n",
       "      <td>1132106</td>\n",
       "      <td>LABORAL</td>\n",
       "      <td>4</td>\n",
       "      <td>1</td>\n",
       "      <td>T-22-205-SN-65</td>\n",
       "      <td>T-20-190-SN-35</td>\n",
       "      <td>1 days 00:49:34</td>\n",
       "    </tr>\n",
       "  </tbody>\n",
       "</table>\n",
       "</div>"
      ],
      "text/plain": [
       "         tiempo_subida       id tipo_dia  nviaje  netapa       par_subida  \\\n",
       "23 2013-04-14 06:45:44  1132106  DOMINGO       1       1   T-22-205-SN-65   \n",
       "22 2013-04-14 07:51:52  1132106  DOMINGO       2       1   E-20-291-PO-20   \n",
       "21 2013-04-14 19:56:47  1132106  DOMINGO       3       1  T-15-135-OP-110   \n",
       "20 2013-04-14 20:15:25  1132106  DOMINGO       3       2    E-20-199-NS-2   \n",
       "19 2013-04-15 21:04:59  1132106  LABORAL       4       1   T-22-205-SN-65   \n",
       "\n",
       "        par_bajada  diferencia_tiempo  \n",
       "23  E-20-190-SN-40    0 days 00:00:00  \n",
       "22   T-15-135-PO-5    0 days 01:06:08  \n",
       "21   T-4-19-NS-100    0 days 12:04:55  \n",
       "20  T-24-205-NS-20    0 days 00:18:38  \n",
       "19  T-20-190-SN-35    1 days 00:49:34  "
      ]
     },
     "execution_count": 12,
     "metadata": {},
     "output_type": "execute_result"
    }
   ],
   "source": [
    "frame = frame.apply(update_vals, axis=1)\n",
    "frame.head()"
   ]
  },
  {
   "cell_type": "code",
   "execution_count": 13,
   "metadata": {
    "collapsed": false
   },
   "outputs": [
    {
     "data": {
      "text/html": [
       "<div>\n",
       "<table border=\"1\" class=\"dataframe\">\n",
       "  <thead>\n",
       "    <tr style=\"text-align: right;\">\n",
       "      <th></th>\n",
       "      <th>tiempo_subida</th>\n",
       "      <th>id</th>\n",
       "      <th>tipo_dia</th>\n",
       "      <th>nviaje</th>\n",
       "      <th>netapa</th>\n",
       "      <th>par_subida</th>\n",
       "      <th>par_bajada</th>\n",
       "      <th>diferencia_tiempo</th>\n",
       "    </tr>\n",
       "  </thead>\n",
       "  <tbody>\n",
       "    <tr>\n",
       "      <th>15547</th>\n",
       "      <td>2013-04-15 08:40:05</td>\n",
       "      <td>24547373</td>\n",
       "      <td>LABORAL</td>\n",
       "      <td>1</td>\n",
       "      <td>1</td>\n",
       "      <td>MANUEL MONTT</td>\n",
       "      <td>UNIVERSIDAD DE CHILE</td>\n",
       "      <td>-6 days +15:29:15</td>\n",
       "    </tr>\n",
       "    <tr>\n",
       "      <th>15546</th>\n",
       "      <td>2013-04-15 13:21:49</td>\n",
       "      <td>24547373</td>\n",
       "      <td>LABORAL</td>\n",
       "      <td>2</td>\n",
       "      <td>1</td>\n",
       "      <td>UNIVERSIDAD DE CHILE</td>\n",
       "      <td>MANUEL MONTT</td>\n",
       "      <td>0 days 04:41:44</td>\n",
       "    </tr>\n",
       "    <tr>\n",
       "      <th>15545</th>\n",
       "      <td>2013-04-15 14:40:58</td>\n",
       "      <td>24547373</td>\n",
       "      <td>LABORAL</td>\n",
       "      <td>3</td>\n",
       "      <td>1</td>\n",
       "      <td>MANUEL MONTT</td>\n",
       "      <td>UNIVERSIDAD DE CHILE</td>\n",
       "      <td>0 days 01:19:09</td>\n",
       "    </tr>\n",
       "    <tr>\n",
       "      <th>15544</th>\n",
       "      <td>2013-04-15 19:05:37</td>\n",
       "      <td>24547373</td>\n",
       "      <td>LABORAL</td>\n",
       "      <td>4</td>\n",
       "      <td>1</td>\n",
       "      <td>UNIVERSIDAD DE CHILE</td>\n",
       "      <td>MANUEL MONTT</td>\n",
       "      <td>0 days 04:24:39</td>\n",
       "    </tr>\n",
       "    <tr>\n",
       "      <th>15543</th>\n",
       "      <td>2013-04-16 08:41:59</td>\n",
       "      <td>24547373</td>\n",
       "      <td>LABORAL</td>\n",
       "      <td>5</td>\n",
       "      <td>1</td>\n",
       "      <td>MANUEL MONTT</td>\n",
       "      <td>UNIVERSIDAD DE CHILE</td>\n",
       "      <td>0 days 13:36:22</td>\n",
       "    </tr>\n",
       "    <tr>\n",
       "      <th>15542</th>\n",
       "      <td>2013-04-16 20:08:27</td>\n",
       "      <td>24547373</td>\n",
       "      <td>LABORAL</td>\n",
       "      <td>6</td>\n",
       "      <td>1</td>\n",
       "      <td>UNIVERSIDAD DE CHILE</td>\n",
       "      <td>MANUEL MONTT</td>\n",
       "      <td>0 days 11:26:28</td>\n",
       "    </tr>\n",
       "    <tr>\n",
       "      <th>15541</th>\n",
       "      <td>2013-04-17 08:31:43</td>\n",
       "      <td>24547373</td>\n",
       "      <td>LABORAL</td>\n",
       "      <td>7</td>\n",
       "      <td>1</td>\n",
       "      <td>MANUEL MONTT</td>\n",
       "      <td>UNIVERSIDAD DE CHILE</td>\n",
       "      <td>0 days 12:23:16</td>\n",
       "    </tr>\n",
       "    <tr>\n",
       "      <th>15540</th>\n",
       "      <td>2013-04-17 12:48:11</td>\n",
       "      <td>24547373</td>\n",
       "      <td>LABORAL</td>\n",
       "      <td>8</td>\n",
       "      <td>1</td>\n",
       "      <td>UNIVERSIDAD DE CHILE</td>\n",
       "      <td>MANUEL MONTT</td>\n",
       "      <td>0 days 04:16:28</td>\n",
       "    </tr>\n",
       "    <tr>\n",
       "      <th>15539</th>\n",
       "      <td>2013-04-17 14:46:06</td>\n",
       "      <td>24547373</td>\n",
       "      <td>LABORAL</td>\n",
       "      <td>9</td>\n",
       "      <td>1</td>\n",
       "      <td>MANUEL MONTT</td>\n",
       "      <td>UNIVERSIDAD DE CHILE</td>\n",
       "      <td>0 days 01:57:55</td>\n",
       "    </tr>\n",
       "    <tr>\n",
       "      <th>15538</th>\n",
       "      <td>2013-04-17 20:18:04</td>\n",
       "      <td>24547373</td>\n",
       "      <td>LABORAL</td>\n",
       "      <td>10</td>\n",
       "      <td>1</td>\n",
       "      <td>UNIVERSIDAD DE CHILE</td>\n",
       "      <td>MANUEL MONTT</td>\n",
       "      <td>0 days 05:31:58</td>\n",
       "    </tr>\n",
       "    <tr>\n",
       "      <th>15537</th>\n",
       "      <td>2013-04-18 08:46:20</td>\n",
       "      <td>24547373</td>\n",
       "      <td>LABORAL</td>\n",
       "      <td>11</td>\n",
       "      <td>1</td>\n",
       "      <td>MANUEL MONTT</td>\n",
       "      <td>UNIVERSIDAD DE CHILE</td>\n",
       "      <td>0 days 12:28:16</td>\n",
       "    </tr>\n",
       "    <tr>\n",
       "      <th>15536</th>\n",
       "      <td>2013-04-18 19:55:43</td>\n",
       "      <td>24547373</td>\n",
       "      <td>LABORAL</td>\n",
       "      <td>12</td>\n",
       "      <td>1</td>\n",
       "      <td>UNIVERSIDAD DE CHILE</td>\n",
       "      <td>MANUEL MONTT</td>\n",
       "      <td>0 days 11:09:23</td>\n",
       "    </tr>\n",
       "    <tr>\n",
       "      <th>15535</th>\n",
       "      <td>2013-04-19 08:40:10</td>\n",
       "      <td>24547373</td>\n",
       "      <td>LABORAL</td>\n",
       "      <td>13</td>\n",
       "      <td>1</td>\n",
       "      <td>MANUEL MONTT</td>\n",
       "      <td>UNIVERSIDAD DE CHILE</td>\n",
       "      <td>0 days 12:44:27</td>\n",
       "    </tr>\n",
       "    <tr>\n",
       "      <th>15534</th>\n",
       "      <td>2013-04-19 17:56:55</td>\n",
       "      <td>24547373</td>\n",
       "      <td>LABORAL</td>\n",
       "      <td>14</td>\n",
       "      <td>1</td>\n",
       "      <td>UNIVERSIDAD DE CHILE</td>\n",
       "      <td>MANUEL MONTT</td>\n",
       "      <td>0 days 09:16:45</td>\n",
       "    </tr>\n",
       "  </tbody>\n",
       "</table>\n",
       "</div>"
      ],
      "text/plain": [
       "            tiempo_subida        id tipo_dia  nviaje  netapa  \\\n",
       "15547 2013-04-15 08:40:05  24547373  LABORAL       1       1   \n",
       "15546 2013-04-15 13:21:49  24547373  LABORAL       2       1   \n",
       "15545 2013-04-15 14:40:58  24547373  LABORAL       3       1   \n",
       "15544 2013-04-15 19:05:37  24547373  LABORAL       4       1   \n",
       "15543 2013-04-16 08:41:59  24547373  LABORAL       5       1   \n",
       "15542 2013-04-16 20:08:27  24547373  LABORAL       6       1   \n",
       "15541 2013-04-17 08:31:43  24547373  LABORAL       7       1   \n",
       "15540 2013-04-17 12:48:11  24547373  LABORAL       8       1   \n",
       "15539 2013-04-17 14:46:06  24547373  LABORAL       9       1   \n",
       "15538 2013-04-17 20:18:04  24547373  LABORAL      10       1   \n",
       "15537 2013-04-18 08:46:20  24547373  LABORAL      11       1   \n",
       "15536 2013-04-18 19:55:43  24547373  LABORAL      12       1   \n",
       "15535 2013-04-19 08:40:10  24547373  LABORAL      13       1   \n",
       "15534 2013-04-19 17:56:55  24547373  LABORAL      14       1   \n",
       "\n",
       "                 par_subida            par_bajada  diferencia_tiempo  \n",
       "15547          MANUEL MONTT  UNIVERSIDAD DE CHILE  -6 days +15:29:15  \n",
       "15546  UNIVERSIDAD DE CHILE          MANUEL MONTT    0 days 04:41:44  \n",
       "15545          MANUEL MONTT  UNIVERSIDAD DE CHILE    0 days 01:19:09  \n",
       "15544  UNIVERSIDAD DE CHILE          MANUEL MONTT    0 days 04:24:39  \n",
       "15543          MANUEL MONTT  UNIVERSIDAD DE CHILE    0 days 13:36:22  \n",
       "15542  UNIVERSIDAD DE CHILE          MANUEL MONTT    0 days 11:26:28  \n",
       "15541          MANUEL MONTT  UNIVERSIDAD DE CHILE    0 days 12:23:16  \n",
       "15540  UNIVERSIDAD DE CHILE          MANUEL MONTT    0 days 04:16:28  \n",
       "15539          MANUEL MONTT  UNIVERSIDAD DE CHILE    0 days 01:57:55  \n",
       "15538  UNIVERSIDAD DE CHILE          MANUEL MONTT    0 days 05:31:58  \n",
       "15537          MANUEL MONTT  UNIVERSIDAD DE CHILE    0 days 12:28:16  \n",
       "15536  UNIVERSIDAD DE CHILE          MANUEL MONTT    0 days 11:09:23  \n",
       "15535          MANUEL MONTT  UNIVERSIDAD DE CHILE    0 days 12:44:27  \n",
       "15534  UNIVERSIDAD DE CHILE          MANUEL MONTT    0 days 09:16:45  "
      ]
     },
     "execution_count": 13,
     "metadata": {},
     "output_type": "execute_result"
    }
   ],
   "source": [
    "frame.query('id ==24547373')"
   ]
  },
  {
   "cell_type": "code",
   "execution_count": 14,
   "metadata": {
    "collapsed": false
   },
   "outputs": [
    {
     "data": {
      "text/html": [
       "<div>\n",
       "<table border=\"1\" class=\"dataframe\">\n",
       "  <thead>\n",
       "    <tr style=\"text-align: right;\">\n",
       "      <th></th>\n",
       "      <th>tiempo_subida</th>\n",
       "      <th>id</th>\n",
       "      <th>tipo_dia</th>\n",
       "      <th>nviaje</th>\n",
       "      <th>netapa</th>\n",
       "      <th>par_subida</th>\n",
       "      <th>par_bajada</th>\n",
       "      <th>diferencia_tiempo</th>\n",
       "    </tr>\n",
       "  </thead>\n",
       "  <tbody>\n",
       "  </tbody>\n",
       "</table>\n",
       "</div>"
      ],
      "text/plain": [
       "Empty DataFrame\n",
       "Columns: [tiempo_subida, id, tipo_dia, nviaje, netapa, par_subida, par_bajada, diferencia_tiempo]\n",
       "Index: []"
      ]
     },
     "execution_count": 14,
     "metadata": {},
     "output_type": "execute_result"
    }
   ],
   "source": [
    "frame.query('par_subida == \"SANTA ANA L2\"')"
   ]
  },
  {
   "cell_type": "markdown",
   "metadata": {},
   "source": [
    "- Explorar los periodos de tiempo en distintas locaciones"
   ]
  },
  {
   "cell_type": "code",
   "execution_count": 15,
   "metadata": {
    "collapsed": true
   },
   "outputs": [],
   "source": [
    "## TODO"
   ]
  },
  {
   "cell_type": "markdown",
   "metadata": {},
   "source": [
    "## 2. Crear perfiles de usuarios con las locaciones mínimas y la matriz TPM"
   ]
  },
  {
   "cell_type": "code",
   "execution_count": 16,
   "metadata": {
    "collapsed": true
   },
   "outputs": [],
   "source": [
    "tpm = [] # Transition Probability Matrix (TPM)\n",
    "mls = [] # minimum location set (mlt)\n",
    "nvisitas = [] # diccionario contador de visitas a cada locación\n",
    "profile = {} # diccionario con tpm y mls para cada usuario\n",
    "users_profiles= [] # arreglo de diccionarios\n",
    "nlocations = [] # arreglo con el numero de locaciones por cada usuario\n",
    "nsecuencias = []\n",
    "last_id = 0\n",
    "last_stop = \"\"\n",
    "last_stop_index = 0\n",
    "counter = 0\n",
    "matrix_size = 30 # maximo numero de posiciones admitidas por usuario"
   ]
  },
  {
   "cell_type": "code",
   "execution_count": 17,
   "metadata": {
    "collapsed": false
   },
   "outputs": [],
   "source": [
    "for transaction in zip(frame['id'], frame['par_subida'], frame['par_bajada']):\n",
    "    counter +=1\n",
    "    user_id = transaction[0]\n",
    "    par_subida = transaction[1]\n",
    "    par_bajada = transaction[2]\n",
    "    # no se pierde el paradero de bajada, porque cuando no hay subida no se puede estimar la bajada\n",
    "    if (par_subida!=par_subida):\n",
    "        continue        \n",
    "    if (user_id!=last_id):\n",
    "        # si ya paso una vuelta, agregar TPM y minimum location set a users_profiles\n",
    "        if(counter>1):\n",
    "            n_locations = len(mls)\n",
    "            nlocations.append(n_locations)\n",
    "            nsecuencias.append(sum(nvisitas))\n",
    "            tpm = tpm[0:n_locations,0:n_locations]\n",
    "            tpm = tpm/tpm.sum(axis=1)[:,None]\n",
    "            profile = {'user_id':last_id,'mls':mls,'tpm':tpm,'nvisitas':nvisitas}\n",
    "            users_profiles.append(profile)\n",
    "        # construir nueva TPM y mls no vacia para que no se caiga\n",
    "        last_id = user_id\n",
    "        tpm = np.zeros((matrix_size,matrix_size))\n",
    "        mls = [par_subida]\n",
    "        last_stop = par_subida\n",
    "        last_stop_index = 0\n",
    "        nvisitas = [0]\n",
    "        counter = 1\n",
    "    # buscar si la locación ya había sido visitada \n",
    "    try:\n",
    "        index_subida = mls.index(par_subida)\n",
    "    except ValueError:\n",
    "        index_subida = -1\n",
    "    # si la subida no había sido visitada se debe agregar al mls\n",
    "    if (index_subida < 0):\n",
    "        if(len(mls)<matrix_size-1):\n",
    "            mls.append(par_subida)\n",
    "            nvisitas.append(1)\n",
    "            index_subida = len(mls) - 1\n",
    "            if(par_subida!=last_stop):\n",
    "                tpm[last_stop_index,index_subida] +=1\n",
    "            # si la bajada no se pudo calcular solo se considera la subida y \n",
    "            # se deja para calcular tpm en la proxima ronda \n",
    "            if (par_bajada!=par_bajada):\n",
    "                last_stop = par_subida\n",
    "                last_stop_index = index_subida\n",
    "            else:\n",
    "                try:\n",
    "                    index_bajada = mls.index(par_bajada)\n",
    "                except ValueError:\n",
    "                    index_bajada = -1\n",
    "                # si la bajada no se había visitado antes, agregar bajada y sumar nvisitas \n",
    "                if (index_bajada < 0):\n",
    "                    mls.append(par_bajada)\n",
    "                    nvisitas.append(1)\n",
    "                    index_bajada = len(mls) - 1\n",
    "                    tpm[index_subida,index_bajada] +=1\n",
    "                # sumar nvisita \n",
    "                else:\n",
    "                    if(index_subida!=index_bajada):\n",
    "                        nvisitas[index_bajada] = nvisitas[index_bajada]+1\n",
    "                        tpm[index_subida,index_bajada] +=1\n",
    "                last_stop = par_bajada\n",
    "                last_stop_index = index_bajada\n",
    "    else:\n",
    "        nvisitas[index_subida] = nvisitas[index_subida]+1\n",
    "        if(par_subida!=last_stop):\n",
    "                tpm[last_stop_index,index_subida] +=1\n",
    "        # subida estaba de antes y no hay bajada\n",
    "        # REVISAR SI ESTO NO ES REDUNDANTE!\n",
    "        if (par_bajada!=par_bajada):\n",
    "            last_stop = par_subida\n",
    "            last_stop_index = index_subida\n",
    "        # hay subida y bajada\n",
    "        else:\n",
    "            try:\n",
    "                index_bajada = mls.index(par_bajada)\n",
    "            except ValueError:\n",
    "                index_bajada = -1\n",
    "            # hay bajada pero no estaba antes\n",
    "            if (index_bajada<0):\n",
    "                if(len(mls)<matrix_size-1):\n",
    "                    mls.append(par_bajada)\n",
    "                    last_stop = par_bajada\n",
    "                    nvisitas.append(1)\n",
    "                    index_bajada = len(mls) - 1\n",
    "                    last_stop_index = index_bajada\n",
    "                    tpm[index_subida,index_bajada] +=1\n",
    "                else:\n",
    "                    last_stop = par_subida\n",
    "                    last_stop_index = index_subida\n",
    "            # subida y bajada estaban de antes\n",
    "            else:\n",
    "                if(index_bajada!=index_subida):\n",
    "                    nvisitas[index_bajada] = nvisitas[index_bajada]+1\n",
    "                    tpm[index_subida,index_bajada] +=1"
   ]
  },
  {
   "cell_type": "code",
   "execution_count": 18,
   "metadata": {
    "collapsed": false
   },
   "outputs": [
    {
     "data": {
      "text/plain": [
       "8.0"
      ]
     },
     "execution_count": 18,
     "metadata": {},
     "output_type": "execute_result"
    }
   ],
   "source": [
    "800/100"
   ]
  },
  {
   "cell_type": "markdown",
   "metadata": {},
   "source": [
    "- Ejemplo de perfil de usuario"
   ]
  },
  {
   "cell_type": "code",
   "execution_count": 19,
   "metadata": {
    "collapsed": false,
    "scrolled": true
   },
   "outputs": [
    {
     "data": {
      "text/plain": [
       "{'mls': ['T-22-205-SN-65',\n",
       "  'E-20-190-SN-40',\n",
       "  'E-20-291-PO-20',\n",
       "  'T-15-135-PO-5',\n",
       "  'T-15-135-OP-110',\n",
       "  'T-4-19-NS-100',\n",
       "  'E-20-199-NS-2',\n",
       "  'T-24-205-NS-20',\n",
       "  'T-20-190-SN-35',\n",
       "  'E-20-289-PO-5',\n",
       "  'T-22-205-SN-55',\n",
       "  'T-24-205-NS-30',\n",
       "  'T-15-135-OP-105'],\n",
       " 'nvisitas': [5, 5, 4, 6, 5, 6, 6, 4, 1, 2, 1, 1, 1],\n",
       " 'tpm': array([[ 0.        ,  0.8       ,  0.        ,  0.        ,  0.        ,\n",
       "          0.        ,  0.        ,  0.        ,  0.2       ,  0.        ,\n",
       "          0.        ,  0.        ,  0.        ],\n",
       "        [ 0.125     ,  0.        ,  0.375     ,  0.        ,  0.25      ,\n",
       "          0.        ,  0.25      ,  0.        ,  0.        ,  0.        ,\n",
       "          0.        ,  0.        ,  0.        ],\n",
       "        [ 0.        ,  0.        ,  0.        ,  1.        ,  0.        ,\n",
       "          0.        ,  0.        ,  0.        ,  0.        ,  0.        ,\n",
       "          0.        ,  0.        ,  0.        ],\n",
       "        [ 0.        ,  0.        ,  0.        ,  0.        ,  0.5       ,\n",
       "          0.        ,  0.25      ,  0.        ,  0.        ,  0.        ,\n",
       "          0.25      ,  0.        ,  0.        ],\n",
       "        [ 0.        ,  0.        ,  0.        ,  0.        ,  0.        ,\n",
       "          1.        ,  0.        ,  0.        ,  0.        ,  0.        ,\n",
       "          0.        ,  0.        ,  0.        ],\n",
       "        [ 0.        ,  0.        ,  0.        ,  0.        ,  0.        ,\n",
       "          0.        ,  1.        ,  0.        ,  0.        ,  0.        ,\n",
       "          0.        ,  0.        ,  0.        ],\n",
       "        [ 0.125     ,  0.        ,  0.        ,  0.        ,  0.125     ,\n",
       "          0.        ,  0.        ,  0.5       ,  0.        ,  0.125     ,\n",
       "          0.        ,  0.125     ,  0.        ],\n",
       "        [ 1.        ,  0.        ,  0.        ,  0.        ,  0.        ,\n",
       "          0.        ,  0.        ,  0.        ,  0.        ,  0.        ,\n",
       "          0.        ,  0.        ,  0.        ],\n",
       "        [ 0.        ,  0.        ,  0.        ,  0.        ,  0.        ,\n",
       "          0.        ,  0.        ,  0.        ,  0.        ,  1.        ,\n",
       "          0.        ,  0.        ,  0.        ],\n",
       "        [ 0.        ,  0.        ,  0.        ,  1.        ,  0.        ,\n",
       "          0.        ,  0.        ,  0.        ,  0.        ,  0.        ,\n",
       "          0.        ,  0.        ,  0.        ],\n",
       "        [ 0.        ,  1.        ,  0.        ,  0.        ,  0.        ,\n",
       "          0.        ,  0.        ,  0.        ,  0.        ,  0.        ,\n",
       "          0.        ,  0.        ,  0.        ],\n",
       "        [ 0.33333333,  0.        ,  0.33333333,  0.        ,  0.        ,\n",
       "          0.        ,  0.        ,  0.        ,  0.        ,  0.        ,\n",
       "          0.        ,  0.        ,  0.33333333],\n",
       "        [ 0.        ,  0.        ,  0.        ,  0.        ,  0.        ,\n",
       "          1.        ,  0.        ,  0.        ,  0.        ,  0.        ,\n",
       "          0.        ,  0.        ,  0.        ]]),\n",
       " 'user_id': 1132106}"
      ]
     },
     "execution_count": 19,
     "metadata": {},
     "output_type": "execute_result"
    }
   ],
   "source": [
    "users_profiles[0]"
   ]
  },
  {
   "cell_type": "markdown",
   "metadata": {},
   "source": [
    "## X. Guardar dataframe abril"
   ]
  },
  {
   "cell_type": "code",
   "execution_count": 20,
   "metadata": {
    "collapsed": false
   },
   "outputs": [],
   "source": [
    "with open('df_abril.pickle', 'w') as f:\n",
    "    pickle.dump(frame, f)"
   ]
  },
  {
   "cell_type": "markdown",
   "metadata": {},
   "source": [
    "## 3. Explorar los perfiles de usuario"
   ]
  },
  {
   "cell_type": "markdown",
   "metadata": {
    "collapsed": false
   },
   "source": [
    "- Cuantos usuarios habrá en esta muestra?"
   ]
  },
  {
   "cell_type": "code",
   "execution_count": 21,
   "metadata": {
    "collapsed": false
   },
   "outputs": [
    {
     "data": {
      "text/plain": [
       "5168"
      ]
     },
     "execution_count": 21,
     "metadata": {},
     "output_type": "execute_result"
    }
   ],
   "source": [
    "numero_usuarios = len(users_profiles)\n",
    "numero_usuarios"
   ]
  },
  {
   "cell_type": "markdown",
   "metadata": {
    "collapsed": true
   },
   "source": [
    "- Cuantas locaciones habrá por usuario?"
   ]
  },
  {
   "cell_type": "code",
   "execution_count": 22,
   "metadata": {
    "collapsed": false,
    "scrolled": true
   },
   "outputs": [
    {
     "data": {
      "text/plain": [
       "(array([  83.,  102.,  108.,  139.,  142.,  204.,  260.,  248.,  286.,\n",
       "         300.,  311.,  312.,  279.,  251.,  274.,  209.,  209.,  186.,\n",
       "         188.,  138.,  130.,  126.,  114.,   81.,   81.,   60.,   64.,  283.]),\n",
       " array([  2.,   3.,   4.,   5.,   6.,   7.,   8.,   9.,  10.,  11.,  12.,\n",
       "         13.,  14.,  15.,  16.,  17.,  18.,  19.,  20.,  21.,  22.,  23.,\n",
       "         24.,  25.,  26.,  27.,  28.,  29.,  30.]),\n",
       " <a list of 28 Patch objects>)"
      ]
     },
     "execution_count": 22,
     "metadata": {},
     "output_type": "execute_result"
    },
    {
     "data": {
      "image/png": "[encoded data removed]",
      "text/plain": [
       "<matplotlib.figure.Figure at 0x7f241cdd5c10>"
      ]
     },
     "metadata": {},
     "output_type": "display_data"
    }
   ],
   "source": [
    "plt.hist(nlocations,28)"
   ]
  },
  {
   "cell_type": "markdown",
   "metadata": {},
   "source": [
    "## 4. Preparar el periodo de identificación"
   ]
  },
  {
   "cell_type": "markdown",
   "metadata": {},
   "source": [
    "- Leer hace bien "
   ]
  },
  {
   "cell_type": "code",
   "execution_count": 23,
   "metadata": {
    "collapsed": false
   },
   "outputs": [
    {
     "data": {
      "text/html": [
       "<div>\n",
       "<table border=\"1\" class=\"dataframe\">\n",
       "  <thead>\n",
       "    <tr style=\"text-align: right;\">\n",
       "      <th></th>\n",
       "      <th>tiempo_subida</th>\n",
       "      <th>id</th>\n",
       "      <th>x_subida</th>\n",
       "      <th>y_subida</th>\n",
       "      <th>tipo_transporte</th>\n",
       "      <th>serviciosentidovariante</th>\n",
       "      <th>tipo_dia</th>\n",
       "      <th>nviaje</th>\n",
       "      <th>netapa</th>\n",
       "      <th>x_bajada</th>\n",
       "      <th>y_bajada</th>\n",
       "      <th>tiempo_bajada</th>\n",
       "      <th>par_subida</th>\n",
       "      <th>par_bajada</th>\n",
       "      <th>zona_subida</th>\n",
       "      <th>zona_bajada</th>\n",
       "      <th>adulto</th>\n",
       "    </tr>\n",
       "  </thead>\n",
       "  <tbody>\n",
       "    <tr>\n",
       "      <th>0</th>\n",
       "      <td>2013-09-29 19:58:57</td>\n",
       "      <td>1132106</td>\n",
       "      <td>346742</td>\n",
       "      <td>6299422</td>\n",
       "      <td>BUS</td>\n",
       "      <td>T206 00I</td>\n",
       "      <td>DOMINGO</td>\n",
       "      <td>16</td>\n",
       "      <td>2</td>\n",
       "      <td>348092</td>\n",
       "      <td>6289202</td>\n",
       "      <td>2013-09-29 20:30:10</td>\n",
       "      <td>E-20-199-NS-2</td>\n",
       "      <td>T-24-205-NS-20</td>\n",
       "      <td>307</td>\n",
       "      <td>348</td>\n",
       "      <td>0</td>\n",
       "    </tr>\n",
       "    <tr>\n",
       "      <th>1</th>\n",
       "      <td>2013-09-29 19:38:31</td>\n",
       "      <td>1132106</td>\n",
       "      <td>351400</td>\n",
       "      <td>6302597</td>\n",
       "      <td>BUS</td>\n",
       "      <td>T502 00R</td>\n",
       "      <td>DOMINGO</td>\n",
       "      <td>16</td>\n",
       "      <td>1</td>\n",
       "      <td>346731</td>\n",
       "      <td>6299466</td>\n",
       "      <td>2013-09-29 19:54:38</td>\n",
       "      <td>T-15-135-OP-110</td>\n",
       "      <td>T-4-19-NS-100</td>\n",
       "      <td>188</td>\n",
       "      <td>55</td>\n",
       "      <td>0</td>\n",
       "    </tr>\n",
       "    <tr>\n",
       "      <th>2</th>\n",
       "      <td>2013-09-29 07:49:32</td>\n",
       "      <td>1132106</td>\n",
       "      <td>346768</td>\n",
       "      <td>6299380</td>\n",
       "      <td>BUS</td>\n",
       "      <td>T502 00I</td>\n",
       "      <td>DOMINGO</td>\n",
       "      <td>15</td>\n",
       "      <td>1</td>\n",
       "      <td>351370</td>\n",
       "      <td>6302561</td>\n",
       "      <td>2013-09-29 08:04:30</td>\n",
       "      <td>E-20-291-PO-20</td>\n",
       "      <td>T-15-135-PO-5</td>\n",
       "      <td>307</td>\n",
       "      <td>188</td>\n",
       "      <td>0</td>\n",
       "    </tr>\n",
       "    <tr>\n",
       "      <th>3</th>\n",
       "      <td>2013-09-29 06:48:11</td>\n",
       "      <td>1132106</td>\n",
       "      <td>348107</td>\n",
       "      <td>6289130</td>\n",
       "      <td>BUS</td>\n",
       "      <td>T206 00R</td>\n",
       "      <td>DOMINGO</td>\n",
       "      <td>14</td>\n",
       "      <td>1</td>\n",
       "      <td>346852</td>\n",
       "      <td>6299355</td>\n",
       "      <td>2013-09-29 07:10:26</td>\n",
       "      <td>T-22-205-SN-65</td>\n",
       "      <td>T-20-190-SN-35</td>\n",
       "      <td>328</td>\n",
       "      <td>309</td>\n",
       "      <td>0</td>\n",
       "    </tr>\n",
       "    <tr>\n",
       "      <th>4</th>\n",
       "      <td>2013-09-28 07:32:43</td>\n",
       "      <td>1132106</td>\n",
       "      <td>346729</td>\n",
       "      <td>6299435</td>\n",
       "      <td>BUS</td>\n",
       "      <td>T206 00I</td>\n",
       "      <td>SABADO</td>\n",
       "      <td>13</td>\n",
       "      <td>2</td>\n",
       "      <td>348099</td>\n",
       "      <td>6289122</td>\n",
       "      <td>2013-09-28 07:54:57</td>\n",
       "      <td>E-20-199-NS-2</td>\n",
       "      <td>T-24-205-NS-20</td>\n",
       "      <td>307</td>\n",
       "      <td>348</td>\n",
       "      <td>0</td>\n",
       "    </tr>\n",
       "  </tbody>\n",
       "</table>\n",
       "</div>"
      ],
      "text/plain": [
       "         tiempo_subida       id  x_subida  y_subida tipo_transporte  \\\n",
       "0  2013-09-29 19:58:57  1132106    346742   6299422             BUS   \n",
       "1  2013-09-29 19:38:31  1132106    351400   6302597             BUS   \n",
       "2  2013-09-29 07:49:32  1132106    346768   6299380             BUS   \n",
       "3  2013-09-29 06:48:11  1132106    348107   6289130             BUS   \n",
       "4  2013-09-28 07:32:43  1132106    346729   6299435             BUS   \n",
       "\n",
       "  serviciosentidovariante tipo_dia  nviaje  netapa  x_bajada  y_bajada  \\\n",
       "0                T206 00I  DOMINGO      16       2    348092   6289202   \n",
       "1                T502 00R  DOMINGO      16       1    346731   6299466   \n",
       "2                T502 00I  DOMINGO      15       1    351370   6302561   \n",
       "3                T206 00R  DOMINGO      14       1    346852   6299355   \n",
       "4                T206 00I   SABADO      13       2    348099   6289122   \n",
       "\n",
       "         tiempo_bajada       par_subida      par_bajada  zona_subida  \\\n",
       "0  2013-09-29 20:30:10    E-20-199-NS-2  T-24-205-NS-20          307   \n",
       "1  2013-09-29 19:54:38  T-15-135-OP-110   T-4-19-NS-100          188   \n",
       "2  2013-09-29 08:04:30   E-20-291-PO-20   T-15-135-PO-5          307   \n",
       "3  2013-09-29 07:10:26   T-22-205-SN-65  T-20-190-SN-35          328   \n",
       "4  2013-09-28 07:54:57    E-20-199-NS-2  T-24-205-NS-20          307   \n",
       "\n",
       "   zona_bajada  adulto  \n",
       "0          348       0  \n",
       "1           55       0  \n",
       "2          188       0  \n",
       "3          309       0  \n",
       "4          348       0  "
      ]
     },
     "execution_count": 23,
     "metadata": {},
     "output_type": "execute_result"
    }
   ],
   "source": [
    "df_id_period = pd.read_csv('/home/cata/Documentos/Datois/etapas_2013_septiembre_allyearsids_10_100000.csv')\n",
    "df_id_period.head()"
   ]
  },
  {
   "cell_type": "code",
   "execution_count": 24,
   "metadata": {
    "collapsed": true
   },
   "outputs": [],
   "source": [
    "df_id_period['tiempo_subida'] = pd.to_datetime(df_id_period.tiempo_subida)\n",
    "df_id_period = df_id_period.sort_values(by=['id', 'tiempo_subida'])"
   ]
  },
  {
   "cell_type": "code",
   "execution_count": 25,
   "metadata": {
    "collapsed": true
   },
   "outputs": [],
   "source": [
    "frame['diferencia_tiempo'] = (frame['tiempo_subida']-frame['tiempo_subida'].shift()).fillna(0)"
   ]
  },
  {
   "cell_type": "markdown",
   "metadata": {},
   "source": [
    "Reflexion: Debiese utilizar por ahora solo las columnas que me sirven, sino el todos contra todos será muy dificil"
   ]
  },
  {
   "cell_type": "markdown",
   "metadata": {},
   "source": [
    "- Elimino las columnas que no usaré (cuidado, correr solo una vez :)"
   ]
  },
  {
   "cell_type": "code",
   "execution_count": 26,
   "metadata": {
    "collapsed": false
   },
   "outputs": [
    {
     "data": {
      "text/html": [
       "<div>\n",
       "<table border=\"1\" class=\"dataframe\">\n",
       "  <thead>\n",
       "    <tr style=\"text-align: right;\">\n",
       "      <th></th>\n",
       "      <th>tiempo_subida</th>\n",
       "      <th>id</th>\n",
       "      <th>tipo_dia</th>\n",
       "      <th>nviaje</th>\n",
       "      <th>netapa</th>\n",
       "      <th>par_subida</th>\n",
       "      <th>par_bajada</th>\n",
       "    </tr>\n",
       "  </thead>\n",
       "  <tbody>\n",
       "    <tr>\n",
       "      <th>26</th>\n",
       "      <td>2013-09-23 20:58:46</td>\n",
       "      <td>1132106</td>\n",
       "      <td>LABORAL</td>\n",
       "      <td>1</td>\n",
       "      <td>1</td>\n",
       "      <td>T-22-205-SN-65</td>\n",
       "      <td>E-20-190-SN-40</td>\n",
       "    </tr>\n",
       "    <tr>\n",
       "      <th>25</th>\n",
       "      <td>2013-09-23 21:24:25</td>\n",
       "      <td>1132106</td>\n",
       "      <td>LABORAL</td>\n",
       "      <td>1</td>\n",
       "      <td>2</td>\n",
       "      <td>E-20-291-PO-20</td>\n",
       "      <td>T-15-135-PO-5</td>\n",
       "    </tr>\n",
       "    <tr>\n",
       "      <th>24</th>\n",
       "      <td>2013-09-24 07:15:40</td>\n",
       "      <td>1132106</td>\n",
       "      <td>LABORAL</td>\n",
       "      <td>2</td>\n",
       "      <td>1</td>\n",
       "      <td>T-15-135-OP-110</td>\n",
       "      <td>T-4-19-NS-100</td>\n",
       "    </tr>\n",
       "    <tr>\n",
       "      <th>23</th>\n",
       "      <td>2013-09-24 08:00:08</td>\n",
       "      <td>1132106</td>\n",
       "      <td>LABORAL</td>\n",
       "      <td>3</td>\n",
       "      <td>1</td>\n",
       "      <td>E-20-199-NS-2</td>\n",
       "      <td>T-24-205-NS-20</td>\n",
       "    </tr>\n",
       "    <tr>\n",
       "      <th>22</th>\n",
       "      <td>2013-09-24 09:13:22</td>\n",
       "      <td>1132106</td>\n",
       "      <td>LABORAL</td>\n",
       "      <td>3</td>\n",
       "      <td>2</td>\n",
       "      <td>L-24-26-OP-25</td>\n",
       "      <td>NaN</td>\n",
       "    </tr>\n",
       "  </tbody>\n",
       "</table>\n",
       "</div>"
      ],
      "text/plain": [
       "         tiempo_subida       id tipo_dia  nviaje  netapa       par_subida  \\\n",
       "26 2013-09-23 20:58:46  1132106  LABORAL       1       1   T-22-205-SN-65   \n",
       "25 2013-09-23 21:24:25  1132106  LABORAL       1       2   E-20-291-PO-20   \n",
       "24 2013-09-24 07:15:40  1132106  LABORAL       2       1  T-15-135-OP-110   \n",
       "23 2013-09-24 08:00:08  1132106  LABORAL       3       1    E-20-199-NS-2   \n",
       "22 2013-09-24 09:13:22  1132106  LABORAL       3       2    L-24-26-OP-25   \n",
       "\n",
       "        par_bajada  \n",
       "26  E-20-190-SN-40  \n",
       "25   T-15-135-PO-5  \n",
       "24   T-4-19-NS-100  \n",
       "23  T-24-205-NS-20  \n",
       "22             NaN  "
      ]
     },
     "execution_count": 26,
     "metadata": {},
     "output_type": "execute_result"
    }
   ],
   "source": [
    "df_id_period.drop(df_id_period.columns[[2,3,4,5,9,10,11,14,15,16]], axis=1, inplace=True)\n",
    "df_id_period.head()"
   ]
  },
  {
   "cell_type": "markdown",
   "metadata": {},
   "source": [
    "- Estandarizo los paraderos de subida y bajada"
   ]
  },
  {
   "cell_type": "code",
   "execution_count": 27,
   "metadata": {
    "collapsed": false
   },
   "outputs": [
    {
     "data": {
      "text/html": [
       "<div>\n",
       "<table border=\"1\" class=\"dataframe\">\n",
       "  <thead>\n",
       "    <tr style=\"text-align: right;\">\n",
       "      <th></th>\n",
       "      <th>tiempo_subida</th>\n",
       "      <th>id</th>\n",
       "      <th>tipo_dia</th>\n",
       "      <th>nviaje</th>\n",
       "      <th>netapa</th>\n",
       "      <th>par_subida</th>\n",
       "      <th>par_bajada</th>\n",
       "    </tr>\n",
       "  </thead>\n",
       "  <tbody>\n",
       "    <tr>\n",
       "      <th>26</th>\n",
       "      <td>2013-09-23 20:58:46</td>\n",
       "      <td>1132106</td>\n",
       "      <td>LABORAL</td>\n",
       "      <td>1</td>\n",
       "      <td>1</td>\n",
       "      <td>T-22-205-SN-65</td>\n",
       "      <td>E-20-190-SN-40</td>\n",
       "    </tr>\n",
       "    <tr>\n",
       "      <th>25</th>\n",
       "      <td>2013-09-23 21:24:25</td>\n",
       "      <td>1132106</td>\n",
       "      <td>LABORAL</td>\n",
       "      <td>1</td>\n",
       "      <td>2</td>\n",
       "      <td>E-20-291-PO-20</td>\n",
       "      <td>T-15-135-PO-5</td>\n",
       "    </tr>\n",
       "    <tr>\n",
       "      <th>24</th>\n",
       "      <td>2013-09-24 07:15:40</td>\n",
       "      <td>1132106</td>\n",
       "      <td>LABORAL</td>\n",
       "      <td>2</td>\n",
       "      <td>1</td>\n",
       "      <td>T-15-135-OP-110</td>\n",
       "      <td>T-4-19-NS-100</td>\n",
       "    </tr>\n",
       "    <tr>\n",
       "      <th>23</th>\n",
       "      <td>2013-09-24 08:00:08</td>\n",
       "      <td>1132106</td>\n",
       "      <td>LABORAL</td>\n",
       "      <td>3</td>\n",
       "      <td>1</td>\n",
       "      <td>E-20-199-NS-2</td>\n",
       "      <td>T-24-205-NS-20</td>\n",
       "    </tr>\n",
       "    <tr>\n",
       "      <th>22</th>\n",
       "      <td>2013-09-24 09:13:22</td>\n",
       "      <td>1132106</td>\n",
       "      <td>LABORAL</td>\n",
       "      <td>3</td>\n",
       "      <td>2</td>\n",
       "      <td>L-24-26-OP-25</td>\n",
       "      <td>NaN</td>\n",
       "    </tr>\n",
       "  </tbody>\n",
       "</table>\n",
       "</div>"
      ],
      "text/plain": [
       "         tiempo_subida       id tipo_dia  nviaje  netapa       par_subida  \\\n",
       "26 2013-09-23 20:58:46  1132106  LABORAL       1       1   T-22-205-SN-65   \n",
       "25 2013-09-23 21:24:25  1132106  LABORAL       1       2   E-20-291-PO-20   \n",
       "24 2013-09-24 07:15:40  1132106  LABORAL       2       1  T-15-135-OP-110   \n",
       "23 2013-09-24 08:00:08  1132106  LABORAL       3       1    E-20-199-NS-2   \n",
       "22 2013-09-24 09:13:22  1132106  LABORAL       3       2    L-24-26-OP-25   \n",
       "\n",
       "        par_bajada  \n",
       "26  E-20-190-SN-40  \n",
       "25   T-15-135-PO-5  \n",
       "24   T-4-19-NS-100  \n",
       "23  T-24-205-NS-20  \n",
       "22             NaN  "
      ]
     },
     "execution_count": 27,
     "metadata": {},
     "output_type": "execute_result"
    }
   ],
   "source": [
    "df_id_period = df_id_period.apply(update_vals, axis=1)\n",
    "df_id_period.head()"
   ]
  },
  {
   "cell_type": "markdown",
   "metadata": {},
   "source": [
    "## X. Guardar dataframe septiembre"
   ]
  },
  {
   "cell_type": "code",
   "execution_count": 28,
   "metadata": {
    "collapsed": true
   },
   "outputs": [],
   "source": [
    "with open('df_septiembre.pickle', 'w') as f:\n",
    "    pickle.dump(df_id_period, f)"
   ]
  },
  {
   "cell_type": "markdown",
   "metadata": {},
   "source": [
    "## 5. Extraer secuencias y locaciones principales del periodo de identificación"
   ]
  },
  {
   "cell_type": "markdown",
   "metadata": {},
   "source": [
    "Debo extraer la secuencia de posiciones de las transacciones, y el arreglo de locaciones mas visitadas"
   ]
  },
  {
   "cell_type": "code",
   "execution_count": 29,
   "metadata": {
    "collapsed": true
   },
   "outputs": [],
   "source": [
    "tpm = [] # Transition Probability Matrix (TPM)\n",
    "mls = [] # minimum location set (mlt)\n",
    "nvisitas = [] # diccionario contador de visitas a cada locación\n",
    "profile = {} # diccionario con tpm y mls para cada usuario\n",
    "profiles = [] # arreglo de diccionarios\n",
    "last_id = 0\n",
    "last_stop = \"\"\n",
    "last_stop_index = 0\n",
    "counter = 0\n",
    "n_locations = []"
   ]
  },
  {
   "cell_type": "code",
   "execution_count": 30,
   "metadata": {
    "collapsed": false
   },
   "outputs": [],
   "source": [
    "for transaction in zip(df_id_period['id'], df_id_period['par_subida'], df_id_period['par_bajada']):\n",
    "    counter +=1\n",
    "    id_user = transaction[0]\n",
    "    par_subida = transaction[1]\n",
    "    par_bajada = transaction[2]\n",
    "    if (par_subida!=par_subida):\n",
    "        continue        \n",
    "    if (id_user!=last_id):\n",
    "        # si ya paso una vuelta, agregar TPM y minimum location set a users_profiles\n",
    "        if(counter>1):\n",
    "            n_locations.append(len(mls))\n",
    "            profile = {'user_id':last_id,'sequence':sequence,'mls':mls,'nvisitas':nvisitas}\n",
    "            profiles.append(profile)\n",
    "        last_id = id_user\n",
    "        # construir mls no vacia para que no se caiga \n",
    "        mls = [par_subida]\n",
    "        sequence = [par_subida]\n",
    "        last_stop = par_subida\n",
    "        nvisitas = [0]\n",
    "        counter = 1\n",
    "    # buscar si la locación ya había sido visitada \n",
    "    try:\n",
    "        index_subida = mls.index(par_subida)\n",
    "    except ValueError:\n",
    "        index_subida = -1\n",
    "    # si la subida no había sido visitada se debe agregar al mls\n",
    "    if (index_subida < 0):\n",
    "        mls.append(par_subida)\n",
    "        nvisitas.append(1)\n",
    "        index_subida = len(mls) - 1\n",
    "        sequence.append(par_subida)\n",
    "        # si la bajada no se pudo calcular solo se considera la subida y se deja para calcular tpm en la proxima ronda \n",
    "        if (par_bajada!=par_bajada):\n",
    "            last_stop = par_subida\n",
    "            #print \"Iteración n°: \" + str(counter) + \" , no se pudo estimar la bajada\"\n",
    "        else:\n",
    "            last_stop = par_bajada\n",
    "            sequence.append(par_bajada)\n",
    "            try:\n",
    "                index_bajada = mls.index(par_bajada)\n",
    "            except ValueError:\n",
    "                index_bajada = -1\n",
    "            # si la bajada no se había visitado antes, agregar bajada y sumar nvisitas \n",
    "            if (index_bajada < 0):\n",
    "                mls.append(par_bajada)\n",
    "                index_bajada = len(mls)-1\n",
    "                nvisitas.append(1)\n",
    "            # sumar nvisita \n",
    "            else:\n",
    "                nvisitas[index_bajada] = nvisitas[index_bajada]+1\n",
    "    else:\n",
    "        nvisitas[index_subida] = nvisitas[index_subida]+1\n",
    "        if(par_subida!=last_stop):\n",
    "            sequence.append(par_subida)\n",
    "        # subida estaba de antes y no hay bajada\n",
    "        # REVISAR SI ESTO NO ES REDUNDANTE!\n",
    "        if (par_bajada!=par_bajada):\n",
    "            last_stop = par_subida\n",
    "        # hay subida y bajada\n",
    "        else:\n",
    "            sequence.append(par_bajada)\n",
    "            last_stop = par_bajada\n",
    "            try:\n",
    "                index_bajada = mls.index(par_bajada)\n",
    "            except ValueError:\n",
    "                index_bajada = -1\n",
    "            # hay bajada pero no estaba antes\n",
    "            if (index_bajada<0):\n",
    "                mls.append(par_bajada)\n",
    "                index_bajada = len(mls) - 1\n",
    "                nvisitas.append(1)\n",
    "            # subida y bajada estaban de antes\n",
    "            else:\n",
    "                nvisitas[index_bajada] = nvisitas[index_bajada]+1\n"
   ]
  },
  {
   "cell_type": "markdown",
   "metadata": {},
   "source": [
    "- Por ej. la secuencia 2 es un diccionario con las locaciones minimas, las visitas a esas locaciones, la secuencia y el id del usuario"
   ]
  },
  {
   "cell_type": "code",
   "execution_count": 31,
   "metadata": {
    "collapsed": false,
    "scrolled": true
   },
   "outputs": [
    {
     "data": {
      "text/plain": [
       "{'mls': ['T-22-205-SN-65',\n",
       "  'E-20-190-SN-40',\n",
       "  'E-20-291-PO-20',\n",
       "  'T-15-135-PO-5',\n",
       "  'T-15-135-OP-110',\n",
       "  'T-4-19-NS-100',\n",
       "  'E-20-199-NS-2',\n",
       "  'T-24-205-NS-20',\n",
       "  'L-24-26-OP-25',\n",
       "  'T-22-205-SN-55',\n",
       "  'E-20-289-PO-5',\n",
       "  'T-14-121-OP-10',\n",
       "  'T-14-131-PO-40',\n",
       "  'T-20-190-SN-35'],\n",
       " 'nvisitas': [5, 5, 5, 7, 7, 6, 6, 6, 1, 1, 1, 1, 1, 1],\n",
       " 'sequence': ['T-22-205-SN-65',\n",
       "  'E-20-190-SN-40',\n",
       "  'E-20-291-PO-20',\n",
       "  'T-15-135-PO-5',\n",
       "  'T-15-135-OP-110',\n",
       "  'T-4-19-NS-100',\n",
       "  'E-20-199-NS-2',\n",
       "  'T-24-205-NS-20',\n",
       "  'L-24-26-OP-25',\n",
       "  'T-22-205-SN-55',\n",
       "  'E-20-190-SN-40',\n",
       "  'E-20-289-PO-5',\n",
       "  'T-15-135-PO-5',\n",
       "  'T-15-135-OP-110',\n",
       "  'T-4-19-NS-100',\n",
       "  'E-20-199-NS-2',\n",
       "  'T-24-205-NS-20',\n",
       "  'T-22-205-SN-65',\n",
       "  'E-20-190-SN-40',\n",
       "  'E-20-291-PO-20',\n",
       "  'T-15-135-PO-5',\n",
       "  'T-15-135-OP-110',\n",
       "  'T-4-19-NS-100',\n",
       "  'E-20-199-NS-2',\n",
       "  'T-24-205-NS-20',\n",
       "  'T-22-205-SN-65',\n",
       "  'E-20-190-SN-40',\n",
       "  'E-20-291-PO-20',\n",
       "  'T-15-135-PO-5',\n",
       "  'T-15-135-OP-110',\n",
       "  'T-14-121-OP-10',\n",
       "  'T-14-131-PO-40',\n",
       "  'T-15-135-PO-5',\n",
       "  'T-15-135-OP-110',\n",
       "  'T-4-19-NS-100',\n",
       "  'E-20-199-NS-2',\n",
       "  'T-24-205-NS-20',\n",
       "  'T-22-205-SN-65',\n",
       "  'E-20-190-SN-40',\n",
       "  'E-20-291-PO-20',\n",
       "  'T-15-135-PO-5',\n",
       "  'T-15-135-OP-110',\n",
       "  'T-4-19-NS-100',\n",
       "  'E-20-199-NS-2',\n",
       "  'T-24-205-NS-20',\n",
       "  'T-22-205-SN-65',\n",
       "  'T-20-190-SN-35',\n",
       "  'E-20-291-PO-20',\n",
       "  'T-15-135-PO-5',\n",
       "  'T-15-135-OP-110',\n",
       "  'T-4-19-NS-100',\n",
       "  'E-20-199-NS-2',\n",
       "  'T-24-205-NS-20'],\n",
       " 'user_id': 1132106}"
      ]
     },
     "execution_count": 31,
     "metadata": {},
     "output_type": "execute_result"
    }
   ],
   "source": [
    "# Por ej. el perfil 0 es un diccionario con las locaciones minimas, \n",
    "# las visitas a esas locaciones, la secuencia y el id del usuario\n",
    "profiles[0]"
   ]
  },
  {
   "cell_type": "markdown",
   "metadata": {},
   "source": [
    "- Se puede observar que el largo de la secuencia es mayor al de las locaciones minimas"
   ]
  },
  {
   "cell_type": "code",
   "execution_count": 32,
   "metadata": {
    "collapsed": false
   },
   "outputs": [
    {
     "data": {
      "text/plain": [
       "53"
      ]
     },
     "execution_count": 32,
     "metadata": {},
     "output_type": "execute_result"
    }
   ],
   "source": [
    "len(profiles[0]['sequence'])"
   ]
  },
  {
   "cell_type": "code",
   "execution_count": 33,
   "metadata": {
    "collapsed": false
   },
   "outputs": [
    {
     "data": {
      "text/plain": [
       "14"
      ]
     },
     "execution_count": 33,
     "metadata": {},
     "output_type": "execute_result"
    }
   ],
   "source": [
    "len(profiles[0]['mls'])"
   ]
  },
  {
   "cell_type": "markdown",
   "metadata": {},
   "source": [
    "- El número total de perfiles de secuencia extraidos es:"
   ]
  },
  {
   "cell_type": "code",
   "execution_count": 34,
   "metadata": {
    "collapsed": false
   },
   "outputs": [
    {
     "data": {
      "text/plain": [
       "5343"
      ]
     },
     "execution_count": 34,
     "metadata": {},
     "output_type": "execute_result"
    }
   ],
   "source": [
    "n_users = len(profiles)\n",
    "n_users"
   ]
  },
  {
   "cell_type": "markdown",
   "metadata": {},
   "source": [
    "## X. Guardar perfiles y secuencias"
   ]
  },
  {
   "cell_type": "code",
   "execution_count": 35,
   "metadata": {
    "collapsed": true
   },
   "outputs": [],
   "source": [
    "with open('users_profiles.pickle', 'w') as f:\n",
    "    pickle.dump(users_profiles, f)"
   ]
  },
  {
   "cell_type": "code",
   "execution_count": 36,
   "metadata": {
    "collapsed": true
   },
   "outputs": [],
   "source": [
    "with open('profiles.pickle', 'w') as f:\n",
    "    pickle.dump(profiles, f)"
   ]
  },
  {
   "cell_type": "markdown",
   "metadata": {},
   "source": [
    "## 6. Todos contra todos"
   ]
  },
  {
   "cell_type": "markdown",
   "metadata": {},
   "source": [
    "- Primero encuentro el minimo entre el numero de tpms y las secuencias, para que la matriz sea cuadrada"
   ]
  },
  {
   "cell_type": "code",
   "execution_count": 37,
   "metadata": {
    "collapsed": false
   },
   "outputs": [
    {
     "data": {
      "text/plain": [
       "5168"
      ]
     },
     "execution_count": 37,
     "metadata": {},
     "output_type": "execute_result"
    }
   ],
   "source": [
    "limit = np.min((n_users,numero_usuarios))\n",
    "limit"
   ]
  },
  {
   "cell_type": "markdown",
   "metadata": {},
   "source": [
    "- Luego comparo todas las tpms contra todas las secuencias"
   ]
  },
  {
   "cell_type": "code",
   "execution_count": 38,
   "metadata": {
    "collapsed": false
   },
   "outputs": [],
   "source": [
    "tpm = []\n",
    "index_correct = []\n",
    "\n",
    "idenk = 0\n",
    "iden = np.zeros((limit,limit))\n",
    "i = 0\n",
    "j = 0\n",
    "p_zero = pow(10,-8)\n",
    "p_nan = pow(10,-8)"
   ]
  },
  {
   "cell_type": "code",
   "execution_count": 39,
   "metadata": {
    "collapsed": false
   },
   "outputs": [],
   "source": [
    "# asume que son los mismos ids o que se saben de antemano\n",
    "start_time = time.time()\n",
    "for profile in users_profiles:\n",
    "    tpm = profile['tpm']\n",
    "    id_user = profile['user_id']\n",
    "    mls = profile['mls']\n",
    "    for sequence in profiles:\n",
    "        travel_counter = 0\n",
    "        largo_secuencia = len(sequence['sequence'])\n",
    "        #calcular idenk\n",
    "        for travel in sequence['sequence']:\n",
    "            # buscar pik en tpm\n",
    "            try:\n",
    "                index_bajada = mls.index(travel)\n",
    "            except ValueError:\n",
    "                index_bajada = -1\n",
    "            if(travel_counter > 0):\n",
    "                if(index_bajada < 0 or index_subida < 0):\n",
    "                    pik = p_nan\n",
    "                else:\n",
    "                    pik = tpm[index_subida, index_bajada]\n",
    "                if(pik != pik):\n",
    "                    pik = p_nan\n",
    "                elif(pik == 0):\n",
    "                    pik = p_zero\n",
    "                # sumar log10\n",
    "                idenk += np.log10(pik)\n",
    "            index_subida = index_bajada\n",
    "            travel_counter +=1\n",
    "\n",
    "        iden[i,j] = idenk\n",
    "        j+=1\n",
    "        if(id_user == sequence['user_id']):\n",
    "            index_correct.append(idenk)\n",
    "        idenk = 0\n",
    "        if(j >= limit):\n",
    "            break\n",
    "    i += 1\n",
    "    j = 0\n",
    "    if(i >= limit):\n",
    "        break\n",
    "delta_time = time.time() - start_time"
   ]
  },
  {
   "cell_type": "markdown",
   "metadata": {},
   "source": [
    "- Guardar resultados"
   ]
  },
  {
   "cell_type": "code",
   "execution_count": 40,
   "metadata": {
    "collapsed": true
   },
   "outputs": [],
   "source": [
    "with open('objs_10.pickle', 'w') as f:\n",
    "    pickle.dump([iden, index_correct, delta_time], f)"
   ]
  },
  {
   "cell_type": "markdown",
   "metadata": {
    "collapsed": false
   },
   "source": [
    "with open('objs_9.pickle') as f:\n",
    "    iden, index_correct, delta_time = pickle.load(f)"
   ]
  },
  {
   "cell_type": "code",
   "execution_count": 93,
   "metadata": {
    "collapsed": false
   },
   "outputs": [
    {
     "data": {
      "text/plain": [
       "1.1518165155914095"
      ]
     },
     "execution_count": 93,
     "metadata": {},
     "output_type": "execute_result"
    }
   ],
   "source": [
    "delta_time/3600\n"
   ]
  },
  {
   "cell_type": "markdown",
   "metadata": {},
   "source": [
    "## 7. Análisis de resultados"
   ]
  },
  {
   "cell_type": "markdown",
   "metadata": {},
   "source": [
    "- Los indices correctos están en la diagonal, y a pesar de que las secuencias son de distinto largo se logra identificar la correcta"
   ]
  },
  {
   "cell_type": "code",
   "execution_count": 87,
   "metadata": {
    "collapsed": false,
    "scrolled": true
   },
   "outputs": [
    {
     "data": {
      "text/html": [
       "<div>\n",
       "<table border=\"1\" class=\"dataframe\">\n",
       "  <thead>\n",
       "    <tr style=\"text-align: right;\">\n",
       "      <th></th>\n",
       "      <th>0</th>\n",
       "      <th>1</th>\n",
       "      <th>2</th>\n",
       "      <th>3</th>\n",
       "      <th>4</th>\n",
       "      <th>5</th>\n",
       "      <th>6</th>\n",
       "      <th>7</th>\n",
       "      <th>8</th>\n",
       "      <th>9</th>\n",
       "      <th>...</th>\n",
       "      <th>5158</th>\n",
       "      <th>5159</th>\n",
       "      <th>5160</th>\n",
       "      <th>5161</th>\n",
       "      <th>5162</th>\n",
       "      <th>5163</th>\n",
       "      <th>5164</th>\n",
       "      <th>5165</th>\n",
       "      <th>5166</th>\n",
       "      <th>5167</th>\n",
       "    </tr>\n",
       "  </thead>\n",
       "  <tbody>\n",
       "    <tr>\n",
       "      <th>0</th>\n",
       "      <td>-62.703875</td>\n",
       "      <td>-264.000000</td>\n",
       "      <td>-248.000000</td>\n",
       "      <td>-184.00000</td>\n",
       "      <td>-144.00000</td>\n",
       "      <td>-216</td>\n",
       "      <td>-136</td>\n",
       "      <td>-256</td>\n",
       "      <td>-224</td>\n",
       "      <td>-400</td>\n",
       "      <td>...</td>\n",
       "      <td>-192</td>\n",
       "      <td>-352</td>\n",
       "      <td>-216</td>\n",
       "      <td>-376</td>\n",
       "      <td>-392</td>\n",
       "      <td>-352</td>\n",
       "      <td>-432</td>\n",
       "      <td>-392</td>\n",
       "      <td>-168</td>\n",
       "      <td>-80</td>\n",
       "    </tr>\n",
       "    <tr>\n",
       "      <th>1</th>\n",
       "      <td>-416.000000</td>\n",
       "      <td>-155.556303</td>\n",
       "      <td>-248.000000</td>\n",
       "      <td>-184.00000</td>\n",
       "      <td>-144.00000</td>\n",
       "      <td>-216</td>\n",
       "      <td>-136</td>\n",
       "      <td>-256</td>\n",
       "      <td>-224</td>\n",
       "      <td>-400</td>\n",
       "      <td>...</td>\n",
       "      <td>-192</td>\n",
       "      <td>-352</td>\n",
       "      <td>-216</td>\n",
       "      <td>-376</td>\n",
       "      <td>-392</td>\n",
       "      <td>-352</td>\n",
       "      <td>-432</td>\n",
       "      <td>-392</td>\n",
       "      <td>-168</td>\n",
       "      <td>-80</td>\n",
       "    </tr>\n",
       "    <tr>\n",
       "      <th>2</th>\n",
       "      <td>-416.000000</td>\n",
       "      <td>-264.000000</td>\n",
       "      <td>-153.982271</td>\n",
       "      <td>-184.00000</td>\n",
       "      <td>-144.00000</td>\n",
       "      <td>-216</td>\n",
       "      <td>-136</td>\n",
       "      <td>-256</td>\n",
       "      <td>-224</td>\n",
       "      <td>-400</td>\n",
       "      <td>...</td>\n",
       "      <td>-192</td>\n",
       "      <td>-352</td>\n",
       "      <td>-216</td>\n",
       "      <td>-376</td>\n",
       "      <td>-392</td>\n",
       "      <td>-352</td>\n",
       "      <td>-432</td>\n",
       "      <td>-392</td>\n",
       "      <td>-168</td>\n",
       "      <td>-80</td>\n",
       "    </tr>\n",
       "    <tr>\n",
       "      <th>3</th>\n",
       "      <td>-416.000000</td>\n",
       "      <td>-264.000000</td>\n",
       "      <td>-248.000000</td>\n",
       "      <td>-73.20412</td>\n",
       "      <td>-144.00000</td>\n",
       "      <td>-216</td>\n",
       "      <td>-136</td>\n",
       "      <td>-256</td>\n",
       "      <td>-224</td>\n",
       "      <td>-400</td>\n",
       "      <td>...</td>\n",
       "      <td>-192</td>\n",
       "      <td>-352</td>\n",
       "      <td>-216</td>\n",
       "      <td>-376</td>\n",
       "      <td>-392</td>\n",
       "      <td>-352</td>\n",
       "      <td>-432</td>\n",
       "      <td>-392</td>\n",
       "      <td>-168</td>\n",
       "      <td>-80</td>\n",
       "    </tr>\n",
       "    <tr>\n",
       "      <th>4</th>\n",
       "      <td>-416.000000</td>\n",
       "      <td>-264.000000</td>\n",
       "      <td>-248.000000</td>\n",
       "      <td>-184.00000</td>\n",
       "      <td>-72.40824</td>\n",
       "      <td>-216</td>\n",
       "      <td>-136</td>\n",
       "      <td>-256</td>\n",
       "      <td>-224</td>\n",
       "      <td>-400</td>\n",
       "      <td>...</td>\n",
       "      <td>-192</td>\n",
       "      <td>-352</td>\n",
       "      <td>-216</td>\n",
       "      <td>-376</td>\n",
       "      <td>-392</td>\n",
       "      <td>-352</td>\n",
       "      <td>-432</td>\n",
       "      <td>-392</td>\n",
       "      <td>-168</td>\n",
       "      <td>-80</td>\n",
       "    </tr>\n",
       "  </tbody>\n",
       "</table>\n",
       "<p>5 rows × 5168 columns</p>\n",
       "</div>"
      ],
      "text/plain": [
       "         0           1           2          3          4     5     6     7     \\\n",
       "0  -62.703875 -264.000000 -248.000000 -184.00000 -144.00000  -216  -136  -256   \n",
       "1 -416.000000 -155.556303 -248.000000 -184.00000 -144.00000  -216  -136  -256   \n",
       "2 -416.000000 -264.000000 -153.982271 -184.00000 -144.00000  -216  -136  -256   \n",
       "3 -416.000000 -264.000000 -248.000000  -73.20412 -144.00000  -216  -136  -256   \n",
       "4 -416.000000 -264.000000 -248.000000 -184.00000  -72.40824  -216  -136  -256   \n",
       "\n",
       "   8     9     ...   5158  5159  5160  5161  5162  5163  5164  5165  5166  \\\n",
       "0  -224  -400  ...   -192  -352  -216  -376  -392  -352  -432  -392  -168   \n",
       "1  -224  -400  ...   -192  -352  -216  -376  -392  -352  -432  -392  -168   \n",
       "2  -224  -400  ...   -192  -352  -216  -376  -392  -352  -432  -392  -168   \n",
       "3  -224  -400  ...   -192  -352  -216  -376  -392  -352  -432  -392  -168   \n",
       "4  -224  -400  ...   -192  -352  -216  -376  -392  -352  -432  -392  -168   \n",
       "\n",
       "   5167  \n",
       "0   -80  \n",
       "1   -80  \n",
       "2   -80  \n",
       "3   -80  \n",
       "4   -80  \n",
       "\n",
       "[5 rows x 5168 columns]"
      ]
     },
     "execution_count": 87,
     "metadata": {},
     "output_type": "execute_result"
    }
   ],
   "source": [
    "iden_matrix = np.matrix(iden)\n",
    "df_ident = pd.DataFrame(iden_matrix)\n",
    "df_ident.head()"
   ]
  },
  {
   "cell_type": "code",
   "execution_count": 88,
   "metadata": {
    "collapsed": false
   },
   "outputs": [
    {
     "name": "stdout",
     "output_type": "stream",
     "text": [
      "<class 'pandas.core.frame.DataFrame'>\n",
      "Int64Index: 5168 entries, 0 to 5167\n",
      "Columns: 5168 entries, 0 to 5167\n",
      "dtypes: float64(5168)\n",
      "memory usage: 203.8 MB\n"
     ]
    }
   ],
   "source": [
    "df_ident.info()"
   ]
  },
  {
   "cell_type": "markdown",
   "metadata": {
    "collapsed": true
   },
   "source": [
    "- Porcentaje de identificaciones correctas"
   ]
  },
  {
   "cell_type": "code",
   "execution_count": 89,
   "metadata": {
    "collapsed": false
   },
   "outputs": [],
   "source": [
    "i = 0\n",
    "identified_indexs = []\n",
    "wrong_indexs = []\n",
    "correct_indexs = []\n",
    "selected_indexs = []\n",
    "n_identified = 0\n",
    "limit = 5168\n",
    "while (i<limit):\n",
    "    the_index = np.argmax(iden_matrix[:,i])\n",
    "    selected_indexs.append(np.max(iden_matrix[:,i]))\n",
    "    identified_indexs.append(the_index)\n",
    "    if(the_index!=i):\n",
    "        wrong_indexs.append(the_index)\n",
    "    else:\n",
    "        correct_indexs.append(the_index)\n",
    "        n_identified += 1\n",
    "    i += 1\n"
   ]
  },
  {
   "cell_type": "code",
   "execution_count": 90,
   "metadata": {
    "collapsed": false
   },
   "outputs": [
    {
     "name": "stdout",
     "output_type": "stream",
     "text": [
      "67.4%\n"
     ]
    }
   ],
   "source": [
    "porcentaje_correcto = n_identified*100/limit\n",
    "print str(round(porcentaje_correcto,2))+ \"%\""
   ]
  },
  {
   "cell_type": "code",
   "execution_count": 91,
   "metadata": {
    "collapsed": false
   },
   "outputs": [
    {
     "data": {
      "text/plain": [
       "3483"
      ]
     },
     "execution_count": 91,
     "metadata": {},
     "output_type": "execute_result"
    }
   ],
   "source": [
    "len(correct_indexs)"
   ]
  },
  {
   "cell_type": "markdown",
   "metadata": {},
   "source": [
    "Histograma de los indices seleccionados como correctos, y los indices de los correctamente seleccionados"
   ]
  },
  {
   "cell_type": "code",
   "execution_count": 46,
   "metadata": {
    "collapsed": false
   },
   "outputs": [
    {
     "data": {
      "text/plain": [
       "(array([   1.,    0.,    0.,    0.,    1.,    1.,    2.,    0.,    0.,\n",
       "           0.,    1.,    0.,    1.,    1.,    0.,    0.,    7.,    5.,\n",
       "           5.,    7.,   10.,   13.,   28.,   37.,   51.,   75.,   81.,\n",
       "         123.,  134.,  211.,  250.,  367.,  389.,  528.,  590.,  633.,\n",
       "         543.,  467.,  308.,  298.]),\n",
       " array([-881.20411998, -859.17401698, -837.14391398, -815.11381098,\n",
       "        -793.08370798, -771.05360498, -749.02350199, -726.99339899,\n",
       "        -704.96329599, -682.93319299, -660.90308999, -638.87298699,\n",
       "        -616.84288399, -594.81278099, -572.78267799, -550.75257499,\n",
       "        -528.72247199, -506.69236899, -484.66226599, -462.63216299,\n",
       "        -440.60205999, -418.57195699, -396.54185399, -374.51175099,\n",
       "        -352.48164799, -330.45154499, -308.42144199, -286.39133899,\n",
       "        -264.36123599, -242.331133  , -220.30103   , -198.270927  ,\n",
       "        -176.240824  , -154.210721  , -132.180618  , -110.150515  ,\n",
       "         -88.120412  ,  -66.090309  ,  -44.060206  ,  -22.030103  ,    0.        ]),\n",
       " <a list of 40 Patch objects>)"
      ]
     },
     "execution_count": 46,
     "metadata": {},
     "output_type": "execute_result"
    },
    {
     "data": {
      "image/png": "[encoded data removed]",
      "text/plain": [
       "<matplotlib.figure.Figure at 0x7f23e75e5ed0>"
      ]
     },
     "metadata": {},
     "output_type": "display_data"
    }
   ],
   "source": [
    "plt.hist(selected_indexs,40)"
   ]
  },
  {
   "cell_type": "code",
   "execution_count": 47,
   "metadata": {
    "collapsed": false
   },
   "outputs": [
    {
     "data": {
      "image/png": "[encoded data removed]",
      "text/plain": [
       "<matplotlib.figure.Figure at 0x7f23e75e5d50>"
      ]
     },
     "metadata": {},
     "output_type": "display_data"
    }
   ],
   "source": [
    "fig, axs = plt.subplots(1,2)\n",
    "plt.subplot(121)\n",
    "plt.hist(selected_indexs,40)\n",
    "plt.subplot(122)\n",
    "plt.hist(index_correct,40)\n",
    "plt.show()"
   ]
  },
  {
   "cell_type": "markdown",
   "metadata": {},
   "source": [
    "- Se observa redundancia en los incorrectamente identificados, probablemente causado por usuarios que viajan mucho"
   ]
  },
  {
   "cell_type": "code",
   "execution_count": 48,
   "metadata": {
    "collapsed": false
   },
   "outputs": [],
   "source": [
    "x = np.array(identified_indexs)\n",
    "y = np.bincount(x)\n",
    "ii = np.nonzero(y)[0]"
   ]
  },
  {
   "cell_type": "code",
   "execution_count": 49,
   "metadata": {
    "collapsed": false
   },
   "outputs": [],
   "source": [
    "frequency_correct = zip(ii,y[ii]) "
   ]
  },
  {
   "cell_type": "code",
   "execution_count": 50,
   "metadata": {
    "collapsed": true
   },
   "outputs": [],
   "source": [
    "counter = 0\n",
    "ncounter = 0\n",
    "freq_max_1 = 0\n",
    "freq_max_2 = 0\n",
    "freq_max_3 = 0\n",
    "for element in frequency_correct:\n",
    "    if(element[1]>1):\n",
    "        counter +=1\n",
    "        ncounter += element[1]\n",
    "    "
   ]
  },
  {
   "cell_type": "markdown",
   "metadata": {},
   "source": [
    "- Cuantos ids se asignan a más de un usuario"
   ]
  },
  {
   "cell_type": "code",
   "execution_count": 51,
   "metadata": {
    "collapsed": false
   },
   "outputs": [
    {
     "data": {
      "text/plain": [
       "1014"
      ]
     },
     "execution_count": 51,
     "metadata": {},
     "output_type": "execute_result"
    }
   ],
   "source": [
    "counter"
   ]
  },
  {
   "cell_type": "markdown",
   "metadata": {},
   "source": [
    "- A cuantos usuarios?"
   ]
  },
  {
   "cell_type": "code",
   "execution_count": 52,
   "metadata": {
    "collapsed": false
   },
   "outputs": [
    {
     "data": {
      "text/plain": [
       "2304"
      ]
     },
     "execution_count": 52,
     "metadata": {},
     "output_type": "execute_result"
    }
   ],
   "source": [
    "ncounter"
   ]
  },
  {
   "cell_type": "markdown",
   "metadata": {},
   "source": [
    "- Si quito estos ids, cual es el porcentaje de identificación?"
   ]
  },
  {
   "cell_type": "code",
   "execution_count": 53,
   "metadata": {
    "collapsed": false
   },
   "outputs": [],
   "source": [
    "x = limit-1-ncounter"
   ]
  },
  {
   "cell_type": "code",
   "execution_count": 54,
   "metadata": {
    "collapsed": false
   },
   "outputs": [
    {
     "data": {
      "text/plain": [
       "86.238211666084524"
      ]
     },
     "execution_count": 54,
     "metadata": {},
     "output_type": "execute_result"
    }
   ],
   "source": [
    "(n_identified-counter)/x*100"
   ]
  },
  {
   "cell_type": "markdown",
   "metadata": {},
   "source": [
    "- Falta analizar los casos en que el indice correcto es muy bajo"
   ]
  },
  {
   "cell_type": "code",
   "execution_count": 55,
   "metadata": {
    "collapsed": true
   },
   "outputs": [],
   "source": [
    "# TODO"
   ]
  },
  {
   "cell_type": "markdown",
   "metadata": {},
   "source": [
    "- Falta ver quienes son los que se mal identifican "
   ]
  },
  {
   "cell_type": "code",
   "execution_count": 56,
   "metadata": {
    "collapsed": true
   },
   "outputs": [],
   "source": [
    "# TODO"
   ]
  },
  {
   "cell_type": "markdown",
   "metadata": {},
   "source": [
    "- Falta ver quienes son los que se identifican con muchos y si son las mismas personas (compatibilidad)"
   ]
  },
  {
   "cell_type": "code",
   "execution_count": 57,
   "metadata": {
    "collapsed": true
   },
   "outputs": [],
   "source": [
    "# TODO"
   ]
  },
  {
   "cell_type": "markdown",
   "metadata": {},
   "source": [
    "- Debiese alargar la secuencia si es que es menor que las locaciones de la tpm?<br/>\n",
    "    pensar en casos de borde"
   ]
  },
  {
   "cell_type": "code",
   "execution_count": 58,
   "metadata": {
    "collapsed": true
   },
   "outputs": [],
   "source": [
    "# TODO"
   ]
  },
  {
   "cell_type": "markdown",
   "metadata": {
    "collapsed": true
   },
   "source": [
    "- Ordenar ids más usados"
   ]
  },
  {
   "cell_type": "code",
   "execution_count": 86,
   "metadata": {
    "collapsed": false
   },
   "outputs": [
    {
     "data": {
      "text/plain": [
       "[(1415, 7),\n",
       " (1954, 7),\n",
       " (2809, 7),\n",
       " (4362, 6),\n",
       " (4844, 6),\n",
       " (161, 5),\n",
       " (563, 5),\n",
       " (1054, 5),\n",
       " (1372, 5),\n",
       " (1742, 5),\n",
       " (3629, 5),\n",
       " (4080, 5),\n",
       " (4318, 5),\n",
       " (5030, 5),\n",
       " (0, 4),\n",
       " (482, 4),\n",
       " (579, 4),\n",
       " (651, 4),\n",
       " (673, 4),\n",
       " (836, 4),\n",
       " (947, 4),\n",
       " (1056, 4),\n",
       " (1161, 4),\n",
       " (1250, 4),\n",
       " (1363, 4),\n",
       " (1376, 4),\n",
       " (1444, 4),\n",
       " (1514, 4),\n",
       " (2167, 4),\n",
       " (2310, 4),\n",
       " (2598, 4),\n",
       " (2670, 4),\n",
       " (2849, 4),\n",
       " (3088, 4),\n",
       " (3237, 4),\n",
       " (3256, 4),\n",
       " (3641, 4),\n",
       " (3854, 4),\n",
       " (4106, 4),\n",
       " (4140, 4),\n",
       " (4170, 4),\n",
       " (31, 3),\n",
       " (50, 3),\n",
       " (74, 3),\n",
       " (84, 3),\n",
       " (108, 3),\n",
       " (170, 3),\n",
       " (201, 3),\n",
       " (203, 3),\n",
       " (222, 3),\n",
       " (232, 3),\n",
       " (239, 3),\n",
       " (249, 3),\n",
       " (318, 3),\n",
       " (331, 3),\n",
       " (335, 3),\n",
       " (363, 3),\n",
       " (389, 3),\n",
       " (390, 3),\n",
       " (410, 3),\n",
       " (424, 3),\n",
       " (456, 3),\n",
       " (464, 3),\n",
       " (470, 3),\n",
       " (490, 3),\n",
       " (509, 3),\n",
       " (525, 3),\n",
       " (530, 3),\n",
       " (532, 3),\n",
       " (605, 3),\n",
       " (614, 3),\n",
       " (638, 3),\n",
       " (649, 3),\n",
       " (703, 3),\n",
       " (823, 3),\n",
       " (914, 3),\n",
       " (935, 3),\n",
       " (971, 3),\n",
       " (980, 3),\n",
       " (1008, 3),\n",
       " (1028, 3),\n",
       " (1040, 3),\n",
       " (1067, 3),\n",
       " (1146, 3),\n",
       " (1162, 3),\n",
       " (1164, 3),\n",
       " (1196, 3),\n",
       " (1202, 3),\n",
       " (1205, 3),\n",
       " (1226, 3),\n",
       " (1245, 3),\n",
       " (1278, 3),\n",
       " (1325, 3),\n",
       " (1365, 3),\n",
       " (1368, 3),\n",
       " (1379, 3),\n",
       " (1387, 3),\n",
       " (1398, 3),\n",
       " (1399, 3),\n",
       " (1440, 3),\n",
       " (1461, 3),\n",
       " (1468, 3),\n",
       " (1477, 3),\n",
       " (1480, 3),\n",
       " (1496, 3),\n",
       " (1507, 3),\n",
       " (1519, 3),\n",
       " (1575, 3),\n",
       " (1598, 3),\n",
       " (1623, 3),\n",
       " (1627, 3),\n",
       " (1675, 3),\n",
       " (1728, 3),\n",
       " (1789, 3),\n",
       " (1824, 3),\n",
       " (1855, 3),\n",
       " (1877, 3),\n",
       " (1884, 3),\n",
       " (1903, 3),\n",
       " (1906, 3),\n",
       " (1907, 3),\n",
       " (1928, 3),\n",
       " (1991, 3),\n",
       " (2009, 3),\n",
       " (2116, 3),\n",
       " (2146, 3),\n",
       " (2175, 3),\n",
       " (2180, 3),\n",
       " (2242, 3),\n",
       " (2272, 3),\n",
       " (2311, 3),\n",
       " (2338, 3),\n",
       " (2381, 3),\n",
       " (2397, 3),\n",
       " (2405, 3),\n",
       " (2434, 3),\n",
       " (2457, 3),\n",
       " (2530, 3),\n",
       " (2558, 3),\n",
       " (2724, 3),\n",
       " (2749, 3),\n",
       " (2782, 3),\n",
       " (2799, 3),\n",
       " (2842, 3),\n",
       " (2856, 3),\n",
       " (2879, 3),\n",
       " (2887, 3),\n",
       " (2908, 3),\n",
       " (2959, 3),\n",
       " (2960, 3),\n",
       " (2972, 3),\n",
       " (2998, 3),\n",
       " (3079, 3),\n",
       " (3089, 3),\n",
       " (3124, 3),\n",
       " (3150, 3),\n",
       " (3174, 3),\n",
       " (3185, 3),\n",
       " (3279, 3),\n",
       " (3378, 3),\n",
       " (3406, 3),\n",
       " (3424, 3),\n",
       " (3451, 3),\n",
       " (3457, 3),\n",
       " (3486, 3),\n",
       " (3527, 3),\n",
       " (3604, 3),\n",
       " (3633, 3),\n",
       " (3648, 3),\n",
       " (3733, 3),\n",
       " (3750, 3),\n",
       " (3768, 3),\n",
       " (3775, 3),\n",
       " (3800, 3),\n",
       " (3821, 3),\n",
       " (3829, 3),\n",
       " (3906, 3),\n",
       " (3907, 3),\n",
       " (3926, 3),\n",
       " (3997, 3),\n",
       " (4017, 3),\n",
       " (4069, 3),\n",
       " (4084, 3),\n",
       " (4143, 3),\n",
       " (4188, 3),\n",
       " (4216, 3),\n",
       " (4225, 3),\n",
       " (4276, 3),\n",
       " (4329, 3),\n",
       " (4330, 3),\n",
       " (4333, 3),\n",
       " (4392, 3),\n",
       " (4401, 3),\n",
       " (4409, 3),\n",
       " (4460, 3),\n",
       " (4483, 3),\n",
       " (4484, 3),\n",
       " (4489, 3),\n",
       " (4542, 3),\n",
       " (4609, 3),\n",
       " (4635, 3),\n",
       " (4664, 3),\n",
       " (4689, 3),\n",
       " (4768, 3),\n",
       " (4775, 3),\n",
       " (4860, 3),\n",
       " (4919, 3),\n",
       " (4999, 3),\n",
       " (5001, 3),\n",
       " (5043, 3),\n",
       " (5105, 3),\n",
       " (5114, 3),\n",
       " (5142, 3),\n",
       " (1, 2),\n",
       " (4, 2),\n",
       " (7, 2),\n",
       " (9, 2),\n",
       " (11, 2),\n",
       " (18, 2),\n",
       " (19, 2),\n",
       " (25, 2),\n",
       " (26, 2),\n",
       " (27, 2),\n",
       " (30, 2),\n",
       " (34, 2),\n",
       " (55, 2),\n",
       " (62, 2),\n",
       " (64, 2),\n",
       " (69, 2),\n",
       " (70, 2),\n",
       " (71, 2),\n",
       " (72, 2),\n",
       " (73, 2),\n",
       " (83, 2),\n",
       " (101, 2),\n",
       " (110, 2),\n",
       " (111, 2),\n",
       " (114, 2),\n",
       " (117, 2),\n",
       " (118, 2),\n",
       " (120, 2),\n",
       " (121, 2),\n",
       " (125, 2),\n",
       " (129, 2),\n",
       " (131, 2),\n",
       " (133, 2),\n",
       " (137, 2),\n",
       " (142, 2),\n",
       " (143, 2),\n",
       " (147, 2),\n",
       " (150, 2),\n",
       " (152, 2),\n",
       " (153, 2),\n",
       " (160, 2),\n",
       " (163, 2),\n",
       " (164, 2),\n",
       " (172, 2),\n",
       " (176, 2),\n",
       " (178, 2),\n",
       " (181, 2),\n",
       " (187, 2),\n",
       " (188, 2),\n",
       " (195, 2),\n",
       " (198, 2),\n",
       " (216, 2),\n",
       " (218, 2),\n",
       " (219, 2),\n",
       " (226, 2),\n",
       " (229, 2),\n",
       " (244, 2),\n",
       " (245, 2),\n",
       " (246, 2),\n",
       " (253, 2),\n",
       " (254, 2),\n",
       " (256, 2),\n",
       " (258, 2),\n",
       " (264, 2),\n",
       " (265, 2),\n",
       " (270, 2),\n",
       " (274, 2),\n",
       " (276, 2),\n",
       " (277, 2),\n",
       " (282, 2),\n",
       " (295, 2),\n",
       " (296, 2),\n",
       " (297, 2),\n",
       " (308, 2),\n",
       " (310, 2),\n",
       " (311, 2),\n",
       " (312, 2),\n",
       " (313, 2),\n",
       " (314, 2),\n",
       " (322, 2),\n",
       " (334, 2),\n",
       " (339, 2),\n",
       " (344, 2),\n",
       " (345, 2),\n",
       " (352, 2),\n",
       " (361, 2),\n",
       " (367, 2),\n",
       " (373, 2),\n",
       " (378, 2),\n",
       " (382, 2),\n",
       " (388, 2),\n",
       " (394, 2),\n",
       " (408, 2),\n",
       " (411, 2),\n",
       " (412, 2),\n",
       " (414, 2),\n",
       " (417, 2),\n",
       " (418, 2),\n",
       " (429, 2),\n",
       " (431, 2),\n",
       " (432, 2),\n",
       " (437, 2),\n",
       " (440, 2),\n",
       " (441, 2),\n",
       " (449, 2),\n",
       " (457, 2),\n",
       " (468, 2),\n",
       " (473, 2),\n",
       " (476, 2),\n",
       " (486, 2),\n",
       " (489, 2),\n",
       " (493, 2),\n",
       " (495, 2),\n",
       " (505, 2),\n",
       " (507, 2),\n",
       " (508, 2),\n",
       " (510, 2),\n",
       " (519, 2),\n",
       " (538, 2),\n",
       " (541, 2),\n",
       " (553, 2),\n",
       " (558, 2),\n",
       " (562, 2),\n",
       " (566, 2),\n",
       " (572, 2),\n",
       " (575, 2),\n",
       " (580, 2),\n",
       " (589, 2),\n",
       " (591, 2),\n",
       " (595, 2),\n",
       " (599, 2),\n",
       " (602, 2),\n",
       " (612, 2),\n",
       " (625, 2),\n",
       " (627, 2),\n",
       " (633, 2),\n",
       " (639, 2),\n",
       " (643, 2),\n",
       " (644, 2),\n",
       " (661, 2),\n",
       " (662, 2),\n",
       " (686, 2),\n",
       " (698, 2),\n",
       " (711, 2),\n",
       " (715, 2),\n",
       " (719, 2),\n",
       " (721, 2),\n",
       " (722, 2),\n",
       " (726, 2),\n",
       " (730, 2),\n",
       " (738, 2),\n",
       " (746, 2),\n",
       " (748, 2),\n",
       " (751, 2),\n",
       " (755, 2),\n",
       " (758, 2),\n",
       " (766, 2),\n",
       " (779, 2),\n",
       " (794, 2),\n",
       " (797, 2),\n",
       " (804, 2),\n",
       " (807, 2),\n",
       " (810, 2),\n",
       " (816, 2),\n",
       " (817, 2),\n",
       " (821, 2),\n",
       " (822, 2),\n",
       " (824, 2),\n",
       " (826, 2),\n",
       " (827, 2),\n",
       " (842, 2),\n",
       " (844, 2),\n",
       " (851, 2),\n",
       " (854, 2),\n",
       " (857, 2),\n",
       " (863, 2),\n",
       " (872, 2),\n",
       " (878, 2),\n",
       " (892, 2),\n",
       " (896, 2),\n",
       " (899, 2),\n",
       " (900, 2),\n",
       " (902, 2),\n",
       " (904, 2),\n",
       " (908, 2),\n",
       " (918, 2),\n",
       " (923, 2),\n",
       " (926, 2),\n",
       " (951, 2),\n",
       " (957, 2),\n",
       " (968, 2),\n",
       " (989, 2),\n",
       " (1004, 2),\n",
       " (1006, 2),\n",
       " (1017, 2),\n",
       " (1026, 2),\n",
       " (1029, 2),\n",
       " (1030, 2),\n",
       " (1031, 2),\n",
       " (1034, 2),\n",
       " (1035, 2),\n",
       " (1044, 2),\n",
       " (1061, 2),\n",
       " (1062, 2),\n",
       " (1065, 2),\n",
       " (1084, 2),\n",
       " (1085, 2),\n",
       " (1092, 2),\n",
       " (1104, 2),\n",
       " (1105, 2),\n",
       " (1112, 2),\n",
       " (1119, 2),\n",
       " (1122, 2),\n",
       " (1126, 2),\n",
       " (1134, 2),\n",
       " (1138, 2),\n",
       " (1144, 2),\n",
       " (1145, 2),\n",
       " (1152, 2),\n",
       " (1155, 2),\n",
       " (1176, 2),\n",
       " (1189, 2),\n",
       " (1190, 2),\n",
       " (1193, 2),\n",
       " (1197, 2),\n",
       " (1212, 2),\n",
       " (1221, 2),\n",
       " (1229, 2),\n",
       " (1252, 2),\n",
       " (1253, 2),\n",
       " (1255, 2),\n",
       " (1265, 2),\n",
       " (1279, 2),\n",
       " (1284, 2),\n",
       " (1287, 2),\n",
       " (1288, 2),\n",
       " (1301, 2),\n",
       " (1303, 2),\n",
       " (1310, 2),\n",
       " (1317, 2),\n",
       " (1321, 2),\n",
       " (1326, 2),\n",
       " (1332, 2),\n",
       " (1333, 2),\n",
       " (1336, 2),\n",
       " (1341, 2),\n",
       " (1346, 2),\n",
       " (1354, 2),\n",
       " (1355, 2),\n",
       " (1404, 2),\n",
       " (1405, 2),\n",
       " (1410, 2),\n",
       " (1424, 2),\n",
       " (1427, 2),\n",
       " (1432, 2),\n",
       " (1433, 2),\n",
       " (1439, 2),\n",
       " (1441, 2),\n",
       " (1445, 2),\n",
       " (1466, 2),\n",
       " (1475, 2),\n",
       " (1476, 2),\n",
       " (1522, 2),\n",
       " (1527, 2),\n",
       " (1528, 2),\n",
       " (1531, 2),\n",
       " (1535, 2),\n",
       " (1538, 2),\n",
       " (1546, 2),\n",
       " (1551, 2),\n",
       " (1559, 2),\n",
       " (1560, 2),\n",
       " (1566, 2),\n",
       " (1567, 2),\n",
       " (1573, 2),\n",
       " (1585, 2),\n",
       " (1596, 2),\n",
       " (1599, 2),\n",
       " (1604, 2),\n",
       " (1616, 2),\n",
       " (1617, 2),\n",
       " (1628, 2),\n",
       " (1629, 2),\n",
       " (1630, 2),\n",
       " (1632, 2),\n",
       " (1634, 2),\n",
       " (1636, 2),\n",
       " (1637, 2),\n",
       " (1643, 2),\n",
       " (1647, 2),\n",
       " (1651, 2),\n",
       " (1654, 2),\n",
       " (1658, 2),\n",
       " (1659, 2),\n",
       " (1665, 2),\n",
       " (1674, 2),\n",
       " (1681, 2),\n",
       " (1683, 2),\n",
       " (1685, 2),\n",
       " (1691, 2),\n",
       " (1692, 2),\n",
       " (1695, 2),\n",
       " (1731, 2),\n",
       " (1744, 2),\n",
       " (1752, 2),\n",
       " (1756, 2),\n",
       " (1763, 2),\n",
       " (1764, 2),\n",
       " (1770, 2),\n",
       " (1781, 2),\n",
       " (1782, 2),\n",
       " (1803, 2),\n",
       " (1805, 2),\n",
       " (1807, 2),\n",
       " (1809, 2),\n",
       " (1826, 2),\n",
       " (1829, 2),\n",
       " (1834, 2),\n",
       " (1840, 2),\n",
       " (1857, 2),\n",
       " (1897, 2),\n",
       " (1900, 2),\n",
       " (1926, 2),\n",
       " (1930, 2),\n",
       " (1936, 2),\n",
       " (1942, 2),\n",
       " (1948, 2),\n",
       " (1955, 2),\n",
       " (1964, 2),\n",
       " (1979, 2),\n",
       " (1987, 2),\n",
       " (1994, 2),\n",
       " (2007, 2),\n",
       " (2020, 2),\n",
       " (2021, 2),\n",
       " (2029, 2),\n",
       " (2033, 2),\n",
       " (2036, 2),\n",
       " (2039, 2),\n",
       " (2040, 2),\n",
       " (2048, 2),\n",
       " (2082, 2),\n",
       " (2088, 2),\n",
       " (2090, 2),\n",
       " (2096, 2),\n",
       " (2100, 2),\n",
       " (2103, 2),\n",
       " (2105, 2),\n",
       " (2119, 2),\n",
       " (2147, 2),\n",
       " (2156, 2),\n",
       " (2162, 2),\n",
       " (2170, 2),\n",
       " (2185, 2),\n",
       " (2189, 2),\n",
       " (2195, 2),\n",
       " (2204, 2),\n",
       " (2208, 2),\n",
       " (2209, 2),\n",
       " (2211, 2),\n",
       " (2219, 2),\n",
       " (2222, 2),\n",
       " (2225, 2),\n",
       " (2234, 2),\n",
       " (2235, 2),\n",
       " (2238, 2),\n",
       " (2246, 2),\n",
       " (2249, 2),\n",
       " (2254, 2),\n",
       " (2260, 2),\n",
       " (2266, 2),\n",
       " (2275, 2),\n",
       " (2280, 2),\n",
       " (2298, 2),\n",
       " (2304, 2),\n",
       " (2308, 2),\n",
       " (2319, 2),\n",
       " (2327, 2),\n",
       " (2328, 2),\n",
       " (2332, 2),\n",
       " (2343, 2),\n",
       " (2351, 2),\n",
       " (2365, 2),\n",
       " (2368, 2),\n",
       " (2372, 2),\n",
       " (2373, 2),\n",
       " (2385, 2),\n",
       " (2390, 2),\n",
       " (2393, 2),\n",
       " (2404, 2),\n",
       " (2410, 2),\n",
       " (2417, 2),\n",
       " (2420, 2),\n",
       " (2440, 2),\n",
       " (2465, 2),\n",
       " (2467, 2),\n",
       " (2477, 2),\n",
       " (2480, 2),\n",
       " (2489, 2),\n",
       " (2490, 2),\n",
       " (2492, 2),\n",
       " (2494, 2),\n",
       " (2495, 2),\n",
       " (2497, 2),\n",
       " (2499, 2),\n",
       " (2502, 2),\n",
       " (2504, 2),\n",
       " (2507, 2),\n",
       " (2511, 2),\n",
       " (2517, 2),\n",
       " (2529, 2),\n",
       " (2531, 2),\n",
       " (2532, 2),\n",
       " (2538, 2),\n",
       " (2542, 2),\n",
       " (2547, 2),\n",
       " (2550, 2),\n",
       " (2560, 2),\n",
       " (2561, 2),\n",
       " (2562, 2),\n",
       " (2563, 2),\n",
       " (2611, 2),\n",
       " (2616, 2),\n",
       " (2619, 2),\n",
       " (2622, 2),\n",
       " (2626, 2),\n",
       " (2634, 2),\n",
       " (2635, 2),\n",
       " (2637, 2),\n",
       " (2644, 2),\n",
       " (2656, 2),\n",
       " (2658, 2),\n",
       " (2677, 2),\n",
       " (2681, 2),\n",
       " (2686, 2),\n",
       " (2698, 2),\n",
       " (2702, 2),\n",
       " (2710, 2),\n",
       " (2723, 2),\n",
       " (2727, 2),\n",
       " (2734, 2),\n",
       " (2737, 2),\n",
       " (2739, 2),\n",
       " (2753, 2),\n",
       " (2758, 2),\n",
       " (2759, 2),\n",
       " (2764, 2),\n",
       " (2780, 2),\n",
       " (2781, 2),\n",
       " (2792, 2),\n",
       " (2803, 2),\n",
       " (2805, 2),\n",
       " (2806, 2),\n",
       " (2811, 2),\n",
       " (2826, 2),\n",
       " (2831, 2),\n",
       " (2837, 2),\n",
       " (2853, 2),\n",
       " (2854, 2),\n",
       " (2857, 2),\n",
       " (2859, 2),\n",
       " (2860, 2),\n",
       " (2863, 2),\n",
       " (2866, 2),\n",
       " (2868, 2),\n",
       " (2880, 2),\n",
       " (2881, 2),\n",
       " (2888, 2),\n",
       " (2894, 2),\n",
       " (2895, 2),\n",
       " (2898, 2),\n",
       " (2901, 2),\n",
       " (2909, 2),\n",
       " (2912, 2),\n",
       " (2918, 2),\n",
       " (2919, 2),\n",
       " (2922, 2),\n",
       " (2927, 2),\n",
       " (2939, 2),\n",
       " (2945, 2),\n",
       " (2946, 2),\n",
       " (2947, 2),\n",
       " (2948, 2),\n",
       " (2949, 2),\n",
       " (2950, 2),\n",
       " (2964, 2),\n",
       " (2970, 2),\n",
       " (2973, 2),\n",
       " (2976, 2),\n",
       " (2977, 2),\n",
       " (2994, 2),\n",
       " (3008, 2),\n",
       " (3010, 2),\n",
       " (3013, 2),\n",
       " (3022, 2),\n",
       " (3040, 2),\n",
       " (3048, 2),\n",
       " (3055, 2),\n",
       " (3062, 2),\n",
       " (3067, 2),\n",
       " (3068, 2),\n",
       " (3076, 2),\n",
       " (3082, 2),\n",
       " (3104, 2),\n",
       " (3105, 2),\n",
       " (3106, 2),\n",
       " (3116, 2),\n",
       " (3118, 2),\n",
       " (3133, 2),\n",
       " (3136, 2),\n",
       " (3138, 2),\n",
       " (3152, 2),\n",
       " (3163, 2),\n",
       " (3166, 2),\n",
       " (3171, 2),\n",
       " (3179, 2),\n",
       " (3186, 2),\n",
       " (3193, 2),\n",
       " (3201, 2),\n",
       " (3210, 2),\n",
       " (3212, 2),\n",
       " (3213, 2),\n",
       " (3218, 2),\n",
       " (3255, 2),\n",
       " (3257, 2),\n",
       " (3273, 2),\n",
       " (3284, 2),\n",
       " (3287, 2),\n",
       " (3290, 2),\n",
       " (3303, 2),\n",
       " (3314, 2),\n",
       " (3315, 2),\n",
       " (3318, 2),\n",
       " (3335, 2),\n",
       " (3341, 2),\n",
       " (3350, 2),\n",
       " (3352, 2),\n",
       " (3358, 2),\n",
       " (3362, 2),\n",
       " (3366, 2),\n",
       " (3374, 2),\n",
       " (3381, 2),\n",
       " (3383, 2),\n",
       " (3386, 2),\n",
       " (3396, 2),\n",
       " (3398, 2),\n",
       " (3407, 2),\n",
       " (3409, 2),\n",
       " (3423, 2),\n",
       " (3442, 2),\n",
       " (3444, 2),\n",
       " (3448, 2),\n",
       " (3452, 2),\n",
       " (3454, 2),\n",
       " (3467, 2),\n",
       " (3478, 2),\n",
       " (3485, 2),\n",
       " (3491, 2),\n",
       " (3521, 2),\n",
       " (3537, 2),\n",
       " (3546, 2),\n",
       " (3552, 2),\n",
       " (3554, 2),\n",
       " (3557, 2),\n",
       " (3562, 2),\n",
       " (3565, 2),\n",
       " (3567, 2),\n",
       " (3573, 2),\n",
       " (3575, 2),\n",
       " (3581, 2),\n",
       " (3582, 2),\n",
       " (3588, 2),\n",
       " (3600, 2),\n",
       " (3601, 2),\n",
       " (3608, 2),\n",
       " (3612, 2),\n",
       " (3613, 2),\n",
       " (3620, 2),\n",
       " (3632, 2),\n",
       " (3642, 2),\n",
       " (3647, 2),\n",
       " (3660, 2),\n",
       " (3664, 2),\n",
       " (3668, 2),\n",
       " (3673, 2),\n",
       " (3688, 2),\n",
       " (3690, 2),\n",
       " (3698, 2),\n",
       " (3699, 2),\n",
       " (3702, 2),\n",
       " (3703, 2),\n",
       " (3708, 2),\n",
       " (3713, 2),\n",
       " (3714, 2),\n",
       " (3723, 2),\n",
       " (3727, 2),\n",
       " (3730, 2),\n",
       " (3760, 2),\n",
       " (3761, 2),\n",
       " (3774, 2),\n",
       " (3786, 2),\n",
       " (3788, 2),\n",
       " (3809, 2),\n",
       " (3813, 2),\n",
       " (3823, 2),\n",
       " (3844, 2),\n",
       " (3848, 2),\n",
       " (3851, 2),\n",
       " (3859, 2),\n",
       " (3865, 2),\n",
       " (3871, 2),\n",
       " (3877, 2),\n",
       " (3891, 2),\n",
       " (3912, 2),\n",
       " (3923, 2),\n",
       " (3925, 2),\n",
       " (3931, 2),\n",
       " (3935, 2),\n",
       " (3939, 2),\n",
       " (3948, 2),\n",
       " (3950, 2),\n",
       " (3951, 2),\n",
       " (3969, 2),\n",
       " (3977, 2),\n",
       " (3985, 2),\n",
       " (3988, 2),\n",
       " (3994, 2),\n",
       " (3998, 2),\n",
       " (4010, 2),\n",
       " (4011, 2),\n",
       " (4019, 2),\n",
       " (4021, 2),\n",
       " (4028, 2),\n",
       " (4038, 2),\n",
       " (4052, 2),\n",
       " (4053, 2),\n",
       " (4070, 2),\n",
       " (4085, 2),\n",
       " (4097, 2),\n",
       " (4099, 2),\n",
       " (4100, 2),\n",
       " (4107, 2),\n",
       " (4112, 2),\n",
       " (4125, 2),\n",
       " (4131, 2),\n",
       " (4135, 2),\n",
       " (4144, 2),\n",
       " (4159, 2),\n",
       " (4160, 2),\n",
       " (4167, 2),\n",
       " (4174, 2),\n",
       " (4176, 2),\n",
       " (4183, 2),\n",
       " (4185, 2),\n",
       " (4193, 2),\n",
       " (4203, 2),\n",
       " (4205, 2),\n",
       " (4210, 2),\n",
       " (4213, 2),\n",
       " (4241, 2),\n",
       " (4245, 2),\n",
       " (4250, 2),\n",
       " (4260, 2),\n",
       " (4265, 2),\n",
       " (4271, 2),\n",
       " (4274, 2),\n",
       " (4278, 2),\n",
       " (4282, 2),\n",
       " (4294, 2),\n",
       " (4301, 2),\n",
       " (4304, 2),\n",
       " (4308, 2),\n",
       " (4320, 2),\n",
       " (4323, 2),\n",
       " (4338, 2),\n",
       " (4340, 2),\n",
       " (4344, 2),\n",
       " (4346, 2),\n",
       " (4351, 2),\n",
       " (4353, 2),\n",
       " (4358, 2),\n",
       " (4364, 2),\n",
       " (4371, 2),\n",
       " (4383, 2),\n",
       " (4391, 2),\n",
       " (4400, 2),\n",
       " (4408, 2),\n",
       " (4410, 2),\n",
       " (4411, 2),\n",
       " (4421, 2),\n",
       " (4427, 2),\n",
       " (4454, 2),\n",
       " (4458, 2),\n",
       " (4461, 2),\n",
       " (4464, 2),\n",
       " (4468, 2),\n",
       " (4469, 2),\n",
       " (4470, 2),\n",
       " (4472, 2),\n",
       " (4495, 2),\n",
       " (4498, 2),\n",
       " (4505, 2),\n",
       " (4507, 2),\n",
       " (4513, 2),\n",
       " (4514, 2),\n",
       " (4515, 2),\n",
       " (4517, 2),\n",
       " (4518, 2),\n",
       " (4519, 2),\n",
       " (4528, 2),\n",
       " (4536, 2),\n",
       " (4539, 2),\n",
       " (4551, 2),\n",
       " (4554, 2),\n",
       " (4569, 2),\n",
       " (4570, 2),\n",
       " (4582, 2),\n",
       " (4589, 2),\n",
       " (4597, 2),\n",
       " (4600, 2),\n",
       " (4615, 2),\n",
       " (4636, 2),\n",
       " (4643, 2),\n",
       " (4648, 2),\n",
       " (4650, 2),\n",
       " (4651, 2),\n",
       " (4657, 2),\n",
       " (4659, 2),\n",
       " (4676, 2),\n",
       " (4679, 2),\n",
       " (4688, 2),\n",
       " (4691, 2),\n",
       " (4701, 2),\n",
       " (4702, 2),\n",
       " (4722, 2),\n",
       " (4747, 2),\n",
       " (4751, 2),\n",
       " (4753, 2),\n",
       " (4767, 2),\n",
       " (4769, 2),\n",
       " (4774, 2),\n",
       " (4777, 2),\n",
       " (4786, 2),\n",
       " (4789, 2),\n",
       " (4793, 2),\n",
       " (4805, 2),\n",
       " (4810, 2),\n",
       " (4815, 2),\n",
       " (4819, 2),\n",
       " (4821, 2),\n",
       " (4835, 2),\n",
       " (4837, 2),\n",
       " (4843, 2),\n",
       " (4847, 2),\n",
       " (4856, 2),\n",
       " (4857, 2),\n",
       " (4863, 2),\n",
       " (4864, 2),\n",
       " (4871, 2),\n",
       " (4873, 2),\n",
       " (4877, 2),\n",
       " (4879, 2),\n",
       " (4880, 2),\n",
       " (4893, 2),\n",
       " (4900, 2),\n",
       " (4906, 2),\n",
       " (4916, 2),\n",
       " (4921, 2),\n",
       " (4929, 2),\n",
       " (4943, 2),\n",
       " (4949, 2),\n",
       " (4974, 2),\n",
       " (4977, 2),\n",
       " (4996, 2),\n",
       " (4998, 2),\n",
       " (5002, 2),\n",
       " (5003, 2),\n",
       " (5004, 2),\n",
       " (5015, 2),\n",
       " (5024, 2),\n",
       " (5032, 2),\n",
       " (5036, 2),\n",
       " (5041, 2),\n",
       " (5048, 2),\n",
       " (5053, 2),\n",
       " (5056, 2),\n",
       " (5057, 2),\n",
       " ...]"
      ]
     },
     "execution_count": 86,
     "metadata": {},
     "output_type": "execute_result"
    }
   ],
   "source": [
    "frequency_correct.sort(key = lambda t: t[1], reverse=True)\n",
    "frequency_correct"
   ]
  },
  {
   "cell_type": "markdown",
   "metadata": {},
   "source": [
    "## 8. Análisis por casos"
   ]
  },
  {
   "cell_type": "markdown",
   "metadata": {},
   "source": [
    "- Uno correcto (pero que calza con muchos)"
   ]
  },
  {
   "cell_type": "code",
   "execution_count": 60,
   "metadata": {
    "collapsed": false
   },
   "outputs": [
    {
     "data": {
      "text/plain": [
       "{'mls': ['T-22-205-SN-65',\n",
       "  'E-20-190-SN-40',\n",
       "  'E-20-291-PO-20',\n",
       "  'T-15-135-PO-5',\n",
       "  'T-15-135-OP-110',\n",
       "  'T-4-19-NS-100',\n",
       "  'E-20-199-NS-2',\n",
       "  'T-24-205-NS-20',\n",
       "  'T-20-190-SN-35',\n",
       "  'E-20-289-PO-5',\n",
       "  'T-22-205-SN-55',\n",
       "  'T-24-205-NS-30',\n",
       "  'T-15-135-OP-105'],\n",
       " 'nvisitas': [5, 5, 4, 6, 5, 6, 6, 4, 1, 2, 1, 1, 1],\n",
       " 'tpm': array([[ 0.        ,  0.8       ,  0.        ,  0.        ,  0.        ,\n",
       "          0.        ,  0.        ,  0.        ,  0.2       ,  0.        ,\n",
       "          0.        ,  0.        ,  0.        ],\n",
       "        [ 0.125     ,  0.        ,  0.375     ,  0.        ,  0.25      ,\n",
       "          0.        ,  0.25      ,  0.        ,  0.        ,  0.        ,\n",
       "          0.        ,  0.        ,  0.        ],\n",
       "        [ 0.        ,  0.        ,  0.        ,  1.        ,  0.        ,\n",
       "          0.        ,  0.        ,  0.        ,  0.        ,  0.        ,\n",
       "          0.        ,  0.        ,  0.        ],\n",
       "        [ 0.        ,  0.        ,  0.        ,  0.        ,  0.5       ,\n",
       "          0.        ,  0.25      ,  0.        ,  0.        ,  0.        ,\n",
       "          0.25      ,  0.        ,  0.        ],\n",
       "        [ 0.        ,  0.        ,  0.        ,  0.        ,  0.        ,\n",
       "          1.        ,  0.        ,  0.        ,  0.        ,  0.        ,\n",
       "          0.        ,  0.        ,  0.        ],\n",
       "        [ 0.        ,  0.        ,  0.        ,  0.        ,  0.        ,\n",
       "          0.        ,  1.        ,  0.        ,  0.        ,  0.        ,\n",
       "          0.        ,  0.        ,  0.        ],\n",
       "        [ 0.125     ,  0.        ,  0.        ,  0.        ,  0.125     ,\n",
       "          0.        ,  0.        ,  0.5       ,  0.        ,  0.125     ,\n",
       "          0.        ,  0.125     ,  0.        ],\n",
       "        [ 1.        ,  0.        ,  0.        ,  0.        ,  0.        ,\n",
       "          0.        ,  0.        ,  0.        ,  0.        ,  0.        ,\n",
       "          0.        ,  0.        ,  0.        ],\n",
       "        [ 0.        ,  0.        ,  0.        ,  0.        ,  0.        ,\n",
       "          0.        ,  0.        ,  0.        ,  0.        ,  1.        ,\n",
       "          0.        ,  0.        ,  0.        ],\n",
       "        [ 0.        ,  0.        ,  0.        ,  1.        ,  0.        ,\n",
       "          0.        ,  0.        ,  0.        ,  0.        ,  0.        ,\n",
       "          0.        ,  0.        ,  0.        ],\n",
       "        [ 0.        ,  1.        ,  0.        ,  0.        ,  0.        ,\n",
       "          0.        ,  0.        ,  0.        ,  0.        ,  0.        ,\n",
       "          0.        ,  0.        ,  0.        ],\n",
       "        [ 0.33333333,  0.        ,  0.33333333,  0.        ,  0.        ,\n",
       "          0.        ,  0.        ,  0.        ,  0.        ,  0.        ,\n",
       "          0.        ,  0.        ,  0.33333333],\n",
       "        [ 0.        ,  0.        ,  0.        ,  0.        ,  0.        ,\n",
       "          1.        ,  0.        ,  0.        ,  0.        ,  0.        ,\n",
       "          0.        ,  0.        ,  0.        ]]),\n",
       " 'user_id': 1132106}"
      ]
     },
     "execution_count": 60,
     "metadata": {},
     "output_type": "execute_result"
    }
   ],
   "source": [
    "profiles[0]['sequence']\n",
    "users_profiles[0]"
   ]
  },
  {
   "cell_type": "code",
   "execution_count": 61,
   "metadata": {
    "collapsed": false,
    "scrolled": false
   },
   "outputs": [
    {
     "data": {
      "text/html": [
       "<div>\n",
       "<table border=\"1\" class=\"dataframe\">\n",
       "  <thead>\n",
       "    <tr style=\"text-align: right;\">\n",
       "      <th></th>\n",
       "      <th>T-22-205-SN-65</th>\n",
       "      <th>E-20-190-SN-40</th>\n",
       "      <th>E-20-291-PO-20</th>\n",
       "      <th>T-15-135-PO-5</th>\n",
       "      <th>T-15-135-OP-110</th>\n",
       "      <th>T-4-19-NS-100</th>\n",
       "      <th>E-20-199-NS-2</th>\n",
       "      <th>T-24-205-NS-20</th>\n",
       "      <th>T-20-190-SN-35</th>\n",
       "      <th>E-20-289-PO-5</th>\n",
       "      <th>T-22-205-SN-55</th>\n",
       "      <th>T-24-205-NS-30</th>\n",
       "      <th>T-15-135-OP-105</th>\n",
       "    </tr>\n",
       "  </thead>\n",
       "  <tbody>\n",
       "    <tr>\n",
       "      <th>T-22-205-SN-65</th>\n",
       "      <td>0.000000</td>\n",
       "      <td>0.8</td>\n",
       "      <td>0.000000</td>\n",
       "      <td>0</td>\n",
       "      <td>0.000</td>\n",
       "      <td>0</td>\n",
       "      <td>0.00</td>\n",
       "      <td>0.0</td>\n",
       "      <td>0.2</td>\n",
       "      <td>0.000</td>\n",
       "      <td>0.00</td>\n",
       "      <td>0.000</td>\n",
       "      <td>0.000000</td>\n",
       "    </tr>\n",
       "    <tr>\n",
       "      <th>E-20-190-SN-40</th>\n",
       "      <td>0.125000</td>\n",
       "      <td>0.0</td>\n",
       "      <td>0.375000</td>\n",
       "      <td>0</td>\n",
       "      <td>0.250</td>\n",
       "      <td>0</td>\n",
       "      <td>0.25</td>\n",
       "      <td>0.0</td>\n",
       "      <td>0.0</td>\n",
       "      <td>0.000</td>\n",
       "      <td>0.00</td>\n",
       "      <td>0.000</td>\n",
       "      <td>0.000000</td>\n",
       "    </tr>\n",
       "    <tr>\n",
       "      <th>E-20-291-PO-20</th>\n",
       "      <td>0.000000</td>\n",
       "      <td>0.0</td>\n",
       "      <td>0.000000</td>\n",
       "      <td>1</td>\n",
       "      <td>0.000</td>\n",
       "      <td>0</td>\n",
       "      <td>0.00</td>\n",
       "      <td>0.0</td>\n",
       "      <td>0.0</td>\n",
       "      <td>0.000</td>\n",
       "      <td>0.00</td>\n",
       "      <td>0.000</td>\n",
       "      <td>0.000000</td>\n",
       "    </tr>\n",
       "    <tr>\n",
       "      <th>T-15-135-PO-5</th>\n",
       "      <td>0.000000</td>\n",
       "      <td>0.0</td>\n",
       "      <td>0.000000</td>\n",
       "      <td>0</td>\n",
       "      <td>0.500</td>\n",
       "      <td>0</td>\n",
       "      <td>0.25</td>\n",
       "      <td>0.0</td>\n",
       "      <td>0.0</td>\n",
       "      <td>0.000</td>\n",
       "      <td>0.25</td>\n",
       "      <td>0.000</td>\n",
       "      <td>0.000000</td>\n",
       "    </tr>\n",
       "    <tr>\n",
       "      <th>T-15-135-OP-110</th>\n",
       "      <td>0.000000</td>\n",
       "      <td>0.0</td>\n",
       "      <td>0.000000</td>\n",
       "      <td>0</td>\n",
       "      <td>0.000</td>\n",
       "      <td>1</td>\n",
       "      <td>0.00</td>\n",
       "      <td>0.0</td>\n",
       "      <td>0.0</td>\n",
       "      <td>0.000</td>\n",
       "      <td>0.00</td>\n",
       "      <td>0.000</td>\n",
       "      <td>0.000000</td>\n",
       "    </tr>\n",
       "    <tr>\n",
       "      <th>T-4-19-NS-100</th>\n",
       "      <td>0.000000</td>\n",
       "      <td>0.0</td>\n",
       "      <td>0.000000</td>\n",
       "      <td>0</td>\n",
       "      <td>0.000</td>\n",
       "      <td>0</td>\n",
       "      <td>1.00</td>\n",
       "      <td>0.0</td>\n",
       "      <td>0.0</td>\n",
       "      <td>0.000</td>\n",
       "      <td>0.00</td>\n",
       "      <td>0.000</td>\n",
       "      <td>0.000000</td>\n",
       "    </tr>\n",
       "    <tr>\n",
       "      <th>E-20-199-NS-2</th>\n",
       "      <td>0.125000</td>\n",
       "      <td>0.0</td>\n",
       "      <td>0.000000</td>\n",
       "      <td>0</td>\n",
       "      <td>0.125</td>\n",
       "      <td>0</td>\n",
       "      <td>0.00</td>\n",
       "      <td>0.5</td>\n",
       "      <td>0.0</td>\n",
       "      <td>0.125</td>\n",
       "      <td>0.00</td>\n",
       "      <td>0.125</td>\n",
       "      <td>0.000000</td>\n",
       "    </tr>\n",
       "    <tr>\n",
       "      <th>T-24-205-NS-20</th>\n",
       "      <td>1.000000</td>\n",
       "      <td>0.0</td>\n",
       "      <td>0.000000</td>\n",
       "      <td>0</td>\n",
       "      <td>0.000</td>\n",
       "      <td>0</td>\n",
       "      <td>0.00</td>\n",
       "      <td>0.0</td>\n",
       "      <td>0.0</td>\n",
       "      <td>0.000</td>\n",
       "      <td>0.00</td>\n",
       "      <td>0.000</td>\n",
       "      <td>0.000000</td>\n",
       "    </tr>\n",
       "    <tr>\n",
       "      <th>T-20-190-SN-35</th>\n",
       "      <td>0.000000</td>\n",
       "      <td>0.0</td>\n",
       "      <td>0.000000</td>\n",
       "      <td>0</td>\n",
       "      <td>0.000</td>\n",
       "      <td>0</td>\n",
       "      <td>0.00</td>\n",
       "      <td>0.0</td>\n",
       "      <td>0.0</td>\n",
       "      <td>1.000</td>\n",
       "      <td>0.00</td>\n",
       "      <td>0.000</td>\n",
       "      <td>0.000000</td>\n",
       "    </tr>\n",
       "    <tr>\n",
       "      <th>E-20-289-PO-5</th>\n",
       "      <td>0.000000</td>\n",
       "      <td>0.0</td>\n",
       "      <td>0.000000</td>\n",
       "      <td>1</td>\n",
       "      <td>0.000</td>\n",
       "      <td>0</td>\n",
       "      <td>0.00</td>\n",
       "      <td>0.0</td>\n",
       "      <td>0.0</td>\n",
       "      <td>0.000</td>\n",
       "      <td>0.00</td>\n",
       "      <td>0.000</td>\n",
       "      <td>0.000000</td>\n",
       "    </tr>\n",
       "    <tr>\n",
       "      <th>T-22-205-SN-55</th>\n",
       "      <td>0.000000</td>\n",
       "      <td>1.0</td>\n",
       "      <td>0.000000</td>\n",
       "      <td>0</td>\n",
       "      <td>0.000</td>\n",
       "      <td>0</td>\n",
       "      <td>0.00</td>\n",
       "      <td>0.0</td>\n",
       "      <td>0.0</td>\n",
       "      <td>0.000</td>\n",
       "      <td>0.00</td>\n",
       "      <td>0.000</td>\n",
       "      <td>0.000000</td>\n",
       "    </tr>\n",
       "    <tr>\n",
       "      <th>T-24-205-NS-30</th>\n",
       "      <td>0.333333</td>\n",
       "      <td>0.0</td>\n",
       "      <td>0.333333</td>\n",
       "      <td>0</td>\n",
       "      <td>0.000</td>\n",
       "      <td>0</td>\n",
       "      <td>0.00</td>\n",
       "      <td>0.0</td>\n",
       "      <td>0.0</td>\n",
       "      <td>0.000</td>\n",
       "      <td>0.00</td>\n",
       "      <td>0.000</td>\n",
       "      <td>0.333333</td>\n",
       "    </tr>\n",
       "    <tr>\n",
       "      <th>T-15-135-OP-105</th>\n",
       "      <td>0.000000</td>\n",
       "      <td>0.0</td>\n",
       "      <td>0.000000</td>\n",
       "      <td>0</td>\n",
       "      <td>0.000</td>\n",
       "      <td>1</td>\n",
       "      <td>0.00</td>\n",
       "      <td>0.0</td>\n",
       "      <td>0.0</td>\n",
       "      <td>0.000</td>\n",
       "      <td>0.00</td>\n",
       "      <td>0.000</td>\n",
       "      <td>0.000000</td>\n",
       "    </tr>\n",
       "  </tbody>\n",
       "</table>\n",
       "</div>"
      ],
      "text/plain": [
       "                 T-22-205-SN-65  E-20-190-SN-40  E-20-291-PO-20  \\\n",
       "T-22-205-SN-65         0.000000             0.8        0.000000   \n",
       "E-20-190-SN-40         0.125000             0.0        0.375000   \n",
       "E-20-291-PO-20         0.000000             0.0        0.000000   \n",
       "T-15-135-PO-5          0.000000             0.0        0.000000   \n",
       "T-15-135-OP-110        0.000000             0.0        0.000000   \n",
       "T-4-19-NS-100          0.000000             0.0        0.000000   \n",
       "E-20-199-NS-2          0.125000             0.0        0.000000   \n",
       "T-24-205-NS-20         1.000000             0.0        0.000000   \n",
       "T-20-190-SN-35         0.000000             0.0        0.000000   \n",
       "E-20-289-PO-5          0.000000             0.0        0.000000   \n",
       "T-22-205-SN-55         0.000000             1.0        0.000000   \n",
       "T-24-205-NS-30         0.333333             0.0        0.333333   \n",
       "T-15-135-OP-105        0.000000             0.0        0.000000   \n",
       "\n",
       "                 T-15-135-PO-5  T-15-135-OP-110  T-4-19-NS-100  E-20-199-NS-2  \\\n",
       "T-22-205-SN-65               0            0.000              0           0.00   \n",
       "E-20-190-SN-40               0            0.250              0           0.25   \n",
       "E-20-291-PO-20               1            0.000              0           0.00   \n",
       "T-15-135-PO-5                0            0.500              0           0.25   \n",
       "T-15-135-OP-110              0            0.000              1           0.00   \n",
       "T-4-19-NS-100                0            0.000              0           1.00   \n",
       "E-20-199-NS-2                0            0.125              0           0.00   \n",
       "T-24-205-NS-20               0            0.000              0           0.00   \n",
       "T-20-190-SN-35               0            0.000              0           0.00   \n",
       "E-20-289-PO-5                1            0.000              0           0.00   \n",
       "T-22-205-SN-55               0            0.000              0           0.00   \n",
       "T-24-205-NS-30               0            0.000              0           0.00   \n",
       "T-15-135-OP-105              0            0.000              1           0.00   \n",
       "\n",
       "                 T-24-205-NS-20  T-20-190-SN-35  E-20-289-PO-5  \\\n",
       "T-22-205-SN-65              0.0             0.2          0.000   \n",
       "E-20-190-SN-40              0.0             0.0          0.000   \n",
       "E-20-291-PO-20              0.0             0.0          0.000   \n",
       "T-15-135-PO-5               0.0             0.0          0.000   \n",
       "T-15-135-OP-110             0.0             0.0          0.000   \n",
       "T-4-19-NS-100               0.0             0.0          0.000   \n",
       "E-20-199-NS-2               0.5             0.0          0.125   \n",
       "T-24-205-NS-20              0.0             0.0          0.000   \n",
       "T-20-190-SN-35              0.0             0.0          1.000   \n",
       "E-20-289-PO-5               0.0             0.0          0.000   \n",
       "T-22-205-SN-55              0.0             0.0          0.000   \n",
       "T-24-205-NS-30              0.0             0.0          0.000   \n",
       "T-15-135-OP-105             0.0             0.0          0.000   \n",
       "\n",
       "                 T-22-205-SN-55  T-24-205-NS-30  T-15-135-OP-105  \n",
       "T-22-205-SN-65             0.00           0.000         0.000000  \n",
       "E-20-190-SN-40             0.00           0.000         0.000000  \n",
       "E-20-291-PO-20             0.00           0.000         0.000000  \n",
       "T-15-135-PO-5              0.25           0.000         0.000000  \n",
       "T-15-135-OP-110            0.00           0.000         0.000000  \n",
       "T-4-19-NS-100              0.00           0.000         0.000000  \n",
       "E-20-199-NS-2              0.00           0.125         0.000000  \n",
       "T-24-205-NS-20             0.00           0.000         0.000000  \n",
       "T-20-190-SN-35             0.00           0.000         0.000000  \n",
       "E-20-289-PO-5              0.00           0.000         0.000000  \n",
       "T-22-205-SN-55             0.00           0.000         0.000000  \n",
       "T-24-205-NS-30             0.00           0.000         0.333333  \n",
       "T-15-135-OP-105            0.00           0.000         0.000000  "
      ]
     },
     "execution_count": 61,
     "metadata": {},
     "output_type": "execute_result"
    }
   ],
   "source": [
    "up_matrix = np.matrix(users_profiles[0][\"tpm\"])\n",
    "df_up_matrix = pd.DataFrame(up_matrix)\n",
    "df_up_matrix.columns = users_profiles[0][\"mls\"]\n",
    "df_up_matrix.index = users_profiles[0][\"mls\"]\n",
    "df_up_matrix"
   ]
  },
  {
   "cell_type": "code",
   "execution_count": null,
   "metadata": {
    "collapsed": true
   },
   "outputs": [],
   "source": []
  },
  {
   "cell_type": "code",
   "execution_count": 62,
   "metadata": {
    "collapsed": false,
    "scrolled": true
   },
   "outputs": [
    {
     "data": {
      "text/plain": [
       "[0, 2168, 3696, 4150]"
      ]
     },
     "execution_count": 62,
     "metadata": {},
     "output_type": "execute_result"
    }
   ],
   "source": [
    "matchers0 = quienCalzaCon(iden_matrix,0)\n",
    "matchers0"
   ]
  },
  {
   "cell_type": "code",
   "execution_count": 63,
   "metadata": {
    "collapsed": false
   },
   "outputs": [
    {
     "data": {
      "text/plain": [
       "-62.703874929089125"
      ]
     },
     "execution_count": 63,
     "metadata": {},
     "output_type": "execute_result"
    }
   ],
   "source": [
    "iden_matrix[0,0]"
   ]
  },
  {
   "cell_type": "code",
   "execution_count": 64,
   "metadata": {
    "collapsed": false
   },
   "outputs": [
    {
     "data": {
      "text/plain": [
       "{'mls': ['T-1-3-SN-1',\n",
       "  'T-1-3-SN-3',\n",
       "  'T-1-3-SN-12',\n",
       "  'T-1-3-SN-17',\n",
       "  'L-6-27-PO-60',\n",
       "  'T-1-3-NS-60',\n",
       "  'CERRO BLANCO',\n",
       "  'VESPUCIO NORTE',\n",
       "  'I-4-12-PO-11',\n",
       "  'L-6-44-NS-20',\n",
       "  'L-6-27-PO-50',\n",
       "  'T-1-3-NS-55',\n",
       "  'T-6-45-OP-50'],\n",
       " 'nvisitas': [2, 1, 3, 4, 1, 1, 1, 1, 1, 1, 1, 1, 1],\n",
       " 'sequence': ['T-1-3-SN-1',\n",
       "  'T-1-3-SN-3',\n",
       "  'T-1-3-SN-12',\n",
       "  'T-1-3-SN-17',\n",
       "  'T-1-3-SN-12',\n",
       "  'T-1-3-SN-17',\n",
       "  'T-1-3-SN-12',\n",
       "  'T-1-3-SN-17',\n",
       "  'L-6-27-PO-60',\n",
       "  'T-1-3-NS-60',\n",
       "  'CERRO BLANCO',\n",
       "  'VESPUCIO NORTE',\n",
       "  'I-4-12-PO-11',\n",
       "  'L-6-44-NS-20',\n",
       "  'L-6-27-PO-50',\n",
       "  'T-1-3-NS-55',\n",
       "  'T-1-3-SN-1',\n",
       "  'T-6-45-OP-50'],\n",
       " 'user_id': 18671610}"
      ]
     },
     "execution_count": 64,
     "metadata": {},
     "output_type": "execute_result"
    }
   ],
   "source": [
    "profiles[156]"
   ]
  },
  {
   "cell_type": "code",
   "execution_count": 65,
   "metadata": {
    "collapsed": false,
    "scrolled": true
   },
   "outputs": [
    {
     "data": {
      "text/plain": [
       "{'mls': ['L-6-47-SN-5',\n",
       "  'L-6-43-NS-20',\n",
       "  'L-6-43-SN-20',\n",
       "  'T-20-188-NS-11',\n",
       "  'SANTA ANA',\n",
       "  'PLAZA DE ARMAS',\n",
       "  'E-14-134-SN-30',\n",
       "  'L-6-44-NS-10',\n",
       "  'L-6-44-SN-15',\n",
       "  'T-6-45-PO-30',\n",
       "  'T-6-45-PO-25',\n",
       "  'E-20-174-NS-10',\n",
       "  'E-20-291-PO-10',\n",
       "  'L-6-27-OP-65',\n",
       "  'L-6-27-PO-60',\n",
       "  'L-6-27-PO-50',\n",
       "  'T-6-41-SN-15'],\n",
       " 'nvisitas': [1, 1, 1, 1, 1, 1, 1, 1, 4, 5, 3, 6, 6, 1, 1, 1, 1],\n",
       " 'tpm': array([[ 0.        ,  1.        ,  0.        ,  0.        ,  0.        ,\n",
       "          0.        ,  0.        ,  0.        ,  0.        ,  0.        ,\n",
       "          0.        ,  0.        ,  0.        ,  0.        ,  0.        ,\n",
       "          0.        ,  0.        ],\n",
       "        [ 0.        ,  0.        ,  1.        ,  0.        ,  0.        ,\n",
       "          0.        ,  0.        ,  0.        ,  0.        ,  0.        ,\n",
       "          0.        ,  0.        ,  0.        ,  0.        ,  0.        ,\n",
       "          0.        ,  0.        ],\n",
       "        [ 0.        ,  0.        ,  0.        ,  1.        ,  0.        ,\n",
       "          0.        ,  0.        ,  0.        ,  0.        ,  0.        ,\n",
       "          0.        ,  0.        ,  0.        ,  0.        ,  0.        ,\n",
       "          0.        ,  0.        ],\n",
       "        [ 0.        ,  0.        ,  0.        ,  0.        ,  1.        ,\n",
       "          0.        ,  0.        ,  0.        ,  0.        ,  0.        ,\n",
       "          0.        ,  0.        ,  0.        ,  0.        ,  0.        ,\n",
       "          0.        ,  0.        ],\n",
       "        [ 0.        ,  0.        ,  0.        ,  0.        ,  0.        ,\n",
       "          1.        ,  0.        ,  0.        ,  0.        ,  0.        ,\n",
       "          0.        ,  0.        ,  0.        ,  0.        ,  0.        ,\n",
       "          0.        ,  0.        ],\n",
       "        [ 0.        ,  0.        ,  0.        ,  0.        ,  0.        ,\n",
       "          0.        ,  1.        ,  0.        ,  0.        ,  0.        ,\n",
       "          0.        ,  0.        ,  0.        ,  0.        ,  0.        ,\n",
       "          0.        ,  0.        ],\n",
       "        [ 0.        ,  0.        ,  0.        ,  0.        ,  0.        ,\n",
       "          0.        ,  0.        ,  1.        ,  0.        ,  0.        ,\n",
       "          0.        ,  0.        ,  0.        ,  0.        ,  0.        ,\n",
       "          0.        ,  0.        ],\n",
       "        [ 0.        ,  0.        ,  0.        ,  0.        ,  0.        ,\n",
       "          0.        ,  0.        ,  0.        ,  1.        ,  0.        ,\n",
       "          0.        ,  0.        ,  0.        ,  0.        ,  0.        ,\n",
       "          0.        ,  0.        ],\n",
       "        [ 0.        ,  0.        ,  0.        ,  0.        ,  0.        ,\n",
       "          0.        ,  0.        ,  0.        ,  0.        ,  1.        ,\n",
       "          0.        ,  0.        ,  0.        ,  0.        ,  0.        ,\n",
       "          0.        ,  0.        ],\n",
       "        [ 0.        ,  0.        ,  0.        ,  0.        ,  0.        ,\n",
       "          0.        ,  0.        ,  0.        ,  0.        ,  0.        ,\n",
       "          0.5       ,  0.5       ,  0.        ,  0.        ,  0.        ,\n",
       "          0.        ,  0.        ],\n",
       "        [ 0.        ,  0.        ,  0.        ,  0.        ,  0.        ,\n",
       "          0.        ,  0.        ,  0.        ,  0.        ,  0.        ,\n",
       "          0.        ,  1.        ,  0.        ,  0.        ,  0.        ,\n",
       "          0.        ,  0.        ],\n",
       "        [ 0.        ,  0.        ,  0.        ,  0.        ,  0.        ,\n",
       "          0.        ,  0.        ,  0.        ,  0.        ,  0.        ,\n",
       "          0.        ,  0.        ,  1.        ,  0.        ,  0.        ,\n",
       "          0.        ,  0.        ],\n",
       "        [ 0.        ,  0.        ,  0.        ,  0.        ,  0.        ,\n",
       "          0.        ,  0.        ,  0.        ,  0.33333333,  0.11111111,\n",
       "          0.22222222,  0.        ,  0.        ,  0.11111111,  0.        ,\n",
       "          0.11111111,  0.11111111],\n",
       "        [ 0.        ,  0.        ,  0.        ,  0.        ,  0.        ,\n",
       "          0.        ,  0.        ,  0.        ,  0.        ,  0.        ,\n",
       "          0.        ,  0.        ,  0.        ,  0.        ,  1.        ,\n",
       "          0.        ,  0.        ],\n",
       "        [ 0.        ,  0.        ,  0.        ,  0.        ,  0.        ,\n",
       "          0.        ,  0.        ,  0.        ,  0.        ,  0.        ,\n",
       "          0.        ,  1.        ,  0.        ,  0.        ,  0.        ,\n",
       "          0.        ,  0.        ],\n",
       "        [ 0.        ,  0.        ,  0.        ,  0.        ,  0.        ,\n",
       "          0.        ,  0.        ,  0.        ,  0.        ,  0.        ,\n",
       "          0.        ,  1.        ,  0.        ,  0.        ,  0.        ,\n",
       "          0.        ,  0.        ],\n",
       "        [        nan,         nan,         nan,         nan,         nan,\n",
       "                 nan,         nan,         nan,         nan,         nan,\n",
       "                 nan,         nan,         nan,         nan,         nan,\n",
       "                 nan,         nan]]),\n",
       " 'user_id': 18671610}"
      ]
     },
     "execution_count": 65,
     "metadata": {},
     "output_type": "execute_result"
    }
   ],
   "source": [
    "users_profiles[156]"
   ]
  },
  {
   "cell_type": "markdown",
   "metadata": {},
   "source": []
  },
  {
   "cell_type": "markdown",
   "metadata": {},
   "source": [
    "- Uno incorrecto por cambio de comportamiento"
   ]
  },
  {
   "cell_type": "code",
   "execution_count": 66,
   "metadata": {
    "collapsed": false
   },
   "outputs": [
    {
     "data": {
      "text/plain": [
       "-176.92977359660529"
      ]
     },
     "execution_count": 66,
     "metadata": {},
     "output_type": "execute_result"
    }
   ],
   "source": [
    "np.argmax(iden_matrix[:,5])\n",
    "iden_matrix[1187,5]"
   ]
  },
  {
   "cell_type": "code",
   "execution_count": 67,
   "metadata": {
    "collapsed": false
   },
   "outputs": [
    {
     "data": {
      "text/plain": [
       "-216.0"
      ]
     },
     "execution_count": 67,
     "metadata": {},
     "output_type": "execute_result"
    }
   ],
   "source": [
    "iden_matrix[5,5]"
   ]
  },
  {
   "cell_type": "code",
   "execution_count": 68,
   "metadata": {
    "collapsed": false
   },
   "outputs": [
    {
     "data": {
      "text/plain": [
       "(array([  5.05600000e+03,   4.00000000e+01,   5.10000000e+01,\n",
       "          1.50000000e+01,   3.00000000e+00,   1.00000000e+00,\n",
       "          0.00000000e+00,   0.00000000e+00,   0.00000000e+00,\n",
       "          2.00000000e+00]),\n",
       " array([-216.        , -212.09297736, -208.18595472, -204.27893208,\n",
       "        -200.37190944, -196.4648868 , -192.55786416, -188.65084152,\n",
       "        -184.74381888, -180.83679624, -176.9297736 ]),\n",
       " <a list of 10 Patch objects>)"
      ]
     },
     "execution_count": 68,
     "metadata": {},
     "output_type": "execute_result"
    },
    {
     "data": {
      "image/png": "[encoded data removed]",
      "text/plain": [
       "<matplotlib.figure.Figure at 0x7f23e40efad0>"
      ]
     },
     "metadata": {},
     "output_type": "display_data"
    }
   ],
   "source": [
    "plt.hist(iden_matrix[:,5])"
   ]
  },
  {
   "cell_type": "markdown",
   "metadata": {},
   "source": [
    "A continuación comparo el perfil de la semana 2013 abril del usuario 5, con la secuencia de la semana de septiembre del 5 y del 1187"
   ]
  },
  {
   "cell_type": "code",
   "execution_count": 69,
   "metadata": {
    "collapsed": false,
    "scrolled": true
   },
   "outputs": [
    {
     "data": {
      "text/plain": [
       "{'mls': ['T-18-157-PO-60',\n",
       "  'E-18-157-PO-90',\n",
       "  'T-19-12-SN-5',\n",
       "  'L-19-21-SN-20',\n",
       "  'SIMON BOLIVAR',\n",
       "  'LOS HEROES',\n",
       "  'SANTA ISABEL',\n",
       "  'L-14-10-PO-5',\n",
       "  'L-19-21-SN-15',\n",
       "  'VESPUCIO NORTE',\n",
       "  'T-3-19-NS-45',\n",
       "  'T-18-157-PO-40',\n",
       "  'L-32-3-SN-10'],\n",
       " 'nvisitas': [1, 2, 1, 1, 6, 9, 1, 1, 1, 1, 1, 1, 1],\n",
       " 'tpm': array([[ 0.        ,  1.        ,  0.        ,  0.        ,  0.        ,\n",
       "          0.        ,  0.        ,  0.        ,  0.        ,  0.        ,\n",
       "          0.        ,  0.        ,  0.        ],\n",
       "        [ 0.        ,  0.        ,  0.5       ,  0.        ,  0.        ,\n",
       "          0.        ,  0.        ,  0.        ,  0.        ,  0.        ,\n",
       "          0.        ,  0.        ,  0.5       ],\n",
       "        [ 0.        ,  0.        ,  0.        ,  1.        ,  0.        ,\n",
       "          0.        ,  0.        ,  0.        ,  0.        ,  0.        ,\n",
       "          0.        ,  0.        ,  0.        ],\n",
       "        [ 0.        ,  0.        ,  0.        ,  0.        ,  1.        ,\n",
       "          0.        ,  0.        ,  0.        ,  0.        ,  0.        ,\n",
       "          0.        ,  0.        ,  0.        ],\n",
       "        [ 0.        ,  0.        ,  0.        ,  0.        ,  0.        ,\n",
       "          1.        ,  0.        ,  0.        ,  0.        ,  0.        ,\n",
       "          0.        ,  0.        ,  0.        ],\n",
       "        [ 0.        ,  0.        ,  0.        ,  0.        ,  0.6       ,\n",
       "          0.        ,  0.2       ,  0.        ,  0.        ,  0.2       ,\n",
       "          0.        ,  0.        ,  0.        ],\n",
       "        [ 0.        ,  0.        ,  0.        ,  0.        ,  0.        ,\n",
       "          0.        ,  0.        ,  1.        ,  0.        ,  0.        ,\n",
       "          0.        ,  0.        ,  0.        ],\n",
       "        [ 0.        ,  0.        ,  0.        ,  0.        ,  0.        ,\n",
       "          0.        ,  0.        ,  0.        ,  1.        ,  0.        ,\n",
       "          0.        ,  0.        ,  0.        ],\n",
       "        [ 0.        ,  0.        ,  0.        ,  0.        ,  0.33333333,\n",
       "          0.66666667,  0.        ,  0.        ,  0.        ,  0.        ,\n",
       "          0.        ,  0.        ,  0.        ],\n",
       "        [ 0.        ,  0.        ,  0.        ,  0.        ,  0.        ,\n",
       "          0.        ,  0.        ,  0.        ,  0.        ,  0.        ,\n",
       "          1.        ,  0.        ,  0.        ],\n",
       "        [ 0.        ,  0.        ,  0.        ,  0.        ,  0.        ,\n",
       "          0.5       ,  0.        ,  0.        ,  0.        ,  0.        ,\n",
       "          0.        ,  0.5       ,  0.        ],\n",
       "        [ 0.        ,  1.        ,  0.        ,  0.        ,  0.        ,\n",
       "          0.        ,  0.        ,  0.        ,  0.        ,  0.        ,\n",
       "          0.        ,  0.        ,  0.        ],\n",
       "        [        nan,         nan,         nan,         nan,         nan,\n",
       "                 nan,         nan,         nan,         nan,         nan,\n",
       "                 nan,         nan,         nan]]),\n",
       " 'user_id': 1261466}"
      ]
     },
     "execution_count": 69,
     "metadata": {},
     "output_type": "execute_result"
    }
   ],
   "source": [
    "users_profiles[5]"
   ]
  },
  {
   "cell_type": "code",
   "execution_count": 70,
   "metadata": {
    "collapsed": false,
    "scrolled": true
   },
   "outputs": [
    {
     "data": {
      "text/plain": [
       "{'mls': ['SIMON BOLIVAR',\n",
       "  'LA MONEDA',\n",
       "  'SANTA LUCIA',\n",
       "  'SALVADOR',\n",
       "  'PEDRO DE VALDIVIA',\n",
       "  'LOS HEROES',\n",
       "  'MANUEL MONTT',\n",
       "  'T-14-128-OP-60',\n",
       "  'E-20-53-OP-100',\n",
       "  'E-20-53-PO-40',\n",
       "  'E-20-53-PO-90',\n",
       "  'T-19-170-SN-40',\n",
       "  'E-20-53-OP-70',\n",
       "  'PLAZA EGANA',\n",
       "  'T-18-157-OP-15',\n",
       "  'T-18-157-OP-50',\n",
       "  'T-18-157-PO-50',\n",
       "  'T-19-164-PO-5'],\n",
       " 'nvisitas': [7, 7, 3, 2, 5, 2, 1, 1, 1, 1, 1, 1, 1, 1, 1, 1, 1, 1],\n",
       " 'sequence': ['SIMON BOLIVAR',\n",
       "  'LA MONEDA',\n",
       "  'SIMON BOLIVAR',\n",
       "  'SANTA LUCIA',\n",
       "  'SIMON BOLIVAR',\n",
       "  'SALVADOR',\n",
       "  'LA MONEDA',\n",
       "  'SIMON BOLIVAR',\n",
       "  'PEDRO DE VALDIVIA',\n",
       "  'LOS HEROES',\n",
       "  'MANUEL MONTT',\n",
       "  'T-14-128-OP-60',\n",
       "  'E-20-53-OP-100',\n",
       "  'E-20-53-PO-40',\n",
       "  'E-20-53-PO-90',\n",
       "  'SANTA LUCIA',\n",
       "  'PEDRO DE VALDIVIA',\n",
       "  'LA MONEDA',\n",
       "  'PEDRO DE VALDIVIA',\n",
       "  'T-19-170-SN-40',\n",
       "  'E-20-53-OP-70',\n",
       "  'LA MONEDA',\n",
       "  'PLAZA EGANA',\n",
       "  'T-18-157-OP-15',\n",
       "  'T-18-157-OP-50',\n",
       "  'T-18-157-PO-50',\n",
       "  'T-19-164-PO-5',\n",
       "  'SIMON BOLIVAR'],\n",
       " 'user_id': 1261466}"
      ]
     },
     "execution_count": 70,
     "metadata": {},
     "output_type": "execute_result"
    }
   ],
   "source": [
    "profiles[5]"
   ]
  },
  {
   "cell_type": "code",
   "execution_count": 71,
   "metadata": {
    "collapsed": false
   },
   "outputs": [
    {
     "data": {
      "text/plain": [
       "{'mls': ['SIMON BOLIVAR',\n",
       "  'LA MONEDA',\n",
       "  'UNIVERSIDAD DE CHILE',\n",
       "  'PEDRO DE VALDIVIA',\n",
       "  'T-14-127-NS-4',\n",
       "  'T-14-127-NS-15',\n",
       "  'T-14-127-NS-45',\n",
       "  'L-18-6-PO-110',\n",
       "  'L-19-21-SN-15'],\n",
       " 'nvisitas': [9, 8, 2, 1, 1, 2, 1, 1, 1],\n",
       " 'sequence': ['SIMON BOLIVAR',\n",
       "  'LA MONEDA',\n",
       "  'SIMON BOLIVAR',\n",
       "  'UNIVERSIDAD DE CHILE',\n",
       "  'SIMON BOLIVAR',\n",
       "  'LA MONEDA',\n",
       "  'SIMON BOLIVAR',\n",
       "  'LA MONEDA',\n",
       "  'PEDRO DE VALDIVIA',\n",
       "  'T-14-127-NS-4',\n",
       "  'T-14-127-NS-15',\n",
       "  'T-14-127-NS-45',\n",
       "  'L-18-6-PO-110',\n",
       "  'L-19-21-SN-15',\n",
       "  'SIMON BOLIVAR',\n",
       "  'LA MONEDA',\n",
       "  'SIMON BOLIVAR'],\n",
       " 'user_id': 50264508}"
      ]
     },
     "execution_count": 71,
     "metadata": {},
     "output_type": "execute_result"
    }
   ],
   "source": [
    "profiles[1187]"
   ]
  },
  {
   "cell_type": "markdown",
   "metadata": {},
   "source": [
    "- Uno incorrecto que parece correcto"
   ]
  },
  {
   "cell_type": "code",
   "execution_count": 72,
   "metadata": {
    "collapsed": false
   },
   "outputs": [
    {
     "data": {
      "text/plain": [
       "1031"
      ]
     },
     "execution_count": 72,
     "metadata": {},
     "output_type": "execute_result"
    }
   ],
   "source": [
    "np.argmax(iden_matrix[:,5167])"
   ]
  },
  {
   "cell_type": "code",
   "execution_count": 73,
   "metadata": {
    "collapsed": false
   },
   "outputs": [
    {
     "data": {
      "text/plain": [
       "-0.3959062302381241"
      ]
     },
     "execution_count": 73,
     "metadata": {},
     "output_type": "execute_result"
    }
   ],
   "source": [
    "iden_matrix[1031,5167]"
   ]
  },
  {
   "cell_type": "code",
   "execution_count": 74,
   "metadata": {
    "collapsed": false
   },
   "outputs": [
    {
     "data": {
      "text/plain": [
       "{'mls': ['L-13-31-OP-60',\n",
       "  'L-13-10-PO-5',\n",
       "  'DEL SOL',\n",
       "  'SANTA ANA',\n",
       "  'MONTE TABOR',\n",
       "  'T-20-182-PO-36'],\n",
       " 'nvisitas': [1, 1, 1, 8, 6, 1],\n",
       " 'tpm': array([[ 0.        ,  1.        ,  0.        ,  0.        ,  0.        ,\n",
       "          0.        ],\n",
       "        [ 0.        ,  0.        ,  1.        ,  0.        ,  0.        ,\n",
       "          0.        ],\n",
       "        [ 0.        ,  0.        ,  0.        ,  1.        ,  0.        ,\n",
       "          0.        ],\n",
       "        [ 0.        ,  0.        ,  0.        ,  0.        ,  0.83333333,\n",
       "          0.16666667],\n",
       "        [ 0.        ,  0.        ,  0.        ,  1.        ,  0.        ,\n",
       "          0.        ],\n",
       "        [        nan,         nan,         nan,         nan,         nan,\n",
       "                 nan]]),\n",
       " 'user_id': 42922612}"
      ]
     },
     "execution_count": 74,
     "metadata": {},
     "output_type": "execute_result"
    }
   ],
   "source": [
    "users_profiles[1031]"
   ]
  },
  {
   "cell_type": "code",
   "execution_count": 75,
   "metadata": {
    "collapsed": false
   },
   "outputs": [
    {
     "data": {
      "text/html": [
       "<div>\n",
       "<table border=\"1\" class=\"dataframe\">\n",
       "  <thead>\n",
       "    <tr style=\"text-align: right;\">\n",
       "      <th></th>\n",
       "      <th>MONTE TABOR</th>\n",
       "      <th>LAS PARCELAS</th>\n",
       "      <th>SANTA ANA</th>\n",
       "      <th>E-13-54-NS-85</th>\n",
       "      <th>PLAZA MAIPU</th>\n",
       "      <th>CAL Y CANTO</th>\n",
       "    </tr>\n",
       "  </thead>\n",
       "  <tbody>\n",
       "    <tr>\n",
       "      <th>MONTE TABOR</th>\n",
       "      <td>0.000000</td>\n",
       "      <td>0.25</td>\n",
       "      <td>0.750000</td>\n",
       "      <td>0.0</td>\n",
       "      <td>0.000000</td>\n",
       "      <td>0</td>\n",
       "    </tr>\n",
       "    <tr>\n",
       "      <th>LAS PARCELAS</th>\n",
       "      <td>1.000000</td>\n",
       "      <td>0.00</td>\n",
       "      <td>0.000000</td>\n",
       "      <td>0.0</td>\n",
       "      <td>0.000000</td>\n",
       "      <td>0</td>\n",
       "    </tr>\n",
       "    <tr>\n",
       "      <th>SANTA ANA</th>\n",
       "      <td>0.800000</td>\n",
       "      <td>0.00</td>\n",
       "      <td>0.000000</td>\n",
       "      <td>0.2</td>\n",
       "      <td>0.000000</td>\n",
       "      <td>0</td>\n",
       "    </tr>\n",
       "    <tr>\n",
       "      <th>E-13-54-NS-85</th>\n",
       "      <td>0.000000</td>\n",
       "      <td>0.00</td>\n",
       "      <td>0.000000</td>\n",
       "      <td>0.0</td>\n",
       "      <td>1.000000</td>\n",
       "      <td>0</td>\n",
       "    </tr>\n",
       "    <tr>\n",
       "      <th>PLAZA MAIPU</th>\n",
       "      <td>0.000000</td>\n",
       "      <td>0.00</td>\n",
       "      <td>0.000000</td>\n",
       "      <td>0.0</td>\n",
       "      <td>0.000000</td>\n",
       "      <td>1</td>\n",
       "    </tr>\n",
       "    <tr>\n",
       "      <th>CAL Y CANTO</th>\n",
       "      <td>0.333333</td>\n",
       "      <td>0.00</td>\n",
       "      <td>0.333333</td>\n",
       "      <td>0.0</td>\n",
       "      <td>0.333333</td>\n",
       "      <td>0</td>\n",
       "    </tr>\n",
       "  </tbody>\n",
       "</table>\n",
       "</div>"
      ],
      "text/plain": [
       "               MONTE TABOR  LAS PARCELAS  SANTA ANA  E-13-54-NS-85  \\\n",
       "MONTE TABOR       0.000000          0.25   0.750000            0.0   \n",
       "LAS PARCELAS      1.000000          0.00   0.000000            0.0   \n",
       "SANTA ANA         0.800000          0.00   0.000000            0.2   \n",
       "E-13-54-NS-85     0.000000          0.00   0.000000            0.0   \n",
       "PLAZA MAIPU       0.000000          0.00   0.000000            0.0   \n",
       "CAL Y CANTO       0.333333          0.00   0.333333            0.0   \n",
       "\n",
       "               PLAZA MAIPU  CAL Y CANTO  \n",
       "MONTE TABOR       0.000000            0  \n",
       "LAS PARCELAS      0.000000            0  \n",
       "SANTA ANA         0.000000            0  \n",
       "E-13-54-NS-85     1.000000            0  \n",
       "PLAZA MAIPU       0.000000            1  \n",
       "CAL Y CANTO       0.333333            0  "
      ]
     },
     "execution_count": 75,
     "metadata": {},
     "output_type": "execute_result"
    }
   ],
   "source": [
    "up_matrix = np.matrix(users_profiles[5167][\"tpm\"])\n",
    "df_up_matrix = pd.DataFrame(up_matrix)\n",
    "df_up_matrix.columns = users_profiles[5167][\"mls\"]\n",
    "df_up_matrix.index = users_profiles[5167][\"mls\"]\n",
    "df_up_matrix"
   ]
  },
  {
   "cell_type": "code",
   "execution_count": 76,
   "metadata": {
    "collapsed": false
   },
   "outputs": [
    {
     "data": {
      "text/plain": [
       "{'mls': ['MONTE TABOR', 'SANTA ANA'],\n",
       " 'nvisitas': [10, 10],\n",
       " 'sequence': ['MONTE TABOR',\n",
       "  'SANTA ANA',\n",
       "  'MONTE TABOR',\n",
       "  'SANTA ANA',\n",
       "  'MONTE TABOR',\n",
       "  'SANTA ANA',\n",
       "  'MONTE TABOR',\n",
       "  'SANTA ANA',\n",
       "  'MONTE TABOR',\n",
       "  'SANTA ANA',\n",
       "  'MONTE TABOR'],\n",
       " 'user_id': 75489580}"
      ]
     },
     "execution_count": 76,
     "metadata": {},
     "output_type": "execute_result"
    }
   ],
   "source": [
    "profiles[5167]"
   ]
  },
  {
   "cell_type": "code",
   "execution_count": 77,
   "metadata": {
    "collapsed": false
   },
   "outputs": [
    {
     "data": {
      "text/plain": [
       "{'mls': ['VICENTE VALDES', 'SANTA ANA'],\n",
       " 'nvisitas': [10, 10],\n",
       " 'sequence': ['VICENTE VALDES',\n",
       "  'SANTA ANA',\n",
       "  'VICENTE VALDES',\n",
       "  'SANTA ANA',\n",
       "  'VICENTE VALDES',\n",
       "  'SANTA ANA',\n",
       "  'VICENTE VALDES',\n",
       "  'SANTA ANA',\n",
       "  'VICENTE VALDES',\n",
       "  'SANTA ANA',\n",
       "  'VICENTE VALDES'],\n",
       " 'user_id': 65500308}"
      ]
     },
     "execution_count": 77,
     "metadata": {},
     "output_type": "execute_result"
    }
   ],
   "source": [
    "profiles[2326]"
   ]
  },
  {
   "cell_type": "markdown",
   "metadata": {},
   "source": [
    "- Los más incorrectos"
   ]
  },
  {
   "cell_type": "markdown",
   "metadata": {},
   "source": [
    "- Usuario 3633"
   ]
  },
  {
   "cell_type": "code",
   "execution_count": 78,
   "metadata": {
    "collapsed": false
   },
   "outputs": [
    {
     "data": {
      "text/plain": [
       "{'mls': ['RONDIZONNI', 'LA CISTERNA', 'I-26-228-SN-25', 'L-23-35-OP-65'],\n",
       " 'nvisitas': [3, 9, 2, 1],\n",
       " 'tpm': array([[ 0.        ,  1.        ,  0.        ,  0.        ],\n",
       "        [ 0.33333333,  0.        ,  0.33333333,  0.33333333],\n",
       "        [ 0.25      ,  0.75      ,  0.        ,  0.        ],\n",
       "        [ 0.        ,  0.        ,  1.        ,  0.        ]]),\n",
       " 'user_id': 68598836}"
      ]
     },
     "execution_count": 78,
     "metadata": {},
     "output_type": "execute_result"
    }
   ],
   "source": [
    "users_profiles[3633]"
   ]
  },
  {
   "cell_type": "code",
   "execution_count": 79,
   "metadata": {
    "collapsed": false
   },
   "outputs": [
    {
     "data": {
      "text/plain": [
       "{'mls': ['T-23-205-SN-72',\n",
       "  'E-22-205-SN-32',\n",
       "  'SANTA ROSA',\n",
       "  'RONDIZONNI',\n",
       "  'LA CISTERNA',\n",
       "  'I-26-228-SN-25',\n",
       "  'L-23-35-PO-80',\n",
       "  'L-23-42-NS-10',\n",
       "  'L-23-35-OP-75',\n",
       "  'L-23-35-PO-70',\n",
       "  'T-26-228-SN-20',\n",
       "  'T-26-228-SN-27',\n",
       "  'L-23-35-OP-65'],\n",
       " 'nvisitas': [2, 1, 1, 12, 12, 10, 4, 2, 2, 2, 1, 1, 1],\n",
       " 'sequence': ['T-23-205-SN-72',\n",
       "  'E-22-205-SN-32',\n",
       "  'SANTA ROSA',\n",
       "  'RONDIZONNI',\n",
       "  'LA CISTERNA',\n",
       "  'I-26-228-SN-25',\n",
       "  'L-23-35-PO-80',\n",
       "  'L-23-42-NS-10',\n",
       "  'I-26-228-SN-25',\n",
       "  'LA CISTERNA',\n",
       "  'RONDIZONNI',\n",
       "  'LA CISTERNA',\n",
       "  'I-26-228-SN-25',\n",
       "  'L-23-35-PO-80',\n",
       "  'L-23-35-OP-75',\n",
       "  'I-26-228-SN-25',\n",
       "  'LA CISTERNA',\n",
       "  'RONDIZONNI',\n",
       "  'LA CISTERNA',\n",
       "  'I-26-228-SN-25',\n",
       "  'L-23-35-PO-70',\n",
       "  'T-23-205-SN-72',\n",
       "  'I-26-228-SN-25',\n",
       "  'LA CISTERNA',\n",
       "  'RONDIZONNI',\n",
       "  'LA CISTERNA',\n",
       "  'T-26-228-SN-20',\n",
       "  'L-23-35-PO-80',\n",
       "  'L-23-42-NS-10',\n",
       "  'I-26-228-SN-25',\n",
       "  'LA CISTERNA',\n",
       "  'RONDIZONNI',\n",
       "  'LA CISTERNA',\n",
       "  'I-26-228-SN-25',\n",
       "  'L-23-35-PO-80',\n",
       "  'L-23-35-PO-70',\n",
       "  'T-26-228-SN-27',\n",
       "  'LA CISTERNA',\n",
       "  'RONDIZONNI',\n",
       "  'LA CISTERNA',\n",
       "  'I-26-228-SN-25',\n",
       "  'L-23-35-OP-65',\n",
       "  'L-23-35-OP-75',\n",
       "  'I-26-228-SN-25',\n",
       "  'LA CISTERNA'],\n",
       " 'user_id': 68598836}"
      ]
     },
     "execution_count": 79,
     "metadata": {},
     "output_type": "execute_result"
    }
   ],
   "source": [
    "profiles[3633]"
   ]
  },
  {
   "cell_type": "markdown",
   "metadata": {},
   "source": [
    " - Usuario 385"
   ]
  },
  {
   "cell_type": "code",
   "execution_count": 80,
   "metadata": {
    "collapsed": false
   },
   "outputs": [
    {
     "data": {
      "text/plain": [
       "{'mls': ['BELLAVISTA DE LA FLORIDA', 'PLAZA DE ARMAS'],\n",
       " 'nvisitas': [10, 10],\n",
       " 'tpm': array([[ 0.,  1.],\n",
       "        [ 1.,  0.]]),\n",
       " 'user_id': 19306541}"
      ]
     },
     "execution_count": 80,
     "metadata": {},
     "output_type": "execute_result"
    }
   ],
   "source": [
    "users_profiles[385]"
   ]
  },
  {
   "cell_type": "code",
   "execution_count": 81,
   "metadata": {
    "collapsed": false
   },
   "outputs": [
    {
     "data": {
      "text/plain": [
       "{'mls': ['BELLAVISTA DE LA FLORIDA', 'PLAZA DE ARMAS'],\n",
       " 'nvisitas': [10, 10],\n",
       " 'sequence': ['BELLAVISTA DE LA FLORIDA',\n",
       "  'PLAZA DE ARMAS',\n",
       "  'BELLAVISTA DE LA FLORIDA',\n",
       "  'PLAZA DE ARMAS',\n",
       "  'BELLAVISTA DE LA FLORIDA',\n",
       "  'PLAZA DE ARMAS',\n",
       "  'BELLAVISTA DE LA FLORIDA',\n",
       "  'PLAZA DE ARMAS',\n",
       "  'BELLAVISTA DE LA FLORIDA',\n",
       "  'PLAZA DE ARMAS',\n",
       "  'BELLAVISTA DE LA FLORIDA'],\n",
       " 'user_id': 19306541}"
      ]
     },
     "execution_count": 81,
     "metadata": {},
     "output_type": "execute_result"
    }
   ],
   "source": [
    "profiles[385]"
   ]
  },
  {
   "cell_type": "markdown",
   "metadata": {},
   "source": [
    "- Usuario 791"
   ]
  },
  {
   "cell_type": "code",
   "execution_count": 82,
   "metadata": {
    "collapsed": false
   },
   "outputs": [
    {
     "data": {
      "text/plain": [
       "{'mls': ['MANUEL MONTT', 'UNIVERSIDAD DE CHILE'],\n",
       " 'nvisitas': [14, 14],\n",
       " 'tpm': array([[ 0.,  1.],\n",
       "        [ 1.,  0.]]),\n",
       " 'user_id': 24547373}"
      ]
     },
     "execution_count": 82,
     "metadata": {},
     "output_type": "execute_result"
    }
   ],
   "source": [
    "users_profiles[791]"
   ]
  },
  {
   "cell_type": "code",
   "execution_count": 83,
   "metadata": {
    "collapsed": false
   },
   "outputs": [
    {
     "data": {
      "text/plain": [
       "{'mls': ['MANUEL MONTT',\n",
       "  'UNIVERSIDAD DE CHILE',\n",
       "  'LA MONEDA',\n",
       "  'UNIVERSIDAD DE SANTIAGO',\n",
       "  'PEDRO DE VALDIVIA'],\n",
       " 'nvisitas': [10, 8, 2, 2, 1],\n",
       " 'sequence': ['MANUEL MONTT',\n",
       "  'UNIVERSIDAD DE CHILE',\n",
       "  'MANUEL MONTT',\n",
       "  'UNIVERSIDAD DE CHILE',\n",
       "  'MANUEL MONTT',\n",
       "  'LA MONEDA',\n",
       "  'UNIVERSIDAD DE SANTIAGO',\n",
       "  'UNIVERSIDAD DE CHILE',\n",
       "  'MANUEL MONTT',\n",
       "  'UNIVERSIDAD DE CHILE',\n",
       "  'MANUEL MONTT',\n",
       "  'PEDRO DE VALDIVIA'],\n",
       " 'user_id': 24547373}"
      ]
     },
     "execution_count": 83,
     "metadata": {},
     "output_type": "execute_result"
    }
   ],
   "source": [
    "profiles[791]"
   ]
  },
  {
   "cell_type": "code",
   "execution_count": 85,
   "metadata": {
    "collapsed": false
   },
   "outputs": [
    {
     "data": {
      "text/plain": [
       "{'mls': ['MANUEL MONTT',\n",
       "  'UNIVERSIDAD DE CHILE',\n",
       "  'LA MONEDA',\n",
       "  'UNIVERSIDAD DE SANTIAGO',\n",
       "  'PEDRO DE VALDIVIA'],\n",
       " 'nvisitas': [10, 8, 2, 2, 1],\n",
       " 'sequence': ['MANUEL MONTT',\n",
       "  'UNIVERSIDAD DE CHILE',\n",
       "  'MANUEL MONTT',\n",
       "  'UNIVERSIDAD DE CHILE',\n",
       "  'MANUEL MONTT',\n",
       "  'LA MONEDA',\n",
       "  'UNIVERSIDAD DE SANTIAGO',\n",
       "  'UNIVERSIDAD DE CHILE',\n",
       "  'MANUEL MONTT',\n",
       "  'UNIVERSIDAD DE CHILE',\n",
       "  'MANUEL MONTT',\n",
       "  'PEDRO DE VALDIVIA'],\n",
       " 'user_id': 24547373}"
      ]
     },
     "execution_count": 85,
     "metadata": {},
     "output_type": "execute_result"
    }
   ],
   "source": [
    "profiles[791]"
   ]
  },
  {
   "cell_type": "code",
   "execution_count": null,
   "metadata": {
    "collapsed": true
   },
   "outputs": [],
   "source": []
  }
 ],
 "metadata": {
  "kernelspec": {
   "display_name": "Python 2",
   "language": "python",
   "name": "python2"
  },
  "language_info": {
   "codemirror_mode": {
    "name": "ipython",
    "version": 2
   },
   "file_extension": ".py",
   "mimetype": "text/x-python",
   "name": "python",
   "nbconvert_exporter": "python",
   "pygments_lexer": "ipython2",
   "version": "2.7.11"
  }
 },
 "nbformat": 4,
 "nbformat_minor": 0
}
