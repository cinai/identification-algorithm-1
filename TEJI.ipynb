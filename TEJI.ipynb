{
 "cells": [
  {
   "cell_type": "markdown",
   "metadata": {
    "collapsed": true
   },
   "source": [
    "# Tratado de exploración Jupyter I"
   ]
  },
  {
   "cell_type": "markdown",
   "metadata": {},
   "source": [
    "## 1. Preparar los motores"
   ]
  },
  {
   "cell_type": "markdown",
   "metadata": {
    "collapsed": true
   },
   "source": [
    "- ¡Importar importar que el mundo se va a acabar!"
   ]
  },
  {
   "cell_type": "code",
   "execution_count": 2,
   "metadata": {
    "collapsed": false
   },
   "outputs": [],
   "source": [
    "import numpy as np\n",
    "import pandas as pd\n",
    "%matplotlib inline\n",
    "import matplotlib.pyplot as plt\n",
    "import time\n",
    "import pickle\n",
    "from __future__ import division\n",
    "import csv"
   ]
  },
  {
   "cell_type": "markdown",
   "metadata": {},
   "source": [
    "- Definición de funciones auxiliares"
   ]
  },
  {
   "cell_type": "code",
   "execution_count": 3,
   "metadata": {
    "collapsed": true
   },
   "outputs": [],
   "source": [
    "# Cargar diccionario de estaciones de metro\n",
    "dict_metro = {}\n",
    "with open('/home/cata/Documentos/Datois/Diccionario-EstacionesMetro.csv',mode='r') as infile:\n",
    "    reader = csv.reader(infile,delimiter=';')\n",
    "    dict_metro = {rows[5]:rows[7] for rows in reader}"
   ]
  },
  {
   "cell_type": "code",
   "execution_count": 4,
   "metadata": {
    "collapsed": false
   },
   "outputs": [],
   "source": [
    "# Función que estandariza los valores de los paraderos de subida y bajada\n",
    "def update_vals(row, data=dict_metro):    \n",
    "    if row.par_subida in data:\n",
    "        row.par_subida = data[row.par_subida]\n",
    "    if row.par_bajada in data:\n",
    "        row.par_bajada = data[row.par_bajada]\n",
    "    return row\n"
   ]
  },
  {
   "cell_type": "code",
   "execution_count": 5,
   "metadata": {
    "collapsed": false
   },
   "outputs": [],
   "source": [
    "# Función que busca los indices de los valores en la matriz que coinciden con argumento\n",
    "def quienCalzaCon(iden_matris,argumento):\n",
    "    i = 0\n",
    "    identified_indexs = []\n",
    "    limit = 5168\n",
    "    while (i<limit):\n",
    "        the_index = np.argmax(iden_matrix[:,i])\n",
    "        if(the_index==argumento):\n",
    "            identified_indexs.append(i)\n",
    "        i += 1\n",
    "    return identified_indexs\n",
    "    "
   ]
  },
  {
   "cell_type": "code",
   "execution_count": 17,
   "metadata": {
    "collapsed": true
   },
   "outputs": [],
   "source": [
    "def queryToCSV(matrix, user_id, str_diff = ''):\n",
    "    query = 'id ==' + str(user_id)\n",
    "    df_query = frame.query(query)\n",
    "    file_path =  '/home/cata/Documentos/sequences/' + str(user_id) + '_' + str_diff + '.csv'\n",
    "    df_query.to_csv(path_or_buf=file_path)"
   ]
  },
  {
   "cell_type": "markdown",
   "metadata": {},
   "source": [
    "- Leer hace bien "
   ]
  },
  {
   "cell_type": "code",
   "execution_count": 7,
   "metadata": {
    "collapsed": false
   },
   "outputs": [
    {
     "data": {
      "text/html": [
       "<div>\n",
       "<table border=\"1\" class=\"dataframe\">\n",
       "  <thead>\n",
       "    <tr style=\"text-align: right;\">\n",
       "      <th></th>\n",
       "      <th>tiempo_subida</th>\n",
       "      <th>id</th>\n",
       "      <th>x_subida</th>\n",
       "      <th>y_subida</th>\n",
       "      <th>tipo_transporte</th>\n",
       "      <th>serviciosentidovariante</th>\n",
       "      <th>tipo_dia</th>\n",
       "      <th>nviaje</th>\n",
       "      <th>netapa</th>\n",
       "      <th>x_bajada</th>\n",
       "      <th>y_bajada</th>\n",
       "      <th>tiempo_bajada</th>\n",
       "      <th>par_subida</th>\n",
       "      <th>par_bajada</th>\n",
       "      <th>zona_subida</th>\n",
       "      <th>zona_bajada</th>\n",
       "      <th>adulto</th>\n",
       "    </tr>\n",
       "  </thead>\n",
       "  <tbody>\n",
       "    <tr>\n",
       "      <th>0</th>\n",
       "      <td>2013-04-21 19:55:16</td>\n",
       "      <td>1132106</td>\n",
       "      <td>346723</td>\n",
       "      <td>6299454</td>\n",
       "      <td>BUS</td>\n",
       "      <td>T203 00I</td>\n",
       "      <td>DOMINGO</td>\n",
       "      <td>13</td>\n",
       "      <td>2</td>\n",
       "      <td>348100</td>\n",
       "      <td>6289103</td>\n",
       "      <td>2013-04-21 20:24:17</td>\n",
       "      <td>E-20-199-NS-2</td>\n",
       "      <td>T-24-205-NS-20</td>\n",
       "      <td>307</td>\n",
       "      <td>348</td>\n",
       "      <td>0</td>\n",
       "    </tr>\n",
       "    <tr>\n",
       "      <th>1</th>\n",
       "      <td>2013-04-21 19:35:52</td>\n",
       "      <td>1132106</td>\n",
       "      <td>351378</td>\n",
       "      <td>6302574</td>\n",
       "      <td>BUS</td>\n",
       "      <td>T502 00R</td>\n",
       "      <td>DOMINGO</td>\n",
       "      <td>13</td>\n",
       "      <td>1</td>\n",
       "      <td>346761</td>\n",
       "      <td>6299570</td>\n",
       "      <td>2013-04-21 19:49:12</td>\n",
       "      <td>T-15-135-OP-110</td>\n",
       "      <td>T-4-19-NS-100</td>\n",
       "      <td>188</td>\n",
       "      <td>55</td>\n",
       "      <td>0</td>\n",
       "    </tr>\n",
       "    <tr>\n",
       "      <th>2</th>\n",
       "      <td>2013-04-21 07:12:35</td>\n",
       "      <td>1132106</td>\n",
       "      <td>346722</td>\n",
       "      <td>6299393</td>\n",
       "      <td>BUS</td>\n",
       "      <td>T502 00I</td>\n",
       "      <td>DOMINGO</td>\n",
       "      <td>12</td>\n",
       "      <td>2</td>\n",
       "      <td>351366</td>\n",
       "      <td>6302551</td>\n",
       "      <td>2013-04-21 07:26:43</td>\n",
       "      <td>E-20-289-PO-5</td>\n",
       "      <td>T-15-135-PO-5</td>\n",
       "      <td>266</td>\n",
       "      <td>188</td>\n",
       "      <td>0</td>\n",
       "    </tr>\n",
       "    <tr>\n",
       "      <th>3</th>\n",
       "      <td>2013-04-21 06:42:07</td>\n",
       "      <td>1132106</td>\n",
       "      <td>348110</td>\n",
       "      <td>6289140</td>\n",
       "      <td>BUS</td>\n",
       "      <td>T203 00R</td>\n",
       "      <td>DOMINGO</td>\n",
       "      <td>12</td>\n",
       "      <td>1</td>\n",
       "      <td>346813</td>\n",
       "      <td>6299398</td>\n",
       "      <td>2013-04-21 07:04:18</td>\n",
       "      <td>T-22-205-SN-65</td>\n",
       "      <td>E-20-190-SN-40</td>\n",
       "      <td>328</td>\n",
       "      <td>307</td>\n",
       "      <td>0</td>\n",
       "    </tr>\n",
       "    <tr>\n",
       "      <th>4</th>\n",
       "      <td>2013-04-19 07:25:09</td>\n",
       "      <td>1132106</td>\n",
       "      <td>346717</td>\n",
       "      <td>6299455</td>\n",
       "      <td>BUS</td>\n",
       "      <td>T203 00I</td>\n",
       "      <td>LABORAL</td>\n",
       "      <td>11</td>\n",
       "      <td>2</td>\n",
       "      <td>NaN</td>\n",
       "      <td>NaN</td>\n",
       "      <td>NaN</td>\n",
       "      <td>E-20-199-NS-2</td>\n",
       "      <td>NaN</td>\n",
       "      <td>307</td>\n",
       "      <td>NaN</td>\n",
       "      <td>NaN</td>\n",
       "    </tr>\n",
       "  </tbody>\n",
       "</table>\n",
       "</div>"
      ],
      "text/plain": [
       "         tiempo_subida       id  x_subida  y_subida tipo_transporte  \\\n",
       "0  2013-04-21 19:55:16  1132106    346723   6299454             BUS   \n",
       "1  2013-04-21 19:35:52  1132106    351378   6302574             BUS   \n",
       "2  2013-04-21 07:12:35  1132106    346722   6299393             BUS   \n",
       "3  2013-04-21 06:42:07  1132106    348110   6289140             BUS   \n",
       "4  2013-04-19 07:25:09  1132106    346717   6299455             BUS   \n",
       "\n",
       "  serviciosentidovariante tipo_dia  nviaje  netapa  x_bajada  y_bajada  \\\n",
       "0                T203 00I  DOMINGO      13       2    348100   6289103   \n",
       "1                T502 00R  DOMINGO      13       1    346761   6299570   \n",
       "2                T502 00I  DOMINGO      12       2    351366   6302551   \n",
       "3                T203 00R  DOMINGO      12       1    346813   6299398   \n",
       "4                T203 00I  LABORAL      11       2       NaN       NaN   \n",
       "\n",
       "         tiempo_bajada       par_subida      par_bajada  zona_subida  \\\n",
       "0  2013-04-21 20:24:17    E-20-199-NS-2  T-24-205-NS-20          307   \n",
       "1  2013-04-21 19:49:12  T-15-135-OP-110   T-4-19-NS-100          188   \n",
       "2  2013-04-21 07:26:43    E-20-289-PO-5   T-15-135-PO-5          266   \n",
       "3  2013-04-21 07:04:18   T-22-205-SN-65  E-20-190-SN-40          328   \n",
       "4                  NaN    E-20-199-NS-2             NaN          307   \n",
       "\n",
       "   zona_bajada  adulto  \n",
       "0          348       0  \n",
       "1           55       0  \n",
       "2          188       0  \n",
       "3          307       0  \n",
       "4          NaN     NaN  "
      ]
     },
     "execution_count": 7,
     "metadata": {},
     "output_type": "execute_result"
    }
   ],
   "source": [
    "#frame = pd.read_csv('/home/cata/Documentos/Datois/etapas100000_abril.csv')\n",
    "frame = pd.read_csv('/home/cata/Documentos/Datois/etapas_2013_abril_allyearsids_10_100000.csv')\n",
    "frame.head()"
   ]
  },
  {
   "cell_type": "code",
   "execution_count": 8,
   "metadata": {
    "collapsed": false
   },
   "outputs": [
    {
     "name": "stdout",
     "output_type": "stream",
     "text": [
      "<class 'pandas.core.frame.DataFrame'>\n",
      "Int64Index: 100000 entries, 0 to 99999\n",
      "Data columns (total 17 columns):\n",
      "tiempo_subida              100000 non-null object\n",
      "id                         100000 non-null int64\n",
      "x_subida                   99224 non-null float64\n",
      "y_subida                   99224 non-null float64\n",
      "tipo_transporte            100000 non-null object\n",
      "serviciosentidovariante    98074 non-null object\n",
      "tipo_dia                   100000 non-null object\n",
      "nviaje                     100000 non-null int64\n",
      "netapa                     100000 non-null int64\n",
      "x_bajada                   86774 non-null float64\n",
      "y_bajada                   86774 non-null float64\n",
      "tiempo_bajada              86774 non-null object\n",
      "par_subida                 99195 non-null object\n",
      "par_bajada                 86767 non-null object\n",
      "zona_subida                99180 non-null float64\n",
      "zona_bajada                86764 non-null float64\n",
      "adulto                     86774 non-null float64\n",
      "dtypes: float64(7), int64(3), object(7)\n",
      "memory usage: 13.7+ MB\n"
     ]
    }
   ],
   "source": [
    "frame.info()"
   ]
  },
  {
   "cell_type": "markdown",
   "metadata": {},
   "source": [
    "- Paso los tiempos de string a timestamp para luego calcular la diferencia entre una transacción y otra"
   ]
  },
  {
   "cell_type": "code",
   "execution_count": 9,
   "metadata": {
    "collapsed": false
   },
   "outputs": [],
   "source": [
    "frame['tiempo_subida'] = pd.to_datetime(frame.tiempo_subida)\n",
    "frame = frame.sort_values(by=['id', 'tiempo_subida'])"
   ]
  },
  {
   "cell_type": "code",
   "execution_count": 10,
   "metadata": {
    "collapsed": false
   },
   "outputs": [],
   "source": [
    "frame['diferencia_tiempo'] = (frame['tiempo_subida']-frame['tiempo_subida'].shift()).fillna(0)"
   ]
  },
  {
   "cell_type": "code",
   "execution_count": 11,
   "metadata": {
    "collapsed": false
   },
   "outputs": [
    {
     "data": {
      "text/html": [
       "<div>\n",
       "<table border=\"1\" class=\"dataframe\">\n",
       "  <thead>\n",
       "    <tr style=\"text-align: right;\">\n",
       "      <th></th>\n",
       "      <th>tiempo_subida</th>\n",
       "      <th>id</th>\n",
       "      <th>x_subida</th>\n",
       "      <th>y_subida</th>\n",
       "      <th>tipo_transporte</th>\n",
       "      <th>serviciosentidovariante</th>\n",
       "      <th>tipo_dia</th>\n",
       "      <th>nviaje</th>\n",
       "      <th>netapa</th>\n",
       "      <th>x_bajada</th>\n",
       "      <th>y_bajada</th>\n",
       "      <th>tiempo_bajada</th>\n",
       "      <th>par_subida</th>\n",
       "      <th>par_bajada</th>\n",
       "      <th>zona_subida</th>\n",
       "      <th>zona_bajada</th>\n",
       "      <th>adulto</th>\n",
       "      <th>diferencia_tiempo</th>\n",
       "    </tr>\n",
       "  </thead>\n",
       "  <tbody>\n",
       "    <tr>\n",
       "      <th>23</th>\n",
       "      <td>2013-04-14 06:45:44</td>\n",
       "      <td>1132106</td>\n",
       "      <td>348108</td>\n",
       "      <td>6289153</td>\n",
       "      <td>BUS</td>\n",
       "      <td>T203 00R</td>\n",
       "      <td>DOMINGO</td>\n",
       "      <td>1</td>\n",
       "      <td>1</td>\n",
       "      <td>346818</td>\n",
       "      <td>6299394</td>\n",
       "      <td>2013-04-14 07:07:02</td>\n",
       "      <td>T-22-205-SN-65</td>\n",
       "      <td>E-20-190-SN-40</td>\n",
       "      <td>328</td>\n",
       "      <td>307</td>\n",
       "      <td>0</td>\n",
       "      <td>0 days 00:00:00</td>\n",
       "    </tr>\n",
       "    <tr>\n",
       "      <th>22</th>\n",
       "      <td>2013-04-14 07:51:52</td>\n",
       "      <td>1132106</td>\n",
       "      <td>346751</td>\n",
       "      <td>6299389</td>\n",
       "      <td>BUS</td>\n",
       "      <td>T502 00I</td>\n",
       "      <td>DOMINGO</td>\n",
       "      <td>2</td>\n",
       "      <td>1</td>\n",
       "      <td>351363</td>\n",
       "      <td>6302549</td>\n",
       "      <td>2013-04-14 08:04:11</td>\n",
       "      <td>E-20-291-PO-20</td>\n",
       "      <td>T-15-135-PO-5</td>\n",
       "      <td>307</td>\n",
       "      <td>188</td>\n",
       "      <td>0</td>\n",
       "      <td>0 days 01:06:08</td>\n",
       "    </tr>\n",
       "    <tr>\n",
       "      <th>21</th>\n",
       "      <td>2013-04-14 19:56:47</td>\n",
       "      <td>1132106</td>\n",
       "      <td>351368</td>\n",
       "      <td>6302559</td>\n",
       "      <td>BUS</td>\n",
       "      <td>T502 00R</td>\n",
       "      <td>DOMINGO</td>\n",
       "      <td>3</td>\n",
       "      <td>1</td>\n",
       "      <td>346763</td>\n",
       "      <td>6299568</td>\n",
       "      <td>2013-04-14 20:09:11</td>\n",
       "      <td>T-15-135-OP-110</td>\n",
       "      <td>T-4-19-NS-100</td>\n",
       "      <td>188</td>\n",
       "      <td>55</td>\n",
       "      <td>0</td>\n",
       "      <td>0 days 12:04:55</td>\n",
       "    </tr>\n",
       "    <tr>\n",
       "      <th>20</th>\n",
       "      <td>2013-04-14 20:15:25</td>\n",
       "      <td>1132106</td>\n",
       "      <td>346713</td>\n",
       "      <td>6299427</td>\n",
       "      <td>BUS</td>\n",
       "      <td>T203 00I</td>\n",
       "      <td>DOMINGO</td>\n",
       "      <td>3</td>\n",
       "      <td>2</td>\n",
       "      <td>348095</td>\n",
       "      <td>6289148</td>\n",
       "      <td>2013-04-14 20:40:51</td>\n",
       "      <td>E-20-199-NS-2</td>\n",
       "      <td>T-24-205-NS-20</td>\n",
       "      <td>307</td>\n",
       "      <td>348</td>\n",
       "      <td>0</td>\n",
       "      <td>0 days 00:18:38</td>\n",
       "    </tr>\n",
       "    <tr>\n",
       "      <th>19</th>\n",
       "      <td>2013-04-15 21:04:59</td>\n",
       "      <td>1132106</td>\n",
       "      <td>348103</td>\n",
       "      <td>6289191</td>\n",
       "      <td>BUS</td>\n",
       "      <td>T206 00R</td>\n",
       "      <td>LABORAL</td>\n",
       "      <td>4</td>\n",
       "      <td>1</td>\n",
       "      <td>346844</td>\n",
       "      <td>6299320</td>\n",
       "      <td>2013-04-15 21:33:23</td>\n",
       "      <td>T-22-205-SN-65</td>\n",
       "      <td>T-20-190-SN-35</td>\n",
       "      <td>328</td>\n",
       "      <td>309</td>\n",
       "      <td>0</td>\n",
       "      <td>1 days 00:49:34</td>\n",
       "    </tr>\n",
       "  </tbody>\n",
       "</table>\n",
       "</div>"
      ],
      "text/plain": [
       "         tiempo_subida       id  x_subida  y_subida tipo_transporte  \\\n",
       "23 2013-04-14 06:45:44  1132106    348108   6289153             BUS   \n",
       "22 2013-04-14 07:51:52  1132106    346751   6299389             BUS   \n",
       "21 2013-04-14 19:56:47  1132106    351368   6302559             BUS   \n",
       "20 2013-04-14 20:15:25  1132106    346713   6299427             BUS   \n",
       "19 2013-04-15 21:04:59  1132106    348103   6289191             BUS   \n",
       "\n",
       "   serviciosentidovariante tipo_dia  nviaje  netapa  x_bajada  y_bajada  \\\n",
       "23                T203 00R  DOMINGO       1       1    346818   6299394   \n",
       "22                T502 00I  DOMINGO       2       1    351363   6302549   \n",
       "21                T502 00R  DOMINGO       3       1    346763   6299568   \n",
       "20                T203 00I  DOMINGO       3       2    348095   6289148   \n",
       "19                T206 00R  LABORAL       4       1    346844   6299320   \n",
       "\n",
       "          tiempo_bajada       par_subida      par_bajada  zona_subida  \\\n",
       "23  2013-04-14 07:07:02   T-22-205-SN-65  E-20-190-SN-40          328   \n",
       "22  2013-04-14 08:04:11   E-20-291-PO-20   T-15-135-PO-5          307   \n",
       "21  2013-04-14 20:09:11  T-15-135-OP-110   T-4-19-NS-100          188   \n",
       "20  2013-04-14 20:40:51    E-20-199-NS-2  T-24-205-NS-20          307   \n",
       "19  2013-04-15 21:33:23   T-22-205-SN-65  T-20-190-SN-35          328   \n",
       "\n",
       "    zona_bajada  adulto  diferencia_tiempo  \n",
       "23          307       0    0 days 00:00:00  \n",
       "22          188       0    0 days 01:06:08  \n",
       "21           55       0    0 days 12:04:55  \n",
       "20          348       0    0 days 00:18:38  \n",
       "19          309       0    1 days 00:49:34  "
      ]
     },
     "execution_count": 11,
     "metadata": {},
     "output_type": "execute_result"
    }
   ],
   "source": [
    "frame.head()"
   ]
  },
  {
   "cell_type": "markdown",
   "metadata": {},
   "source": [
    "- Elimino las columnas que no usaré (cuidado, correr solo una vez :)"
   ]
  },
  {
   "cell_type": "code",
   "execution_count": 12,
   "metadata": {
    "collapsed": false
   },
   "outputs": [
    {
     "data": {
      "text/html": [
       "<div>\n",
       "<table border=\"1\" class=\"dataframe\">\n",
       "  <thead>\n",
       "    <tr style=\"text-align: right;\">\n",
       "      <th></th>\n",
       "      <th>tiempo_subida</th>\n",
       "      <th>id</th>\n",
       "      <th>tipo_dia</th>\n",
       "      <th>nviaje</th>\n",
       "      <th>netapa</th>\n",
       "      <th>par_subida</th>\n",
       "      <th>par_bajada</th>\n",
       "      <th>diferencia_tiempo</th>\n",
       "    </tr>\n",
       "  </thead>\n",
       "  <tbody>\n",
       "    <tr>\n",
       "      <th>23</th>\n",
       "      <td>2013-04-14 06:45:44</td>\n",
       "      <td>1132106</td>\n",
       "      <td>DOMINGO</td>\n",
       "      <td>1</td>\n",
       "      <td>1</td>\n",
       "      <td>T-22-205-SN-65</td>\n",
       "      <td>E-20-190-SN-40</td>\n",
       "      <td>0 days 00:00:00</td>\n",
       "    </tr>\n",
       "    <tr>\n",
       "      <th>22</th>\n",
       "      <td>2013-04-14 07:51:52</td>\n",
       "      <td>1132106</td>\n",
       "      <td>DOMINGO</td>\n",
       "      <td>2</td>\n",
       "      <td>1</td>\n",
       "      <td>E-20-291-PO-20</td>\n",
       "      <td>T-15-135-PO-5</td>\n",
       "      <td>0 days 01:06:08</td>\n",
       "    </tr>\n",
       "    <tr>\n",
       "      <th>21</th>\n",
       "      <td>2013-04-14 19:56:47</td>\n",
       "      <td>1132106</td>\n",
       "      <td>DOMINGO</td>\n",
       "      <td>3</td>\n",
       "      <td>1</td>\n",
       "      <td>T-15-135-OP-110</td>\n",
       "      <td>T-4-19-NS-100</td>\n",
       "      <td>0 days 12:04:55</td>\n",
       "    </tr>\n",
       "    <tr>\n",
       "      <th>20</th>\n",
       "      <td>2013-04-14 20:15:25</td>\n",
       "      <td>1132106</td>\n",
       "      <td>DOMINGO</td>\n",
       "      <td>3</td>\n",
       "      <td>2</td>\n",
       "      <td>E-20-199-NS-2</td>\n",
       "      <td>T-24-205-NS-20</td>\n",
       "      <td>0 days 00:18:38</td>\n",
       "    </tr>\n",
       "    <tr>\n",
       "      <th>19</th>\n",
       "      <td>2013-04-15 21:04:59</td>\n",
       "      <td>1132106</td>\n",
       "      <td>LABORAL</td>\n",
       "      <td>4</td>\n",
       "      <td>1</td>\n",
       "      <td>T-22-205-SN-65</td>\n",
       "      <td>T-20-190-SN-35</td>\n",
       "      <td>1 days 00:49:34</td>\n",
       "    </tr>\n",
       "  </tbody>\n",
       "</table>\n",
       "</div>"
      ],
      "text/plain": [
       "         tiempo_subida       id tipo_dia  nviaje  netapa       par_subida  \\\n",
       "23 2013-04-14 06:45:44  1132106  DOMINGO       1       1   T-22-205-SN-65   \n",
       "22 2013-04-14 07:51:52  1132106  DOMINGO       2       1   E-20-291-PO-20   \n",
       "21 2013-04-14 19:56:47  1132106  DOMINGO       3       1  T-15-135-OP-110   \n",
       "20 2013-04-14 20:15:25  1132106  DOMINGO       3       2    E-20-199-NS-2   \n",
       "19 2013-04-15 21:04:59  1132106  LABORAL       4       1   T-22-205-SN-65   \n",
       "\n",
       "        par_bajada  diferencia_tiempo  \n",
       "23  E-20-190-SN-40    0 days 00:00:00  \n",
       "22   T-15-135-PO-5    0 days 01:06:08  \n",
       "21   T-4-19-NS-100    0 days 12:04:55  \n",
       "20  T-24-205-NS-20    0 days 00:18:38  \n",
       "19  T-20-190-SN-35    1 days 00:49:34  "
      ]
     },
     "execution_count": 12,
     "metadata": {},
     "output_type": "execute_result"
    }
   ],
   "source": [
    "frame.drop(frame.columns[[2,3,4,5,9,10,11,14,15,16]], axis=1, inplace=True)\n",
    "frame.head()"
   ]
  },
  {
   "cell_type": "markdown",
   "metadata": {},
   "source": [
    "- Falta estandarizar estaciones de metro con dos nombres"
   ]
  },
  {
   "cell_type": "code",
   "execution_count": 13,
   "metadata": {
    "collapsed": false,
    "scrolled": true
   },
   "outputs": [
    {
     "data": {
      "text/html": [
       "<div>\n",
       "<table border=\"1\" class=\"dataframe\">\n",
       "  <thead>\n",
       "    <tr style=\"text-align: right;\">\n",
       "      <th></th>\n",
       "      <th>tiempo_subida</th>\n",
       "      <th>id</th>\n",
       "      <th>tipo_dia</th>\n",
       "      <th>nviaje</th>\n",
       "      <th>netapa</th>\n",
       "      <th>par_subida</th>\n",
       "      <th>par_bajada</th>\n",
       "      <th>diferencia_tiempo</th>\n",
       "    </tr>\n",
       "  </thead>\n",
       "  <tbody>\n",
       "    <tr>\n",
       "      <th>23</th>\n",
       "      <td>2013-04-14 06:45:44</td>\n",
       "      <td>1132106</td>\n",
       "      <td>DOMINGO</td>\n",
       "      <td>1</td>\n",
       "      <td>1</td>\n",
       "      <td>T-22-205-SN-65</td>\n",
       "      <td>E-20-190-SN-40</td>\n",
       "      <td>0 days 00:00:00</td>\n",
       "    </tr>\n",
       "    <tr>\n",
       "      <th>22</th>\n",
       "      <td>2013-04-14 07:51:52</td>\n",
       "      <td>1132106</td>\n",
       "      <td>DOMINGO</td>\n",
       "      <td>2</td>\n",
       "      <td>1</td>\n",
       "      <td>E-20-291-PO-20</td>\n",
       "      <td>T-15-135-PO-5</td>\n",
       "      <td>0 days 01:06:08</td>\n",
       "    </tr>\n",
       "    <tr>\n",
       "      <th>21</th>\n",
       "      <td>2013-04-14 19:56:47</td>\n",
       "      <td>1132106</td>\n",
       "      <td>DOMINGO</td>\n",
       "      <td>3</td>\n",
       "      <td>1</td>\n",
       "      <td>T-15-135-OP-110</td>\n",
       "      <td>T-4-19-NS-100</td>\n",
       "      <td>0 days 12:04:55</td>\n",
       "    </tr>\n",
       "    <tr>\n",
       "      <th>20</th>\n",
       "      <td>2013-04-14 20:15:25</td>\n",
       "      <td>1132106</td>\n",
       "      <td>DOMINGO</td>\n",
       "      <td>3</td>\n",
       "      <td>2</td>\n",
       "      <td>E-20-199-NS-2</td>\n",
       "      <td>T-24-205-NS-20</td>\n",
       "      <td>0 days 00:18:38</td>\n",
       "    </tr>\n",
       "    <tr>\n",
       "      <th>19</th>\n",
       "      <td>2013-04-15 21:04:59</td>\n",
       "      <td>1132106</td>\n",
       "      <td>LABORAL</td>\n",
       "      <td>4</td>\n",
       "      <td>1</td>\n",
       "      <td>T-22-205-SN-65</td>\n",
       "      <td>T-20-190-SN-35</td>\n",
       "      <td>1 days 00:49:34</td>\n",
       "    </tr>\n",
       "  </tbody>\n",
       "</table>\n",
       "</div>"
      ],
      "text/plain": [
       "         tiempo_subida       id tipo_dia  nviaje  netapa       par_subida  \\\n",
       "23 2013-04-14 06:45:44  1132106  DOMINGO       1       1   T-22-205-SN-65   \n",
       "22 2013-04-14 07:51:52  1132106  DOMINGO       2       1   E-20-291-PO-20   \n",
       "21 2013-04-14 19:56:47  1132106  DOMINGO       3       1  T-15-135-OP-110   \n",
       "20 2013-04-14 20:15:25  1132106  DOMINGO       3       2    E-20-199-NS-2   \n",
       "19 2013-04-15 21:04:59  1132106  LABORAL       4       1   T-22-205-SN-65   \n",
       "\n",
       "        par_bajada  diferencia_tiempo  \n",
       "23  E-20-190-SN-40    0 days 00:00:00  \n",
       "22   T-15-135-PO-5    0 days 01:06:08  \n",
       "21   T-4-19-NS-100    0 days 12:04:55  \n",
       "20  T-24-205-NS-20    0 days 00:18:38  \n",
       "19  T-20-190-SN-35    1 days 00:49:34  "
      ]
     },
     "execution_count": 13,
     "metadata": {},
     "output_type": "execute_result"
    }
   ],
   "source": [
    "frame.apply(update_vals, axis=1)\n",
    "frame.head()"
   ]
  },
  {
   "cell_type": "code",
   "execution_count": 14,
   "metadata": {
    "collapsed": false
   },
   "outputs": [
    {
     "data": {
      "text/html": [
       "<div>\n",
       "<table border=\"1\" class=\"dataframe\">\n",
       "  <thead>\n",
       "    <tr style=\"text-align: right;\">\n",
       "      <th></th>\n",
       "      <th>tiempo_subida</th>\n",
       "      <th>id</th>\n",
       "      <th>tipo_dia</th>\n",
       "      <th>nviaje</th>\n",
       "      <th>netapa</th>\n",
       "      <th>par_subida</th>\n",
       "      <th>par_bajada</th>\n",
       "      <th>diferencia_tiempo</th>\n",
       "    </tr>\n",
       "  </thead>\n",
       "  <tbody>\n",
       "    <tr>\n",
       "      <th>15547</th>\n",
       "      <td>2013-04-15 08:40:05</td>\n",
       "      <td>24547373</td>\n",
       "      <td>LABORAL</td>\n",
       "      <td>1</td>\n",
       "      <td>1</td>\n",
       "      <td>MANUEL MONTT</td>\n",
       "      <td>UNIVERSIDAD DE CHILE</td>\n",
       "      <td>-6 days +15:29:15</td>\n",
       "    </tr>\n",
       "    <tr>\n",
       "      <th>15546</th>\n",
       "      <td>2013-04-15 13:21:49</td>\n",
       "      <td>24547373</td>\n",
       "      <td>LABORAL</td>\n",
       "      <td>2</td>\n",
       "      <td>1</td>\n",
       "      <td>UNIVERSIDAD DE CHILE</td>\n",
       "      <td>MANUEL MONTT</td>\n",
       "      <td>0 days 04:41:44</td>\n",
       "    </tr>\n",
       "    <tr>\n",
       "      <th>15545</th>\n",
       "      <td>2013-04-15 14:40:58</td>\n",
       "      <td>24547373</td>\n",
       "      <td>LABORAL</td>\n",
       "      <td>3</td>\n",
       "      <td>1</td>\n",
       "      <td>MANUEL MONTT</td>\n",
       "      <td>UNIVERSIDAD DE CHILE</td>\n",
       "      <td>0 days 01:19:09</td>\n",
       "    </tr>\n",
       "    <tr>\n",
       "      <th>15544</th>\n",
       "      <td>2013-04-15 19:05:37</td>\n",
       "      <td>24547373</td>\n",
       "      <td>LABORAL</td>\n",
       "      <td>4</td>\n",
       "      <td>1</td>\n",
       "      <td>UNIVERSIDAD DE CHILE</td>\n",
       "      <td>MANUEL MONTT</td>\n",
       "      <td>0 days 04:24:39</td>\n",
       "    </tr>\n",
       "    <tr>\n",
       "      <th>15543</th>\n",
       "      <td>2013-04-16 08:41:59</td>\n",
       "      <td>24547373</td>\n",
       "      <td>LABORAL</td>\n",
       "      <td>5</td>\n",
       "      <td>1</td>\n",
       "      <td>MANUEL MONTT</td>\n",
       "      <td>UNIVERSIDAD DE CHILE</td>\n",
       "      <td>0 days 13:36:22</td>\n",
       "    </tr>\n",
       "    <tr>\n",
       "      <th>15542</th>\n",
       "      <td>2013-04-16 20:08:27</td>\n",
       "      <td>24547373</td>\n",
       "      <td>LABORAL</td>\n",
       "      <td>6</td>\n",
       "      <td>1</td>\n",
       "      <td>UNIVERSIDAD DE CHILE</td>\n",
       "      <td>MANUEL MONTT</td>\n",
       "      <td>0 days 11:26:28</td>\n",
       "    </tr>\n",
       "    <tr>\n",
       "      <th>15541</th>\n",
       "      <td>2013-04-17 08:31:43</td>\n",
       "      <td>24547373</td>\n",
       "      <td>LABORAL</td>\n",
       "      <td>7</td>\n",
       "      <td>1</td>\n",
       "      <td>MANUEL MONTT</td>\n",
       "      <td>UNIVERSIDAD DE CHILE</td>\n",
       "      <td>0 days 12:23:16</td>\n",
       "    </tr>\n",
       "    <tr>\n",
       "      <th>15540</th>\n",
       "      <td>2013-04-17 12:48:11</td>\n",
       "      <td>24547373</td>\n",
       "      <td>LABORAL</td>\n",
       "      <td>8</td>\n",
       "      <td>1</td>\n",
       "      <td>UNIVERSIDAD DE CHILE</td>\n",
       "      <td>MANUEL MONTT</td>\n",
       "      <td>0 days 04:16:28</td>\n",
       "    </tr>\n",
       "    <tr>\n",
       "      <th>15539</th>\n",
       "      <td>2013-04-17 14:46:06</td>\n",
       "      <td>24547373</td>\n",
       "      <td>LABORAL</td>\n",
       "      <td>9</td>\n",
       "      <td>1</td>\n",
       "      <td>MANUEL MONTT</td>\n",
       "      <td>UNIVERSIDAD DE CHILE</td>\n",
       "      <td>0 days 01:57:55</td>\n",
       "    </tr>\n",
       "    <tr>\n",
       "      <th>15538</th>\n",
       "      <td>2013-04-17 20:18:04</td>\n",
       "      <td>24547373</td>\n",
       "      <td>LABORAL</td>\n",
       "      <td>10</td>\n",
       "      <td>1</td>\n",
       "      <td>UNIVERSIDAD DE CHILE</td>\n",
       "      <td>MANUEL MONTT</td>\n",
       "      <td>0 days 05:31:58</td>\n",
       "    </tr>\n",
       "    <tr>\n",
       "      <th>15537</th>\n",
       "      <td>2013-04-18 08:46:20</td>\n",
       "      <td>24547373</td>\n",
       "      <td>LABORAL</td>\n",
       "      <td>11</td>\n",
       "      <td>1</td>\n",
       "      <td>MANUEL MONTT</td>\n",
       "      <td>UNIVERSIDAD DE CHILE</td>\n",
       "      <td>0 days 12:28:16</td>\n",
       "    </tr>\n",
       "    <tr>\n",
       "      <th>15536</th>\n",
       "      <td>2013-04-18 19:55:43</td>\n",
       "      <td>24547373</td>\n",
       "      <td>LABORAL</td>\n",
       "      <td>12</td>\n",
       "      <td>1</td>\n",
       "      <td>UNIVERSIDAD DE CHILE</td>\n",
       "      <td>MANUEL MONTT</td>\n",
       "      <td>0 days 11:09:23</td>\n",
       "    </tr>\n",
       "    <tr>\n",
       "      <th>15535</th>\n",
       "      <td>2013-04-19 08:40:10</td>\n",
       "      <td>24547373</td>\n",
       "      <td>LABORAL</td>\n",
       "      <td>13</td>\n",
       "      <td>1</td>\n",
       "      <td>MANUEL MONTT</td>\n",
       "      <td>UNIVERSIDAD DE CHILE</td>\n",
       "      <td>0 days 12:44:27</td>\n",
       "    </tr>\n",
       "    <tr>\n",
       "      <th>15534</th>\n",
       "      <td>2013-04-19 17:56:55</td>\n",
       "      <td>24547373</td>\n",
       "      <td>LABORAL</td>\n",
       "      <td>14</td>\n",
       "      <td>1</td>\n",
       "      <td>UNIVERSIDAD DE CHILE</td>\n",
       "      <td>MANUEL MONTT</td>\n",
       "      <td>0 days 09:16:45</td>\n",
       "    </tr>\n",
       "  </tbody>\n",
       "</table>\n",
       "</div>"
      ],
      "text/plain": [
       "            tiempo_subida        id tipo_dia  nviaje  netapa  \\\n",
       "15547 2013-04-15 08:40:05  24547373  LABORAL       1       1   \n",
       "15546 2013-04-15 13:21:49  24547373  LABORAL       2       1   \n",
       "15545 2013-04-15 14:40:58  24547373  LABORAL       3       1   \n",
       "15544 2013-04-15 19:05:37  24547373  LABORAL       4       1   \n",
       "15543 2013-04-16 08:41:59  24547373  LABORAL       5       1   \n",
       "15542 2013-04-16 20:08:27  24547373  LABORAL       6       1   \n",
       "15541 2013-04-17 08:31:43  24547373  LABORAL       7       1   \n",
       "15540 2013-04-17 12:48:11  24547373  LABORAL       8       1   \n",
       "15539 2013-04-17 14:46:06  24547373  LABORAL       9       1   \n",
       "15538 2013-04-17 20:18:04  24547373  LABORAL      10       1   \n",
       "15537 2013-04-18 08:46:20  24547373  LABORAL      11       1   \n",
       "15536 2013-04-18 19:55:43  24547373  LABORAL      12       1   \n",
       "15535 2013-04-19 08:40:10  24547373  LABORAL      13       1   \n",
       "15534 2013-04-19 17:56:55  24547373  LABORAL      14       1   \n",
       "\n",
       "                 par_subida            par_bajada  diferencia_tiempo  \n",
       "15547          MANUEL MONTT  UNIVERSIDAD DE CHILE  -6 days +15:29:15  \n",
       "15546  UNIVERSIDAD DE CHILE          MANUEL MONTT    0 days 04:41:44  \n",
       "15545          MANUEL MONTT  UNIVERSIDAD DE CHILE    0 days 01:19:09  \n",
       "15544  UNIVERSIDAD DE CHILE          MANUEL MONTT    0 days 04:24:39  \n",
       "15543          MANUEL MONTT  UNIVERSIDAD DE CHILE    0 days 13:36:22  \n",
       "15542  UNIVERSIDAD DE CHILE          MANUEL MONTT    0 days 11:26:28  \n",
       "15541          MANUEL MONTT  UNIVERSIDAD DE CHILE    0 days 12:23:16  \n",
       "15540  UNIVERSIDAD DE CHILE          MANUEL MONTT    0 days 04:16:28  \n",
       "15539          MANUEL MONTT  UNIVERSIDAD DE CHILE    0 days 01:57:55  \n",
       "15538  UNIVERSIDAD DE CHILE          MANUEL MONTT    0 days 05:31:58  \n",
       "15537          MANUEL MONTT  UNIVERSIDAD DE CHILE    0 days 12:28:16  \n",
       "15536  UNIVERSIDAD DE CHILE          MANUEL MONTT    0 days 11:09:23  \n",
       "15535          MANUEL MONTT  UNIVERSIDAD DE CHILE    0 days 12:44:27  \n",
       "15534  UNIVERSIDAD DE CHILE          MANUEL MONTT    0 days 09:16:45  "
      ]
     },
     "execution_count": 14,
     "metadata": {},
     "output_type": "execute_result"
    }
   ],
   "source": [
    "frame.query('id ==24547373')"
   ]
  },
  {
   "cell_type": "code",
   "execution_count": 18,
   "metadata": {
    "collapsed": false
   },
   "outputs": [],
   "source": [
    "queryToCSV(frame,24547373)"
   ]
  },
  {
   "cell_type": "markdown",
   "metadata": {},
   "source": [
    "- Explorar los periodos de tiempo en distintas locaciones"
   ]
  },
  {
   "cell_type": "code",
   "execution_count": 11,
   "metadata": {
    "collapsed": true
   },
   "outputs": [],
   "source": [
    "## TODO"
   ]
  },
  {
   "cell_type": "markdown",
   "metadata": {},
   "source": [
    "## 2. Crear perfiles de usuarios con las locaciones mínimas y la matriz TPM"
   ]
  },
  {
   "cell_type": "code",
   "execution_count": 18,
   "metadata": {
    "collapsed": true
   },
   "outputs": [],
   "source": [
    "tpm = [] # Transition Probability Matrix (TPM)\n",
    "mls = [] # minimum location set (mlt)\n",
    "nvisitas = [] # diccionario contador de visitas a cada locación\n",
    "profile = {} # diccionario con tpm y mls para cada usuario\n",
    "users_profiles= [] # arreglo de diccionarios\n",
    "nlocations = [] # arreglo con el numero de locaciones por cada usuario\n",
    "last_id = 0\n",
    "last_stop = \"\"\n",
    "last_stop_index = 0\n",
    "counter = 0\n",
    "matrix_size = 30 # maximo numero de posiciones admitidas por usuario"
   ]
  },
  {
   "cell_type": "code",
   "execution_count": 19,
   "metadata": {
    "collapsed": false
   },
   "outputs": [],
   "source": [
    "for transaction in zip(frame['id'], frame['par_subida'], frame['par_bajada']):\n",
    "    counter +=1\n",
    "    user_id = transaction[0]\n",
    "    par_subida = transaction[1]\n",
    "    par_bajada = transaction[2]\n",
    "    # no se pierde el paradero de bajada, porque cuando no hay subida no se puede estimar la bajada\n",
    "    if (par_subida!=par_subida):\n",
    "        continue        \n",
    "    if (user_id!=last_id):\n",
    "        # si ya paso una vuelta, agregar TPM y minimum location set a users_profiles\n",
    "        if(counter>1):\n",
    "            n_locations = len(mls)\n",
    "            nlocations.append(n_locations)\n",
    "            tpm = tpm[0:n_locations,0:n_locations]\n",
    "            tpm = tpm/tpm.sum(axis=1)[:,None]\n",
    "            profile = {'user_id':last_id,'mls':mls,'tpm':tpm,'nvisitas':nvisitas}\n",
    "            users_profiles.append(profile)\n",
    "        # construir nueva TPM y mls no vacia para que no se caiga\n",
    "        last_id = user_id\n",
    "        tpm = np.zeros((matrix_size,matrix_size))\n",
    "        mls = [par_subida]\n",
    "        last_stop = par_subida\n",
    "        last_stop_index = 0\n",
    "        nvisitas = [0]\n",
    "        counter = 1\n",
    "    # buscar si la locación ya había sido visitada \n",
    "    try:\n",
    "        index_subida = mls.index(par_subida)\n",
    "    except ValueError:\n",
    "        index_subida = -1\n",
    "    # si la subida no había sido visitada se debe agregar al mls\n",
    "    if (index_subida < 0):\n",
    "        if(len(mls)<matrix_size-1):\n",
    "            mls.append(par_subida)\n",
    "            nvisitas.append(1)\n",
    "            index_subida = len(mls) - 1\n",
    "            if(par_subida!=last_stop):\n",
    "                tpm[last_stop_index,index_subida] +=1\n",
    "            # si la bajada no se pudo calcular solo se considera la subida y \n",
    "            # se deja para calcular tpm en la proxima ronda \n",
    "            if (par_bajada!=par_bajada):\n",
    "                last_stop = par_subida\n",
    "                last_stop_index = index_subida\n",
    "            else:\n",
    "                try:\n",
    "                    index_bajada = mls.index(par_bajada)\n",
    "                except ValueError:\n",
    "                    index_bajada = -1\n",
    "                # si la bajada no se había visitado antes, agregar bajada y sumar nvisitas \n",
    "                if (index_bajada < 0):\n",
    "                    mls.append(par_bajada)\n",
    "                    nvisitas.append(1)\n",
    "                    index_bajada = len(mls) - 1\n",
    "                    tpm[index_subida,index_bajada] +=1\n",
    "                # sumar nvisita \n",
    "                else:\n",
    "                    if(index_subida!=index_bajada):\n",
    "                        nvisitas[index_bajada] = nvisitas[index_bajada]+1\n",
    "                        tpm[index_subida,index_bajada] +=1\n",
    "                last_stop = par_bajada\n",
    "                last_stop_index = index_bajada\n",
    "    else:\n",
    "        nvisitas[index_subida] = nvisitas[index_subida]+1\n",
    "        if(par_subida!=last_stop):\n",
    "                tpm[last_stop_index,index_subida] +=1\n",
    "        # subida estaba de antes y no hay bajada\n",
    "        # REVISAR SI ESTO NO ES REDUNDANTE!\n",
    "        if (par_bajada!=par_bajada):\n",
    "            last_stop = par_subida\n",
    "            last_stop_index = index_subida\n",
    "        # hay subida y bajada\n",
    "        else:\n",
    "            try:\n",
    "                index_bajada = mls.index(par_bajada)\n",
    "            except ValueError:\n",
    "                index_bajada = -1\n",
    "            # hay bajada pero no estaba antes\n",
    "            if (index_bajada<0):\n",
    "                if(len(mls)<matrix_size-1):\n",
    "                    mls.append(par_bajada)\n",
    "                    last_stop = par_bajada\n",
    "                    nvisitas.append(1)\n",
    "                    index_bajada = len(mls) - 1\n",
    "                    last_stop_index = index_bajada\n",
    "                    tpm[index_subida,index_bajada] +=1\n",
    "                else:\n",
    "                    last_stop = par_subida\n",
    "                    last_stop_index = index_subida\n",
    "            # subida y bajada estaban de antes\n",
    "            else:\n",
    "                if(index_bajada!=index_subida):\n",
    "                    nvisitas[index_bajada] = nvisitas[index_bajada]+1\n",
    "                    tpm[index_subida,index_bajada] +=1"
   ]
  },
  {
   "cell_type": "markdown",
   "metadata": {},
   "source": [
    "- Ejemplo de perfil de usuario"
   ]
  },
  {
   "cell_type": "code",
   "execution_count": 20,
   "metadata": {
    "collapsed": false,
    "scrolled": true
   },
   "outputs": [
    {
     "data": {
      "text/plain": [
       "{'mls': ['T-22-205-SN-65',\n",
       "  'E-20-190-SN-40',\n",
       "  'E-20-291-PO-20',\n",
       "  'T-15-135-PO-5',\n",
       "  'T-15-135-OP-110',\n",
       "  'T-4-19-NS-100',\n",
       "  'E-20-199-NS-2',\n",
       "  'T-24-205-NS-20',\n",
       "  'T-20-190-SN-35',\n",
       "  'E-20-289-PO-5',\n",
       "  'T-22-205-SN-55',\n",
       "  'T-24-205-NS-30',\n",
       "  'T-15-135-OP-105'],\n",
       " 'nvisitas': [5, 5, 4, 6, 5, 6, 6, 4, 1, 2, 1, 1, 1],\n",
       " 'tpm': array([[ 0.        ,  0.8       ,  0.        ,  0.        ,  0.        ,\n",
       "          0.        ,  0.        ,  0.        ,  0.2       ,  0.        ,\n",
       "          0.        ,  0.        ,  0.        ],\n",
       "        [ 0.125     ,  0.        ,  0.375     ,  0.        ,  0.25      ,\n",
       "          0.        ,  0.25      ,  0.        ,  0.        ,  0.        ,\n",
       "          0.        ,  0.        ,  0.        ],\n",
       "        [ 0.        ,  0.        ,  0.        ,  1.        ,  0.        ,\n",
       "          0.        ,  0.        ,  0.        ,  0.        ,  0.        ,\n",
       "          0.        ,  0.        ,  0.        ],\n",
       "        [ 0.        ,  0.        ,  0.        ,  0.        ,  0.5       ,\n",
       "          0.        ,  0.25      ,  0.        ,  0.        ,  0.        ,\n",
       "          0.25      ,  0.        ,  0.        ],\n",
       "        [ 0.        ,  0.        ,  0.        ,  0.        ,  0.        ,\n",
       "          1.        ,  0.        ,  0.        ,  0.        ,  0.        ,\n",
       "          0.        ,  0.        ,  0.        ],\n",
       "        [ 0.        ,  0.        ,  0.        ,  0.        ,  0.        ,\n",
       "          0.        ,  1.        ,  0.        ,  0.        ,  0.        ,\n",
       "          0.        ,  0.        ,  0.        ],\n",
       "        [ 0.125     ,  0.        ,  0.        ,  0.        ,  0.125     ,\n",
       "          0.        ,  0.        ,  0.5       ,  0.        ,  0.125     ,\n",
       "          0.        ,  0.125     ,  0.        ],\n",
       "        [ 1.        ,  0.        ,  0.        ,  0.        ,  0.        ,\n",
       "          0.        ,  0.        ,  0.        ,  0.        ,  0.        ,\n",
       "          0.        ,  0.        ,  0.        ],\n",
       "        [ 0.        ,  0.        ,  0.        ,  0.        ,  0.        ,\n",
       "          0.        ,  0.        ,  0.        ,  0.        ,  1.        ,\n",
       "          0.        ,  0.        ,  0.        ],\n",
       "        [ 0.        ,  0.        ,  0.        ,  1.        ,  0.        ,\n",
       "          0.        ,  0.        ,  0.        ,  0.        ,  0.        ,\n",
       "          0.        ,  0.        ,  0.        ],\n",
       "        [ 0.        ,  1.        ,  0.        ,  0.        ,  0.        ,\n",
       "          0.        ,  0.        ,  0.        ,  0.        ,  0.        ,\n",
       "          0.        ,  0.        ,  0.        ],\n",
       "        [ 0.33333333,  0.        ,  0.33333333,  0.        ,  0.        ,\n",
       "          0.        ,  0.        ,  0.        ,  0.        ,  0.        ,\n",
       "          0.        ,  0.        ,  0.33333333],\n",
       "        [ 0.        ,  0.        ,  0.        ,  0.        ,  0.        ,\n",
       "          1.        ,  0.        ,  0.        ,  0.        ,  0.        ,\n",
       "          0.        ,  0.        ,  0.        ]]),\n",
       " 'user_id': 1132106}"
      ]
     },
     "execution_count": 20,
     "metadata": {},
     "output_type": "execute_result"
    }
   ],
   "source": [
    "users_profiles[0]"
   ]
  },
  {
   "cell_type": "markdown",
   "metadata": {},
   "source": [
    "## 3. Explorar los perfiles de usuario"
   ]
  },
  {
   "cell_type": "markdown",
   "metadata": {
    "collapsed": false
   },
   "source": [
    "- Cuantos usuarios habrá en esta muestra?"
   ]
  },
  {
   "cell_type": "code",
   "execution_count": 21,
   "metadata": {
    "collapsed": false
   },
   "outputs": [
    {
     "data": {
      "text/plain": [
       "5168"
      ]
     },
     "execution_count": 21,
     "metadata": {},
     "output_type": "execute_result"
    }
   ],
   "source": [
    "numero_usuarios = len(users_profiles)\n",
    "numero_usuarios"
   ]
  },
  {
   "cell_type": "markdown",
   "metadata": {
    "collapsed": true
   },
   "source": [
    "- Cuantas locaciones habrá por usuario?"
   ]
  },
  {
   "cell_type": "code",
   "execution_count": 22,
   "metadata": {
    "collapsed": false,
    "scrolled": true
   },
   "outputs": [
    {
     "data": {
      "text/plain": [
       "(array([  74.,   88.,  109.,  143.,  141.,  196.,  263.,  241.,  284.,\n",
       "         307.,  296.,  326.,  271.,  258.,  273.,  218.,  202.,  191.,\n",
       "         187.,  141.,  138.,  119.,  122.,   81.,   86.,   57.,   67.,  289.]),\n",
       " array([  2.,   3.,   4.,   5.,   6.,   7.,   8.,   9.,  10.,  11.,  12.,\n",
       "         13.,  14.,  15.,  16.,  17.,  18.,  19.,  20.,  21.,  22.,  23.,\n",
       "         24.,  25.,  26.,  27.,  28.,  29.,  30.]),\n",
       " <a list of 28 Patch objects>)"
      ]
     },
     "execution_count": 22,
     "metadata": {},
     "output_type": "execute_result"
    },
    {
     "data": {
      "image/png": "[encoded data removed]",
      "text/plain": [
       "<matplotlib.figure.Figure at 0x7f3214176810>"
      ]
     },
     "metadata": {},
     "output_type": "display_data"
    }
   ],
   "source": [
    "plt.hist(nlocations,28)"
   ]
  },
  {
   "cell_type": "markdown",
   "metadata": {},
   "source": [
    "## 4. Preparar el periodo de identificación"
   ]
  },
  {
   "cell_type": "markdown",
   "metadata": {},
   "source": [
    "- Leer hace bien "
   ]
  },
  {
   "cell_type": "code",
   "execution_count": 29,
   "metadata": {
    "collapsed": false
   },
   "outputs": [
    {
     "data": {
      "text/html": [
       "<div>\n",
       "<table border=\"1\" class=\"dataframe\">\n",
       "  <thead>\n",
       "    <tr style=\"text-align: right;\">\n",
       "      <th></th>\n",
       "      <th>tiempo_subida</th>\n",
       "      <th>id</th>\n",
       "      <th>x_subida</th>\n",
       "      <th>y_subida</th>\n",
       "      <th>tipo_transporte</th>\n",
       "      <th>serviciosentidovariante</th>\n",
       "      <th>tipo_dia</th>\n",
       "      <th>nviaje</th>\n",
       "      <th>netapa</th>\n",
       "      <th>x_bajada</th>\n",
       "      <th>y_bajada</th>\n",
       "      <th>tiempo_bajada</th>\n",
       "      <th>par_subida</th>\n",
       "      <th>par_bajada</th>\n",
       "      <th>zona_subida</th>\n",
       "      <th>zona_bajada</th>\n",
       "      <th>adulto</th>\n",
       "    </tr>\n",
       "  </thead>\n",
       "  <tbody>\n",
       "    <tr>\n",
       "      <th>0</th>\n",
       "      <td>2013-09-29 19:58:57</td>\n",
       "      <td>1132106</td>\n",
       "      <td>346742</td>\n",
       "      <td>6299422</td>\n",
       "      <td>BUS</td>\n",
       "      <td>T206 00I</td>\n",
       "      <td>DOMINGO</td>\n",
       "      <td>16</td>\n",
       "      <td>2</td>\n",
       "      <td>348092</td>\n",
       "      <td>6289202</td>\n",
       "      <td>2013-09-29 20:30:10</td>\n",
       "      <td>E-20-199-NS-2</td>\n",
       "      <td>T-24-205-NS-20</td>\n",
       "      <td>307</td>\n",
       "      <td>348</td>\n",
       "      <td>0</td>\n",
       "    </tr>\n",
       "    <tr>\n",
       "      <th>1</th>\n",
       "      <td>2013-09-29 19:38:31</td>\n",
       "      <td>1132106</td>\n",
       "      <td>351400</td>\n",
       "      <td>6302597</td>\n",
       "      <td>BUS</td>\n",
       "      <td>T502 00R</td>\n",
       "      <td>DOMINGO</td>\n",
       "      <td>16</td>\n",
       "      <td>1</td>\n",
       "      <td>346731</td>\n",
       "      <td>6299466</td>\n",
       "      <td>2013-09-29 19:54:38</td>\n",
       "      <td>T-15-135-OP-110</td>\n",
       "      <td>T-4-19-NS-100</td>\n",
       "      <td>188</td>\n",
       "      <td>55</td>\n",
       "      <td>0</td>\n",
       "    </tr>\n",
       "    <tr>\n",
       "      <th>2</th>\n",
       "      <td>2013-09-29 07:49:32</td>\n",
       "      <td>1132106</td>\n",
       "      <td>346768</td>\n",
       "      <td>6299380</td>\n",
       "      <td>BUS</td>\n",
       "      <td>T502 00I</td>\n",
       "      <td>DOMINGO</td>\n",
       "      <td>15</td>\n",
       "      <td>1</td>\n",
       "      <td>351370</td>\n",
       "      <td>6302561</td>\n",
       "      <td>2013-09-29 08:04:30</td>\n",
       "      <td>E-20-291-PO-20</td>\n",
       "      <td>T-15-135-PO-5</td>\n",
       "      <td>307</td>\n",
       "      <td>188</td>\n",
       "      <td>0</td>\n",
       "    </tr>\n",
       "    <tr>\n",
       "      <th>3</th>\n",
       "      <td>2013-09-29 06:48:11</td>\n",
       "      <td>1132106</td>\n",
       "      <td>348107</td>\n",
       "      <td>6289130</td>\n",
       "      <td>BUS</td>\n",
       "      <td>T206 00R</td>\n",
       "      <td>DOMINGO</td>\n",
       "      <td>14</td>\n",
       "      <td>1</td>\n",
       "      <td>346852</td>\n",
       "      <td>6299355</td>\n",
       "      <td>2013-09-29 07:10:26</td>\n",
       "      <td>T-22-205-SN-65</td>\n",
       "      <td>T-20-190-SN-35</td>\n",
       "      <td>328</td>\n",
       "      <td>309</td>\n",
       "      <td>0</td>\n",
       "    </tr>\n",
       "    <tr>\n",
       "      <th>4</th>\n",
       "      <td>2013-09-28 07:32:43</td>\n",
       "      <td>1132106</td>\n",
       "      <td>346729</td>\n",
       "      <td>6299435</td>\n",
       "      <td>BUS</td>\n",
       "      <td>T206 00I</td>\n",
       "      <td>SABADO</td>\n",
       "      <td>13</td>\n",
       "      <td>2</td>\n",
       "      <td>348099</td>\n",
       "      <td>6289122</td>\n",
       "      <td>2013-09-28 07:54:57</td>\n",
       "      <td>E-20-199-NS-2</td>\n",
       "      <td>T-24-205-NS-20</td>\n",
       "      <td>307</td>\n",
       "      <td>348</td>\n",
       "      <td>0</td>\n",
       "    </tr>\n",
       "  </tbody>\n",
       "</table>\n",
       "</div>"
      ],
      "text/plain": [
       "         tiempo_subida       id  x_subida  y_subida tipo_transporte  \\\n",
       "0  2013-09-29 19:58:57  1132106    346742   6299422             BUS   \n",
       "1  2013-09-29 19:38:31  1132106    351400   6302597             BUS   \n",
       "2  2013-09-29 07:49:32  1132106    346768   6299380             BUS   \n",
       "3  2013-09-29 06:48:11  1132106    348107   6289130             BUS   \n",
       "4  2013-09-28 07:32:43  1132106    346729   6299435             BUS   \n",
       "\n",
       "  serviciosentidovariante tipo_dia  nviaje  netapa  x_bajada  y_bajada  \\\n",
       "0                T206 00I  DOMINGO      16       2    348092   6289202   \n",
       "1                T502 00R  DOMINGO      16       1    346731   6299466   \n",
       "2                T502 00I  DOMINGO      15       1    351370   6302561   \n",
       "3                T206 00R  DOMINGO      14       1    346852   6299355   \n",
       "4                T206 00I   SABADO      13       2    348099   6289122   \n",
       "\n",
       "         tiempo_bajada       par_subida      par_bajada  zona_subida  \\\n",
       "0  2013-09-29 20:30:10    E-20-199-NS-2  T-24-205-NS-20          307   \n",
       "1  2013-09-29 19:54:38  T-15-135-OP-110   T-4-19-NS-100          188   \n",
       "2  2013-09-29 08:04:30   E-20-291-PO-20   T-15-135-PO-5          307   \n",
       "3  2013-09-29 07:10:26   T-22-205-SN-65  T-20-190-SN-35          328   \n",
       "4  2013-09-28 07:54:57    E-20-199-NS-2  T-24-205-NS-20          307   \n",
       "\n",
       "   zona_bajada  adulto  \n",
       "0          348       0  \n",
       "1           55       0  \n",
       "2          188       0  \n",
       "3          309       0  \n",
       "4          348       0  "
      ]
     },
     "execution_count": 29,
     "metadata": {},
     "output_type": "execute_result"
    }
   ],
   "source": [
    "df_id_period = pd.read_csv('/home/cata/Documentos/Datois/etapas_2013_septiembre_allyearsids_10_100000.csv')\n",
    "df_id_period.head()"
   ]
  },
  {
   "cell_type": "markdown",
   "metadata": {},
   "source": [
    "Reflexion: Debiese utilizar por ahora solo las columnas que me sirven, sino el todos contra todos será muy dificil"
   ]
  },
  {
   "cell_type": "markdown",
   "metadata": {},
   "source": [
    "- Elimino las columnas que no usaré (cuidado, correr solo una vez :)"
   ]
  },
  {
   "cell_type": "code",
   "execution_count": 24,
   "metadata": {
    "collapsed": false
   },
   "outputs": [
    {
     "data": {
      "text/html": [
       "<div>\n",
       "<table border=\"1\" class=\"dataframe\">\n",
       "  <thead>\n",
       "    <tr style=\"text-align: right;\">\n",
       "      <th></th>\n",
       "      <th>id</th>\n",
       "      <th>serviciosentidovariante</th>\n",
       "      <th>par_subida</th>\n",
       "      <th>par_bajada</th>\n",
       "    </tr>\n",
       "  </thead>\n",
       "  <tbody>\n",
       "    <tr>\n",
       "      <th>0</th>\n",
       "      <td>1132106</td>\n",
       "      <td>T206 00I</td>\n",
       "      <td>E-20-199-NS-2</td>\n",
       "      <td>T-24-205-NS-20</td>\n",
       "    </tr>\n",
       "    <tr>\n",
       "      <th>1</th>\n",
       "      <td>1132106</td>\n",
       "      <td>T502 00R</td>\n",
       "      <td>T-15-135-OP-110</td>\n",
       "      <td>T-4-19-NS-100</td>\n",
       "    </tr>\n",
       "    <tr>\n",
       "      <th>2</th>\n",
       "      <td>1132106</td>\n",
       "      <td>T502 00I</td>\n",
       "      <td>E-20-291-PO-20</td>\n",
       "      <td>T-15-135-PO-5</td>\n",
       "    </tr>\n",
       "    <tr>\n",
       "      <th>3</th>\n",
       "      <td>1132106</td>\n",
       "      <td>T206 00R</td>\n",
       "      <td>T-22-205-SN-65</td>\n",
       "      <td>T-20-190-SN-35</td>\n",
       "    </tr>\n",
       "    <tr>\n",
       "      <th>4</th>\n",
       "      <td>1132106</td>\n",
       "      <td>T206 00I</td>\n",
       "      <td>E-20-199-NS-2</td>\n",
       "      <td>T-24-205-NS-20</td>\n",
       "    </tr>\n",
       "  </tbody>\n",
       "</table>\n",
       "</div>"
      ],
      "text/plain": [
       "        id serviciosentidovariante       par_subida      par_bajada\n",
       "0  1132106                T206 00I    E-20-199-NS-2  T-24-205-NS-20\n",
       "1  1132106                T502 00R  T-15-135-OP-110   T-4-19-NS-100\n",
       "2  1132106                T502 00I   E-20-291-PO-20   T-15-135-PO-5\n",
       "3  1132106                T206 00R   T-22-205-SN-65  T-20-190-SN-35\n",
       "4  1132106                T206 00I    E-20-199-NS-2  T-24-205-NS-20"
      ]
     },
     "execution_count": 24,
     "metadata": {},
     "output_type": "execute_result"
    }
   ],
   "source": [
    "df_id_period.drop(df_id_period.columns[[2,3,4,5,9,10,11,14,15,16]], axis=1, inplace=True)\n",
    "df_id_period.head()"
   ]
  },
  {
   "cell_type": "markdown",
   "metadata": {},
   "source": [
    "- Estandarizo los paraderos de subida y bajada"
   ]
  },
  {
   "cell_type": "code",
   "execution_count": 25,
   "metadata": {
    "collapsed": false
   },
   "outputs": [
    {
     "data": {
      "text/html": [
       "<div>\n",
       "<table border=\"1\" class=\"dataframe\">\n",
       "  <thead>\n",
       "    <tr style=\"text-align: right;\">\n",
       "      <th></th>\n",
       "      <th>id</th>\n",
       "      <th>serviciosentidovariante</th>\n",
       "      <th>par_subida</th>\n",
       "      <th>par_bajada</th>\n",
       "    </tr>\n",
       "  </thead>\n",
       "  <tbody>\n",
       "    <tr>\n",
       "      <th>0</th>\n",
       "      <td>1132106</td>\n",
       "      <td>T206 00I</td>\n",
       "      <td>E-20-199-NS-2</td>\n",
       "      <td>T-24-205-NS-20</td>\n",
       "    </tr>\n",
       "    <tr>\n",
       "      <th>1</th>\n",
       "      <td>1132106</td>\n",
       "      <td>T502 00R</td>\n",
       "      <td>T-15-135-OP-110</td>\n",
       "      <td>T-4-19-NS-100</td>\n",
       "    </tr>\n",
       "    <tr>\n",
       "      <th>2</th>\n",
       "      <td>1132106</td>\n",
       "      <td>T502 00I</td>\n",
       "      <td>E-20-291-PO-20</td>\n",
       "      <td>T-15-135-PO-5</td>\n",
       "    </tr>\n",
       "    <tr>\n",
       "      <th>3</th>\n",
       "      <td>1132106</td>\n",
       "      <td>T206 00R</td>\n",
       "      <td>T-22-205-SN-65</td>\n",
       "      <td>T-20-190-SN-35</td>\n",
       "    </tr>\n",
       "    <tr>\n",
       "      <th>4</th>\n",
       "      <td>1132106</td>\n",
       "      <td>T206 00I</td>\n",
       "      <td>E-20-199-NS-2</td>\n",
       "      <td>T-24-205-NS-20</td>\n",
       "    </tr>\n",
       "  </tbody>\n",
       "</table>\n",
       "</div>"
      ],
      "text/plain": [
       "        id serviciosentidovariante       par_subida      par_bajada\n",
       "0  1132106                T206 00I    E-20-199-NS-2  T-24-205-NS-20\n",
       "1  1132106                T502 00R  T-15-135-OP-110   T-4-19-NS-100\n",
       "2  1132106                T502 00I   E-20-291-PO-20   T-15-135-PO-5\n",
       "3  1132106                T206 00R   T-22-205-SN-65  T-20-190-SN-35\n",
       "4  1132106                T206 00I    E-20-199-NS-2  T-24-205-NS-20"
      ]
     },
     "execution_count": 25,
     "metadata": {},
     "output_type": "execute_result"
    }
   ],
   "source": [
    "df_id_period.apply(update_vals, axis=1)\n",
    "df_id_period.head()"
   ]
  },
  {
   "cell_type": "markdown",
   "metadata": {},
   "source": [
    "## 5. Extraer secuencias y locaciones principales del periodo de identificación"
   ]
  },
  {
   "cell_type": "markdown",
   "metadata": {},
   "source": [
    "Debo extraer la secuencia de posiciones de las transacciones, y el arreglo de locaciones mas visitadas"
   ]
  },
  {
   "cell_type": "code",
   "execution_count": 26,
   "metadata": {
    "collapsed": true
   },
   "outputs": [],
   "source": [
    "tpm = [] # Transition Probability Matrix (TPM)\n",
    "mls = [] # minimum location set (mlt)\n",
    "nvisitas = [] # diccionario contador de visitas a cada locación\n",
    "profile = {} # diccionario con tpm y mls para cada usuario\n",
    "profiles = [] # arreglo de diccionarios\n",
    "last_id = 0\n",
    "last_stop = \"\"\n",
    "last_stop_index = 0\n",
    "counter = 0\n",
    "n_locations = []"
   ]
  },
  {
   "cell_type": "code",
   "execution_count": 27,
   "metadata": {
    "collapsed": false
   },
   "outputs": [],
   "source": [
    "for transaction in zip(df_id_period['id'], df_id_period['par_subida'], df_id_period['par_bajada']):\n",
    "    counter +=1\n",
    "    id_user = transaction[0]\n",
    "    par_subida = transaction[1]\n",
    "    par_bajada = transaction[2]\n",
    "    if (par_subida!=par_subida):\n",
    "        continue        \n",
    "    if (id_user!=last_id):\n",
    "        # si ya paso una vuelta, agregar TPM y minimum location set a users_profiles\n",
    "        if(counter>1):\n",
    "            n_locations.append(len(mls))\n",
    "            profile = {'user_id':last_id,'sequence':sequence,'mls':mls,'nvisitas':nvisitas}\n",
    "            profiles.append(profile)\n",
    "        last_id = id_user\n",
    "        # construir mls no vacia para que no se caiga \n",
    "        mls = [par_subida]\n",
    "        sequence = [par_subida]\n",
    "        last_stop = par_subida\n",
    "        nvisitas = [0]\n",
    "        counter = 1\n",
    "    # buscar si la locación ya había sido visitada \n",
    "    try:\n",
    "        index_subida = mls.index(par_subida)\n",
    "    except ValueError:\n",
    "        index_subida = -1\n",
    "    # si la subida no había sido visitada se debe agregar al mls\n",
    "    if (index_subida < 0):\n",
    "        mls.append(par_subida)\n",
    "        nvisitas.append(1)\n",
    "        index_subida = len(mls) - 1\n",
    "        sequence.append(par_subida)\n",
    "        # si la bajada no se pudo calcular solo se considera la subida y se deja para calcular tpm en la proxima ronda \n",
    "        if (par_bajada!=par_bajada):\n",
    "            last_stop = par_subida\n",
    "            #print \"Iteración n°: \" + str(counter) + \" , no se pudo estimar la bajada\"\n",
    "        else:\n",
    "            last_stop = par_bajada\n",
    "            sequence.append(par_bajada)\n",
    "            try:\n",
    "                index_bajada = mls.index(par_bajada)\n",
    "            except ValueError:\n",
    "                index_bajada = -1\n",
    "            # si la bajada no se había visitado antes, agregar bajada y sumar nvisitas \n",
    "            if (index_bajada < 0):\n",
    "                mls.append(par_bajada)\n",
    "                index_bajada = len(mls)-1\n",
    "                nvisitas.append(1)\n",
    "            # sumar nvisita \n",
    "            else:\n",
    "                nvisitas[index_bajada] = nvisitas[index_bajada]+1\n",
    "    else:\n",
    "        nvisitas[index_subida] = nvisitas[index_subida]+1\n",
    "        if(par_subida!=last_stop):\n",
    "            sequence.append(par_subida)\n",
    "        # subida estaba de antes y no hay bajada\n",
    "        # REVISAR SI ESTO NO ES REDUNDANTE!\n",
    "        if (par_bajada!=par_bajada):\n",
    "            last_stop = par_subida\n",
    "        # hay subida y bajada\n",
    "        else:\n",
    "            sequence.append(par_bajada)\n",
    "            last_stop = par_bajada\n",
    "            try:\n",
    "                index_bajada = mls.index(par_bajada)\n",
    "            except ValueError:\n",
    "                index_bajada = -1\n",
    "            # hay bajada pero no estaba antes\n",
    "            if (index_bajada<0):\n",
    "                mls.append(par_bajada)\n",
    "                index_bajada = len(mls) - 1\n",
    "                nvisitas.append(1)\n",
    "            # subida y bajada estaban de antes\n",
    "            else:\n",
    "                nvisitas[index_bajada] = nvisitas[index_bajada]+1\n"
   ]
  },
  {
   "cell_type": "markdown",
   "metadata": {},
   "source": [
    "- Por ej. la secuencia 2 es un diccionario con las locaciones minimas, las visitas a esas locaciones, la secuencia y el id del usuario"
   ]
  },
  {
   "cell_type": "code",
   "execution_count": 28,
   "metadata": {
    "collapsed": false
   },
   "outputs": [
    {
     "data": {
      "text/plain": [
       "{'mls': ['E-20-199-NS-2',\n",
       "  'T-24-205-NS-20',\n",
       "  'T-15-135-OP-110',\n",
       "  'T-4-19-NS-100',\n",
       "  'E-20-291-PO-20',\n",
       "  'T-15-135-PO-5',\n",
       "  'T-22-205-SN-65',\n",
       "  'T-20-190-SN-35',\n",
       "  'E-20-190-SN-40',\n",
       "  'T-14-131-PO-40',\n",
       "  'T-14-121-OP-10',\n",
       "  'E-20-289-PO-5',\n",
       "  'T-22-205-SN-55',\n",
       "  'L-24-26-OP-25'],\n",
       " 'nvisitas': [6, 6, 7, 6, 5, 7, 5, 1, 5, 1, 1, 1, 1, 1],\n",
       " 'sequence': ['E-20-199-NS-2',\n",
       "  'T-24-205-NS-20',\n",
       "  'T-15-135-OP-110',\n",
       "  'T-4-19-NS-100',\n",
       "  'E-20-291-PO-20',\n",
       "  'T-15-135-PO-5',\n",
       "  'T-22-205-SN-65',\n",
       "  'T-20-190-SN-35',\n",
       "  'E-20-199-NS-2',\n",
       "  'T-24-205-NS-20',\n",
       "  'T-15-135-OP-110',\n",
       "  'T-4-19-NS-100',\n",
       "  'E-20-291-PO-20',\n",
       "  'T-15-135-PO-5',\n",
       "  'T-22-205-SN-65',\n",
       "  'E-20-190-SN-40',\n",
       "  'E-20-199-NS-2',\n",
       "  'T-24-205-NS-20',\n",
       "  'T-15-135-OP-110',\n",
       "  'T-4-19-NS-100',\n",
       "  'T-14-131-PO-40',\n",
       "  'T-15-135-PO-5',\n",
       "  'T-15-135-OP-110',\n",
       "  'T-14-121-OP-10',\n",
       "  'E-20-291-PO-20',\n",
       "  'T-15-135-PO-5',\n",
       "  'T-22-205-SN-65',\n",
       "  'E-20-190-SN-40',\n",
       "  'E-20-199-NS-2',\n",
       "  'T-24-205-NS-20',\n",
       "  'T-15-135-OP-110',\n",
       "  'T-4-19-NS-100',\n",
       "  'E-20-291-PO-20',\n",
       "  'T-15-135-PO-5',\n",
       "  'T-22-205-SN-65',\n",
       "  'E-20-190-SN-40',\n",
       "  'E-20-199-NS-2',\n",
       "  'T-24-205-NS-20',\n",
       "  'T-15-135-OP-110',\n",
       "  'T-4-19-NS-100',\n",
       "  'E-20-289-PO-5',\n",
       "  'T-15-135-PO-5',\n",
       "  'T-22-205-SN-55',\n",
       "  'E-20-190-SN-40',\n",
       "  'L-24-26-OP-25',\n",
       "  'E-20-199-NS-2',\n",
       "  'T-24-205-NS-20',\n",
       "  'T-15-135-OP-110',\n",
       "  'T-4-19-NS-100',\n",
       "  'E-20-291-PO-20',\n",
       "  'T-15-135-PO-5',\n",
       "  'T-22-205-SN-65',\n",
       "  'E-20-190-SN-40'],\n",
       " 'user_id': 1132106}"
      ]
     },
     "execution_count": 28,
     "metadata": {},
     "output_type": "execute_result"
    }
   ],
   "source": [
    "# Por ej. el perfil 0 es un diccionario con las locaciones minimas, \n",
    "# las visitas a esas locaciones, la secuencia y el id del usuario\n",
    "profiles[0]"
   ]
  },
  {
   "cell_type": "markdown",
   "metadata": {},
   "source": [
    "- Se puede observar que el largo de la secuencia es mayor al de las locaciones minimas"
   ]
  },
  {
   "cell_type": "code",
   "execution_count": 82,
   "metadata": {
    "collapsed": false
   },
   "outputs": [
    {
     "data": {
      "text/plain": [
       "53"
      ]
     },
     "execution_count": 82,
     "metadata": {},
     "output_type": "execute_result"
    }
   ],
   "source": [
    "len(profiles[0]['sequence'])"
   ]
  },
  {
   "cell_type": "code",
   "execution_count": 83,
   "metadata": {
    "collapsed": false
   },
   "outputs": [
    {
     "data": {
      "text/plain": [
       "14"
      ]
     },
     "execution_count": 83,
     "metadata": {},
     "output_type": "execute_result"
    }
   ],
   "source": [
    "len(profiles[0]['mls'])"
   ]
  },
  {
   "cell_type": "markdown",
   "metadata": {},
   "source": [
    "- El número total de perfiles de secuencia extraidos es:"
   ]
  },
  {
   "cell_type": "code",
   "execution_count": 84,
   "metadata": {
    "collapsed": false,
    "scrolled": true
   },
   "outputs": [
    {
     "data": {
      "text/plain": [
       "5343"
      ]
     },
     "execution_count": 84,
     "metadata": {},
     "output_type": "execute_result"
    }
   ],
   "source": [
    "n_users = len(profiles)\n",
    "n_users"
   ]
  },
  {
   "cell_type": "markdown",
   "metadata": {},
   "source": [
    "## 6. Todos contra todos"
   ]
  },
  {
   "cell_type": "markdown",
   "metadata": {},
   "source": [
    "- Primero encuentro el minimo entre el numero de tpms y las secuencias, para que la matriz sea cuadrada"
   ]
  },
  {
   "cell_type": "code",
   "execution_count": 85,
   "metadata": {
    "collapsed": false
   },
   "outputs": [
    {
     "data": {
      "text/plain": [
       "5168"
      ]
     },
     "execution_count": 85,
     "metadata": {},
     "output_type": "execute_result"
    }
   ],
   "source": [
    "limit = np.min((n_users,numero_usuarios))\n",
    "limit"
   ]
  },
  {
   "cell_type": "markdown",
   "metadata": {},
   "source": [
    "- Luego comparo todas las tpms contra todas las secuencias"
   ]
  },
  {
   "cell_type": "code",
   "execution_count": 86,
   "metadata": {
    "collapsed": false
   },
   "outputs": [],
   "source": [
    "tpm = []\n",
    "index_correct = []\n",
    "p_zero = pow(10,-8)\n",
    "p_nan = pow(10,-8)\n",
    "idenk = 0\n",
    "iden = np.zeros((limit,limit))\n",
    "i = 0\n",
    "j = 0"
   ]
  },
  {
   "cell_type": "code",
   "execution_count": 26,
   "metadata": {
    "collapsed": false
   },
   "outputs": [],
   "source": [
    "# asume que son los mismos ids o que se saben de antemano\n",
    "start_time = time.time()\n",
    "for profile in users_profiles:\n",
    "    tpm = profile['tpm']\n",
    "    id_user = profile['user_id']\n",
    "    mls = profile['mls']\n",
    "    for sequence in profiles:\n",
    "        travel_counter = 0\n",
    "        #calcular idenk\n",
    "        for travel in sequence['sequence']:\n",
    "            # buscar pik en tpm\n",
    "            try:\n",
    "                index_bajada = mls.index(travel)\n",
    "            except ValueError:\n",
    "                index_bajada = -1\n",
    "            if(travel_counter > 0):\n",
    "                if(index_bajada < 0 or index_subida < 0):\n",
    "                    pik = p_nan\n",
    "                else:\n",
    "                    pik = tpm[index_subida, index_bajada]\n",
    "                if(pik != pik):\n",
    "                    pik = p_nan\n",
    "                elif(pik == 0):\n",
    "                    pik = p_zero\n",
    "                # sumar log10\n",
    "                idenk += np.log10(pik)\n",
    "            index_subida = index_bajada\n",
    "            travel_counter +=1\n",
    "\n",
    "        iden[i,j] = idenk\n",
    "        j+=1\n",
    "        if(id_user == sequence['user_id']):\n",
    "            index_correct.append(idenk)\n",
    "        idenk = 0\n",
    "        if(j >= limit):\n",
    "            break\n",
    "    i += 1\n",
    "    j = 0\n",
    "    if(i >= limit):\n",
    "        break\n",
    "delta_time = time.time() - start_time"
   ]
  },
  {
   "cell_type": "markdown",
   "metadata": {},
   "source": [
    "- Guardar resultados"
   ]
  },
  {
   "cell_type": "code",
   "execution_count": null,
   "metadata": {
    "collapsed": true
   },
   "outputs": [],
   "source": [
    "with open('objs_6.pickle', 'w') as f:\n",
    "    pickle.dump([iden, index_correct, delta_time], f)"
   ]
  },
  {
   "cell_type": "code",
   "execution_count": 26,
   "metadata": {
    "collapsed": false
   },
   "outputs": [],
   "source": [
    "with open('objs_5.pickle') as f:\n",
    "    iden, index_correct, delta_time = pickle.load(f)"
   ]
  },
  {
   "cell_type": "markdown",
   "metadata": {},
   "source": [
    "## 7. Análisis de resultados"
   ]
  },
  {
   "cell_type": "markdown",
   "metadata": {},
   "source": [
    "- Los indices correctos están en la diagonal, y a pesar de que las secuencias son de distinto largo se logra identificar la correcta"
   ]
  },
  {
   "cell_type": "code",
   "execution_count": 38,
   "metadata": {
    "collapsed": false,
    "scrolled": true
   },
   "outputs": [
    {
     "data": {
      "text/html": [
       "<div>\n",
       "<table border=\"1\" class=\"dataframe\">\n",
       "  <thead>\n",
       "    <tr style=\"text-align: right;\">\n",
       "      <th></th>\n",
       "      <th>0</th>\n",
       "      <th>1</th>\n",
       "      <th>2</th>\n",
       "      <th>3</th>\n",
       "      <th>4</th>\n",
       "      <th>5</th>\n",
       "      <th>6</th>\n",
       "      <th>7</th>\n",
       "      <th>8</th>\n",
       "      <th>9</th>\n",
       "      <th>...</th>\n",
       "      <th>5158</th>\n",
       "      <th>5159</th>\n",
       "      <th>5160</th>\n",
       "      <th>5161</th>\n",
       "      <th>5162</th>\n",
       "      <th>5163</th>\n",
       "      <th>5164</th>\n",
       "      <th>5165</th>\n",
       "      <th>5166</th>\n",
       "      <th>5167</th>\n",
       "    </tr>\n",
       "  </thead>\n",
       "  <tbody>\n",
       "    <tr>\n",
       "      <th>0</th>\n",
       "      <td>-189.60206</td>\n",
       "      <td>-248</td>\n",
       "      <td>-264.000000</td>\n",
       "      <td>-208.00000</td>\n",
       "      <td>-152.00000</td>\n",
       "      <td>-272</td>\n",
       "      <td>-184</td>\n",
       "      <td>-256</td>\n",
       "      <td>-248</td>\n",
       "      <td>-408</td>\n",
       "      <td>...</td>\n",
       "      <td>-200</td>\n",
       "      <td>-368</td>\n",
       "      <td>-248</td>\n",
       "      <td>-392</td>\n",
       "      <td>-392</td>\n",
       "      <td>-392</td>\n",
       "      <td>-432</td>\n",
       "      <td>-424</td>\n",
       "      <td>-168</td>\n",
       "      <td>-80</td>\n",
       "    </tr>\n",
       "    <tr>\n",
       "      <th>1</th>\n",
       "      <td>-416.00000</td>\n",
       "      <td>-164</td>\n",
       "      <td>-264.000000</td>\n",
       "      <td>-208.00000</td>\n",
       "      <td>-152.00000</td>\n",
       "      <td>-272</td>\n",
       "      <td>-184</td>\n",
       "      <td>-256</td>\n",
       "      <td>-248</td>\n",
       "      <td>-408</td>\n",
       "      <td>...</td>\n",
       "      <td>-200</td>\n",
       "      <td>-368</td>\n",
       "      <td>-248</td>\n",
       "      <td>-392</td>\n",
       "      <td>-392</td>\n",
       "      <td>-392</td>\n",
       "      <td>-432</td>\n",
       "      <td>-424</td>\n",
       "      <td>-168</td>\n",
       "      <td>-80</td>\n",
       "    </tr>\n",
       "    <tr>\n",
       "      <th>2</th>\n",
       "      <td>-416.00000</td>\n",
       "      <td>-248</td>\n",
       "      <td>-185.982271</td>\n",
       "      <td>-208.00000</td>\n",
       "      <td>-152.00000</td>\n",
       "      <td>-272</td>\n",
       "      <td>-184</td>\n",
       "      <td>-256</td>\n",
       "      <td>-248</td>\n",
       "      <td>-408</td>\n",
       "      <td>...</td>\n",
       "      <td>-200</td>\n",
       "      <td>-368</td>\n",
       "      <td>-248</td>\n",
       "      <td>-392</td>\n",
       "      <td>-392</td>\n",
       "      <td>-392</td>\n",
       "      <td>-432</td>\n",
       "      <td>-424</td>\n",
       "      <td>-168</td>\n",
       "      <td>-80</td>\n",
       "    </tr>\n",
       "    <tr>\n",
       "      <th>3</th>\n",
       "      <td>-416.00000</td>\n",
       "      <td>-248</td>\n",
       "      <td>-264.000000</td>\n",
       "      <td>-89.50515</td>\n",
       "      <td>-152.00000</td>\n",
       "      <td>-272</td>\n",
       "      <td>-184</td>\n",
       "      <td>-256</td>\n",
       "      <td>-248</td>\n",
       "      <td>-408</td>\n",
       "      <td>...</td>\n",
       "      <td>-200</td>\n",
       "      <td>-368</td>\n",
       "      <td>-248</td>\n",
       "      <td>-392</td>\n",
       "      <td>-392</td>\n",
       "      <td>-392</td>\n",
       "      <td>-432</td>\n",
       "      <td>-424</td>\n",
       "      <td>-168</td>\n",
       "      <td>-80</td>\n",
       "    </tr>\n",
       "    <tr>\n",
       "      <th>4</th>\n",
       "      <td>-416.00000</td>\n",
       "      <td>-248</td>\n",
       "      <td>-264.000000</td>\n",
       "      <td>-208.00000</td>\n",
       "      <td>-80.20412</td>\n",
       "      <td>-272</td>\n",
       "      <td>-184</td>\n",
       "      <td>-256</td>\n",
       "      <td>-248</td>\n",
       "      <td>-408</td>\n",
       "      <td>...</td>\n",
       "      <td>-200</td>\n",
       "      <td>-368</td>\n",
       "      <td>-248</td>\n",
       "      <td>-392</td>\n",
       "      <td>-392</td>\n",
       "      <td>-392</td>\n",
       "      <td>-432</td>\n",
       "      <td>-424</td>\n",
       "      <td>-168</td>\n",
       "      <td>-80</td>\n",
       "    </tr>\n",
       "  </tbody>\n",
       "</table>\n",
       "<p>5 rows × 5168 columns</p>\n",
       "</div>"
      ],
      "text/plain": [
       "        0     1           2          3          4     5     6     7     8     \\\n",
       "0 -189.60206  -248 -264.000000 -208.00000 -152.00000  -272  -184  -256  -248   \n",
       "1 -416.00000  -164 -264.000000 -208.00000 -152.00000  -272  -184  -256  -248   \n",
       "2 -416.00000  -248 -185.982271 -208.00000 -152.00000  -272  -184  -256  -248   \n",
       "3 -416.00000  -248 -264.000000  -89.50515 -152.00000  -272  -184  -256  -248   \n",
       "4 -416.00000  -248 -264.000000 -208.00000  -80.20412  -272  -184  -256  -248   \n",
       "\n",
       "   9     ...   5158  5159  5160  5161  5162  5163  5164  5165  5166  5167  \n",
       "0  -408  ...   -200  -368  -248  -392  -392  -392  -432  -424  -168   -80  \n",
       "1  -408  ...   -200  -368  -248  -392  -392  -392  -432  -424  -168   -80  \n",
       "2  -408  ...   -200  -368  -248  -392  -392  -392  -432  -424  -168   -80  \n",
       "3  -408  ...   -200  -368  -248  -392  -392  -392  -432  -424  -168   -80  \n",
       "4  -408  ...   -200  -368  -248  -392  -392  -392  -432  -424  -168   -80  \n",
       "\n",
       "[5 rows x 5168 columns]"
      ]
     },
     "execution_count": 38,
     "metadata": {},
     "output_type": "execute_result"
    }
   ],
   "source": [
    "iden_matrix = np.matrix(iden)\n",
    "df_ident = pd.DataFrame(iden_matrix)\n",
    "df_ident.head()"
   ]
  },
  {
   "cell_type": "markdown",
   "metadata": {
    "collapsed": true
   },
   "source": [
    "- Porcentaje de identificaciones correctas"
   ]
  },
  {
   "cell_type": "code",
   "execution_count": 31,
   "metadata": {
    "collapsed": false
   },
   "outputs": [],
   "source": [
    "i = 0\n",
    "identified_indexs = []\n",
    "wrong_indexs = []\n",
    "correct_indexs = []\n",
    "selected_indexs = []\n",
    "n_identified = 0\n",
    "limit = 5168\n",
    "while (i<limit):\n",
    "    the_index = np.argmax(iden_matrix[:,i])\n",
    "    selected_indexs.append(np.max(iden_matrix[:,i]))\n",
    "    identified_indexs.append(the_index)\n",
    "    if(the_index!=i):\n",
    "        wrong_indexs.append(the_index)\n",
    "    else:\n",
    "        correct_indexs.append(the_index)\n",
    "        n_identified += 1\n",
    "    i += 1\n"
   ]
  },
  {
   "cell_type": "code",
   "execution_count": 32,
   "metadata": {
    "collapsed": false
   },
   "outputs": [
    {
     "name": "stdout",
     "output_type": "stream",
     "text": [
      "66.93%\n"
     ]
    }
   ],
   "source": [
    "porcentaje_correcto = n_identified*100/limit\n",
    "print str(round(porcentaje_correcto,2))+ \"%\""
   ]
  },
  {
   "cell_type": "code",
   "execution_count": 33,
   "metadata": {
    "collapsed": false
   },
   "outputs": [
    {
     "data": {
      "text/plain": [
       "3459"
      ]
     },
     "execution_count": 33,
     "metadata": {},
     "output_type": "execute_result"
    }
   ],
   "source": [
    "len(correct_indexs)"
   ]
  },
  {
   "cell_type": "markdown",
   "metadata": {},
   "source": [
    "Histograma de los indices seleccionados como correctos, y los indices de los correctamente seleccionados"
   ]
  },
  {
   "cell_type": "code",
   "execution_count": 37,
   "metadata": {
    "collapsed": false
   },
   "outputs": [
    {
     "data": {
      "image/png": "[encoded data removed]",
      "text/plain": [
       "<matplotlib.figure.Figure at 0x7fbb48717f50>"
      ]
     },
     "metadata": {},
     "output_type": "display_data"
    }
   ],
   "source": [
    "fig, axs = plt.subplots(1,2)\n",
    "plt.subplot(121)\n",
    "plt.hist(selected_indexs,40)\n",
    "plt.subplot(122)\n",
    "plt.hist(index_correct,40)\n",
    "plt.show()"
   ]
  },
  {
   "cell_type": "markdown",
   "metadata": {},
   "source": [
    "- Se observa redundancia en los incorrectamente identificados, probablemente causado por usuarios que viajan mucho"
   ]
  },
  {
   "cell_type": "code",
   "execution_count": 39,
   "metadata": {
    "collapsed": false
   },
   "outputs": [],
   "source": [
    "x = np.array(identified_indexs)\n",
    "y = np.bincount(x)\n",
    "ii = np.nonzero(y)[0]"
   ]
  },
  {
   "cell_type": "code",
   "execution_count": 40,
   "metadata": {
    "collapsed": false
   },
   "outputs": [],
   "source": [
    "frequency_correct = zip(ii,y[ii]) "
   ]
  },
  {
   "cell_type": "code",
   "execution_count": 41,
   "metadata": {
    "collapsed": true
   },
   "outputs": [],
   "source": [
    "counter = 0\n",
    "ncounter = 0\n",
    "freq_max_1 = 0\n",
    "freq_max_2 = 0\n",
    "freq_max_3 = 0\n",
    "for element in frequency_correct:\n",
    "    if(element[1]>1):\n",
    "        counter +=1\n",
    "        ncounter += element[1]\n",
    "    "
   ]
  },
  {
   "cell_type": "markdown",
   "metadata": {},
   "source": [
    "- Cuantos ids se asignan a más de un usuario"
   ]
  },
  {
   "cell_type": "code",
   "execution_count": 42,
   "metadata": {
    "collapsed": false
   },
   "outputs": [
    {
     "data": {
      "text/plain": [
       "1012"
      ]
     },
     "execution_count": 42,
     "metadata": {},
     "output_type": "execute_result"
    }
   ],
   "source": [
    "counter"
   ]
  },
  {
   "cell_type": "markdown",
   "metadata": {},
   "source": [
    "- A cuantos usuarios?"
   ]
  },
  {
   "cell_type": "code",
   "execution_count": 43,
   "metadata": {
    "collapsed": false
   },
   "outputs": [
    {
     "data": {
      "text/plain": [
       "2328"
      ]
     },
     "execution_count": 43,
     "metadata": {},
     "output_type": "execute_result"
    }
   ],
   "source": [
    "ncounter"
   ]
  },
  {
   "cell_type": "markdown",
   "metadata": {},
   "source": [
    "- Si quito estos ids, cual es el porcentaje de identificación?"
   ]
  },
  {
   "cell_type": "code",
   "execution_count": 44,
   "metadata": {
    "collapsed": false
   },
   "outputs": [],
   "source": [
    "x = limit-1-ncounter"
   ]
  },
  {
   "cell_type": "code",
   "execution_count": 45,
   "metadata": {
    "collapsed": false
   },
   "outputs": [
    {
     "data": {
      "text/plain": [
       "86.192321239873195"
      ]
     },
     "execution_count": 45,
     "metadata": {},
     "output_type": "execute_result"
    }
   ],
   "source": [
    "(n_identified-counter)/x*100"
   ]
  },
  {
   "cell_type": "markdown",
   "metadata": {},
   "source": [
    "- Falta analizar los casos en que el indice correcto es muy bajo"
   ]
  },
  {
   "cell_type": "code",
   "execution_count": 28,
   "metadata": {
    "collapsed": true
   },
   "outputs": [],
   "source": [
    "# TODO"
   ]
  },
  {
   "cell_type": "markdown",
   "metadata": {},
   "source": [
    "- Falta ver quienes son los que se mal identifican "
   ]
  },
  {
   "cell_type": "code",
   "execution_count": 36,
   "metadata": {
    "collapsed": true
   },
   "outputs": [],
   "source": [
    "# TODO"
   ]
  },
  {
   "cell_type": "markdown",
   "metadata": {},
   "source": [
    "- Falta ver quienes son los que se identifican con muchos y si son las mismas personas (compatibilidad)"
   ]
  },
  {
   "cell_type": "code",
   "execution_count": 37,
   "metadata": {
    "collapsed": true
   },
   "outputs": [],
   "source": [
    "# TODO"
   ]
  },
  {
   "cell_type": "markdown",
   "metadata": {},
   "source": [
    "- Debiese alargar la secuencia si es que es menor que las locaciones de la tpm?<br/>\n",
    "    pensar en casos de borde"
   ]
  },
  {
   "cell_type": "code",
   "execution_count": 38,
   "metadata": {
    "collapsed": true
   },
   "outputs": [],
   "source": [
    "# TODO"
   ]
  },
  {
   "cell_type": "markdown",
   "metadata": {
    "collapsed": true
   },
   "source": [
    "- Ordenar ids más usados"
   ]
  },
  {
   "cell_type": "code",
   "execution_count": 39,
   "metadata": {
    "collapsed": true
   },
   "outputs": [
    {
     "data": {
      "text/plain": [
       "[(0, 11),\n",
       " (1056, 5),\n",
       " (1067, 5),\n",
       " (1278, 5),\n",
       " (1954, 5),\n",
       " (2234, 5),\n",
       " (2670, 5),\n",
       " (2809, 5),\n",
       " (3150, 5),\n",
       " (3698, 5),\n",
       " (3906, 5),\n",
       " (4296, 5),\n",
       " (4392, 5),\n",
       " (5030, 5),\n",
       " (5048, 5),\n",
       " (31, 4),\n",
       " (133, 4),\n",
       " (203, 4),\n",
       " (232, 4),\n",
       " (498, 4),\n",
       " (583, 4),\n",
       " (586, 4),\n",
       " (651, 4),\n",
       " (673, 4),\n",
       " (697, 4),\n",
       " (851, 4),\n",
       " (980, 4),\n",
       " (987, 4),\n",
       " (1017, 4),\n",
       " (1058, 4),\n",
       " (1146, 4),\n",
       " (1164, 4),\n",
       " (1189, 4),\n",
       " (1250, 4),\n",
       " (1376, 4),\n",
       " (1415, 4),\n",
       " (1441, 4),\n",
       " (1444, 4),\n",
       " (1647, 4),\n",
       " (1829, 4),\n",
       " (2626, 4),\n",
       " (2860, 4),\n",
       " (3237, 4),\n",
       " (3256, 4),\n",
       " (3348, 4),\n",
       " (3466, 4),\n",
       " (3654, 4),\n",
       " (4080, 4),\n",
       " (4106, 4),\n",
       " (4900, 4),\n",
       " (4, 3),\n",
       " (11, 3),\n",
       " (34, 3),\n",
       " (50, 3),\n",
       " (72, 3),\n",
       " (74, 3),\n",
       " (105, 3),\n",
       " (117, 3),\n",
       " (161, 3),\n",
       " (178, 3),\n",
       " (205, 3),\n",
       " (222, 3),\n",
       " (239, 3),\n",
       " (245, 3),\n",
       " (256, 3),\n",
       " (276, 3),\n",
       " (277, 3),\n",
       " (279, 3),\n",
       " (295, 3),\n",
       " (311, 3),\n",
       " (318, 3),\n",
       " (331, 3),\n",
       " (361, 3),\n",
       " (368, 3),\n",
       " (389, 3),\n",
       " (394, 3),\n",
       " (410, 3),\n",
       " (431, 3),\n",
       " (437, 3),\n",
       " (441, 3),\n",
       " (485, 3),\n",
       " (508, 3),\n",
       " (532, 3),\n",
       " (541, 3),\n",
       " (563, 3),\n",
       " (579, 3),\n",
       " (585, 3),\n",
       " (602, 3),\n",
       " (603, 3),\n",
       " (624, 3),\n",
       " (625, 3),\n",
       " (638, 3),\n",
       " (676, 3),\n",
       " (720, 3),\n",
       " (736, 3),\n",
       " (755, 3),\n",
       " (767, 3),\n",
       " (779, 3),\n",
       " (794, 3),\n",
       " (797, 3),\n",
       " (804, 3),\n",
       " (807, 3),\n",
       " (836, 3),\n",
       " (914, 3),\n",
       " (947, 3),\n",
       " (964, 3),\n",
       " (1004, 3),\n",
       " (1028, 3),\n",
       " (1035, 3),\n",
       " (1054, 3),\n",
       " (1077, 3),\n",
       " (1078, 3),\n",
       " (1092, 3),\n",
       " (1166, 3),\n",
       " (1170, 3),\n",
       " (1196, 3),\n",
       " (1197, 3),\n",
       " (1202, 3),\n",
       " (1228, 3),\n",
       " (1254, 3),\n",
       " (1269, 3),\n",
       " (1303, 3),\n",
       " (1353, 3),\n",
       " (1468, 3),\n",
       " (1507, 3),\n",
       " (1510, 3),\n",
       " (1514, 3),\n",
       " (1531, 3),\n",
       " (1537, 3),\n",
       " (1548, 3),\n",
       " (1575, 3),\n",
       " (1604, 3),\n",
       " (1615, 3),\n",
       " (1658, 3),\n",
       " (1674, 3),\n",
       " (1675, 3),\n",
       " (1746, 3),\n",
       " (1763, 3),\n",
       " (1784, 3),\n",
       " (1824, 3),\n",
       " (1855, 3),\n",
       " (1883, 3),\n",
       " (1896, 3),\n",
       " (1906, 3),\n",
       " (1907, 3),\n",
       " (1933, 3),\n",
       " (1939, 3),\n",
       " (1948, 3),\n",
       " (1976, 3),\n",
       " (1979, 3),\n",
       " (2111, 3),\n",
       " (2116, 3),\n",
       " (2167, 3),\n",
       " (2180, 3),\n",
       " (2185, 3),\n",
       " (2222, 3),\n",
       " (2231, 3),\n",
       " (2300, 3),\n",
       " (2332, 3),\n",
       " (2351, 3),\n",
       " (2372, 3),\n",
       " (2385, 3),\n",
       " (2403, 3),\n",
       " (2405, 3),\n",
       " (2434, 3),\n",
       " (2492, 3),\n",
       " (2527, 3),\n",
       " (2542, 3),\n",
       " (2558, 3),\n",
       " (2598, 3),\n",
       " (2655, 3),\n",
       " (2780, 3),\n",
       " (2805, 3),\n",
       " (2899, 3),\n",
       " (2918, 3),\n",
       " (2960, 3),\n",
       " (2986, 3),\n",
       " (2994, 3),\n",
       " (2998, 3),\n",
       " (3082, 3),\n",
       " (3088, 3),\n",
       " (3131, 3),\n",
       " (3135, 3),\n",
       " (3164, 3),\n",
       " (3166, 3),\n",
       " (3179, 3),\n",
       " (3190, 3),\n",
       " (3279, 3),\n",
       " (3287, 3),\n",
       " (3335, 3),\n",
       " (3350, 3),\n",
       " (3378, 3),\n",
       " (3406, 3),\n",
       " (3409, 3),\n",
       " (3424, 3),\n",
       " (3445, 3),\n",
       " (3471, 3),\n",
       " (3581, 3),\n",
       " (3617, 3),\n",
       " (3641, 3),\n",
       " (3694, 3),\n",
       " (3727, 3),\n",
       " (3775, 3),\n",
       " (3793, 3),\n",
       " (3821, 3),\n",
       " (3937, 3),\n",
       " (4019, 3),\n",
       " (4066, 3),\n",
       " (4068, 3),\n",
       " (4082, 3),\n",
       " (4084, 3),\n",
       " (4110, 3),\n",
       " (4131, 3),\n",
       " (4152, 3),\n",
       " (4170, 3),\n",
       " (4186, 3),\n",
       " (4299, 3),\n",
       " (4340, 3),\n",
       " (4391, 3),\n",
       " (4401, 3),\n",
       " (4460, 3),\n",
       " (4461, 3),\n",
       " (4505, 3),\n",
       " (4542, 3),\n",
       " (4571, 3),\n",
       " (4675, 3),\n",
       " (4680, 3),\n",
       " (4768, 3),\n",
       " (4799, 3),\n",
       " (4974, 3),\n",
       " (5001, 3),\n",
       " (5041, 3),\n",
       " (5091, 3),\n",
       " (9, 2),\n",
       " (10, 2),\n",
       " (13, 2),\n",
       " (14, 2),\n",
       " (25, 2),\n",
       " (27, 2),\n",
       " (30, 2),\n",
       " (41, 2),\n",
       " (44, 2),\n",
       " (47, 2),\n",
       " (49, 2),\n",
       " (62, 2),\n",
       " (73, 2),\n",
       " (80, 2),\n",
       " (83, 2),\n",
       " (84, 2),\n",
       " (92, 2),\n",
       " (102, 2),\n",
       " (110, 2),\n",
       " (111, 2),\n",
       " (121, 2),\n",
       " (125, 2),\n",
       " (128, 2),\n",
       " (131, 2),\n",
       " (137, 2),\n",
       " (142, 2),\n",
       " (150, 2),\n",
       " (153, 2),\n",
       " (160, 2),\n",
       " (164, 2),\n",
       " (165, 2),\n",
       " (176, 2),\n",
       " (185, 2),\n",
       " (187, 2),\n",
       " (188, 2),\n",
       " (196, 2),\n",
       " (202, 2),\n",
       " (216, 2),\n",
       " (218, 2),\n",
       " (229, 2),\n",
       " (233, 2),\n",
       " (244, 2),\n",
       " (246, 2),\n",
       " (253, 2),\n",
       " (254, 2),\n",
       " (258, 2),\n",
       " (275, 2),\n",
       " (288, 2),\n",
       " (297, 2),\n",
       " (308, 2),\n",
       " (310, 2),\n",
       " (314, 2),\n",
       " (316, 2),\n",
       " (334, 2),\n",
       " (335, 2),\n",
       " (348, 2),\n",
       " (349, 2),\n",
       " (358, 2),\n",
       " (359, 2),\n",
       " (367, 2),\n",
       " (372, 2),\n",
       " (380, 2),\n",
       " (382, 2),\n",
       " (385, 2),\n",
       " (387, 2),\n",
       " (388, 2),\n",
       " (390, 2),\n",
       " (403, 2),\n",
       " (411, 2),\n",
       " (415, 2),\n",
       " (417, 2),\n",
       " (418, 2),\n",
       " (421, 2),\n",
       " (429, 2),\n",
       " (432, 2),\n",
       " (434, 2),\n",
       " (440, 2),\n",
       " (445, 2),\n",
       " (449, 2),\n",
       " (451, 2),\n",
       " (457, 2),\n",
       " (462, 2),\n",
       " (468, 2),\n",
       " (470, 2),\n",
       " (479, 2),\n",
       " (482, 2),\n",
       " (486, 2),\n",
       " (489, 2),\n",
       " (490, 2),\n",
       " (495, 2),\n",
       " (500, 2),\n",
       " (509, 2),\n",
       " (510, 2),\n",
       " (525, 2),\n",
       " (540, 2),\n",
       " (566, 2),\n",
       " (572, 2),\n",
       " (573, 2),\n",
       " (580, 2),\n",
       " (587, 2),\n",
       " (592, 2),\n",
       " (599, 2),\n",
       " (605, 2),\n",
       " (611, 2),\n",
       " (612, 2),\n",
       " (618, 2),\n",
       " (619, 2),\n",
       " (631, 2),\n",
       " (644, 2),\n",
       " (647, 2),\n",
       " (653, 2),\n",
       " (677, 2),\n",
       " (686, 2),\n",
       " (694, 2),\n",
       " (703, 2),\n",
       " (709, 2),\n",
       " (710, 2),\n",
       " (711, 2),\n",
       " (719, 2),\n",
       " (726, 2),\n",
       " (730, 2),\n",
       " (743, 2),\n",
       " (746, 2),\n",
       " (752, 2),\n",
       " (766, 2),\n",
       " (769, 2),\n",
       " (777, 2),\n",
       " (817, 2),\n",
       " (818, 2),\n",
       " (824, 2),\n",
       " (831, 2),\n",
       " (844, 2),\n",
       " (857, 2),\n",
       " (863, 2),\n",
       " (865, 2),\n",
       " (878, 2),\n",
       " (879, 2),\n",
       " (898, 2),\n",
       " (902, 2),\n",
       " (909, 2),\n",
       " (917, 2),\n",
       " (918, 2),\n",
       " (940, 2),\n",
       " (948, 2),\n",
       " (953, 2),\n",
       " (957, 2),\n",
       " (959, 2),\n",
       " (968, 2),\n",
       " (973, 2),\n",
       " (989, 2),\n",
       " (990, 2),\n",
       " (991, 2),\n",
       " (996, 2),\n",
       " (1006, 2),\n",
       " (1013, 2),\n",
       " (1023, 2),\n",
       " (1043, 2),\n",
       " (1047, 2),\n",
       " (1066, 2),\n",
       " (1070, 2),\n",
       " (1088, 2),\n",
       " (1099, 2),\n",
       " (1101, 2),\n",
       " (1125, 2),\n",
       " (1134, 2),\n",
       " (1145, 2),\n",
       " (1152, 2),\n",
       " (1155, 2),\n",
       " (1161, 2),\n",
       " (1176, 2),\n",
       " (1183, 2),\n",
       " (1184, 2),\n",
       " (1193, 2),\n",
       " (1212, 2),\n",
       " (1221, 2),\n",
       " (1226, 2),\n",
       " (1229, 2),\n",
       " (1235, 2),\n",
       " (1239, 2),\n",
       " (1240, 2),\n",
       " (1245, 2),\n",
       " (1247, 2),\n",
       " (1249, 2),\n",
       " (1253, 2),\n",
       " (1255, 2),\n",
       " (1267, 2),\n",
       " (1284, 2),\n",
       " (1288, 2),\n",
       " (1290, 2),\n",
       " (1297, 2),\n",
       " (1302, 2),\n",
       " (1308, 2),\n",
       " (1310, 2),\n",
       " (1314, 2),\n",
       " (1315, 2),\n",
       " (1317, 2),\n",
       " (1318, 2),\n",
       " (1319, 2),\n",
       " (1320, 2),\n",
       " (1321, 2),\n",
       " (1322, 2),\n",
       " (1330, 2),\n",
       " (1333, 2),\n",
       " (1336, 2),\n",
       " (1341, 2),\n",
       " (1342, 2),\n",
       " (1345, 2),\n",
       " (1352, 2),\n",
       " (1355, 2),\n",
       " (1358, 2),\n",
       " (1368, 2),\n",
       " (1369, 2),\n",
       " (1372, 2),\n",
       " (1383, 2),\n",
       " (1384, 2),\n",
       " (1387, 2),\n",
       " (1396, 2),\n",
       " (1404, 2),\n",
       " (1418, 2),\n",
       " (1423, 2),\n",
       " (1425, 2),\n",
       " (1433, 2),\n",
       " (1438, 2),\n",
       " (1461, 2),\n",
       " (1475, 2),\n",
       " (1476, 2),\n",
       " (1477, 2),\n",
       " (1478, 2),\n",
       " (1480, 2),\n",
       " (1486, 2),\n",
       " (1489, 2),\n",
       " (1505, 2),\n",
       " (1508, 2),\n",
       " (1522, 2),\n",
       " (1527, 2),\n",
       " (1534, 2),\n",
       " (1536, 2),\n",
       " (1552, 2),\n",
       " (1557, 2),\n",
       " (1559, 2),\n",
       " (1568, 2),\n",
       " (1579, 2),\n",
       " (1582, 2),\n",
       " (1584, 2),\n",
       " (1585, 2),\n",
       " (1594, 2),\n",
       " (1596, 2),\n",
       " (1599, 2),\n",
       " (1612, 2),\n",
       " (1616, 2),\n",
       " (1619, 2),\n",
       " (1623, 2),\n",
       " (1630, 2),\n",
       " (1634, 2),\n",
       " (1650, 2),\n",
       " (1654, 2),\n",
       " (1663, 2),\n",
       " (1665, 2),\n",
       " (1673, 2),\n",
       " (1677, 2),\n",
       " (1679, 2),\n",
       " (1683, 2),\n",
       " (1695, 2),\n",
       " (1709, 2),\n",
       " (1717, 2),\n",
       " (1718, 2),\n",
       " (1719, 2),\n",
       " (1730, 2),\n",
       " (1733, 2),\n",
       " (1752, 2),\n",
       " (1756, 2),\n",
       " (1772, 2),\n",
       " (1782, 2),\n",
       " (1789, 2),\n",
       " (1798, 2),\n",
       " (1803, 2),\n",
       " (1805, 2),\n",
       " (1809, 2),\n",
       " (1810, 2),\n",
       " (1811, 2),\n",
       " (1812, 2),\n",
       " (1827, 2),\n",
       " (1831, 2),\n",
       " (1834, 2),\n",
       " (1839, 2),\n",
       " (1840, 2),\n",
       " (1842, 2),\n",
       " (1843, 2),\n",
       " (1844, 2),\n",
       " (1847, 2),\n",
       " (1861, 2),\n",
       " (1877, 2),\n",
       " (1884, 2),\n",
       " (1898, 2),\n",
       " (1900, 2),\n",
       " (1902, 2),\n",
       " (1909, 2),\n",
       " (1911, 2),\n",
       " (1921, 2),\n",
       " (1926, 2),\n",
       " (1928, 2),\n",
       " (1937, 2),\n",
       " (1940, 2),\n",
       " (1944, 2),\n",
       " (1961, 2),\n",
       " (1964, 2),\n",
       " (1970, 2),\n",
       " (1972, 2),\n",
       " (1983, 2),\n",
       " (1987, 2),\n",
       " (2007, 2),\n",
       " (2009, 2),\n",
       " (2021, 2),\n",
       " (2038, 2),\n",
       " (2040, 2),\n",
       " (2045, 2),\n",
       " (2046, 2),\n",
       " (2066, 2),\n",
       " (2072, 2),\n",
       " (2081, 2),\n",
       " (2082, 2),\n",
       " (2084, 2),\n",
       " (2088, 2),\n",
       " (2105, 2),\n",
       " (2119, 2),\n",
       " (2123, 2),\n",
       " (2141, 2),\n",
       " (2146, 2),\n",
       " (2147, 2),\n",
       " (2152, 2),\n",
       " (2153, 2),\n",
       " (2157, 2),\n",
       " (2170, 2),\n",
       " (2194, 2),\n",
       " (2195, 2),\n",
       " (2207, 2),\n",
       " (2211, 2),\n",
       " (2214, 2),\n",
       " (2219, 2),\n",
       " (2220, 2),\n",
       " (2223, 2),\n",
       " (2232, 2),\n",
       " (2236, 2),\n",
       " (2238, 2),\n",
       " (2242, 2),\n",
       " (2250, 2),\n",
       " (2257, 2),\n",
       " (2260, 2),\n",
       " (2261, 2),\n",
       " (2266, 2),\n",
       " (2267, 2),\n",
       " (2268, 2),\n",
       " (2275, 2),\n",
       " (2285, 2),\n",
       " (2286, 2),\n",
       " (2292, 2),\n",
       " (2298, 2),\n",
       " (2302, 2),\n",
       " (2311, 2),\n",
       " (2323, 2),\n",
       " (2340, 2),\n",
       " (2342, 2),\n",
       " (2345, 2),\n",
       " (2349, 2),\n",
       " (2362, 2),\n",
       " (2366, 2),\n",
       " (2373, 2),\n",
       " (2375, 2),\n",
       " (2390, 2),\n",
       " (2393, 2),\n",
       " (2404, 2),\n",
       " (2410, 2),\n",
       " (2422, 2),\n",
       " (2440, 2),\n",
       " (2441, 2),\n",
       " (2443, 2),\n",
       " (2446, 2),\n",
       " (2449, 2),\n",
       " (2457, 2),\n",
       " (2459, 2),\n",
       " (2467, 2),\n",
       " (2472, 2),\n",
       " (2477, 2),\n",
       " (2479, 2),\n",
       " (2489, 2),\n",
       " (2494, 2),\n",
       " (2499, 2),\n",
       " (2507, 2),\n",
       " (2511, 2),\n",
       " (2529, 2),\n",
       " (2535, 2),\n",
       " (2538, 2),\n",
       " (2547, 2),\n",
       " (2561, 2),\n",
       " (2565, 2),\n",
       " (2611, 2),\n",
       " (2619, 2),\n",
       " (2644, 2),\n",
       " (2654, 2),\n",
       " (2658, 2),\n",
       " (2664, 2),\n",
       " (2681, 2),\n",
       " (2685, 2),\n",
       " (2687, 2),\n",
       " (2702, 2),\n",
       " (2704, 2),\n",
       " (2710, 2),\n",
       " (2714, 2),\n",
       " (2719, 2),\n",
       " (2725, 2),\n",
       " (2727, 2),\n",
       " (2728, 2),\n",
       " (2734, 2),\n",
       " (2747, 2),\n",
       " (2758, 2),\n",
       " (2776, 2),\n",
       " (2781, 2),\n",
       " (2784, 2),\n",
       " (2792, 2),\n",
       " (2800, 2),\n",
       " (2801, 2),\n",
       " (2802, 2),\n",
       " (2803, 2),\n",
       " (2806, 2),\n",
       " (2811, 2),\n",
       " (2831, 2),\n",
       " (2841, 2),\n",
       " (2849, 2),\n",
       " (2851, 2),\n",
       " (2856, 2),\n",
       " (2859, 2),\n",
       " (2863, 2),\n",
       " (2868, 2),\n",
       " (2870, 2),\n",
       " (2877, 2),\n",
       " (2879, 2),\n",
       " (2888, 2),\n",
       " (2893, 2),\n",
       " (2906, 2),\n",
       " (2908, 2),\n",
       " (2909, 2),\n",
       " (2919, 2),\n",
       " (2927, 2),\n",
       " (2929, 2),\n",
       " (2931, 2),\n",
       " (2932, 2),\n",
       " (2933, 2),\n",
       " (2938, 2),\n",
       " (2948, 2),\n",
       " (2949, 2),\n",
       " (2950, 2),\n",
       " (2959, 2),\n",
       " (2962, 2),\n",
       " (2964, 2),\n",
       " (2970, 2),\n",
       " (2973, 2),\n",
       " (2981, 2),\n",
       " (2997, 2),\n",
       " (3004, 2),\n",
       " (3005, 2),\n",
       " (3007, 2),\n",
       " (3010, 2),\n",
       " (3011, 2),\n",
       " (3012, 2),\n",
       " (3019, 2),\n",
       " (3024, 2),\n",
       " (3040, 2),\n",
       " (3042, 2),\n",
       " (3062, 2),\n",
       " (3072, 2),\n",
       " (3076, 2),\n",
       " (3079, 2),\n",
       " (3083, 2),\n",
       " (3086, 2),\n",
       " (3091, 2),\n",
       " (3096, 2),\n",
       " (3105, 2),\n",
       " (3106, 2),\n",
       " (3123, 2),\n",
       " (3124, 2),\n",
       " (3128, 2),\n",
       " (3136, 2),\n",
       " (3140, 2),\n",
       " (3149, 2),\n",
       " (3152, 2),\n",
       " (3157, 2),\n",
       " (3165, 2),\n",
       " (3174, 2),\n",
       " (3175, 2),\n",
       " (3177, 2),\n",
       " (3185, 2),\n",
       " (3205, 2),\n",
       " (3210, 2),\n",
       " (3214, 2),\n",
       " (3218, 2),\n",
       " (3229, 2),\n",
       " (3238, 2),\n",
       " (3254, 2),\n",
       " (3255, 2),\n",
       " (3257, 2),\n",
       " (3264, 2),\n",
       " (3266, 2),\n",
       " (3269, 2),\n",
       " (3270, 2),\n",
       " (3273, 2),\n",
       " (3281, 2),\n",
       " (3284, 2),\n",
       " (3295, 2),\n",
       " (3298, 2),\n",
       " (3303, 2),\n",
       " (3304, 2),\n",
       " (3308, 2),\n",
       " (3318, 2),\n",
       " (3327, 2),\n",
       " (3345, 2),\n",
       " (3353, 2),\n",
       " (3354, 2),\n",
       " (3358, 2),\n",
       " (3363, 2),\n",
       " (3369, 2),\n",
       " (3374, 2),\n",
       " (3381, 2),\n",
       " (3382, 2),\n",
       " (3385, 2),\n",
       " (3402, 2),\n",
       " (3415, 2),\n",
       " (3416, 2),\n",
       " (3420, 2),\n",
       " (3423, 2),\n",
       " (3452, 2),\n",
       " (3453, 2),\n",
       " (3454, 2),\n",
       " (3485, 2),\n",
       " (3491, 2),\n",
       " (3500, 2),\n",
       " (3503, 2),\n",
       " (3515, 2),\n",
       " (3527, 2),\n",
       " (3537, 2),\n",
       " (3547, 2),\n",
       " (3561, 2),\n",
       " (3562, 2),\n",
       " (3565, 2),\n",
       " (3571, 2),\n",
       " (3582, 2),\n",
       " (3595, 2),\n",
       " (3598, 2),\n",
       " (3608, 2),\n",
       " (3612, 2),\n",
       " (3615, 2),\n",
       " (3623, 2),\n",
       " (3632, 2),\n",
       " (3639, 2),\n",
       " (3662, 2),\n",
       " (3669, 2),\n",
       " (3673, 2),\n",
       " (3683, 2),\n",
       " (3699, 2),\n",
       " (3701, 2),\n",
       " (3702, 2),\n",
       " (3703, 2),\n",
       " (3705, 2),\n",
       " (3709, 2),\n",
       " (3714, 2),\n",
       " (3716, 2),\n",
       " (3723, 2),\n",
       " (3731, 2),\n",
       " (3753, 2),\n",
       " (3755, 2),\n",
       " (3768, 2),\n",
       " (3774, 2),\n",
       " (3786, 2),\n",
       " (3788, 2),\n",
       " (3790, 2),\n",
       " (3800, 2),\n",
       " (3809, 2),\n",
       " (3811, 2),\n",
       " (3844, 2),\n",
       " (3865, 2),\n",
       " (3871, 2),\n",
       " (3877, 2),\n",
       " (3886, 2),\n",
       " (3887, 2),\n",
       " (3907, 2),\n",
       " (3912, 2),\n",
       " (3918, 2),\n",
       " (3930, 2),\n",
       " (3939, 2),\n",
       " (3946, 2),\n",
       " (3961, 2),\n",
       " (3970, 2),\n",
       " (3973, 2),\n",
       " (3985, 2),\n",
       " (3992, 2),\n",
       " (3994, 2),\n",
       " (3996, 2),\n",
       " (4001, 2),\n",
       " (4002, 2),\n",
       " (4004, 2),\n",
       " (4010, 2),\n",
       " (4012, 2),\n",
       " (4017, 2),\n",
       " (4021, 2),\n",
       " (4027, 2),\n",
       " (4038, 2),\n",
       " (4046, 2),\n",
       " (4053, 2),\n",
       " (4063, 2),\n",
       " (4070, 2),\n",
       " (4071, 2),\n",
       " (4076, 2),\n",
       " (4085, 2),\n",
       " (4098, 2),\n",
       " (4100, 2),\n",
       " (4112, 2),\n",
       " (4121, 2),\n",
       " (4125, 2),\n",
       " (4143, 2),\n",
       " (4144, 2),\n",
       " (4160, 2),\n",
       " (4171, 2),\n",
       " (4177, 2),\n",
       " (4181, 2),\n",
       " (4185, 2),\n",
       " (4189, 2),\n",
       " (4193, 2),\n",
       " (4216, 2),\n",
       " (4221, 2),\n",
       " (4228, 2),\n",
       " (4240, 2),\n",
       " (4245, 2),\n",
       " (4248, 2),\n",
       " (4250, 2),\n",
       " (4265, 2),\n",
       " (4271, 2),\n",
       " (4272, 2),\n",
       " (4274, 2),\n",
       " (4292, 2),\n",
       " (4294, 2),\n",
       " (4304, 2),\n",
       " (4307, 2),\n",
       " (4318, 2),\n",
       " (4329, 2),\n",
       " (4333, 2),\n",
       " (4335, 2),\n",
       " (4342, 2),\n",
       " (4343, 2),\n",
       " (4346, 2),\n",
       " (4349, 2),\n",
       " (4352, 2),\n",
       " (4358, 2),\n",
       " (4364, 2),\n",
       " (4370, 2),\n",
       " (4371, 2),\n",
       " (4383, 2),\n",
       " (4385, 2),\n",
       " (4393, 2),\n",
       " (4405, 2),\n",
       " (4410, 2),\n",
       " (4421, 2),\n",
       " (4427, 2),\n",
       " (4433, 2),\n",
       " (4440, 2),\n",
       " (4450, 2),\n",
       " (4464, 2),\n",
       " (4466, 2),\n",
       " (4469, 2),\n",
       " (4482, 2),\n",
       " (4483, 2),\n",
       " (4492, 2),\n",
       " (4493, 2),\n",
       " (4504, 2),\n",
       " (4506, 2),\n",
       " (4513, 2),\n",
       " (4518, 2),\n",
       " (4528, 2),\n",
       " (4534, 2),\n",
       " (4554, 2),\n",
       " (4567, 2),\n",
       " (4568, 2),\n",
       " (4584, 2),\n",
       " (4594, 2),\n",
       " (4602, 2),\n",
       " (4603, 2),\n",
       " (4606, 2),\n",
       " (4608, 2),\n",
       " (4609, 2),\n",
       " (4614, 2),\n",
       " (4624, 2),\n",
       " (4635, 2),\n",
       " (4636, 2),\n",
       " (4637, 2),\n",
       " (4640, 2),\n",
       " (4643, 2),\n",
       " (4648, 2),\n",
       " (4651, 2),\n",
       " (4657, 2),\n",
       " (4659, 2),\n",
       " (4688, 2),\n",
       " (4689, 2),\n",
       " (4691, 2),\n",
       " (4693, 2),\n",
       " (4699, 2),\n",
       " (4716, 2),\n",
       " (4724, 2),\n",
       " (4734, 2),\n",
       " (4736, 2),\n",
       " (4741, 2),\n",
       " (4747, 2),\n",
       " (4757, 2),\n",
       " (4775, 2),\n",
       " (4777, 2),\n",
       " (4782, 2),\n",
       " (4786, 2),\n",
       " (4801, 2),\n",
       " (4805, 2),\n",
       " (4810, 2),\n",
       " (4813, 2),\n",
       " (4815, 2),\n",
       " (4829, 2),\n",
       " (4832, 2),\n",
       " (4841, 2),\n",
       " (4844, 2),\n",
       " (4855, 2),\n",
       " (4856, 2),\n",
       " (4857, 2),\n",
       " (4860, 2),\n",
       " (4862, 2),\n",
       " (4867, 2),\n",
       " (4871, 2),\n",
       " (4873, 2),\n",
       " (4874, 2),\n",
       " (4877, 2),\n",
       " (4879, 2),\n",
       " (4880, 2),\n",
       " (4893, 2),\n",
       " (4906, 2),\n",
       " (4929, 2),\n",
       " (4941, 2),\n",
       " (4943, 2),\n",
       " (4946, 2),\n",
       " (4949, 2),\n",
       " (4955, 2),\n",
       " (4970, 2),\n",
       " (4975, 2),\n",
       " (4987, 2),\n",
       " (4996, 2),\n",
       " (4998, 2),\n",
       " (5000, 2),\n",
       " (5004, 2),\n",
       " (5007, 2),\n",
       " (5013, 2),\n",
       " (5015, 2),\n",
       " (5020, 2),\n",
       " (5023, 2),\n",
       " (5032, 2),\n",
       " (5040, 2),\n",
       " (5043, 2),\n",
       " (5046, 2),\n",
       " (5053, 2),\n",
       " (5059, 2),\n",
       " (5069, 2),\n",
       " (5070, 2),\n",
       " (5076, 2),\n",
       " (5078, 2),\n",
       " (5079, 2),\n",
       " (5085, 2),\n",
       " ...]"
      ]
     },
     "execution_count": 39,
     "metadata": {},
     "output_type": "execute_result"
    }
   ],
   "source": [
    "frequency_correct.sort(key = lambda t: t[1], reverse=True)\n",
    "frequency_correct"
   ]
  },
  {
   "cell_type": "markdown",
   "metadata": {},
   "source": [
    "## 8. Análisis por casos"
   ]
  },
  {
   "cell_type": "markdown",
   "metadata": {},
   "source": [
    "- Uno correcto (pero que calza con muchos)"
   ]
  },
  {
   "cell_type": "code",
   "execution_count": 46,
   "metadata": {
    "collapsed": false,
    "scrolled": true
   },
   "outputs": [
    {
     "ename": "NameError",
     "evalue": "name 'profiles' is not defined",
     "output_type": "error",
     "traceback": [
      "\u001b[1;31m---------------------------------------------------------------------------\u001b[0m",
      "\u001b[1;31mNameError\u001b[0m                                 Traceback (most recent call last)",
      "\u001b[1;32m<ipython-input-46-7f21257256ab>\u001b[0m in \u001b[0;36m<module>\u001b[1;34m()\u001b[0m\n\u001b[1;32m----> 1\u001b[1;33m \u001b[0mprofiles\u001b[0m\u001b[1;33m[\u001b[0m\u001b[1;36m0\u001b[0m\u001b[1;33m]\u001b[0m\u001b[1;33m[\u001b[0m\u001b[1;34m'sequence'\u001b[0m\u001b[1;33m]\u001b[0m\u001b[1;33m\u001b[0m\u001b[0m\n\u001b[0m",
      "\u001b[1;31mNameError\u001b[0m: name 'profiles' is not defined"
     ]
    }
   ],
   "source": [
    "profiles[0]['sequence']\n",
    "users_profiles[0]"
   ]
  },
  {
   "cell_type": "code",
   "execution_count": 47,
   "metadata": {
    "collapsed": false,
    "scrolled": true
   },
   "outputs": [
    {
     "ename": "NameError",
     "evalue": "name 'users_profiles' is not defined",
     "output_type": "error",
     "traceback": [
      "\u001b[1;31m---------------------------------------------------------------------------\u001b[0m",
      "\u001b[1;31mNameError\u001b[0m                                 Traceback (most recent call last)",
      "\u001b[1;32m<ipython-input-47-46e6a280d8b5>\u001b[0m in \u001b[0;36m<module>\u001b[1;34m()\u001b[0m\n\u001b[1;32m----> 1\u001b[1;33m \u001b[0mup_matrix\u001b[0m \u001b[1;33m=\u001b[0m \u001b[0mnp\u001b[0m\u001b[1;33m.\u001b[0m\u001b[0mmatrix\u001b[0m\u001b[1;33m(\u001b[0m\u001b[0musers_profiles\u001b[0m\u001b[1;33m[\u001b[0m\u001b[1;36m0\u001b[0m\u001b[1;33m]\u001b[0m\u001b[1;33m[\u001b[0m\u001b[1;34m\"tpm\"\u001b[0m\u001b[1;33m]\u001b[0m\u001b[1;33m)\u001b[0m\u001b[1;33m\u001b[0m\u001b[0m\n\u001b[0m\u001b[0;32m      2\u001b[0m \u001b[0mdf_up_matrix\u001b[0m \u001b[1;33m=\u001b[0m \u001b[0mpd\u001b[0m\u001b[1;33m.\u001b[0m\u001b[0mDataFrame\u001b[0m\u001b[1;33m(\u001b[0m\u001b[0mup_matrix\u001b[0m\u001b[1;33m)\u001b[0m\u001b[1;33m\u001b[0m\u001b[0m\n\u001b[0;32m      3\u001b[0m \u001b[0mdf_up_matrix\u001b[0m\u001b[1;33m.\u001b[0m\u001b[0mcolumns\u001b[0m \u001b[1;33m=\u001b[0m \u001b[0musers_profiles\u001b[0m\u001b[1;33m[\u001b[0m\u001b[1;36m0\u001b[0m\u001b[1;33m]\u001b[0m\u001b[1;33m[\u001b[0m\u001b[1;34m\"mls\"\u001b[0m\u001b[1;33m]\u001b[0m\u001b[1;33m\u001b[0m\u001b[0m\n\u001b[0;32m      4\u001b[0m \u001b[0mdf_up_matrix\u001b[0m\u001b[1;33m.\u001b[0m\u001b[0mindex\u001b[0m \u001b[1;33m=\u001b[0m \u001b[0musers_profiles\u001b[0m\u001b[1;33m[\u001b[0m\u001b[1;36m0\u001b[0m\u001b[1;33m]\u001b[0m\u001b[1;33m[\u001b[0m\u001b[1;34m\"mls\"\u001b[0m\u001b[1;33m]\u001b[0m\u001b[1;33m\u001b[0m\u001b[0m\n\u001b[0;32m      5\u001b[0m \u001b[0mdf_up_matrix\u001b[0m\u001b[1;33m\u001b[0m\u001b[0m\n",
      "\u001b[1;31mNameError\u001b[0m: name 'users_profiles' is not defined"
     ]
    }
   ],
   "source": [
    "up_matrix = np.matrix(users_profiles[0][\"tpm\"])\n",
    "df_up_matrix = pd.DataFrame(up_matrix)\n",
    "df_up_matrix.columns = users_profiles[0][\"mls\"]\n",
    "df_up_matrix.index = users_profiles[0][\"mls\"]\n",
    "df_up_matrix"
   ]
  },
  {
   "cell_type": "code",
   "execution_count": 105,
   "metadata": {
    "collapsed": false,
    "scrolled": true
   },
   "outputs": [
    {
     "data": {
      "text/plain": [
       "[0, 156, 305, 550, 667, 2168, 2449, 3696, 4128, 4771, 4793]"
      ]
     },
     "execution_count": 105,
     "metadata": {},
     "output_type": "execute_result"
    }
   ],
   "source": [
    "matchers0 = quienCalzaCon(iden_matrix,0)\n",
    "matchers0"
   ]
  },
  {
   "cell_type": "code",
   "execution_count": null,
   "metadata": {
    "collapsed": true
   },
   "outputs": [],
   "source": [
    "iden_matrix[]"
   ]
  },
  {
   "cell_type": "code",
   "execution_count": 106,
   "metadata": {
    "collapsed": false
   },
   "outputs": [
    {
     "data": {
      "text/plain": [
       "{'mls': ['T-1-3-SN-1',\n",
       "  'T-6-45-OP-50',\n",
       "  'L-6-27-PO-50',\n",
       "  'T-1-3-NS-55',\n",
       "  'I-4-12-PO-11',\n",
       "  'L-6-44-NS-20',\n",
       "  'CERRO BLANCO',\n",
       "  'VESPUCIO NORTE',\n",
       "  'L-6-27-PO-60',\n",
       "  'T-1-3-NS-60',\n",
       "  'T-1-3-SN-12',\n",
       "  'T-1-3-SN-17',\n",
       "  'T-1-3-SN-3'],\n",
       " 'nvisitas': [2, 1, 1, 1, 1, 1, 1, 1, 1, 1, 3, 4, 1],\n",
       " 'sequence': ['T-1-3-SN-1',\n",
       "  'T-6-45-OP-50',\n",
       "  'L-6-27-PO-50',\n",
       "  'T-1-3-NS-55',\n",
       "  'I-4-12-PO-11',\n",
       "  'L-6-44-NS-20',\n",
       "  'CERRO BLANCO',\n",
       "  'VESPUCIO NORTE',\n",
       "  'L-6-27-PO-60',\n",
       "  'T-1-3-NS-60',\n",
       "  'T-1-3-SN-12',\n",
       "  'T-1-3-SN-17',\n",
       "  'T-1-3-SN-12',\n",
       "  'T-1-3-SN-17',\n",
       "  'T-1-3-SN-12',\n",
       "  'T-1-3-SN-17',\n",
       "  'T-1-3-SN-1',\n",
       "  'T-1-3-SN-3'],\n",
       " 'user_id': 18671610}"
      ]
     },
     "execution_count": 106,
     "metadata": {},
     "output_type": "execute_result"
    }
   ],
   "source": [
    "profiles[156]"
   ]
  },
  {
   "cell_type": "code",
   "execution_count": 108,
   "metadata": {
    "collapsed": false,
    "scrolled": true
   },
   "outputs": [
    {
     "data": {
      "text/plain": [
       "{'mls': ['L-6-47-SN-5',\n",
       "  'L-6-43-NS-20',\n",
       "  'L-6-43-SN-20',\n",
       "  'T-20-188-NS-11',\n",
       "  'SANTA ANA L2',\n",
       "  'PLAZA DE ARMAS',\n",
       "  'E-14-134-SN-30',\n",
       "  'L-6-44-NS-10',\n",
       "  'L-6-44-SN-15',\n",
       "  'T-6-45-PO-30',\n",
       "  'T-6-45-PO-25',\n",
       "  'E-20-174-NS-10',\n",
       "  'E-20-291-PO-10',\n",
       "  'L-6-27-OP-65',\n",
       "  'L-6-27-PO-60',\n",
       "  'L-6-27-PO-50',\n",
       "  'T-6-41-SN-15'],\n",
       " 'nvisitas': [1, 1, 1, 1, 1, 1, 1, 1, 4, 5, 3, 6, 6, 1, 1, 1, 1],\n",
       " 'tpm': array([[ 0.        ,  1.        ,  0.        ,  0.        ,  0.        ,\n",
       "          0.        ,  0.        ,  0.        ,  0.        ,  0.        ,\n",
       "          0.        ,  0.        ,  0.        ,  0.        ,  0.        ,\n",
       "          0.        ,  0.        ],\n",
       "        [ 0.        ,  0.        ,  1.        ,  0.        ,  0.        ,\n",
       "          0.        ,  0.        ,  0.        ,  0.        ,  0.        ,\n",
       "          0.        ,  0.        ,  0.        ,  0.        ,  0.        ,\n",
       "          0.        ,  0.        ],\n",
       "        [ 0.        ,  0.        ,  0.        ,  1.        ,  0.        ,\n",
       "          0.        ,  0.        ,  0.        ,  0.        ,  0.        ,\n",
       "          0.        ,  0.        ,  0.        ,  0.        ,  0.        ,\n",
       "          0.        ,  0.        ],\n",
       "        [ 0.        ,  0.        ,  0.        ,  0.        ,  1.        ,\n",
       "          0.        ,  0.        ,  0.        ,  0.        ,  0.        ,\n",
       "          0.        ,  0.        ,  0.        ,  0.        ,  0.        ,\n",
       "          0.        ,  0.        ],\n",
       "        [ 0.        ,  0.        ,  0.        ,  0.        ,  0.        ,\n",
       "          1.        ,  0.        ,  0.        ,  0.        ,  0.        ,\n",
       "          0.        ,  0.        ,  0.        ,  0.        ,  0.        ,\n",
       "          0.        ,  0.        ],\n",
       "        [ 0.        ,  0.        ,  0.        ,  0.        ,  0.        ,\n",
       "          0.        ,  1.        ,  0.        ,  0.        ,  0.        ,\n",
       "          0.        ,  0.        ,  0.        ,  0.        ,  0.        ,\n",
       "          0.        ,  0.        ],\n",
       "        [ 0.        ,  0.        ,  0.        ,  0.        ,  0.        ,\n",
       "          0.        ,  0.        ,  1.        ,  0.        ,  0.        ,\n",
       "          0.        ,  0.        ,  0.        ,  0.        ,  0.        ,\n",
       "          0.        ,  0.        ],\n",
       "        [ 0.        ,  0.        ,  0.        ,  0.        ,  0.        ,\n",
       "          0.        ,  0.        ,  0.        ,  1.        ,  0.        ,\n",
       "          0.        ,  0.        ,  0.        ,  0.        ,  0.        ,\n",
       "          0.        ,  0.        ],\n",
       "        [ 0.        ,  0.        ,  0.        ,  0.        ,  0.        ,\n",
       "          0.        ,  0.        ,  0.        ,  0.        ,  1.        ,\n",
       "          0.        ,  0.        ,  0.        ,  0.        ,  0.        ,\n",
       "          0.        ,  0.        ],\n",
       "        [ 0.        ,  0.        ,  0.        ,  0.        ,  0.        ,\n",
       "          0.        ,  0.        ,  0.        ,  0.        ,  0.        ,\n",
       "          0.5       ,  0.5       ,  0.        ,  0.        ,  0.        ,\n",
       "          0.        ,  0.        ],\n",
       "        [ 0.        ,  0.        ,  0.        ,  0.        ,  0.        ,\n",
       "          0.        ,  0.        ,  0.        ,  0.        ,  0.        ,\n",
       "          0.        ,  1.        ,  0.        ,  0.        ,  0.        ,\n",
       "          0.        ,  0.        ],\n",
       "        [ 0.        ,  0.        ,  0.        ,  0.        ,  0.        ,\n",
       "          0.        ,  0.        ,  0.        ,  0.        ,  0.        ,\n",
       "          0.        ,  0.        ,  1.        ,  0.        ,  0.        ,\n",
       "          0.        ,  0.        ],\n",
       "        [ 0.        ,  0.        ,  0.        ,  0.        ,  0.        ,\n",
       "          0.        ,  0.        ,  0.        ,  0.33333333,  0.11111111,\n",
       "          0.22222222,  0.        ,  0.        ,  0.11111111,  0.        ,\n",
       "          0.11111111,  0.11111111],\n",
       "        [ 0.        ,  0.        ,  0.        ,  0.        ,  0.        ,\n",
       "          0.        ,  0.        ,  0.        ,  0.        ,  0.        ,\n",
       "          0.        ,  0.        ,  0.        ,  0.        ,  1.        ,\n",
       "          0.        ,  0.        ],\n",
       "        [ 0.        ,  0.        ,  0.        ,  0.        ,  0.        ,\n",
       "          0.        ,  0.        ,  0.        ,  0.        ,  0.        ,\n",
       "          0.        ,  1.        ,  0.        ,  0.        ,  0.        ,\n",
       "          0.        ,  0.        ],\n",
       "        [ 0.        ,  0.        ,  0.        ,  0.        ,  0.        ,\n",
       "          0.        ,  0.        ,  0.        ,  0.        ,  0.        ,\n",
       "          0.        ,  1.        ,  0.        ,  0.        ,  0.        ,\n",
       "          0.        ,  0.        ],\n",
       "        [        nan,         nan,         nan,         nan,         nan,\n",
       "                 nan,         nan,         nan,         nan,         nan,\n",
       "                 nan,         nan,         nan,         nan,         nan,\n",
       "                 nan,         nan]]),\n",
       " 'user_id': 18671610}"
      ]
     },
     "execution_count": 108,
     "metadata": {},
     "output_type": "execute_result"
    }
   ],
   "source": [
    "users_profiles[156]"
   ]
  },
  {
   "cell_type": "markdown",
   "metadata": {},
   "source": []
  },
  {
   "cell_type": "markdown",
   "metadata": {},
   "source": [
    "- Uno incorrecto por cambio de comportamiento"
   ]
  },
  {
   "cell_type": "code",
   "execution_count": 94,
   "metadata": {
    "collapsed": false
   },
   "outputs": [
    {
     "data": {
      "text/plain": [
       "-224.99672038623589"
      ]
     },
     "execution_count": 94,
     "metadata": {},
     "output_type": "execute_result"
    }
   ],
   "source": [
    "np.argmax(iden_matrix[:,5])\n",
    "iden_matrix[1187,5]"
   ]
  },
  {
   "cell_type": "code",
   "execution_count": 90,
   "metadata": {
    "collapsed": false
   },
   "outputs": [
    {
     "data": {
      "text/plain": [
       "-272.0"
      ]
     },
     "execution_count": 90,
     "metadata": {},
     "output_type": "execute_result"
    }
   ],
   "source": [
    "iden_matrix[5,5]"
   ]
  },
  {
   "cell_type": "code",
   "execution_count": 99,
   "metadata": {
    "collapsed": true
   },
   "outputs": [
    {
     "data": {
      "text/plain": [
       "(array([  5.04100000e+03,   9.00000000e+01,   1.00000000e+00,\n",
       "          2.20000000e+01,   8.00000000e+00,   2.00000000e+00,\n",
       "          2.00000000e+00,   0.00000000e+00,   1.00000000e+00,\n",
       "          1.00000000e+00]),\n",
       " array([-272.        , -267.29967204, -262.59934408, -257.89901612,\n",
       "        -253.19868815, -248.49836019, -243.79803223, -239.09770427,\n",
       "        -234.39737631, -229.69704835, -224.99672039]),\n",
       " <a list of 10 Patch objects>)"
      ]
     },
     "execution_count": 99,
     "metadata": {},
     "output_type": "execute_result"
    },
    {
     "data": {
      "image/png": "[encoded data removed]",
      "text/plain": [
       "<matplotlib.figure.Figure at 0x7faa46b2ca50>"
      ]
     },
     "metadata": {},
     "output_type": "display_data"
    }
   ],
   "source": [
    "plt.hist(iden_matrix[:,5])"
   ]
  },
  {
   "cell_type": "markdown",
   "metadata": {},
   "source": [
    "A continuación comparo el perfil de la semana 2013 abril del usuario 5, con la secuencia de la semana de septiembre del 5 y del 1187"
   ]
  },
  {
   "cell_type": "code",
   "execution_count": 95,
   "metadata": {
    "collapsed": false,
    "scrolled": true
   },
   "outputs": [
    {
     "data": {
      "text/plain": [
       "{'mls': ['T-18-157-PO-60',\n",
       "  'E-18-157-PO-90',\n",
       "  'T-19-12-SN-5',\n",
       "  'L-19-21-SN-20',\n",
       "  'SIMON BOLIVAR',\n",
       "  'LOS HEROES L1',\n",
       "  'SANTA ISABEL',\n",
       "  'L-14-10-PO-5',\n",
       "  'L-19-21-SN-15',\n",
       "  'LOS HEROES L2',\n",
       "  'VESPUCIO NORTE',\n",
       "  'T-3-19-NS-45',\n",
       "  'T-18-157-PO-40',\n",
       "  'L-32-3-SN-10'],\n",
       " 'nvisitas': [1, 2, 1, 1, 6, 8, 1, 1, 1, 2, 1, 1, 1, 1],\n",
       " 'tpm': array([[ 0.        ,  1.        ,  0.        ,  0.        ,  0.        ,\n",
       "          0.        ,  0.        ,  0.        ,  0.        ,  0.        ,\n",
       "          0.        ,  0.        ,  0.        ,  0.        ],\n",
       "        [ 0.        ,  0.        ,  0.5       ,  0.        ,  0.        ,\n",
       "          0.        ,  0.        ,  0.        ,  0.        ,  0.        ,\n",
       "          0.        ,  0.        ,  0.        ,  0.5       ],\n",
       "        [ 0.        ,  0.        ,  0.        ,  1.        ,  0.        ,\n",
       "          0.        ,  0.        ,  0.        ,  0.        ,  0.        ,\n",
       "          0.        ,  0.        ,  0.        ,  0.        ],\n",
       "        [ 0.        ,  0.        ,  0.        ,  0.        ,  1.        ,\n",
       "          0.        ,  0.        ,  0.        ,  0.        ,  0.        ,\n",
       "          0.        ,  0.        ,  0.        ,  0.        ],\n",
       "        [ 0.        ,  0.        ,  0.        ,  0.        ,  0.        ,\n",
       "          0.8       ,  0.        ,  0.        ,  0.        ,  0.2       ,\n",
       "          0.        ,  0.        ,  0.        ,  0.        ],\n",
       "        [ 0.        ,  0.        ,  0.        ,  0.        ,  0.5       ,\n",
       "          0.        ,  0.16666667,  0.        ,  0.        ,  0.16666667,\n",
       "          0.16666667,  0.        ,  0.        ,  0.        ],\n",
       "        [ 0.        ,  0.        ,  0.        ,  0.        ,  0.        ,\n",
       "          0.        ,  0.        ,  1.        ,  0.        ,  0.        ,\n",
       "          0.        ,  0.        ,  0.        ,  0.        ],\n",
       "        [ 0.        ,  0.        ,  0.        ,  0.        ,  0.        ,\n",
       "          0.        ,  0.        ,  0.        ,  1.        ,  0.        ,\n",
       "          0.        ,  0.        ,  0.        ,  0.        ],\n",
       "        [ 0.        ,  0.        ,  0.        ,  0.        ,  1.        ,\n",
       "          0.        ,  0.        ,  0.        ,  0.        ,  0.        ,\n",
       "          0.        ,  0.        ,  0.        ,  0.        ],\n",
       "        [ 0.        ,  0.        ,  0.        ,  0.        ,  0.        ,\n",
       "          1.        ,  0.        ,  0.        ,  0.        ,  0.        ,\n",
       "          0.        ,  0.        ,  0.        ,  0.        ],\n",
       "        [ 0.        ,  0.        ,  0.        ,  0.        ,  0.        ,\n",
       "          0.        ,  0.        ,  0.        ,  0.        ,  0.        ,\n",
       "          0.        ,  1.        ,  0.        ,  0.        ],\n",
       "        [ 0.        ,  0.        ,  0.        ,  0.        ,  0.        ,\n",
       "          0.5       ,  0.        ,  0.        ,  0.        ,  0.        ,\n",
       "          0.        ,  0.        ,  0.5       ,  0.        ],\n",
       "        [ 0.        ,  1.        ,  0.        ,  0.        ,  0.        ,\n",
       "          0.        ,  0.        ,  0.        ,  0.        ,  0.        ,\n",
       "          0.        ,  0.        ,  0.        ,  0.        ],\n",
       "        [        nan,         nan,         nan,         nan,         nan,\n",
       "                 nan,         nan,         nan,         nan,         nan,\n",
       "                 nan,         nan,         nan,         nan]]),\n",
       " 'user_id': 1261466}"
      ]
     },
     "execution_count": 95,
     "metadata": {},
     "output_type": "execute_result"
    }
   ],
   "source": [
    "users_profiles[5]"
   ]
  },
  {
   "cell_type": "code",
   "execution_count": 96,
   "metadata": {
    "collapsed": false,
    "scrolled": true
   },
   "outputs": [
    {
     "data": {
      "text/plain": [
       "{'mls': ['SIMON BOLIVAR',\n",
       "  'T-18-157-PO-50',\n",
       "  'T-19-164-PO-5',\n",
       "  'T-18-157-OP-15',\n",
       "  'T-18-157-OP-50',\n",
       "  'LA MONEDA',\n",
       "  'PLAZA EGANA',\n",
       "  'T-19-170-SN-40',\n",
       "  'E-20-53-OP-70',\n",
       "  'PEDRO DE VALDIVIA',\n",
       "  'SANTA LUCIA',\n",
       "  'E-20-53-PO-40',\n",
       "  'E-20-53-PO-90',\n",
       "  'T-14-128-OP-60',\n",
       "  'E-20-53-OP-100',\n",
       "  'LOS HEROES L1',\n",
       "  'MANUEL MONTT',\n",
       "  'SALVADOR'],\n",
       " 'nvisitas': [7, 1, 1, 1, 1, 7, 1, 1, 1, 5, 3, 1, 1, 1, 1, 2, 1, 2],\n",
       " 'sequence': ['SIMON BOLIVAR',\n",
       "  'T-18-157-PO-50',\n",
       "  'T-19-164-PO-5',\n",
       "  'T-18-157-OP-15',\n",
       "  'T-18-157-OP-50',\n",
       "  'LA MONEDA',\n",
       "  'PLAZA EGANA',\n",
       "  'T-19-170-SN-40',\n",
       "  'E-20-53-OP-70',\n",
       "  'LA MONEDA',\n",
       "  'PEDRO DE VALDIVIA',\n",
       "  'LA MONEDA',\n",
       "  'SANTA LUCIA',\n",
       "  'PEDRO DE VALDIVIA',\n",
       "  'E-20-53-PO-40',\n",
       "  'E-20-53-PO-90',\n",
       "  'T-14-128-OP-60',\n",
       "  'E-20-53-OP-100',\n",
       "  'LOS HEROES L1',\n",
       "  'MANUEL MONTT',\n",
       "  'PEDRO DE VALDIVIA',\n",
       "  'LOS HEROES L1',\n",
       "  'PEDRO DE VALDIVIA',\n",
       "  'LA MONEDA',\n",
       "  'SIMON BOLIVAR',\n",
       "  'SALVADOR',\n",
       "  'LA MONEDA',\n",
       "  'SIMON BOLIVAR',\n",
       "  'SALVADOR',\n",
       "  'SANTA LUCIA',\n",
       "  'SIMON BOLIVAR',\n",
       "  'SANTA LUCIA',\n",
       "  'LA MONEDA',\n",
       "  'SIMON BOLIVAR',\n",
       "  'LA MONEDA'],\n",
       " 'user_id': 1261466}"
      ]
     },
     "execution_count": 96,
     "metadata": {},
     "output_type": "execute_result"
    }
   ],
   "source": [
    "profiles[5]"
   ]
  },
  {
   "cell_type": "code",
   "execution_count": 97,
   "metadata": {
    "collapsed": false
   },
   "outputs": [
    {
     "data": {
      "text/plain": [
       "{'mls': ['LA MONEDA',\n",
       "  'SIMON BOLIVAR',\n",
       "  'L-18-6-PO-110',\n",
       "  'L-19-21-SN-15',\n",
       "  'T-14-127-NS-15',\n",
       "  'T-14-127-NS-45',\n",
       "  'T-14-127-NS-4',\n",
       "  'PEDRO DE VALDIVIA',\n",
       "  'UNIVERSIDAD DE CHILE'],\n",
       " 'nvisitas': [8, 9, 1, 1, 2, 1, 1, 1, 2],\n",
       " 'sequence': ['LA MONEDA',\n",
       "  'SIMON BOLIVAR',\n",
       "  'LA MONEDA',\n",
       "  'L-18-6-PO-110',\n",
       "  'L-19-21-SN-15',\n",
       "  'T-14-127-NS-15',\n",
       "  'T-14-127-NS-45',\n",
       "  'T-14-127-NS-4',\n",
       "  'T-14-127-NS-15',\n",
       "  'LA MONEDA',\n",
       "  'PEDRO DE VALDIVIA',\n",
       "  'SIMON BOLIVAR',\n",
       "  'LA MONEDA',\n",
       "  'SIMON BOLIVAR',\n",
       "  'LA MONEDA',\n",
       "  'UNIVERSIDAD DE CHILE',\n",
       "  'SIMON BOLIVAR',\n",
       "  'UNIVERSIDAD DE CHILE',\n",
       "  'LA MONEDA',\n",
       "  'SIMON BOLIVAR',\n",
       "  'LA MONEDA'],\n",
       " 'user_id': 50264508}"
      ]
     },
     "execution_count": 97,
     "metadata": {},
     "output_type": "execute_result"
    }
   ],
   "source": [
    "profiles[1187]"
   ]
  },
  {
   "cell_type": "markdown",
   "metadata": {},
   "source": [
    "- Uno incorrecto que parece correcto"
   ]
  },
  {
   "cell_type": "code",
   "execution_count": 55,
   "metadata": {
    "collapsed": false
   },
   "outputs": [
    {
     "data": {
      "text/plain": [
       "1031"
      ]
     },
     "execution_count": 55,
     "metadata": {},
     "output_type": "execute_result"
    }
   ],
   "source": [
    "np.argmax(iden_matrix[:,5167])"
   ]
  },
  {
   "cell_type": "code",
   "execution_count": 59,
   "metadata": {
    "collapsed": false
   },
   "outputs": [
    {
     "data": {
      "text/plain": [
       "-0.48455006504028197"
      ]
     },
     "execution_count": 59,
     "metadata": {},
     "output_type": "execute_result"
    }
   ],
   "source": [
    "iden_matrix[1031,5167]"
   ]
  },
  {
   "cell_type": "code",
   "execution_count": 87,
   "metadata": {
    "collapsed": false
   },
   "outputs": [
    {
     "data": {
      "text/plain": [
       "{'mls': ['L-13-31-OP-60',\n",
       "  'L-13-10-PO-5',\n",
       "  'DEL SOL',\n",
       "  'SANTA ANA L5',\n",
       "  'MONTE TABOR',\n",
       "  'SANTA ANA L2',\n",
       "  'T-20-182-PO-36'],\n",
       " 'nvisitas': [1, 1, 1, 6, 6, 2, 1],\n",
       " 'tpm': array([[ 0.  ,  1.  ,  0.  ,  0.  ,  0.  ,  0.  ,  0.  ],\n",
       "        [ 0.  ,  0.  ,  1.  ,  0.  ,  0.  ,  0.  ,  0.  ],\n",
       "        [ 0.  ,  0.  ,  0.  ,  1.  ,  0.  ,  0.  ,  0.  ],\n",
       "        [ 0.  ,  0.  ,  0.  ,  0.  ,  1.  ,  0.  ,  0.  ],\n",
       "        [ 0.  ,  0.  ,  0.  ,  0.8 ,  0.  ,  0.2 ,  0.  ],\n",
       "        [ 0.  ,  0.  ,  0.  ,  0.  ,  0.75,  0.  ,  0.25],\n",
       "        [  nan,   nan,   nan,   nan,   nan,   nan,   nan]]),\n",
       " 'user_id': 42922612}"
      ]
     },
     "execution_count": 87,
     "metadata": {},
     "output_type": "execute_result"
    }
   ],
   "source": [
    "users_profiles[1031]"
   ]
  },
  {
   "cell_type": "code",
   "execution_count": 50,
   "metadata": {
    "collapsed": true
   },
   "outputs": [
    {
     "data": {
      "text/html": [
       "<div>\n",
       "<table border=\"1\" class=\"dataframe\">\n",
       "  <thead>\n",
       "    <tr style=\"text-align: right;\">\n",
       "      <th></th>\n",
       "      <th>MONTE TABOR</th>\n",
       "      <th>LAS PARCELAS</th>\n",
       "      <th>SANTA ANA L5</th>\n",
       "      <th>E-13-54-NS-85</th>\n",
       "      <th>PLAZA MAIPU</th>\n",
       "      <th>CAL Y CANTO</th>\n",
       "    </tr>\n",
       "  </thead>\n",
       "  <tbody>\n",
       "    <tr>\n",
       "      <th>MONTE TABOR</th>\n",
       "      <td>0.000000</td>\n",
       "      <td>0.25</td>\n",
       "      <td>0.750000</td>\n",
       "      <td>0.0</td>\n",
       "      <td>0.000000</td>\n",
       "      <td>0</td>\n",
       "    </tr>\n",
       "    <tr>\n",
       "      <th>LAS PARCELAS</th>\n",
       "      <td>1.000000</td>\n",
       "      <td>0.00</td>\n",
       "      <td>0.000000</td>\n",
       "      <td>0.0</td>\n",
       "      <td>0.000000</td>\n",
       "      <td>0</td>\n",
       "    </tr>\n",
       "    <tr>\n",
       "      <th>SANTA ANA L5</th>\n",
       "      <td>0.800000</td>\n",
       "      <td>0.00</td>\n",
       "      <td>0.000000</td>\n",
       "      <td>0.2</td>\n",
       "      <td>0.000000</td>\n",
       "      <td>0</td>\n",
       "    </tr>\n",
       "    <tr>\n",
       "      <th>E-13-54-NS-85</th>\n",
       "      <td>0.000000</td>\n",
       "      <td>0.00</td>\n",
       "      <td>0.000000</td>\n",
       "      <td>0.0</td>\n",
       "      <td>1.000000</td>\n",
       "      <td>0</td>\n",
       "    </tr>\n",
       "    <tr>\n",
       "      <th>PLAZA MAIPU</th>\n",
       "      <td>0.000000</td>\n",
       "      <td>0.00</td>\n",
       "      <td>0.000000</td>\n",
       "      <td>0.0</td>\n",
       "      <td>0.000000</td>\n",
       "      <td>1</td>\n",
       "    </tr>\n",
       "    <tr>\n",
       "      <th>CAL Y CANTO</th>\n",
       "      <td>0.333333</td>\n",
       "      <td>0.00</td>\n",
       "      <td>0.333333</td>\n",
       "      <td>0.0</td>\n",
       "      <td>0.333333</td>\n",
       "      <td>0</td>\n",
       "    </tr>\n",
       "  </tbody>\n",
       "</table>\n",
       "</div>"
      ],
      "text/plain": [
       "               MONTE TABOR  LAS PARCELAS  SANTA ANA L5  E-13-54-NS-85  \\\n",
       "MONTE TABOR       0.000000          0.25      0.750000            0.0   \n",
       "LAS PARCELAS      1.000000          0.00      0.000000            0.0   \n",
       "SANTA ANA L5      0.800000          0.00      0.000000            0.2   \n",
       "E-13-54-NS-85     0.000000          0.00      0.000000            0.0   \n",
       "PLAZA MAIPU       0.000000          0.00      0.000000            0.0   \n",
       "CAL Y CANTO       0.333333          0.00      0.333333            0.0   \n",
       "\n",
       "               PLAZA MAIPU  CAL Y CANTO  \n",
       "MONTE TABOR       0.000000            0  \n",
       "LAS PARCELAS      0.000000            0  \n",
       "SANTA ANA L5      0.000000            0  \n",
       "E-13-54-NS-85     1.000000            0  \n",
       "PLAZA MAIPU       0.000000            1  \n",
       "CAL Y CANTO       0.333333            0  "
      ]
     },
     "execution_count": 50,
     "metadata": {},
     "output_type": "execute_result"
    }
   ],
   "source": [
    "up_matrix = np.matrix(users_profiles[5167][\"tpm\"])\n",
    "df_up_matrix = pd.DataFrame(up_matrix)\n",
    "df_up_matrix.columns = users_profiles[5167][\"mls\"]\n",
    "df_up_matrix.index = users_profiles[5167][\"mls\"]\n",
    "df_up_matrix"
   ]
  },
  {
   "cell_type": "code",
   "execution_count": 51,
   "metadata": {
    "collapsed": false
   },
   "outputs": [
    {
     "data": {
      "text/plain": [
       "{'mls': ['SANTA ANA L5', 'MONTE TABOR'],\n",
       " 'nvisitas': [10, 10],\n",
       " 'sequence': ['SANTA ANA L5',\n",
       "  'MONTE TABOR',\n",
       "  'SANTA ANA L5',\n",
       "  'MONTE TABOR',\n",
       "  'SANTA ANA L5',\n",
       "  'MONTE TABOR',\n",
       "  'SANTA ANA L5',\n",
       "  'MONTE TABOR',\n",
       "  'SANTA ANA L5',\n",
       "  'MONTE TABOR',\n",
       "  'SANTA ANA L5'],\n",
       " 'user_id': 75489580}"
      ]
     },
     "execution_count": 51,
     "metadata": {},
     "output_type": "execute_result"
    }
   ],
   "source": [
    "profiles[5167]"
   ]
  },
  {
   "cell_type": "code",
   "execution_count": 52,
   "metadata": {
    "collapsed": false
   },
   "outputs": [
    {
     "data": {
      "text/plain": [
       "{'mls': ['SANTA ANA L5', 'VICENTE VALDES'],\n",
       " 'nvisitas': [10, 10],\n",
       " 'sequence': ['SANTA ANA L5',\n",
       "  'VICENTE VALDES',\n",
       "  'SANTA ANA L5',\n",
       "  'VICENTE VALDES',\n",
       "  'SANTA ANA L5',\n",
       "  'VICENTE VALDES',\n",
       "  'SANTA ANA L5',\n",
       "  'VICENTE VALDES',\n",
       "  'SANTA ANA L5',\n",
       "  'VICENTE VALDES',\n",
       "  'SANTA ANA L5'],\n",
       " 'user_id': 65500308}"
      ]
     },
     "execution_count": 52,
     "metadata": {},
     "output_type": "execute_result"
    }
   ],
   "source": [
    "profiles[2326]"
   ]
  },
  {
   "cell_type": "markdown",
   "metadata": {},
   "source": [
    "- Los más incorrectos"
   ]
  },
  {
   "cell_type": "markdown",
   "metadata": {},
   "source": [
    "- Usuario 3633"
   ]
  },
  {
   "cell_type": "code",
   "execution_count": 53,
   "metadata": {
    "collapsed": false
   },
   "outputs": [
    {
     "data": {
      "text/plain": [
       "{'mls': ['RONDIZONNI',\n",
       "  'LA CISTERNA L2',\n",
       "  'I-26-228-SN-25',\n",
       "  'L-23-35-OP-65',\n",
       "  'LA CISTERNA L4A'],\n",
       " 'nvisitas': [3, 9, 2, 1, 1],\n",
       " 'tpm': array([[ 0.        ,  1.        ,  0.        ,  0.        ,  0.        ],\n",
       "        [ 0.25      ,  0.        ,  0.25      ,  0.25      ,  0.25      ],\n",
       "        [ 0.33333333,  0.66666667,  0.        ,  0.        ,  0.        ],\n",
       "        [ 0.        ,  0.        ,  1.        ,  0.        ,  0.        ],\n",
       "        [ 0.        ,  1.        ,  0.        ,  0.        ,  0.        ]]),\n",
       " 'user_id': 68598836}"
      ]
     },
     "execution_count": 53,
     "metadata": {},
     "output_type": "execute_result"
    }
   ],
   "source": [
    "users_profiles[3633]"
   ]
  },
  {
   "cell_type": "code",
   "execution_count": 54,
   "metadata": {
    "collapsed": false
   },
   "outputs": [
    {
     "data": {
      "text/plain": [
       "{'mls': ['LA CISTERNA L2',\n",
       "  'L-23-35-OP-75',\n",
       "  'I-26-228-SN-25',\n",
       "  'L-23-35-OP-65',\n",
       "  'RONDIZONNI',\n",
       "  'L-23-35-PO-70',\n",
       "  'T-26-228-SN-27',\n",
       "  'L-23-35-PO-80',\n",
       "  'L-23-42-NS-10',\n",
       "  'T-26-228-SN-20',\n",
       "  'T-23-205-SN-72',\n",
       "  'SANTA ROSA',\n",
       "  'E-22-205-SN-32'],\n",
       " 'nvisitas': [12, 2, 10, 1, 12, 2, 1, 4, 2, 1, 2, 1, 1],\n",
       " 'sequence': ['LA CISTERNA L2',\n",
       "  'L-23-35-OP-75',\n",
       "  'I-26-228-SN-25',\n",
       "  'L-23-35-OP-65',\n",
       "  'RONDIZONNI',\n",
       "  'LA CISTERNA L2',\n",
       "  'RONDIZONNI',\n",
       "  'L-23-35-PO-70',\n",
       "  'T-26-228-SN-27',\n",
       "  'I-26-228-SN-25',\n",
       "  'L-23-35-PO-80',\n",
       "  'RONDIZONNI',\n",
       "  'LA CISTERNA L2',\n",
       "  'RONDIZONNI',\n",
       "  'L-23-42-NS-10',\n",
       "  'I-26-228-SN-25',\n",
       "  'T-26-228-SN-20',\n",
       "  'L-23-35-PO-80',\n",
       "  'RONDIZONNI',\n",
       "  'LA CISTERNA L2',\n",
       "  'RONDIZONNI',\n",
       "  'T-23-205-SN-72',\n",
       "  'I-26-228-SN-25',\n",
       "  'L-23-35-PO-70',\n",
       "  'RONDIZONNI',\n",
       "  'LA CISTERNA L2',\n",
       "  'RONDIZONNI',\n",
       "  'L-23-35-OP-75',\n",
       "  'I-26-228-SN-25',\n",
       "  'L-23-35-PO-80',\n",
       "  'RONDIZONNI',\n",
       "  'LA CISTERNA L2',\n",
       "  'RONDIZONNI',\n",
       "  'L-23-42-NS-10',\n",
       "  'I-26-228-SN-25',\n",
       "  'L-23-35-PO-80',\n",
       "  'RONDIZONNI',\n",
       "  'LA CISTERNA L2',\n",
       "  'SANTA ROSA',\n",
       "  'RONDIZONNI',\n",
       "  'T-23-205-SN-72',\n",
       "  'E-22-205-SN-32'],\n",
       " 'user_id': 68598836}"
      ]
     },
     "execution_count": 54,
     "metadata": {},
     "output_type": "execute_result"
    }
   ],
   "source": [
    "profiles[3633]"
   ]
  },
  {
   "cell_type": "markdown",
   "metadata": {},
   "source": [
    " - Usuario 385"
   ]
  },
  {
   "cell_type": "code",
   "execution_count": 55,
   "metadata": {
    "collapsed": false
   },
   "outputs": [
    {
     "data": {
      "text/plain": [
       "{'mls': ['BELLAVISTA DE LA FLORIDA', 'PLAZA DE ARMAS'],\n",
       " 'nvisitas': [10, 10],\n",
       " 'tpm': array([[ 0.,  1.],\n",
       "        [ 1.,  0.]]),\n",
       " 'user_id': 19306541}"
      ]
     },
     "execution_count": 55,
     "metadata": {},
     "output_type": "execute_result"
    }
   ],
   "source": [
    "users_profiles[385]"
   ]
  },
  {
   "cell_type": "code",
   "execution_count": 56,
   "metadata": {
    "collapsed": false
   },
   "outputs": [
    {
     "data": {
      "text/plain": [
       "{'mls': ['PLAZA DE ARMAS', 'BELLAVISTA DE LA FLORIDA'],\n",
       " 'nvisitas': [10, 10],\n",
       " 'sequence': ['PLAZA DE ARMAS',\n",
       "  'BELLAVISTA DE LA FLORIDA',\n",
       "  'PLAZA DE ARMAS',\n",
       "  'BELLAVISTA DE LA FLORIDA',\n",
       "  'PLAZA DE ARMAS',\n",
       "  'BELLAVISTA DE LA FLORIDA',\n",
       "  'PLAZA DE ARMAS',\n",
       "  'BELLAVISTA DE LA FLORIDA',\n",
       "  'PLAZA DE ARMAS',\n",
       "  'BELLAVISTA DE LA FLORIDA',\n",
       "  'PLAZA DE ARMAS'],\n",
       " 'user_id': 19306541}"
      ]
     },
     "execution_count": 56,
     "metadata": {},
     "output_type": "execute_result"
    }
   ],
   "source": [
    "profiles[385]"
   ]
  },
  {
   "cell_type": "markdown",
   "metadata": {},
   "source": [
    "- Usuario 791"
   ]
  },
  {
   "cell_type": "code",
   "execution_count": 57,
   "metadata": {
    "collapsed": false
   },
   "outputs": [
    {
     "data": {
      "text/plain": [
       "{'mls': ['MANUEL MONTT', 'UNIVERSIDAD DE CHILE'],\n",
       " 'nvisitas': [14, 14],\n",
       " 'tpm': array([[ 0.,  1.],\n",
       "        [ 1.,  0.]]),\n",
       " 'user_id': 24547373}"
      ]
     },
     "execution_count": 57,
     "metadata": {},
     "output_type": "execute_result"
    }
   ],
   "source": [
    "users_profiles[791]"
   ]
  },
  {
   "cell_type": "code",
   "execution_count": 58,
   "metadata": {
    "collapsed": false
   },
   "outputs": [
    {
     "data": {
      "text/plain": [
       "{'mls': ['MANUEL MONTT',\n",
       "  'PEDRO DE VALDIVIA',\n",
       "  'UNIVERSIDAD DE CHILE',\n",
       "  'UNIVERSIDAD DE SANTIAGO',\n",
       "  'LA MONEDA'],\n",
       " 'nvisitas': [10, 1, 8, 2, 2],\n",
       " 'sequence': ['MANUEL MONTT',\n",
       "  'PEDRO DE VALDIVIA',\n",
       "  'UNIVERSIDAD DE CHILE',\n",
       "  'MANUEL MONTT',\n",
       "  'UNIVERSIDAD DE CHILE',\n",
       "  'MANUEL MONTT',\n",
       "  'UNIVERSIDAD DE SANTIAGO',\n",
       "  'UNIVERSIDAD DE CHILE',\n",
       "  'LA MONEDA',\n",
       "  'UNIVERSIDAD DE SANTIAGO',\n",
       "  'MANUEL MONTT',\n",
       "  'LA MONEDA',\n",
       "  'UNIVERSIDAD DE CHILE',\n",
       "  'MANUEL MONTT',\n",
       "  'UNIVERSIDAD DE CHILE',\n",
       "  'MANUEL MONTT',\n",
       "  'UNIVERSIDAD DE CHILE',\n",
       "  'MANUEL MONTT'],\n",
       " 'user_id': 24547373}"
      ]
     },
     "execution_count": 58,
     "metadata": {},
     "output_type": "execute_result"
    }
   ],
   "source": [
    "profiles[791]"
   ]
  },
  {
   "cell_type": "code",
   "execution_count": 1,
   "metadata": {
    "collapsed": false
   },
   "outputs": [
    {
     "ename": "NameError",
     "evalue": "name 'profiles' is not defined",
     "output_type": "error",
     "traceback": [
      "\u001b[1;31m---------------------------------------------------------------------------\u001b[0m",
      "\u001b[1;31mNameError\u001b[0m                                 Traceback (most recent call last)",
      "\u001b[1;32m<ipython-input-1-a60b178a4d2d>\u001b[0m in \u001b[0;36m<module>\u001b[1;34m()\u001b[0m\n\u001b[1;32m----> 1\u001b[1;33m \u001b[0mprofiles\u001b[0m\u001b[1;33m[\u001b[0m\u001b[1;36m791\u001b[0m\u001b[1;33m]\u001b[0m\u001b[1;33m\u001b[0m\u001b[0m\n\u001b[0m",
      "\u001b[1;31mNameError\u001b[0m: name 'profiles' is not defined"
     ]
    }
   ],
   "source": [
    "profiles[791]"
   ]
  },
  {
   "cell_type": "code",
   "execution_count": null,
   "metadata": {
    "collapsed": true
   },
   "outputs": [],
   "source": []
  }
 ],
 "metadata": {
  "kernelspec": {
   "display_name": "Python 2",
   "language": "python",
   "name": "python2"
  },
  "language_info": {
   "codemirror_mode": {
    "name": "ipython",
    "version": 2
   },
   "file_extension": ".py",
   "mimetype": "text/x-python",
   "name": "python",
   "nbconvert_exporter": "python",
   "pygments_lexer": "ipython2",
   "version": "2.7.11"
  }
 },
 "nbformat": 4,
 "nbformat_minor": 0
}
